{
 "cells": [
  {
   "cell_type": "code",
   "execution_count": null,
   "metadata": {},
   "outputs": [],
   "source": [
    "#!/usr/bin/env python\n",
    "# -*- encoding: utf-8 -*-\n",
    "'''\n",
    "@File    :   convert_dicom.ipynb\n",
    "@Time    :   2025/05/08 10:49:07\n",
    "@Author  :   Neutrin \n",
    "'''\n",
    "\n",
    "# here put the import lib\n",
    "\n",
    "import numpy as np\n",
    "import matplotlib.pyplot as plt\n",
    "import pydicom \n",
    "import png\n",
    "from imageio import imread\n",
    "from wand.image import Image\n",
    "import pandas as pd\n",
    "import time\n",
    "import cv2\n",
    "import os\n",
    "import tqdm"
   ]
  },
  {
   "cell_type": "code",
   "execution_count": null,
   "metadata": {},
   "outputs": [],
   "source": [
    "def save_dicom_image_as_png(dicom_filename, png_filename, bitdepth=16):\n",
    "    \"\"\"\n",
    "    将DICOM格式的16位乳房X光片保存为重新缩放的16位PNG文件。\n",
    "    :param dicom_filename: 输入DICOM文件的路径。\n",
    "    :param png_filename: 输出PNG文件的路径。\n",
    "    :param bitdepth: 输入图像的位深度。对于12位乳房X光片，设置为12。\n",
    "                     对于16位乳房X光片，设置为16，等等。\n",
    "                     请确保使用正确的位深度！\n",
    "    \"\"\"\n",
    "    # 使用 dcmread 而不是 read_file\n",
    "    image = pydicom.dcmread(dicom_filename).pixel_array\n",
    "    # 将乳房X光片调整为您期望的分辨率。\n",
    "    image = cv2.resize(image, dsize=(896,1152), interpolation = cv2.INTER_CUBIC)\n",
    "    with open(png_filename, 'wb') as f:\n",
    "        writer = png.Writer(\n",
    "            height=image.shape[0],\n",
    "            width=image.shape[1],\n",
    "            bitdepth=bitdepth,\n",
    "            greyscale=True\n",
    "        )\n",
    "        writer.write(f, image.tolist())\n",
    "        \n",
    "        print(\"完成！\")"
   ]
  },
  {
   "cell_type": "code",
   "execution_count": 42,
   "id": "8aeef88d",
   "metadata": {},
   "outputs": [],
   "source": [
    "def save_dicom_mask_as_png(dicom_filename, png_filename, bitdepth=8):\n",
    "    \"\"\"\n",
    "    将DICOM格式的掩码文件保存为可见的PNG文件。\n",
    "    \n",
    "    :param dicom_filename: 输入DICOM掩码文件的路径。\n",
    "    :param png_filename: 输出PNG文件的路径。\n",
    "    :param bitdepth: 输出PNG的位深度，对于掩码通常8位就足够了。\n",
    "    \"\"\"\n",
    "    # 读取DICOM文件\n",
    "    mask = pydicom.dcmread(dicom_filename).pixel_array\n",
    "    \n",
    "    # 检查掩码是否为二值图像\n",
    "    unique_values = np.unique(mask)\n",
    "    print(f\"掩码中的唯一值: {unique_values}\")\n",
    "    \n",
    "    # 将掩码调整为标准分辨率\n",
    "    mask = cv2.resize(mask, dsize=(896, 1152), interpolation=cv2.INTER_NEAREST)\n",
    "    \n",
    "    # 对掩码进行处理，确保非零值可见\n",
    "    # 如果是二值掩码，将非零值转为255（确保可见）\n",
    "    if len(unique_values) <= 2:\n",
    "        mask = (mask > 0).astype(np.uint8) * 255\n",
    "    else:\n",
    "        # 如果有多个值，可以尝试进行归一化或线性拉伸\n",
    "        if mask.max() > 0:\n",
    "            mask = (mask.astype(float) / mask.max() * 255).astype(np.uint8)\n",
    "    \n",
    "    # # 用matplotlib查看处理后的掩码并保存（调试用）\n",
    "    # plt.figure(figsize=(6, 8))\n",
    "    # plt.imshow(mask, cmap='gray')\n",
    "    # plt.title(f\"掩码预览: {os.path.basename(dicom_filename)}\")\n",
    "    # plt.colorbar()\n",
    "    # plt.savefig(png_filename.replace(\".png\", \"_preview.jpg\"))\n",
    "    # plt.close()\n",
    "    \n",
    "    # 保存为PNG\n",
    "    cv2.imwrite(png_filename, mask)\n",
    "    print(f\"掩码已保存为: {png_filename}\")"
   ]
  },
  {
   "cell_type": "code",
   "execution_count": 46,
   "id": "f3be9dba",
   "metadata": {},
   "outputs": [
    {
     "name": "stderr",
     "output_type": "stream",
     "text": [
      "转换文件:   0%|          | 2/1546 [00:00<03:31,  7.31it/s]"
     ]
    },
    {
     "name": "stdout",
     "output_type": "stream",
     "text": [
      "掩码中的唯一值: [  0 255]\n",
      "掩码已保存为: E:/Dataset/CBIS-DDSM/New_CBDDSM/roi/calc-training\\Calc-Training_P_00005_RIGHT_CC_1_1-1.png\n",
      "掩码中的唯一值: [  0 255]\n",
      "掩码已保存为: E:/Dataset/CBIS-DDSM/New_CBDDSM/roi/calc-training\\Calc-Training_P_00005_RIGHT_MLO_1_1-2.png\n"
     ]
    },
    {
     "name": "stderr",
     "output_type": "stream",
     "text": [
      "转换文件:   0%|          | 4/1546 [00:00<03:41,  6.96it/s]"
     ]
    },
    {
     "name": "stdout",
     "output_type": "stream",
     "text": [
      "掩码中的唯一值: [  0 255]\n",
      "掩码已保存为: E:/Dataset/CBIS-DDSM/New_CBDDSM/roi/calc-training\\Calc-Training_P_00007_LEFT_CC_1_1-2.png\n",
      "掩码中的唯一值: [  0 255]\n",
      "掩码已保存为: E:/Dataset/CBIS-DDSM/New_CBDDSM/roi/calc-training\\Calc-Training_P_00007_LEFT_MLO_1_1-2.png\n"
     ]
    },
    {
     "name": "stderr",
     "output_type": "stream",
     "text": [
      "转换文件:   0%|          | 6/1546 [00:00<03:26,  7.48it/s]"
     ]
    },
    {
     "name": "stdout",
     "output_type": "stream",
     "text": [
      "掩码中的唯一值: [  0 255]\n",
      "掩码已保存为: E:/Dataset/CBIS-DDSM/New_CBDDSM/roi/calc-training\\Calc-Training_P_00008_LEFT_CC_1_1-2.png\n",
      "掩码中的唯一值: [  0 255]\n",
      "掩码已保存为: E:/Dataset/CBIS-DDSM/New_CBDDSM/roi/calc-training\\Calc-Training_P_00008_LEFT_CC_2_1-2.png\n"
     ]
    },
    {
     "name": "stderr",
     "output_type": "stream",
     "text": [
      "转换文件:   1%|          | 8/1546 [00:01<03:30,  7.32it/s]"
     ]
    },
    {
     "name": "stdout",
     "output_type": "stream",
     "text": [
      "掩码中的唯一值: [  0 255]\n",
      "掩码已保存为: E:/Dataset/CBIS-DDSM/New_CBDDSM/roi/calc-training\\Calc-Training_P_00008_LEFT_CC_3_1-2.png\n",
      "掩码中的唯一值: [  0 255]\n",
      "掩码已保存为: E:/Dataset/CBIS-DDSM/New_CBDDSM/roi/calc-training\\Calc-Training_P_00008_LEFT_MLO_1_1-2.png\n"
     ]
    },
    {
     "name": "stderr",
     "output_type": "stream",
     "text": [
      "转换文件:   1%|          | 10/1546 [00:01<03:18,  7.73it/s]"
     ]
    },
    {
     "name": "stdout",
     "output_type": "stream",
     "text": [
      "掩码中的唯一值: [  0 255]\n",
      "掩码已保存为: E:/Dataset/CBIS-DDSM/New_CBDDSM/roi/calc-training\\Calc-Training_P_00008_LEFT_MLO_2_1-2.png\n",
      "掩码中的唯一值: [  0 255]\n",
      "掩码已保存为: E:/Dataset/CBIS-DDSM/New_CBDDSM/roi/calc-training\\Calc-Training_P_00008_LEFT_MLO_3_1-2.png\n"
     ]
    },
    {
     "name": "stderr",
     "output_type": "stream",
     "text": [
      "转换文件:   1%|          | 12/1546 [00:01<03:23,  7.53it/s]"
     ]
    },
    {
     "name": "stdout",
     "output_type": "stream",
     "text": [
      "掩码中的唯一值: [  0 255]\n",
      "掩码已保存为: E:/Dataset/CBIS-DDSM/New_CBDDSM/roi/calc-training\\Calc-Training_P_00008_RIGHT_CC_1_1-2.png\n",
      "掩码中的唯一值: [  0 255]\n",
      "掩码已保存为: E:/Dataset/CBIS-DDSM/New_CBDDSM/roi/calc-training\\Calc-Training_P_00008_RIGHT_CC_2_1-2.png\n"
     ]
    },
    {
     "name": "stderr",
     "output_type": "stream",
     "text": [
      "转换文件:   1%|          | 14/1546 [00:01<03:12,  7.97it/s]"
     ]
    },
    {
     "name": "stdout",
     "output_type": "stream",
     "text": [
      "掩码中的唯一值: [  0 255]\n",
      "掩码已保存为: E:/Dataset/CBIS-DDSM/New_CBDDSM/roi/calc-training\\Calc-Training_P_00008_RIGHT_CC_3_1-2.png\n",
      "掩码中的唯一值: [  0 255]\n",
      "掩码已保存为: E:/Dataset/CBIS-DDSM/New_CBDDSM/roi/calc-training\\Calc-Training_P_00008_RIGHT_CC_4_1-2.png\n"
     ]
    },
    {
     "name": "stderr",
     "output_type": "stream",
     "text": [
      "转换文件:   1%|          | 16/1546 [00:02<03:11,  7.99it/s]"
     ]
    },
    {
     "name": "stdout",
     "output_type": "stream",
     "text": [
      "掩码中的唯一值: [  0 255]\n",
      "掩码已保存为: E:/Dataset/CBIS-DDSM/New_CBDDSM/roi/calc-training\\Calc-Training_P_00008_RIGHT_CC_5_1-2.png\n",
      "掩码中的唯一值: [  0 255]\n",
      "掩码已保存为: E:/Dataset/CBIS-DDSM/New_CBDDSM/roi/calc-training\\Calc-Training_P_00008_RIGHT_MLO_1_1-2.png\n"
     ]
    },
    {
     "name": "stderr",
     "output_type": "stream",
     "text": [
      "转换文件:   1%|          | 18/1546 [00:02<03:12,  7.93it/s]"
     ]
    },
    {
     "name": "stdout",
     "output_type": "stream",
     "text": [
      "掩码中的唯一值: [  0 255]\n",
      "掩码已保存为: E:/Dataset/CBIS-DDSM/New_CBDDSM/roi/calc-training\\Calc-Training_P_00008_RIGHT_MLO_2_1-2.png\n",
      "掩码中的唯一值: [  0 255]\n",
      "掩码已保存为: E:/Dataset/CBIS-DDSM/New_CBDDSM/roi/calc-training\\Calc-Training_P_00008_RIGHT_MLO_3_1-2.png\n"
     ]
    },
    {
     "name": "stderr",
     "output_type": "stream",
     "text": [
      "转换文件:   1%|▏         | 20/1546 [00:02<03:31,  7.21it/s]"
     ]
    },
    {
     "name": "stdout",
     "output_type": "stream",
     "text": [
      "掩码中的唯一值: [  0 255]\n",
      "掩码已保存为: E:/Dataset/CBIS-DDSM/New_CBDDSM/roi/calc-training\\Calc-Training_P_00008_RIGHT_MLO_4_1-2.png\n",
      "掩码中的唯一值: [  0 255]\n",
      "掩码已保存为: E:/Dataset/CBIS-DDSM/New_CBDDSM/roi/calc-training\\Calc-Training_P_00008_RIGHT_MLO_5_1-2.png\n"
     ]
    },
    {
     "name": "stderr",
     "output_type": "stream",
     "text": [
      "转换文件:   1%|▏         | 22/1546 [00:02<03:23,  7.47it/s]"
     ]
    },
    {
     "name": "stdout",
     "output_type": "stream",
     "text": [
      "掩码中的唯一值: [  0 255]\n",
      "掩码已保存为: E:/Dataset/CBIS-DDSM/New_CBDDSM/roi/calc-training\\Calc-Training_P_00010_LEFT_CC_1_1-2.png\n",
      "掩码中的唯一值: [  0 255]\n",
      "掩码已保存为: E:/Dataset/CBIS-DDSM/New_CBDDSM/roi/calc-training\\Calc-Training_P_00010_LEFT_MLO_1_1-2.png\n"
     ]
    },
    {
     "name": "stderr",
     "output_type": "stream",
     "text": [
      "转换文件:   2%|▏         | 24/1546 [00:03<03:39,  6.93it/s]"
     ]
    },
    {
     "name": "stdout",
     "output_type": "stream",
     "text": [
      "掩码中的唯一值: [  0 255]\n",
      "掩码已保存为: E:/Dataset/CBIS-DDSM/New_CBDDSM/roi/calc-training\\Calc-Training_P_00011_LEFT_CC_1_1-2.png\n",
      "掩码中的唯一值: [  0 255]\n",
      "掩码已保存为: E:/Dataset/CBIS-DDSM/New_CBDDSM/roi/calc-training\\Calc-Training_P_00011_LEFT_MLO_1_1-2.png\n"
     ]
    },
    {
     "name": "stderr",
     "output_type": "stream",
     "text": [
      "转换文件:   2%|▏         | 26/1546 [00:03<04:22,  5.79it/s]"
     ]
    },
    {
     "name": "stdout",
     "output_type": "stream",
     "text": [
      "掩码中的唯一值: [  0 255]\n",
      "掩码已保存为: E:/Dataset/CBIS-DDSM/New_CBDDSM/roi/calc-training\\Calc-Training_P_00012_LEFT_CC_1_1-2.png\n",
      "掩码中的唯一值: [  0 255]\n",
      "掩码已保存为: E:/Dataset/CBIS-DDSM/New_CBDDSM/roi/calc-training\\Calc-Training_P_00012_LEFT_MLO_1_1-2.png\n"
     ]
    },
    {
     "name": "stderr",
     "output_type": "stream",
     "text": [
      "转换文件:   2%|▏         | 28/1546 [00:03<04:20,  5.84it/s]"
     ]
    },
    {
     "name": "stdout",
     "output_type": "stream",
     "text": [
      "掩码中的唯一值: [  0 255]\n",
      "掩码已保存为: E:/Dataset/CBIS-DDSM/New_CBDDSM/roi/calc-training\\Calc-Training_P_00013_RIGHT_MLO_1_1-2.png\n",
      "掩码中的唯一值: [  0 255]\n",
      "掩码已保存为: E:/Dataset/CBIS-DDSM/New_CBDDSM/roi/calc-training\\Calc-Training_P_00014_LEFT_CC_1_1-2.png\n"
     ]
    },
    {
     "name": "stderr",
     "output_type": "stream",
     "text": [
      "转换文件:   2%|▏         | 31/1546 [00:04<03:13,  7.83it/s]"
     ]
    },
    {
     "name": "stdout",
     "output_type": "stream",
     "text": [
      "掩码中的唯一值: [  0 255]\n",
      "掩码已保存为: E:/Dataset/CBIS-DDSM/New_CBDDSM/roi/calc-training\\Calc-Training_P_00014_LEFT_MLO_1_1-2.png\n",
      "掩码中的唯一值: [  0 255]\n",
      "掩码已保存为: E:/Dataset/CBIS-DDSM/New_CBDDSM/roi/calc-training\\Calc-Training_P_00016_LEFT_CC_2_1-2.png\n",
      "掩码中的唯一值: [  0 255]\n",
      "掩码已保存为: E:/Dataset/CBIS-DDSM/New_CBDDSM/roi/calc-training\\Calc-Training_P_00016_LEFT_MLO_2_1-2.png\n"
     ]
    },
    {
     "name": "stderr",
     "output_type": "stream",
     "text": [
      "转换文件:   2%|▏         | 32/1546 [00:04<03:40,  6.88it/s]"
     ]
    },
    {
     "name": "stdout",
     "output_type": "stream",
     "text": [
      "掩码中的唯一值: [  0 255]\n",
      "掩码已保存为: E:/Dataset/CBIS-DDSM/New_CBDDSM/roi/calc-training\\Calc-Training_P_00019_RIGHT_CC_1_1-2.png\n"
     ]
    },
    {
     "name": "stderr",
     "output_type": "stream",
     "text": [
      "转换文件:   2%|▏         | 34/1546 [00:04<03:59,  6.31it/s]"
     ]
    },
    {
     "name": "stdout",
     "output_type": "stream",
     "text": [
      "掩码中的唯一值: [  0 255]\n",
      "掩码已保存为: E:/Dataset/CBIS-DDSM/New_CBDDSM/roi/calc-training\\Calc-Training_P_00019_RIGHT_MLO_1_1-2.png\n",
      "掩码中的唯一值: [  0 255]\n",
      "掩码已保存为: E:/Dataset/CBIS-DDSM/New_CBDDSM/roi/calc-training\\Calc-Training_P_00020_LEFT_CC_1_1-2.png\n"
     ]
    },
    {
     "name": "stderr",
     "output_type": "stream",
     "text": [
      "转换文件:   2%|▏         | 36/1546 [00:05<03:33,  7.08it/s]"
     ]
    },
    {
     "name": "stdout",
     "output_type": "stream",
     "text": [
      "掩码中的唯一值: [  0 255]\n",
      "掩码已保存为: E:/Dataset/CBIS-DDSM/New_CBDDSM/roi/calc-training\\Calc-Training_P_00020_LEFT_MLO_1_1-2.png\n",
      "掩码中的唯一值: [  0 255]\n",
      "掩码已保存为: E:/Dataset/CBIS-DDSM/New_CBDDSM/roi/calc-training\\Calc-Training_P_00022_LEFT_CC_1_1-2.png\n"
     ]
    },
    {
     "name": "stderr",
     "output_type": "stream",
     "text": [
      "转换文件:   2%|▏         | 38/1546 [00:05<03:46,  6.66it/s]"
     ]
    },
    {
     "name": "stdout",
     "output_type": "stream",
     "text": [
      "掩码中的唯一值: [  0 255]\n",
      "掩码已保存为: E:/Dataset/CBIS-DDSM/New_CBDDSM/roi/calc-training\\Calc-Training_P_00022_LEFT_MLO_1_1-2.png\n",
      "掩码中的唯一值: [  0 255]\n",
      "掩码已保存为: E:/Dataset/CBIS-DDSM/New_CBDDSM/roi/calc-training\\Calc-Training_P_00024_LEFT_CC_1_1-2.png\n"
     ]
    },
    {
     "name": "stderr",
     "output_type": "stream",
     "text": [
      "转换文件:   3%|▎         | 40/1546 [00:05<03:37,  6.91it/s]"
     ]
    },
    {
     "name": "stdout",
     "output_type": "stream",
     "text": [
      "掩码中的唯一值: [  0 255]\n",
      "掩码已保存为: E:/Dataset/CBIS-DDSM/New_CBDDSM/roi/calc-training\\Calc-Training_P_00024_LEFT_MLO_1_1-2.png\n",
      "掩码中的唯一值: [  0 255]\n",
      "掩码已保存为: E:/Dataset/CBIS-DDSM/New_CBDDSM/roi/calc-training\\Calc-Training_P_00028_LEFT_MLO_1_1-2.png\n"
     ]
    },
    {
     "name": "stderr",
     "output_type": "stream",
     "text": [
      "转换文件:   3%|▎         | 41/1546 [00:05<04:10,  6.01it/s]"
     ]
    },
    {
     "name": "stdout",
     "output_type": "stream",
     "text": [
      "掩码中的唯一值: [  0 255]\n",
      "掩码已保存为: E:/Dataset/CBIS-DDSM/New_CBDDSM/roi/calc-training\\Calc-Training_P_00029_LEFT_CC_1_1-2.png\n",
      "掩码中的唯一值: [  0 255]\n"
     ]
    },
    {
     "name": "stderr",
     "output_type": "stream",
     "text": [
      "转换文件:   3%|▎         | 43/1546 [00:06<04:03,  6.17it/s]"
     ]
    },
    {
     "name": "stdout",
     "output_type": "stream",
     "text": [
      "掩码已保存为: E:/Dataset/CBIS-DDSM/New_CBDDSM/roi/calc-training\\Calc-Training_P_00029_LEFT_MLO_1_1-2.png\n",
      "掩码中的唯一值: [  0 255]\n",
      "掩码已保存为: E:/Dataset/CBIS-DDSM/New_CBDDSM/roi/calc-training\\Calc-Training_P_00030_LEFT_CC_1_1-2.png\n"
     ]
    },
    {
     "name": "stderr",
     "output_type": "stream",
     "text": [
      "转换文件:   3%|▎         | 45/1546 [00:06<03:43,  6.71it/s]"
     ]
    },
    {
     "name": "stdout",
     "output_type": "stream",
     "text": [
      "掩码中的唯一值: [  0 255]\n",
      "掩码已保存为: E:/Dataset/CBIS-DDSM/New_CBDDSM/roi/calc-training\\Calc-Training_P_00030_LEFT_CC_2_1-2.png\n",
      "掩码中的唯一值: [  0 255]\n",
      "掩码已保存为: E:/Dataset/CBIS-DDSM/New_CBDDSM/roi/calc-training\\Calc-Training_P_00030_LEFT_MLO_1_1-2.png\n"
     ]
    },
    {
     "name": "stderr",
     "output_type": "stream",
     "text": [
      "转换文件:   3%|▎         | 47/1546 [00:06<03:28,  7.18it/s]"
     ]
    },
    {
     "name": "stdout",
     "output_type": "stream",
     "text": [
      "掩码中的唯一值: [  0 255]\n",
      "掩码已保存为: E:/Dataset/CBIS-DDSM/New_CBDDSM/roi/calc-training\\Calc-Training_P_00030_LEFT_MLO_2_1-2.png\n",
      "掩码中的唯一值: [  0 255]\n",
      "掩码已保存为: E:/Dataset/CBIS-DDSM/New_CBDDSM/roi/calc-training\\Calc-Training_P_00030_RIGHT_CC_1_1-2.png\n"
     ]
    },
    {
     "name": "stderr",
     "output_type": "stream",
     "text": [
      "转换文件:   3%|▎         | 49/1546 [00:07<03:37,  6.88it/s]"
     ]
    },
    {
     "name": "stdout",
     "output_type": "stream",
     "text": [
      "掩码中的唯一值: [  0 255]\n",
      "掩码已保存为: E:/Dataset/CBIS-DDSM/New_CBDDSM/roi/calc-training\\Calc-Training_P_00030_RIGHT_MLO_1_1-2.png\n",
      "掩码中的唯一值: [  0 255]\n",
      "掩码已保存为: E:/Dataset/CBIS-DDSM/New_CBDDSM/roi/calc-training\\Calc-Training_P_00031_LEFT_CC_1_1-2.png\n"
     ]
    },
    {
     "name": "stderr",
     "output_type": "stream",
     "text": [
      "转换文件:   3%|▎         | 50/1546 [00:07<04:04,  6.13it/s]"
     ]
    },
    {
     "name": "stdout",
     "output_type": "stream",
     "text": [
      "掩码中的唯一值: [  0 255]\n",
      "掩码已保存为: E:/Dataset/CBIS-DDSM/New_CBDDSM/roi/calc-training\\Calc-Training_P_00034_RIGHT_CC_2_1-2.png\n"
     ]
    },
    {
     "name": "stderr",
     "output_type": "stream",
     "text": [
      "转换文件:   3%|▎         | 52/1546 [00:07<04:14,  5.87it/s]"
     ]
    },
    {
     "name": "stdout",
     "output_type": "stream",
     "text": [
      "掩码中的唯一值: [  0 255]\n",
      "掩码已保存为: E:/Dataset/CBIS-DDSM/New_CBDDSM/roi/calc-training\\Calc-Training_P_00034_RIGHT_MLO_2_1-2.png\n",
      "掩码中的唯一值: [  0 255]\n",
      "掩码已保存为: E:/Dataset/CBIS-DDSM/New_CBDDSM/roi/calc-training\\Calc-Training_P_00043_LEFT_MLO_1_1-2.png\n"
     ]
    },
    {
     "name": "stderr",
     "output_type": "stream",
     "text": [
      "转换文件:   3%|▎         | 54/1546 [00:07<03:54,  6.36it/s]"
     ]
    },
    {
     "name": "stdout",
     "output_type": "stream",
     "text": [
      "掩码中的唯一值: [  0 255]\n",
      "掩码已保存为: E:/Dataset/CBIS-DDSM/New_CBDDSM/roi/calc-training\\Calc-Training_P_00047_LEFT_CC_1_1-2.png\n",
      "掩码中的唯一值: [  0 255]\n",
      "掩码已保存为: E:/Dataset/CBIS-DDSM/New_CBDDSM/roi/calc-training\\Calc-Training_P_00047_LEFT_CC_2_1-2.png\n"
     ]
    },
    {
     "name": "stderr",
     "output_type": "stream",
     "text": [
      "转换文件:   4%|▎         | 56/1546 [00:08<03:40,  6.76it/s]"
     ]
    },
    {
     "name": "stdout",
     "output_type": "stream",
     "text": [
      "掩码中的唯一值: [  0 255]\n",
      "掩码已保存为: E:/Dataset/CBIS-DDSM/New_CBDDSM/roi/calc-training\\Calc-Training_P_00047_LEFT_CC_3_1-2.png\n",
      "掩码中的唯一值: [  0 255]\n",
      "掩码已保存为: E:/Dataset/CBIS-DDSM/New_CBDDSM/roi/calc-training\\Calc-Training_P_00047_LEFT_MLO_1_1-2.png\n"
     ]
    },
    {
     "name": "stderr",
     "output_type": "stream",
     "text": [
      "转换文件:   4%|▍         | 58/1546 [00:08<03:41,  6.72it/s]"
     ]
    },
    {
     "name": "stdout",
     "output_type": "stream",
     "text": [
      "掩码中的唯一值: [  0 255]\n",
      "掩码已保存为: E:/Dataset/CBIS-DDSM/New_CBDDSM/roi/calc-training\\Calc-Training_P_00047_LEFT_MLO_2_1-2.png\n",
      "掩码中的唯一值: [  0 255]\n",
      "掩码已保存为: E:/Dataset/CBIS-DDSM/New_CBDDSM/roi/calc-training\\Calc-Training_P_00047_LEFT_MLO_3_1-2.png\n"
     ]
    },
    {
     "name": "stderr",
     "output_type": "stream",
     "text": [
      "转换文件:   4%|▍         | 59/1546 [00:08<04:10,  5.94it/s]"
     ]
    },
    {
     "name": "stdout",
     "output_type": "stream",
     "text": [
      "掩码中的唯一值: [  0 255]\n",
      "掩码已保存为: E:/Dataset/CBIS-DDSM/New_CBDDSM/roi/calc-training\\Calc-Training_P_00048_RIGHT_CC_1_1-2.png\n",
      "掩码中的唯一值: [  0 255]\n"
     ]
    },
    {
     "name": "stderr",
     "output_type": "stream",
     "text": [
      "转换文件:   4%|▍         | 60/1546 [00:08<04:31,  5.47it/s]"
     ]
    },
    {
     "name": "stdout",
     "output_type": "stream",
     "text": [
      "掩码已保存为: E:/Dataset/CBIS-DDSM/New_CBDDSM/roi/calc-training\\Calc-Training_P_00048_RIGHT_CC_2_1-2.png\n"
     ]
    },
    {
     "name": "stderr",
     "output_type": "stream",
     "text": [
      "转换文件:   4%|▍         | 61/1546 [00:09<04:58,  4.98it/s]"
     ]
    },
    {
     "name": "stdout",
     "output_type": "stream",
     "text": [
      "掩码中的唯一值: [  0 255]\n",
      "掩码已保存为: E:/Dataset/CBIS-DDSM/New_CBDDSM/roi/calc-training\\Calc-Training_P_00048_RIGHT_MLO_1_1-2.png\n"
     ]
    },
    {
     "name": "stderr",
     "output_type": "stream",
     "text": [
      "转换文件:   4%|▍         | 64/1546 [00:09<03:52,  6.38it/s]"
     ]
    },
    {
     "name": "stdout",
     "output_type": "stream",
     "text": [
      "掩码中的唯一值: [  0 255]\n",
      "掩码已保存为: E:/Dataset/CBIS-DDSM/New_CBDDSM/roi/calc-training\\Calc-Training_P_00048_RIGHT_MLO_2_1-2.png\n",
      "掩码中的唯一值: [  0 255]\n",
      "掩码已保存为: E:/Dataset/CBIS-DDSM/New_CBDDSM/roi/calc-training\\Calc-Training_P_00049_RIGHT_CC_1_1-2.png\n",
      "掩码中的唯一值: [  0 255]\n",
      "掩码已保存为: E:/Dataset/CBIS-DDSM/New_CBDDSM/roi/calc-training\\Calc-Training_P_00049_RIGHT_MLO_1_1-2.png\n"
     ]
    },
    {
     "name": "stderr",
     "output_type": "stream",
     "text": [
      "转换文件:   4%|▍         | 66/1546 [00:09<03:28,  7.11it/s]"
     ]
    },
    {
     "name": "stdout",
     "output_type": "stream",
     "text": [
      "掩码中的唯一值: [  0 255]\n",
      "掩码已保存为: E:/Dataset/CBIS-DDSM/New_CBDDSM/roi/calc-training\\Calc-Training_P_00060_RIGHT_CC_1_1-2.png\n",
      "掩码中的唯一值: [  0 255]\n",
      "掩码已保存为: E:/Dataset/CBIS-DDSM/New_CBDDSM/roi/calc-training\\Calc-Training_P_00060_RIGHT_MLO_1_1-2.png\n"
     ]
    },
    {
     "name": "stderr",
     "output_type": "stream",
     "text": [
      "转换文件:   4%|▍         | 68/1546 [00:10<03:07,  7.88it/s]"
     ]
    },
    {
     "name": "stdout",
     "output_type": "stream",
     "text": [
      "掩码中的唯一值: [  0 255]\n",
      "掩码已保存为: E:/Dataset/CBIS-DDSM/New_CBDDSM/roi/calc-training\\Calc-Training_P_00062_LEFT_CC_1_1-2.png\n",
      "掩码中的唯一值: [  0 255]\n",
      "掩码已保存为: E:/Dataset/CBIS-DDSM/New_CBDDSM/roi/calc-training\\Calc-Training_P_00062_LEFT_MLO_1_1-2.png\n"
     ]
    },
    {
     "name": "stderr",
     "output_type": "stream",
     "text": [
      "转换文件:   5%|▍         | 70/1546 [00:10<03:16,  7.52it/s]"
     ]
    },
    {
     "name": "stdout",
     "output_type": "stream",
     "text": [
      "掩码中的唯一值: [  0 255]\n",
      "掩码已保存为: E:/Dataset/CBIS-DDSM/New_CBDDSM/roi/calc-training\\Calc-Training_P_00063_RIGHT_CC_1_1-2.png\n",
      "掩码中的唯一值: [  0 255]\n",
      "掩码已保存为: E:/Dataset/CBIS-DDSM/New_CBDDSM/roi/calc-training\\Calc-Training_P_00063_RIGHT_MLO_1_1-2.png\n"
     ]
    },
    {
     "name": "stderr",
     "output_type": "stream",
     "text": [
      "转换文件:   5%|▍         | 71/1546 [00:10<03:47,  6.48it/s]"
     ]
    },
    {
     "name": "stdout",
     "output_type": "stream",
     "text": [
      "掩码中的唯一值: [  0 255]\n",
      "掩码已保存为: E:/Dataset/CBIS-DDSM/New_CBDDSM/roi/calc-training\\Calc-Training_P_00071_RIGHT_CC_1_1-2.png\n"
     ]
    },
    {
     "name": "stderr",
     "output_type": "stream",
     "text": [
      "转换文件:   5%|▍         | 72/1546 [00:10<04:19,  5.69it/s]"
     ]
    },
    {
     "name": "stdout",
     "output_type": "stream",
     "text": [
      "掩码中的唯一值: [  0 255]\n",
      "掩码已保存为: E:/Dataset/CBIS-DDSM/New_CBDDSM/roi/calc-training\\Calc-Training_P_00071_RIGHT_MLO_1_1-2.png\n"
     ]
    },
    {
     "name": "stderr",
     "output_type": "stream",
     "text": [
      "转换文件:   5%|▍         | 73/1546 [00:11<04:36,  5.33it/s]"
     ]
    },
    {
     "name": "stdout",
     "output_type": "stream",
     "text": [
      "掩码中的唯一值: [  0 255]\n",
      "掩码已保存为: E:/Dataset/CBIS-DDSM/New_CBDDSM/roi/calc-training\\Calc-Training_P_00078_LEFT_CC_1_1-2.png\n"
     ]
    },
    {
     "name": "stderr",
     "output_type": "stream",
     "text": [
      "转换文件:   5%|▍         | 75/1546 [00:11<04:41,  5.23it/s]"
     ]
    },
    {
     "name": "stdout",
     "output_type": "stream",
     "text": [
      "掩码中的唯一值: [  0 255]\n",
      "掩码已保存为: E:/Dataset/CBIS-DDSM/New_CBDDSM/roi/calc-training\\Calc-Training_P_00078_LEFT_MLO_1_1-2.png\n",
      "掩码中的唯一值: [  0 255]\n",
      "掩码已保存为: E:/Dataset/CBIS-DDSM/New_CBDDSM/roi/calc-training\\Calc-Training_P_00083_RIGHT_CC_1_1-2.png\n"
     ]
    },
    {
     "name": "stderr",
     "output_type": "stream",
     "text": [
      "转换文件:   5%|▍         | 77/1546 [00:11<04:08,  5.91it/s]"
     ]
    },
    {
     "name": "stdout",
     "output_type": "stream",
     "text": [
      "掩码中的唯一值: [  0 255]\n",
      "掩码已保存为: E:/Dataset/CBIS-DDSM/New_CBDDSM/roi/calc-training\\Calc-Training_P_00084_LEFT_CC_1_1-2.png\n",
      "掩码中的唯一值: [  0 255]\n",
      "掩码已保存为: E:/Dataset/CBIS-DDSM/New_CBDDSM/roi/calc-training\\Calc-Training_P_00084_LEFT_MLO_1_1-2.png\n"
     ]
    },
    {
     "name": "stderr",
     "output_type": "stream",
     "text": [
      "转换文件:   5%|▌         | 79/1546 [00:12<03:56,  6.21it/s]"
     ]
    },
    {
     "name": "stdout",
     "output_type": "stream",
     "text": [
      "掩码中的唯一值: [  0 255]\n",
      "掩码已保存为: E:/Dataset/CBIS-DDSM/New_CBDDSM/roi/calc-training\\Calc-Training_P_00085_RIGHT_CC_1_1-2.png\n",
      "掩码中的唯一值: [  0 255]\n",
      "掩码已保存为: E:/Dataset/CBIS-DDSM/New_CBDDSM/roi/calc-training\\Calc-Training_P_00085_RIGHT_MLO_1_1-2.png\n"
     ]
    },
    {
     "name": "stderr",
     "output_type": "stream",
     "text": [
      "转换文件:   5%|▌         | 81/1546 [00:12<03:26,  7.09it/s]"
     ]
    },
    {
     "name": "stdout",
     "output_type": "stream",
     "text": [
      "掩码中的唯一值: [  0 255]\n",
      "掩码已保存为: E:/Dataset/CBIS-DDSM/New_CBDDSM/roi/calc-training\\Calc-Training_P_00088_LEFT_CC_1_1-2.png\n",
      "掩码中的唯一值: [  0 255]\n",
      "掩码已保存为: E:/Dataset/CBIS-DDSM/New_CBDDSM/roi/calc-training\\Calc-Training_P_00088_LEFT_MLO_1_1-2.png\n"
     ]
    },
    {
     "name": "stderr",
     "output_type": "stream",
     "text": [
      "转换文件:   5%|▌         | 82/1546 [00:12<03:54,  6.23it/s]"
     ]
    },
    {
     "name": "stdout",
     "output_type": "stream",
     "text": [
      "掩码中的唯一值: [  0 255]\n",
      "掩码已保存为: E:/Dataset/CBIS-DDSM/New_CBDDSM/roi/calc-training\\Calc-Training_P_00091_LEFT_CC_1_1-2.png\n"
     ]
    },
    {
     "name": "stderr",
     "output_type": "stream",
     "text": [
      "转换文件:   5%|▌         | 84/1546 [00:12<03:59,  6.10it/s]"
     ]
    },
    {
     "name": "stdout",
     "output_type": "stream",
     "text": [
      "掩码中的唯一值: [  0 255]\n",
      "掩码已保存为: E:/Dataset/CBIS-DDSM/New_CBDDSM/roi/calc-training\\Calc-Training_P_00091_LEFT_MLO_1_1-2.png\n",
      "掩码中的唯一值: [  0 255]\n",
      "掩码已保存为: E:/Dataset/CBIS-DDSM/New_CBDDSM/roi/calc-training\\Calc-Training_P_00098_LEFT_CC_1_1-2.png\n"
     ]
    },
    {
     "name": "stderr",
     "output_type": "stream",
     "text": [
      "转换文件:   6%|▌         | 86/1546 [00:13<03:34,  6.80it/s]"
     ]
    },
    {
     "name": "stdout",
     "output_type": "stream",
     "text": [
      "掩码中的唯一值: [  0 255]\n",
      "掩码已保存为: E:/Dataset/CBIS-DDSM/New_CBDDSM/roi/calc-training\\Calc-Training_P_00098_LEFT_MLO_1_1-2.png\n",
      "掩码中的唯一值: [  0 255]\n",
      "掩码已保存为: E:/Dataset/CBIS-DDSM/New_CBDDSM/roi/calc-training\\Calc-Training_P_00098_LEFT_MLO_2_1-2.png\n"
     ]
    },
    {
     "name": "stderr",
     "output_type": "stream",
     "text": [
      "转换文件:   6%|▌         | 88/1546 [00:13<03:31,  6.88it/s]"
     ]
    },
    {
     "name": "stdout",
     "output_type": "stream",
     "text": [
      "掩码中的唯一值: [  0 255]\n",
      "掩码已保存为: E:/Dataset/CBIS-DDSM/New_CBDDSM/roi/calc-training\\Calc-Training_P_00098_RIGHT_CC_1_1-2.png\n",
      "掩码中的唯一值: [  0 255]\n",
      "掩码已保存为: E:/Dataset/CBIS-DDSM/New_CBDDSM/roi/calc-training\\Calc-Training_P_00098_RIGHT_MLO_1_1-2.png\n"
     ]
    },
    {
     "name": "stderr",
     "output_type": "stream",
     "text": [
      "转换文件:   6%|▌         | 90/1546 [00:13<03:25,  7.07it/s]"
     ]
    },
    {
     "name": "stdout",
     "output_type": "stream",
     "text": [
      "掩码中的唯一值: [  0 255]\n",
      "掩码已保存为: E:/Dataset/CBIS-DDSM/New_CBDDSM/roi/calc-training\\Calc-Training_P_00098_RIGHT_MLO_2_1-2.png\n",
      "掩码中的唯一值: [  0 255]\n",
      "掩码已保存为: E:/Dataset/CBIS-DDSM/New_CBDDSM/roi/calc-training\\Calc-Training_P_00101_RIGHT_CC_2_1-2.png\n"
     ]
    },
    {
     "name": "stderr",
     "output_type": "stream",
     "text": [
      "转换文件:   6%|▌         | 92/1546 [00:13<03:31,  6.89it/s]"
     ]
    },
    {
     "name": "stdout",
     "output_type": "stream",
     "text": [
      "掩码中的唯一值: [  0 255]\n",
      "掩码已保存为: E:/Dataset/CBIS-DDSM/New_CBDDSM/roi/calc-training\\Calc-Training_P_00101_RIGHT_MLO_2_1-2.png\n",
      "掩码中的唯一值: [  0 255]\n",
      "掩码已保存为: E:/Dataset/CBIS-DDSM/New_CBDDSM/roi/calc-training\\Calc-Training_P_00105_LEFT_CC_1_1-2.png\n"
     ]
    },
    {
     "name": "stderr",
     "output_type": "stream",
     "text": [
      "转换文件:   6%|▌         | 93/1546 [00:14<03:42,  6.54it/s]"
     ]
    },
    {
     "name": "stdout",
     "output_type": "stream",
     "text": [
      "掩码中的唯一值: [  0 255]\n",
      "掩码已保存为: E:/Dataset/CBIS-DDSM/New_CBDDSM/roi/calc-training\\Calc-Training_P_00105_LEFT_MLO_1_1-2.png\n"
     ]
    },
    {
     "name": "stderr",
     "output_type": "stream",
     "text": [
      "转换文件:   6%|▌         | 94/1546 [00:14<04:18,  5.62it/s]"
     ]
    },
    {
     "name": "stdout",
     "output_type": "stream",
     "text": [
      "掩码中的唯一值: [  0 255]\n",
      "掩码已保存为: E:/Dataset/CBIS-DDSM/New_CBDDSM/roi/calc-training\\Calc-Training_P_00106_RIGHT_CC_1_1-2.png\n"
     ]
    },
    {
     "name": "stderr",
     "output_type": "stream",
     "text": [
      "转换文件:   6%|▌         | 96/1546 [00:14<04:06,  5.88it/s]"
     ]
    },
    {
     "name": "stdout",
     "output_type": "stream",
     "text": [
      "掩码中的唯一值: [  0 255]\n",
      "掩码已保存为: E:/Dataset/CBIS-DDSM/New_CBDDSM/roi/calc-training\\Calc-Training_P_00106_RIGHT_MLO_4_1-2.png\n",
      "掩码中的唯一值: [  0 255]\n",
      "掩码已保存为: E:/Dataset/CBIS-DDSM/New_CBDDSM/roi/calc-training\\Calc-Training_P_00112_LEFT_CC_1_1-2.png\n"
     ]
    },
    {
     "name": "stderr",
     "output_type": "stream",
     "text": [
      "转换文件:   6%|▋         | 98/1546 [00:14<03:38,  6.62it/s]"
     ]
    },
    {
     "name": "stdout",
     "output_type": "stream",
     "text": [
      "掩码中的唯一值: [  0 255]\n",
      "掩码已保存为: E:/Dataset/CBIS-DDSM/New_CBDDSM/roi/calc-training\\Calc-Training_P_00112_LEFT_CC_2_1-2.png\n",
      "掩码中的唯一值: [  0 255]\n",
      "掩码已保存为: E:/Dataset/CBIS-DDSM/New_CBDDSM/roi/calc-training\\Calc-Training_P_00112_LEFT_CC_3_1-2.png\n"
     ]
    },
    {
     "name": "stderr",
     "output_type": "stream",
     "text": [
      "转换文件:   6%|▋         | 100/1546 [00:15<03:20,  7.21it/s]"
     ]
    },
    {
     "name": "stdout",
     "output_type": "stream",
     "text": [
      "掩码中的唯一值: [  0 255]\n",
      "掩码已保存为: E:/Dataset/CBIS-DDSM/New_CBDDSM/roi/calc-training\\Calc-Training_P_00112_LEFT_CC_4_1-2.png\n",
      "掩码中的唯一值: [  0 255]\n",
      "掩码已保存为: E:/Dataset/CBIS-DDSM/New_CBDDSM/roi/calc-training\\Calc-Training_P_00112_LEFT_MLO_1_1-2.png\n"
     ]
    },
    {
     "name": "stderr",
     "output_type": "stream",
     "text": [
      "转换文件:   7%|▋         | 102/1546 [00:15<03:15,  7.37it/s]"
     ]
    },
    {
     "name": "stdout",
     "output_type": "stream",
     "text": [
      "掩码中的唯一值: [  0 255]\n",
      "掩码已保存为: E:/Dataset/CBIS-DDSM/New_CBDDSM/roi/calc-training\\Calc-Training_P_00112_LEFT_MLO_2_1-2.png\n",
      "掩码中的唯一值: [  0 255]\n",
      "掩码已保存为: E:/Dataset/CBIS-DDSM/New_CBDDSM/roi/calc-training\\Calc-Training_P_00112_LEFT_MLO_3_1-2.png\n"
     ]
    },
    {
     "name": "stderr",
     "output_type": "stream",
     "text": [
      "转换文件:   7%|▋         | 104/1546 [00:15<03:11,  7.52it/s]"
     ]
    },
    {
     "name": "stdout",
     "output_type": "stream",
     "text": [
      "掩码中的唯一值: [  0 255]\n",
      "掩码已保存为: E:/Dataset/CBIS-DDSM/New_CBDDSM/roi/calc-training\\Calc-Training_P_00112_LEFT_MLO_4_1-2.png\n",
      "掩码中的唯一值: [  0 255]\n",
      "掩码已保存为: E:/Dataset/CBIS-DDSM/New_CBDDSM/roi/calc-training\\Calc-Training_P_00112_LEFT_MLO_5_1-2.png\n"
     ]
    },
    {
     "name": "stderr",
     "output_type": "stream",
     "text": [
      "转换文件:   7%|▋         | 106/1546 [00:15<03:11,  7.50it/s]"
     ]
    },
    {
     "name": "stdout",
     "output_type": "stream",
     "text": [
      "掩码中的唯一值: [  0 255]\n",
      "掩码已保存为: E:/Dataset/CBIS-DDSM/New_CBDDSM/roi/calc-training\\Calc-Training_P_00112_LEFT_MLO_6_1-2.png\n",
      "掩码中的唯一值: [  0 255]\n",
      "掩码已保存为: E:/Dataset/CBIS-DDSM/New_CBDDSM/roi/calc-training\\Calc-Training_P_00112_RIGHT_CC_1_1-2.png\n"
     ]
    },
    {
     "name": "stderr",
     "output_type": "stream",
     "text": [
      "转换文件:   7%|▋         | 108/1546 [00:16<03:09,  7.57it/s]"
     ]
    },
    {
     "name": "stdout",
     "output_type": "stream",
     "text": [
      "掩码中的唯一值: [  0 255]\n",
      "掩码已保存为: E:/Dataset/CBIS-DDSM/New_CBDDSM/roi/calc-training\\Calc-Training_P_00112_RIGHT_CC_2_1-2.png\n",
      "掩码中的唯一值: [  0 255]\n",
      "掩码已保存为: E:/Dataset/CBIS-DDSM/New_CBDDSM/roi/calc-training\\Calc-Training_P_00112_RIGHT_CC_3_1-2.png\n"
     ]
    },
    {
     "name": "stderr",
     "output_type": "stream",
     "text": [
      "转换文件:   7%|▋         | 110/1546 [00:16<03:12,  7.47it/s]"
     ]
    },
    {
     "name": "stdout",
     "output_type": "stream",
     "text": [
      "掩码中的唯一值: [  0 255]\n",
      "掩码已保存为: E:/Dataset/CBIS-DDSM/New_CBDDSM/roi/calc-training\\Calc-Training_P_00112_RIGHT_CC_4_1-2.png\n",
      "掩码中的唯一值: [  0 255]\n",
      "掩码已保存为: E:/Dataset/CBIS-DDSM/New_CBDDSM/roi/calc-training\\Calc-Training_P_00112_RIGHT_CC_5_1-2.png\n"
     ]
    },
    {
     "name": "stderr",
     "output_type": "stream",
     "text": [
      "转换文件:   7%|▋         | 112/1546 [00:16<03:09,  7.57it/s]"
     ]
    },
    {
     "name": "stdout",
     "output_type": "stream",
     "text": [
      "掩码中的唯一值: [  0 255]\n",
      "掩码已保存为: E:/Dataset/CBIS-DDSM/New_CBDDSM/roi/calc-training\\Calc-Training_P_00112_RIGHT_CC_6_1-2.png\n",
      "掩码中的唯一值: [  0 255]\n",
      "掩码已保存为: E:/Dataset/CBIS-DDSM/New_CBDDSM/roi/calc-training\\Calc-Training_P_00112_RIGHT_MLO_1_1-2.png\n"
     ]
    },
    {
     "name": "stderr",
     "output_type": "stream",
     "text": [
      "转换文件:   7%|▋         | 114/1546 [00:17<03:15,  7.33it/s]"
     ]
    },
    {
     "name": "stdout",
     "output_type": "stream",
     "text": [
      "掩码中的唯一值: [  0 255]\n",
      "掩码已保存为: E:/Dataset/CBIS-DDSM/New_CBDDSM/roi/calc-training\\Calc-Training_P_00112_RIGHT_MLO_2_1-2.png\n",
      "掩码中的唯一值: [  0 255]\n",
      "掩码已保存为: E:/Dataset/CBIS-DDSM/New_CBDDSM/roi/calc-training\\Calc-Training_P_00112_RIGHT_MLO_3_1-2.png\n"
     ]
    },
    {
     "name": "stderr",
     "output_type": "stream",
     "text": [
      "转换文件:   8%|▊         | 116/1546 [00:17<03:20,  7.12it/s]"
     ]
    },
    {
     "name": "stdout",
     "output_type": "stream",
     "text": [
      "掩码中的唯一值: [  0 255]\n",
      "掩码已保存为: E:/Dataset/CBIS-DDSM/New_CBDDSM/roi/calc-training\\Calc-Training_P_00112_RIGHT_MLO_4_1-2.png\n",
      "掩码中的唯一值: [  0 255]\n",
      "掩码已保存为: E:/Dataset/CBIS-DDSM/New_CBDDSM/roi/calc-training\\Calc-Training_P_00112_RIGHT_MLO_5_1-2.png\n"
     ]
    },
    {
     "name": "stderr",
     "output_type": "stream",
     "text": [
      "转换文件:   8%|▊         | 118/1546 [00:17<03:12,  7.41it/s]"
     ]
    },
    {
     "name": "stdout",
     "output_type": "stream",
     "text": [
      "掩码中的唯一值: [  0 255]\n",
      "掩码已保存为: E:/Dataset/CBIS-DDSM/New_CBDDSM/roi/calc-training\\Calc-Training_P_00112_RIGHT_MLO_6_1-2.png\n",
      "掩码中的唯一值: [  0 255]\n",
      "掩码已保存为: E:/Dataset/CBIS-DDSM/New_CBDDSM/roi/calc-training\\Calc-Training_P_00112_RIGHT_MLO_7_1-2.png\n"
     ]
    },
    {
     "name": "stderr",
     "output_type": "stream",
     "text": [
      "转换文件:   8%|▊         | 120/1546 [00:17<03:15,  7.28it/s]"
     ]
    },
    {
     "name": "stdout",
     "output_type": "stream",
     "text": [
      "掩码中的唯一值: [  0 255]\n",
      "掩码已保存为: E:/Dataset/CBIS-DDSM/New_CBDDSM/roi/calc-training\\Calc-Training_P_00121_LEFT_CC_1_1-2.png\n",
      "掩码中的唯一值: [  0 255]\n",
      "掩码已保存为: E:/Dataset/CBIS-DDSM/New_CBDDSM/roi/calc-training\\Calc-Training_P_00121_LEFT_MLO_1_1-2.png\n"
     ]
    },
    {
     "name": "stderr",
     "output_type": "stream",
     "text": [
      "转换文件:   8%|▊         | 122/1546 [00:18<03:12,  7.42it/s]"
     ]
    },
    {
     "name": "stdout",
     "output_type": "stream",
     "text": [
      "掩码中的唯一值: [  0 255]\n",
      "掩码已保存为: E:/Dataset/CBIS-DDSM/New_CBDDSM/roi/calc-training\\Calc-Training_P_00123_LEFT_CC_1_1-2.png\n",
      "掩码中的唯一值: [  0 255]\n",
      "掩码已保存为: E:/Dataset/CBIS-DDSM/New_CBDDSM/roi/calc-training\\Calc-Training_P_00123_LEFT_MLO_1_1-2.png\n"
     ]
    },
    {
     "name": "stderr",
     "output_type": "stream",
     "text": [
      "转换文件:   8%|▊         | 123/1546 [00:18<03:35,  6.59it/s]"
     ]
    },
    {
     "name": "stdout",
     "output_type": "stream",
     "text": [
      "掩码中的唯一值: [  0 255]\n",
      "掩码已保存为: E:/Dataset/CBIS-DDSM/New_CBDDSM/roi/calc-training\\Calc-Training_P_00129_LEFT_CC_1_1-2.png\n"
     ]
    },
    {
     "name": "stderr",
     "output_type": "stream",
     "text": [
      "转换文件:   8%|▊         | 125/1546 [00:18<03:46,  6.28it/s]"
     ]
    },
    {
     "name": "stdout",
     "output_type": "stream",
     "text": [
      "掩码中的唯一值: [  0 255]\n",
      "掩码已保存为: E:/Dataset/CBIS-DDSM/New_CBDDSM/roi/calc-training\\Calc-Training_P_00129_LEFT_MLO_1_1-2.png\n",
      "掩码中的唯一值: [  0 255]\n",
      "掩码已保存为: E:/Dataset/CBIS-DDSM/New_CBDDSM/roi/calc-training\\Calc-Training_P_00136_LEFT_CC_1_1-2.png\n"
     ]
    },
    {
     "name": "stderr",
     "output_type": "stream",
     "text": [
      "转换文件:   8%|▊         | 127/1546 [00:18<03:20,  7.09it/s]"
     ]
    },
    {
     "name": "stdout",
     "output_type": "stream",
     "text": [
      "掩码中的唯一值: [  0 255]\n",
      "掩码已保存为: E:/Dataset/CBIS-DDSM/New_CBDDSM/roi/calc-training\\Calc-Training_P_00136_LEFT_MLO_1_1-2.png\n",
      "掩码中的唯一值: [  0 255]\n",
      "掩码已保存为: E:/Dataset/CBIS-DDSM/New_CBDDSM/roi/calc-training\\Calc-Training_P_00136_LEFT_MLO_2_1-2.png\n"
     ]
    },
    {
     "name": "stderr",
     "output_type": "stream",
     "text": [
      "转换文件:   8%|▊         | 129/1546 [00:19<03:20,  7.05it/s]"
     ]
    },
    {
     "name": "stdout",
     "output_type": "stream",
     "text": [
      "掩码中的唯一值: [  0 255]\n",
      "掩码已保存为: E:/Dataset/CBIS-DDSM/New_CBDDSM/roi/calc-training\\Calc-Training_P_00151_RIGHT_MLO_1_1-2.png\n",
      "掩码中的唯一值: [  0 255]\n",
      "掩码已保存为: E:/Dataset/CBIS-DDSM/New_CBDDSM/roi/calc-training\\Calc-Training_P_00157_LEFT_CC_1_1-2.png\n"
     ]
    },
    {
     "name": "stderr",
     "output_type": "stream",
     "text": [
      "转换文件:   8%|▊         | 131/1546 [00:19<03:20,  7.06it/s]"
     ]
    },
    {
     "name": "stdout",
     "output_type": "stream",
     "text": [
      "掩码中的唯一值: [  0 255]\n",
      "掩码已保存为: E:/Dataset/CBIS-DDSM/New_CBDDSM/roi/calc-training\\Calc-Training_P_00157_LEFT_CC_2_1-2.png\n",
      "掩码中的唯一值: [  0 255]\n",
      "掩码已保存为: E:/Dataset/CBIS-DDSM/New_CBDDSM/roi/calc-training\\Calc-Training_P_00157_LEFT_MLO_1_1-2.png\n"
     ]
    },
    {
     "name": "stderr",
     "output_type": "stream",
     "text": [
      "转换文件:   9%|▊         | 133/1546 [00:19<03:16,  7.17it/s]"
     ]
    },
    {
     "name": "stdout",
     "output_type": "stream",
     "text": [
      "掩码中的唯一值: [  0 255]\n",
      "掩码已保存为: E:/Dataset/CBIS-DDSM/New_CBDDSM/roi/calc-training\\Calc-Training_P_00157_LEFT_MLO_2_1-2.png\n",
      "掩码中的唯一值: [  0 255]\n",
      "掩码已保存为: E:/Dataset/CBIS-DDSM/New_CBDDSM/roi/calc-training\\Calc-Training_P_00157_LEFT_MLO_3_1-2.png\n"
     ]
    },
    {
     "name": "stderr",
     "output_type": "stream",
     "text": [
      "转换文件:   9%|▊         | 134/1546 [00:20<03:51,  6.09it/s]"
     ]
    },
    {
     "name": "stdout",
     "output_type": "stream",
     "text": [
      "掩码中的唯一值: [  0 255]\n",
      "掩码已保存为: E:/Dataset/CBIS-DDSM/New_CBDDSM/roi/calc-training\\Calc-Training_P_00159_LEFT_CC_1_1-2.png\n"
     ]
    },
    {
     "name": "stderr",
     "output_type": "stream",
     "text": [
      "转换文件:   9%|▉         | 136/1546 [00:20<04:10,  5.64it/s]"
     ]
    },
    {
     "name": "stdout",
     "output_type": "stream",
     "text": [
      "掩码中的唯一值: [  0 255]\n",
      "掩码已保存为: E:/Dataset/CBIS-DDSM/New_CBDDSM/roi/calc-training\\Calc-Training_P_00159_LEFT_MLO_1_1-2.png\n",
      "掩码中的唯一值: [  0 255]\n",
      "掩码已保存为: E:/Dataset/CBIS-DDSM/New_CBDDSM/roi/calc-training\\Calc-Training_P_00161_LEFT_MLO_1_1-2.png\n"
     ]
    },
    {
     "name": "stderr",
     "output_type": "stream",
     "text": [
      "转换文件:   9%|▉         | 137/1546 [00:20<04:33,  5.15it/s]"
     ]
    },
    {
     "name": "stdout",
     "output_type": "stream",
     "text": [
      "掩码中的唯一值: [  0 255]\n",
      "掩码已保存为: E:/Dataset/CBIS-DDSM/New_CBDDSM/roi/calc-training\\Calc-Training_P_00162_LEFT_CC_1_1-2.png\n"
     ]
    },
    {
     "name": "stderr",
     "output_type": "stream",
     "text": [
      "转换文件:   9%|▉         | 138/1546 [00:20<05:05,  4.61it/s]"
     ]
    },
    {
     "name": "stdout",
     "output_type": "stream",
     "text": [
      "掩码中的唯一值: [  0 255]\n",
      "掩码已保存为: E:/Dataset/CBIS-DDSM/New_CBDDSM/roi/calc-training\\Calc-Training_P_00162_LEFT_MLO_1_1-2.png\n"
     ]
    },
    {
     "name": "stderr",
     "output_type": "stream",
     "text": [
      "转换文件:   9%|▉         | 139/1546 [00:21<05:04,  4.62it/s]"
     ]
    },
    {
     "name": "stdout",
     "output_type": "stream",
     "text": [
      "掩码中的唯一值: [  0 255]\n",
      "掩码已保存为: E:/Dataset/CBIS-DDSM/New_CBDDSM/roi/calc-training\\Calc-Training_P_00179_LEFT_CC_1_1-2.png\n"
     ]
    },
    {
     "name": "stderr",
     "output_type": "stream",
     "text": [
      "转换文件:   9%|▉         | 142/1546 [00:21<03:54,  5.98it/s]"
     ]
    },
    {
     "name": "stdout",
     "output_type": "stream",
     "text": [
      "掩码中的唯一值: [  0 255]\n",
      "掩码已保存为: E:/Dataset/CBIS-DDSM/New_CBDDSM/roi/calc-training\\Calc-Training_P_00179_LEFT_MLO_1_1-2.png\n",
      "掩码中的唯一值: [  0 255]\n",
      "掩码已保存为: E:/Dataset/CBIS-DDSM/New_CBDDSM/roi/calc-training\\Calc-Training_P_00181_RIGHT_CC_1_1-2.png\n",
      "掩码中的唯一值: [  0 255]\n",
      "掩码已保存为: E:/Dataset/CBIS-DDSM/New_CBDDSM/roi/calc-training\\Calc-Training_P_00181_RIGHT_MLO_1_1-2.png\n"
     ]
    },
    {
     "name": "stderr",
     "output_type": "stream",
     "text": [
      "转换文件:   9%|▉         | 143/1546 [00:21<04:31,  5.16it/s]"
     ]
    },
    {
     "name": "stdout",
     "output_type": "stream",
     "text": [
      "掩码中的唯一值: [  0 255]\n",
      "掩码已保存为: E:/Dataset/CBIS-DDSM/New_CBDDSM/roi/calc-training\\Calc-Training_P_00182_LEFT_CC_1_1-2.png\n"
     ]
    },
    {
     "name": "stderr",
     "output_type": "stream",
     "text": [
      "转换文件:   9%|▉         | 145/1546 [00:22<04:32,  5.14it/s]"
     ]
    },
    {
     "name": "stdout",
     "output_type": "stream",
     "text": [
      "掩码中的唯一值: [  0 255]\n",
      "掩码已保存为: E:/Dataset/CBIS-DDSM/New_CBDDSM/roi/calc-training\\Calc-Training_P_00182_LEFT_MLO_1_1-2.png\n",
      "掩码中的唯一值: [  0 255]\n",
      "掩码已保存为: E:/Dataset/CBIS-DDSM/New_CBDDSM/roi/calc-training\\Calc-Training_P_00183_RIGHT_MLO_1_1-2.png\n"
     ]
    },
    {
     "name": "stderr",
     "output_type": "stream",
     "text": [
      "转换文件:  10%|▉         | 147/1546 [00:22<04:05,  5.71it/s]"
     ]
    },
    {
     "name": "stdout",
     "output_type": "stream",
     "text": [
      "掩码中的唯一值: [  0 255]\n",
      "掩码已保存为: E:/Dataset/CBIS-DDSM/New_CBDDSM/roi/calc-training\\Calc-Training_P_00185_LEFT_CC_1_1-2.png\n",
      "掩码中的唯一值: [  0 255]\n",
      "掩码已保存为: E:/Dataset/CBIS-DDSM/New_CBDDSM/roi/calc-training\\Calc-Training_P_00185_LEFT_MLO_1_1-2.png\n"
     ]
    },
    {
     "name": "stderr",
     "output_type": "stream",
     "text": [
      "转换文件:  10%|▉         | 149/1546 [00:22<03:32,  6.58it/s]"
     ]
    },
    {
     "name": "stdout",
     "output_type": "stream",
     "text": [
      "掩码中的唯一值: [  0 255]\n",
      "掩码已保存为: E:/Dataset/CBIS-DDSM/New_CBDDSM/roi/calc-training\\Calc-Training_P_00188_RIGHT_MLO_1_1-2.png\n",
      "掩码中的唯一值: [  0 255]\n",
      "掩码已保存为: E:/Dataset/CBIS-DDSM/New_CBDDSM/roi/calc-training\\Calc-Training_P_00189_LEFT_CC_1_1-2.png\n"
     ]
    },
    {
     "name": "stderr",
     "output_type": "stream",
     "text": [
      "转换文件:  10%|▉         | 151/1546 [00:23<03:24,  6.84it/s]"
     ]
    },
    {
     "name": "stdout",
     "output_type": "stream",
     "text": [
      "掩码中的唯一值: [  0 255]\n",
      "掩码已保存为: E:/Dataset/CBIS-DDSM/New_CBDDSM/roi/calc-training\\Calc-Training_P_00189_LEFT_MLO_1_1-2.png\n",
      "掩码中的唯一值: [  0 255]\n",
      "掩码已保存为: E:/Dataset/CBIS-DDSM/New_CBDDSM/roi/calc-training\\Calc-Training_P_00196_RIGHT_CC_1_1-2.png\n"
     ]
    },
    {
     "name": "stderr",
     "output_type": "stream",
     "text": [
      "转换文件:  10%|▉         | 152/1546 [00:23<03:13,  7.20it/s]"
     ]
    },
    {
     "name": "stdout",
     "output_type": "stream",
     "text": [
      "掩码中的唯一值: [  0 255]\n",
      "掩码已保存为: E:/Dataset/CBIS-DDSM/New_CBDDSM/roi/calc-training\\Calc-Training_P_00196_RIGHT_MLO_1_1-2.png\n"
     ]
    },
    {
     "name": "stderr",
     "output_type": "stream",
     "text": [
      "转换文件:  10%|▉         | 153/1546 [00:23<03:44,  6.21it/s]"
     ]
    },
    {
     "name": "stdout",
     "output_type": "stream",
     "text": [
      "掩码中的唯一值: [  0 255]\n",
      "掩码已保存为: E:/Dataset/CBIS-DDSM/New_CBDDSM/roi/calc-training\\Calc-Training_P_00197_RIGHT_CC_1_1-2.png\n"
     ]
    },
    {
     "name": "stderr",
     "output_type": "stream",
     "text": [
      "转换文件:  10%|▉         | 154/1546 [00:23<04:17,  5.40it/s]"
     ]
    },
    {
     "name": "stdout",
     "output_type": "stream",
     "text": [
      "掩码中的唯一值: [  0 255]\n",
      "掩码已保存为: E:/Dataset/CBIS-DDSM/New_CBDDSM/roi/calc-training\\Calc-Training_P_00197_RIGHT_MLO_1_1-2.png\n"
     ]
    },
    {
     "name": "stderr",
     "output_type": "stream",
     "text": [
      "转换文件:  10%|█         | 155/1546 [00:23<04:35,  5.05it/s]"
     ]
    },
    {
     "name": "stdout",
     "output_type": "stream",
     "text": [
      "掩码中的唯一值: [  0 255]\n",
      "掩码已保存为: E:/Dataset/CBIS-DDSM/New_CBDDSM/roi/calc-training\\Calc-Training_P_00201_LEFT_MLO_1_1-2.png\n"
     ]
    },
    {
     "name": "stderr",
     "output_type": "stream",
     "text": [
      "转换文件:  10%|█         | 156/1546 [00:24<04:53,  4.73it/s]"
     ]
    },
    {
     "name": "stdout",
     "output_type": "stream",
     "text": [
      "掩码中的唯一值: [  0 255]\n",
      "掩码已保存为: E:/Dataset/CBIS-DDSM/New_CBDDSM/roi/calc-training\\Calc-Training_P_00208_RIGHT_CC_1_1-2.png\n"
     ]
    },
    {
     "name": "stderr",
     "output_type": "stream",
     "text": [
      "转换文件:  10%|█         | 157/1546 [00:24<04:56,  4.68it/s]"
     ]
    },
    {
     "name": "stdout",
     "output_type": "stream",
     "text": [
      "掩码中的唯一值: [  0 255]\n",
      "掩码已保存为: E:/Dataset/CBIS-DDSM/New_CBDDSM/roi/calc-training\\Calc-Training_P_00208_RIGHT_CC_2_1-2.png\n"
     ]
    },
    {
     "name": "stderr",
     "output_type": "stream",
     "text": [
      "转换文件:  10%|█         | 158/1546 [00:24<05:09,  4.49it/s]"
     ]
    },
    {
     "name": "stdout",
     "output_type": "stream",
     "text": [
      "掩码中的唯一值: [  0 255]\n",
      "掩码已保存为: E:/Dataset/CBIS-DDSM/New_CBDDSM/roi/calc-training\\Calc-Training_P_00208_RIGHT_MLO_1_1-2.png\n",
      "掩码中的唯一值: [  0 255]\n"
     ]
    },
    {
     "name": "stderr",
     "output_type": "stream",
     "text": [
      "转换文件:  10%|█         | 159/1546 [00:24<05:06,  4.52it/s]"
     ]
    },
    {
     "name": "stdout",
     "output_type": "stream",
     "text": [
      "掩码已保存为: E:/Dataset/CBIS-DDSM/New_CBDDSM/roi/calc-training\\Calc-Training_P_00208_RIGHT_MLO_2_1-2.png\n"
     ]
    },
    {
     "name": "stderr",
     "output_type": "stream",
     "text": [
      "转换文件:  10%|█         | 160/1546 [00:25<05:06,  4.53it/s]"
     ]
    },
    {
     "name": "stdout",
     "output_type": "stream",
     "text": [
      "掩码中的唯一值: [  0 255]\n",
      "掩码已保存为: E:/Dataset/CBIS-DDSM/New_CBDDSM/roi/calc-training\\Calc-Training_P_00220_LEFT_CC_1_1-2.png\n",
      "掩码中的唯一值: [  0 255]\n"
     ]
    },
    {
     "name": "stderr",
     "output_type": "stream",
     "text": [
      "转换文件:  10%|█         | 162/1546 [00:25<04:18,  5.36it/s]"
     ]
    },
    {
     "name": "stdout",
     "output_type": "stream",
     "text": [
      "掩码已保存为: E:/Dataset/CBIS-DDSM/New_CBDDSM/roi/calc-training\\Calc-Training_P_00220_LEFT_MLO_1_1-2.png\n",
      "掩码中的唯一值: [  0 255]\n",
      "掩码已保存为: E:/Dataset/CBIS-DDSM/New_CBDDSM/roi/calc-training\\Calc-Training_P_00224_LEFT_CC_2_1-2.png\n"
     ]
    },
    {
     "name": "stderr",
     "output_type": "stream",
     "text": [
      "转换文件:  11%|█         | 165/1546 [00:25<02:53,  7.96it/s]"
     ]
    },
    {
     "name": "stdout",
     "output_type": "stream",
     "text": [
      "掩码中的唯一值: [  0 255]\n",
      "掩码已保存为: E:/Dataset/CBIS-DDSM/New_CBDDSM/roi/calc-training\\Calc-Training_P_00224_LEFT_MLO_2_1-2.png\n",
      "掩码中的唯一值: [  0 255]\n",
      "掩码已保存为: E:/Dataset/CBIS-DDSM/New_CBDDSM/roi/calc-training\\Calc-Training_P_00232_RIGHT_CC_1_1-2.png\n",
      "掩码中的唯一值: [  0 255]\n",
      "掩码已保存为: E:/Dataset/CBIS-DDSM/New_CBDDSM/roi/calc-training\\Calc-Training_P_00232_RIGHT_MLO_1_1-2.png\n"
     ]
    },
    {
     "name": "stderr",
     "output_type": "stream",
     "text": [
      "转换文件:  11%|█         | 167/1546 [00:25<03:04,  7.49it/s]"
     ]
    },
    {
     "name": "stdout",
     "output_type": "stream",
     "text": [
      "掩码中的唯一值: [  0 255]\n",
      "掩码已保存为: E:/Dataset/CBIS-DDSM/New_CBDDSM/roi/calc-training\\Calc-Training_P_00243_LEFT_CC_1_1-2.png\n",
      "掩码中的唯一值: [  0 255]\n",
      "掩码已保存为: E:/Dataset/CBIS-DDSM/New_CBDDSM/roi/calc-training\\Calc-Training_P_00243_LEFT_MLO_1_1-2.png\n"
     ]
    },
    {
     "name": "stderr",
     "output_type": "stream",
     "text": [
      "转换文件:  11%|█         | 169/1546 [00:26<03:16,  7.01it/s]"
     ]
    },
    {
     "name": "stdout",
     "output_type": "stream",
     "text": [
      "掩码中的唯一值: [  0 255]\n",
      "掩码已保存为: E:/Dataset/CBIS-DDSM/New_CBDDSM/roi/calc-training\\Calc-Training_P_00245_RIGHT_MLO_1_1-2.png\n",
      "掩码中的唯一值: [  0 255]\n",
      "掩码已保存为: E:/Dataset/CBIS-DDSM/New_CBDDSM/roi/calc-training\\Calc-Training_P_00250_LEFT_MLO_1_1-2.png\n"
     ]
    },
    {
     "name": "stderr",
     "output_type": "stream",
     "text": [
      "转换文件:  11%|█         | 171/1546 [00:26<03:21,  6.81it/s]"
     ]
    },
    {
     "name": "stdout",
     "output_type": "stream",
     "text": [
      "掩码中的唯一值: [  0 255]\n",
      "掩码已保存为: E:/Dataset/CBIS-DDSM/New_CBDDSM/roi/calc-training\\Calc-Training_P_00251_RIGHT_CC_1_1-2.png\n",
      "掩码中的唯一值: [  0 255]\n",
      "掩码已保存为: E:/Dataset/CBIS-DDSM/New_CBDDSM/roi/calc-training\\Calc-Training_P_00251_RIGHT_MLO_1_1-2.png\n"
     ]
    },
    {
     "name": "stderr",
     "output_type": "stream",
     "text": [
      "转换文件:  11%|█         | 173/1546 [00:26<03:40,  6.23it/s]"
     ]
    },
    {
     "name": "stdout",
     "output_type": "stream",
     "text": [
      "掩码中的唯一值: [  0 255]\n",
      "掩码已保存为: E:/Dataset/CBIS-DDSM/New_CBDDSM/roi/calc-training\\Calc-Training_P_00255_RIGHT_CC_1_1-2.png\n",
      "掩码中的唯一值: [  0 255]\n",
      "掩码已保存为: E:/Dataset/CBIS-DDSM/New_CBDDSM/roi/calc-training\\Calc-Training_P_00255_RIGHT_MLO_1_1-2.png\n"
     ]
    },
    {
     "name": "stderr",
     "output_type": "stream",
     "text": [
      "转换文件:  11%|█▏        | 175/1546 [00:27<03:16,  6.98it/s]"
     ]
    },
    {
     "name": "stdout",
     "output_type": "stream",
     "text": [
      "掩码中的唯一值: [  0 255]\n",
      "掩码已保存为: E:/Dataset/CBIS-DDSM/New_CBDDSM/roi/calc-training\\Calc-Training_P_00256_LEFT_CC_1_1-2.png\n",
      "掩码中的唯一值: [  0 255]\n",
      "掩码已保存为: E:/Dataset/CBIS-DDSM/New_CBDDSM/roi/calc-training\\Calc-Training_P_00256_LEFT_MLO_1_1-2.png\n"
     ]
    },
    {
     "name": "stderr",
     "output_type": "stream",
     "text": [
      "转换文件:  11%|█▏        | 176/1546 [00:27<03:40,  6.22it/s]"
     ]
    },
    {
     "name": "stdout",
     "output_type": "stream",
     "text": [
      "掩码中的唯一值: [  0 255]\n",
      "掩码已保存为: E:/Dataset/CBIS-DDSM/New_CBDDSM/roi/calc-training\\Calc-Training_P_00260_RIGHT_CC_1_1-2.png\n"
     ]
    },
    {
     "name": "stderr",
     "output_type": "stream",
     "text": [
      "转换文件:  12%|█▏        | 178/1546 [00:27<04:14,  5.38it/s]"
     ]
    },
    {
     "name": "stdout",
     "output_type": "stream",
     "text": [
      "掩码中的唯一值: [  0 255]\n",
      "掩码已保存为: E:/Dataset/CBIS-DDSM/New_CBDDSM/roi/calc-training\\Calc-Training_P_00260_RIGHT_MLO_1_1-2.png\n",
      "掩码中的唯一值: [  0 255]\n",
      "掩码已保存为: E:/Dataset/CBIS-DDSM/New_CBDDSM/roi/calc-training\\Calc-Training_P_00263_LEFT_MLO_1_1-2.png\n"
     ]
    },
    {
     "name": "stderr",
     "output_type": "stream",
     "text": [
      "转换文件:  12%|█▏        | 179/1546 [00:27<04:15,  5.35it/s]"
     ]
    },
    {
     "name": "stdout",
     "output_type": "stream",
     "text": [
      "掩码中的唯一值: [  0 255]\n",
      "掩码已保存为: E:/Dataset/CBIS-DDSM/New_CBDDSM/roi/calc-training\\Calc-Training_P_00266_LEFT_CC_1_1-2.png\n",
      "掩码中的唯一值: [  0 255]\n"
     ]
    },
    {
     "name": "stderr",
     "output_type": "stream",
     "text": [
      "转换文件:  12%|█▏        | 182/1546 [00:28<03:23,  6.69it/s]"
     ]
    },
    {
     "name": "stdout",
     "output_type": "stream",
     "text": [
      "掩码已保存为: E:/Dataset/CBIS-DDSM/New_CBDDSM/roi/calc-training\\Calc-Training_P_00266_LEFT_MLO_1_1-2.png\n",
      "掩码中的唯一值: [  0 255]\n",
      "掩码已保存为: E:/Dataset/CBIS-DDSM/New_CBDDSM/roi/calc-training\\Calc-Training_P_00268_LEFT_CC_1_1-2.png\n",
      "掩码中的唯一值: [  0 255]\n",
      "掩码已保存为: E:/Dataset/CBIS-DDSM/New_CBDDSM/roi/calc-training\\Calc-Training_P_00268_LEFT_MLO_1_1-2.png\n"
     ]
    },
    {
     "name": "stderr",
     "output_type": "stream",
     "text": [
      "转换文件:  12%|█▏        | 184/1546 [00:28<03:15,  6.96it/s]"
     ]
    },
    {
     "name": "stdout",
     "output_type": "stream",
     "text": [
      "掩码中的唯一值: [  0 255]\n",
      "掩码已保存为: E:/Dataset/CBIS-DDSM/New_CBDDSM/roi/calc-training\\Calc-Training_P_00269_LEFT_CC_1_1-2.png\n",
      "掩码中的唯一值: [  0 255]\n",
      "掩码已保存为: E:/Dataset/CBIS-DDSM/New_CBDDSM/roi/calc-training\\Calc-Training_P_00269_LEFT_MLO_1_1-2.png\n"
     ]
    },
    {
     "name": "stderr",
     "output_type": "stream",
     "text": [
      "转换文件:  12%|█▏        | 186/1546 [00:28<03:12,  7.08it/s]"
     ]
    },
    {
     "name": "stdout",
     "output_type": "stream",
     "text": [
      "掩码中的唯一值: [  0 255]\n",
      "掩码已保存为: E:/Dataset/CBIS-DDSM/New_CBDDSM/roi/calc-training\\Calc-Training_P_00270_LEFT_CC_1_1-2.png\n",
      "掩码中的唯一值: [  0 255]\n",
      "掩码已保存为: E:/Dataset/CBIS-DDSM/New_CBDDSM/roi/calc-training\\Calc-Training_P_00270_LEFT_MLO_1_1-2.png\n"
     ]
    },
    {
     "name": "stderr",
     "output_type": "stream",
     "text": [
      "转换文件:  12%|█▏        | 188/1546 [00:29<02:51,  7.92it/s]"
     ]
    },
    {
     "name": "stdout",
     "output_type": "stream",
     "text": [
      "掩码中的唯一值: [  0 255]\n",
      "掩码已保存为: E:/Dataset/CBIS-DDSM/New_CBDDSM/roi/calc-training\\Calc-Training_P_00271_LEFT_CC_1_1-2.png\n",
      "掩码中的唯一值: [  0 255]\n",
      "掩码已保存为: E:/Dataset/CBIS-DDSM/New_CBDDSM/roi/calc-training\\Calc-Training_P_00271_LEFT_MLO_1_1-2.png\n"
     ]
    },
    {
     "name": "stderr",
     "output_type": "stream",
     "text": [
      "转换文件:  12%|█▏        | 190/1546 [00:29<03:20,  6.76it/s]"
     ]
    },
    {
     "name": "stdout",
     "output_type": "stream",
     "text": [
      "掩码中的唯一值: [  0 255]\n",
      "掩码已保存为: E:/Dataset/CBIS-DDSM/New_CBDDSM/roi/calc-training\\Calc-Training_P_00274_RIGHT_MLO_1_1-2.png\n",
      "掩码中的唯一值: [  0 255]\n",
      "掩码已保存为: E:/Dataset/CBIS-DDSM/New_CBDDSM/roi/calc-training\\Calc-Training_P_00275_LEFT_CC_1_1-2.png\n"
     ]
    },
    {
     "name": "stderr",
     "output_type": "stream",
     "text": [
      "转换文件:  12%|█▏        | 192/1546 [00:29<03:18,  6.82it/s]"
     ]
    },
    {
     "name": "stdout",
     "output_type": "stream",
     "text": [
      "掩码中的唯一值: [  0 255]\n",
      "掩码已保存为: E:/Dataset/CBIS-DDSM/New_CBDDSM/roi/calc-training\\Calc-Training_P_00275_LEFT_MLO_1_1-2.png\n",
      "掩码中的唯一值: [  0 255]\n",
      "掩码已保存为: E:/Dataset/CBIS-DDSM/New_CBDDSM/roi/calc-training\\Calc-Training_P_00276_RIGHT_CC_1_1-2.png\n"
     ]
    },
    {
     "name": "stderr",
     "output_type": "stream",
     "text": [
      "转换文件:  12%|█▏        | 193/1546 [00:29<03:17,  6.85it/s]"
     ]
    },
    {
     "name": "stdout",
     "output_type": "stream",
     "text": [
      "掩码中的唯一值: [  0 255]\n",
      "掩码已保存为: E:/Dataset/CBIS-DDSM/New_CBDDSM/roi/calc-training\\Calc-Training_P_00276_RIGHT_MLO_1_1-2.png\n",
      "掩码中的唯一值: [  0 255]\n"
     ]
    },
    {
     "name": "stderr",
     "output_type": "stream",
     "text": [
      "转换文件:  13%|█▎        | 194/1546 [00:30<03:40,  6.13it/s]"
     ]
    },
    {
     "name": "stdout",
     "output_type": "stream",
     "text": [
      "掩码已保存为: E:/Dataset/CBIS-DDSM/New_CBDDSM/roi/calc-training\\Calc-Training_P_00280_LEFT_CC_1_1-2.png\n"
     ]
    },
    {
     "name": "stderr",
     "output_type": "stream",
     "text": [
      "转换文件:  13%|█▎        | 196/1546 [00:30<03:48,  5.91it/s]"
     ]
    },
    {
     "name": "stdout",
     "output_type": "stream",
     "text": [
      "掩码中的唯一值: [  0 255]\n",
      "掩码已保存为: E:/Dataset/CBIS-DDSM/New_CBDDSM/roi/calc-training\\Calc-Training_P_00280_LEFT_MLO_1_1-2.png\n",
      "掩码中的唯一值: [  0 255]\n",
      "掩码已保存为: E:/Dataset/CBIS-DDSM/New_CBDDSM/roi/calc-training\\Calc-Training_P_00282_LEFT_CC_1_1-2.png\n"
     ]
    },
    {
     "name": "stderr",
     "output_type": "stream",
     "text": [
      "转换文件:  13%|█▎        | 198/1546 [00:30<03:15,  6.88it/s]"
     ]
    },
    {
     "name": "stdout",
     "output_type": "stream",
     "text": [
      "掩码中的唯一值: [  0 255]\n",
      "掩码已保存为: E:/Dataset/CBIS-DDSM/New_CBDDSM/roi/calc-training\\Calc-Training_P_00282_LEFT_MLO_1_1-2.png\n",
      "掩码中的唯一值: [  0 255]\n",
      "掩码已保存为: E:/Dataset/CBIS-DDSM/New_CBDDSM/roi/calc-training\\Calc-Training_P_00284_LEFT_CC_1_1-2.png\n"
     ]
    },
    {
     "name": "stderr",
     "output_type": "stream",
     "text": [
      "转换文件:  13%|█▎        | 200/1546 [00:31<03:03,  7.33it/s]"
     ]
    },
    {
     "name": "stdout",
     "output_type": "stream",
     "text": [
      "掩码中的唯一值: [  0 255]\n",
      "掩码已保存为: E:/Dataset/CBIS-DDSM/New_CBDDSM/roi/calc-training\\Calc-Training_P_00284_LEFT_CC_2_1-2.png\n",
      "掩码中的唯一值: [  0 255]\n",
      "掩码已保存为: E:/Dataset/CBIS-DDSM/New_CBDDSM/roi/calc-training\\Calc-Training_P_00284_LEFT_MLO_1_1-2.png\n"
     ]
    },
    {
     "name": "stderr",
     "output_type": "stream",
     "text": [
      "转换文件:  13%|█▎        | 202/1546 [00:31<03:19,  6.72it/s]"
     ]
    },
    {
     "name": "stdout",
     "output_type": "stream",
     "text": [
      "掩码中的唯一值: [  0 255]\n",
      "掩码已保存为: E:/Dataset/CBIS-DDSM/New_CBDDSM/roi/calc-training\\Calc-Training_P_00284_LEFT_MLO_2_1-2.png\n",
      "掩码中的唯一值: [  0 255]\n",
      "掩码已保存为: E:/Dataset/CBIS-DDSM/New_CBDDSM/roi/calc-training\\Calc-Training_P_00288_RIGHT_CC_1_1-2.png\n"
     ]
    },
    {
     "name": "stderr",
     "output_type": "stream",
     "text": [
      "转换文件:  13%|█▎        | 205/1546 [00:31<02:57,  7.57it/s]"
     ]
    },
    {
     "name": "stdout",
     "output_type": "stream",
     "text": [
      "掩码中的唯一值: [  0 255]\n",
      "掩码已保存为: E:/Dataset/CBIS-DDSM/New_CBDDSM/roi/calc-training\\Calc-Training_P_00288_RIGHT_MLO_1_1-2.png\n",
      "掩码中的唯一值: [  0 255]\n",
      "掩码已保存为: E:/Dataset/CBIS-DDSM/New_CBDDSM/roi/calc-training\\Calc-Training_P_00291_LEFT_CC_1_1-2.png\n",
      "掩码中的唯一值: [  0 255]\n",
      "掩码已保存为: E:/Dataset/CBIS-DDSM/New_CBDDSM/roi/calc-training\\Calc-Training_P_00291_LEFT_CC_2_1-2.png\n"
     ]
    },
    {
     "name": "stderr",
     "output_type": "stream",
     "text": [
      "转换文件:  13%|█▎        | 207/1546 [00:31<02:48,  7.96it/s]"
     ]
    },
    {
     "name": "stdout",
     "output_type": "stream",
     "text": [
      "掩码中的唯一值: [  0 255]\n",
      "掩码已保存为: E:/Dataset/CBIS-DDSM/New_CBDDSM/roi/calc-training\\Calc-Training_P_00291_LEFT_CC_3_1-2.png\n",
      "掩码中的唯一值: [  0 255]\n",
      "掩码已保存为: E:/Dataset/CBIS-DDSM/New_CBDDSM/roi/calc-training\\Calc-Training_P_00291_LEFT_MLO_1_1-2.png\n"
     ]
    },
    {
     "name": "stderr",
     "output_type": "stream",
     "text": [
      "转换文件:  14%|█▎        | 209/1546 [00:32<02:37,  8.48it/s]"
     ]
    },
    {
     "name": "stdout",
     "output_type": "stream",
     "text": [
      "掩码中的唯一值: [  0 255]\n",
      "掩码已保存为: E:/Dataset/CBIS-DDSM/New_CBDDSM/roi/calc-training\\Calc-Training_P_00291_LEFT_MLO_2_1-2.png\n",
      "掩码中的唯一值: [  0 255]\n",
      "掩码已保存为: E:/Dataset/CBIS-DDSM/New_CBDDSM/roi/calc-training\\Calc-Training_P_00291_RIGHT_CC_1_1-2.png\n"
     ]
    },
    {
     "name": "stderr",
     "output_type": "stream",
     "text": [
      "转换文件:  14%|█▎        | 211/1546 [00:32<02:52,  7.73it/s]"
     ]
    },
    {
     "name": "stdout",
     "output_type": "stream",
     "text": [
      "掩码中的唯一值: [  0 255]\n",
      "掩码已保存为: E:/Dataset/CBIS-DDSM/New_CBDDSM/roi/calc-training\\Calc-Training_P_00291_RIGHT_MLO_1_1-2.png\n",
      "掩码中的唯一值: [  0 255]\n",
      "掩码已保存为: E:/Dataset/CBIS-DDSM/New_CBDDSM/roi/calc-training\\Calc-Training_P_00293_LEFT_CC_1_1-2.png\n"
     ]
    },
    {
     "name": "stderr",
     "output_type": "stream",
     "text": [
      "转换文件:  14%|█▎        | 212/1546 [00:32<03:01,  7.35it/s]"
     ]
    },
    {
     "name": "stdout",
     "output_type": "stream",
     "text": [
      "掩码中的唯一值: [  0 255]\n",
      "掩码已保存为: E:/Dataset/CBIS-DDSM/New_CBDDSM/roi/calc-training\\Calc-Training_P_00293_LEFT_MLO_1_1-2.png\n"
     ]
    },
    {
     "name": "stderr",
     "output_type": "stream",
     "text": [
      "转换文件:  14%|█▍        | 213/1546 [00:32<03:40,  6.05it/s]"
     ]
    },
    {
     "name": "stdout",
     "output_type": "stream",
     "text": [
      "掩码中的唯一值: [  0 255]\n",
      "掩码已保存为: E:/Dataset/CBIS-DDSM/New_CBDDSM/roi/calc-training\\Calc-Training_P_00297_RIGHT_CC_1_1-2.png\n"
     ]
    },
    {
     "name": "stderr",
     "output_type": "stream",
     "text": [
      "转换文件:  14%|█▍        | 215/1546 [00:33<04:19,  5.12it/s]"
     ]
    },
    {
     "name": "stdout",
     "output_type": "stream",
     "text": [
      "掩码中的唯一值: [  0 255]\n",
      "掩码已保存为: E:/Dataset/CBIS-DDSM/New_CBDDSM/roi/calc-training\\Calc-Training_P_00297_RIGHT_MLO_1_1-2.png\n",
      "掩码中的唯一值: [  0 255]\n",
      "掩码已保存为: E:/Dataset/CBIS-DDSM/New_CBDDSM/roi/calc-training\\Calc-Training_P_00302_LEFT_CC_1_1-2.png\n"
     ]
    },
    {
     "name": "stderr",
     "output_type": "stream",
     "text": [
      "转换文件:  14%|█▍        | 216/1546 [00:33<04:21,  5.09it/s]"
     ]
    },
    {
     "name": "stdout",
     "output_type": "stream",
     "text": [
      "掩码中的唯一值: [  0 255]\n",
      "掩码已保存为: E:/Dataset/CBIS-DDSM/New_CBDDSM/roi/calc-training\\Calc-Training_P_00302_LEFT_CC_2_1-2.png\n"
     ]
    },
    {
     "name": "stderr",
     "output_type": "stream",
     "text": [
      "转换文件:  14%|█▍        | 218/1546 [00:33<04:28,  4.95it/s]"
     ]
    },
    {
     "name": "stdout",
     "output_type": "stream",
     "text": [
      "掩码中的唯一值: [  0 255]\n",
      "掩码已保存为: E:/Dataset/CBIS-DDSM/New_CBDDSM/roi/calc-training\\Calc-Training_P_00302_LEFT_MLO_1_1-2.png\n",
      "掩码中的唯一值: [  0 255]\n",
      "掩码已保存为: E:/Dataset/CBIS-DDSM/New_CBDDSM/roi/calc-training\\Calc-Training_P_00302_LEFT_MLO_2_1-2.png\n"
     ]
    },
    {
     "name": "stderr",
     "output_type": "stream",
     "text": [
      "转换文件:  14%|█▍        | 219/1546 [00:34<04:28,  4.95it/s]"
     ]
    },
    {
     "name": "stdout",
     "output_type": "stream",
     "text": [
      "掩码中的唯一值: [  0 255]\n",
      "掩码已保存为: E:/Dataset/CBIS-DDSM/New_CBDDSM/roi/calc-training\\Calc-Training_P_00302_RIGHT_CC_1_1-2.png\n"
     ]
    },
    {
     "name": "stderr",
     "output_type": "stream",
     "text": [
      "转换文件:  14%|█▍        | 221/1546 [00:34<04:19,  5.11it/s]"
     ]
    },
    {
     "name": "stdout",
     "output_type": "stream",
     "text": [
      "掩码中的唯一值: [  0 255]\n",
      "掩码已保存为: E:/Dataset/CBIS-DDSM/New_CBDDSM/roi/calc-training\\Calc-Training_P_00302_RIGHT_MLO_1_1-2.png\n",
      "掩码中的唯一值: [  0 255]\n",
      "掩码已保存为: E:/Dataset/CBIS-DDSM/New_CBDDSM/roi/calc-training\\Calc-Training_P_00307_LEFT_CC_1_1-2.png\n"
     ]
    },
    {
     "name": "stderr",
     "output_type": "stream",
     "text": [
      "转换文件:  14%|█▍        | 223/1546 [00:34<03:59,  5.53it/s]"
     ]
    },
    {
     "name": "stdout",
     "output_type": "stream",
     "text": [
      "掩码中的唯一值: [  0 255]\n",
      "掩码已保存为: E:/Dataset/CBIS-DDSM/New_CBDDSM/roi/calc-training\\Calc-Training_P_00307_LEFT_MLO_1_1-2.png\n",
      "掩码中的唯一值: [  0 255]\n",
      "掩码已保存为: E:/Dataset/CBIS-DDSM/New_CBDDSM/roi/calc-training\\Calc-Training_P_00308_LEFT_CC_1_1-2.png\n"
     ]
    },
    {
     "name": "stderr",
     "output_type": "stream",
     "text": [
      "转换文件:  15%|█▍        | 226/1546 [00:35<02:54,  7.55it/s]"
     ]
    },
    {
     "name": "stdout",
     "output_type": "stream",
     "text": [
      "掩码中的唯一值: [  0 255]\n",
      "掩码已保存为: E:/Dataset/CBIS-DDSM/New_CBDDSM/roi/calc-training\\Calc-Training_P_00308_LEFT_MLO_1_1-2.png\n",
      "掩码中的唯一值: [  0 255]\n",
      "掩码已保存为: E:/Dataset/CBIS-DDSM/New_CBDDSM/roi/calc-training\\Calc-Training_P_00311_RIGHT_CC_1_1-2.png\n",
      "掩码中的唯一值: [  0 255]\n",
      "掩码已保存为: E:/Dataset/CBIS-DDSM/New_CBDDSM/roi/calc-training\\Calc-Training_P_00312_RIGHT_MLO_1_1-2.png\n"
     ]
    },
    {
     "name": "stderr",
     "output_type": "stream",
     "text": [
      "转换文件:  15%|█▍        | 228/1546 [00:35<03:02,  7.20it/s]"
     ]
    },
    {
     "name": "stdout",
     "output_type": "stream",
     "text": [
      "掩码中的唯一值: [  0 255]\n",
      "掩码已保存为: E:/Dataset/CBIS-DDSM/New_CBDDSM/roi/calc-training\\Calc-Training_P_00316_RIGHT_CC_1_1-2.png\n",
      "掩码中的唯一值: [  0 255]\n",
      "掩码已保存为: E:/Dataset/CBIS-DDSM/New_CBDDSM/roi/calc-training\\Calc-Training_P_00316_RIGHT_MLO_1_1-2.png\n"
     ]
    },
    {
     "name": "stderr",
     "output_type": "stream",
     "text": [
      "转换文件:  15%|█▍        | 231/1546 [00:35<02:48,  7.81it/s]"
     ]
    },
    {
     "name": "stdout",
     "output_type": "stream",
     "text": [
      "掩码中的唯一值: [  0 255]\n",
      "掩码已保存为: E:/Dataset/CBIS-DDSM/New_CBDDSM/roi/calc-training\\Calc-Training_P_00318_LEFT_MLO_1_1-2.png\n",
      "掩码中的唯一值: [  0 255]\n",
      "掩码已保存为: E:/Dataset/CBIS-DDSM/New_CBDDSM/roi/calc-training\\Calc-Training_P_00321_LEFT_CC_1_1-2.png\n",
      "掩码中的唯一值: [  0 255]\n",
      "掩码已保存为: E:/Dataset/CBIS-DDSM/New_CBDDSM/roi/calc-training\\Calc-Training_P_00321_LEFT_MLO_1_1-2.png\n"
     ]
    },
    {
     "name": "stderr",
     "output_type": "stream",
     "text": [
      "转换文件:  15%|█▌        | 233/1546 [00:36<02:41,  8.15it/s]"
     ]
    },
    {
     "name": "stdout",
     "output_type": "stream",
     "text": [
      "掩码中的唯一值: [  0 255]\n",
      "掩码已保存为: E:/Dataset/CBIS-DDSM/New_CBDDSM/roi/calc-training\\Calc-Training_P_00322_LEFT_CC_1_1-2.png\n",
      "掩码中的唯一值: [  0 255]\n",
      "掩码已保存为: E:/Dataset/CBIS-DDSM/New_CBDDSM/roi/calc-training\\Calc-Training_P_00322_LEFT_MLO_1_1-2.png\n"
     ]
    },
    {
     "name": "stderr",
     "output_type": "stream",
     "text": [
      "转换文件:  15%|█▌        | 235/1546 [00:36<02:41,  8.12it/s]"
     ]
    },
    {
     "name": "stdout",
     "output_type": "stream",
     "text": [
      "掩码中的唯一值: [  0 255]\n",
      "掩码已保存为: E:/Dataset/CBIS-DDSM/New_CBDDSM/roi/calc-training\\Calc-Training_P_00326_LEFT_MLO_1_1-2.png\n",
      "掩码中的唯一值: [  0 255]\n",
      "掩码已保存为: E:/Dataset/CBIS-DDSM/New_CBDDSM/roi/calc-training\\Calc-Training_P_00336_LEFT_CC_1_1-2.png\n"
     ]
    },
    {
     "name": "stderr",
     "output_type": "stream",
     "text": [
      "转换文件:  15%|█▌        | 238/1546 [00:36<02:25,  9.02it/s]"
     ]
    },
    {
     "name": "stdout",
     "output_type": "stream",
     "text": [
      "掩码中的唯一值: [  0 255]\n",
      "掩码已保存为: E:/Dataset/CBIS-DDSM/New_CBDDSM/roi/calc-training\\Calc-Training_P_00336_LEFT_MLO_1_1-2.png\n",
      "掩码中的唯一值: [  0 255]\n",
      "掩码已保存为: E:/Dataset/CBIS-DDSM/New_CBDDSM/roi/calc-training\\Calc-Training_P_00337_LEFT_CC_1_1-2.png\n",
      "掩码中的唯一值: [  0 255]\n",
      "掩码已保存为: E:/Dataset/CBIS-DDSM/New_CBDDSM/roi/calc-training\\Calc-Training_P_00337_LEFT_MLO_1_1-2.png\n"
     ]
    },
    {
     "name": "stderr",
     "output_type": "stream",
     "text": [
      "转换文件:  16%|█▌        | 240/1546 [00:36<02:54,  7.50it/s]"
     ]
    },
    {
     "name": "stdout",
     "output_type": "stream",
     "text": [
      "掩码中的唯一值: [  0 255]\n",
      "掩码已保存为: E:/Dataset/CBIS-DDSM/New_CBDDSM/roi/calc-training\\Calc-Training_P_00339_LEFT_CC_1_1-2.png\n",
      "掩码中的唯一值: [  0 255]\n",
      "掩码已保存为: E:/Dataset/CBIS-DDSM/New_CBDDSM/roi/calc-training\\Calc-Training_P_00339_LEFT_MLO_1_1-2.png\n"
     ]
    },
    {
     "name": "stderr",
     "output_type": "stream",
     "text": [
      "转换文件:  16%|█▌        | 242/1546 [00:37<02:54,  7.49it/s]"
     ]
    },
    {
     "name": "stdout",
     "output_type": "stream",
     "text": [
      "掩码中的唯一值: [  0 255]\n",
      "掩码已保存为: E:/Dataset/CBIS-DDSM/New_CBDDSM/roi/calc-training\\Calc-Training_P_00346_RIGHT_CC_1_1-2.png\n",
      "掩码中的唯一值: [  0 255]\n",
      "掩码已保存为: E:/Dataset/CBIS-DDSM/New_CBDDSM/roi/calc-training\\Calc-Training_P_00346_RIGHT_MLO_1_1-2.png\n"
     ]
    },
    {
     "name": "stderr",
     "output_type": "stream",
     "text": [
      "转换文件:  16%|█▌        | 244/1546 [00:37<03:18,  6.56it/s]"
     ]
    },
    {
     "name": "stdout",
     "output_type": "stream",
     "text": [
      "掩码中的唯一值: [  0 255]\n",
      "掩码已保存为: E:/Dataset/CBIS-DDSM/New_CBDDSM/roi/calc-training\\Calc-Training_P_00349_RIGHT_CC_1_1-2.png\n",
      "掩码中的唯一值: [  0 255]\n",
      "掩码已保存为: E:/Dataset/CBIS-DDSM/New_CBDDSM/roi/calc-training\\Calc-Training_P_00349_RIGHT_MLO_1_1-2.png\n"
     ]
    },
    {
     "name": "stderr",
     "output_type": "stream",
     "text": [
      "转换文件:  16%|█▌        | 245/1546 [00:37<03:37,  5.98it/s]"
     ]
    },
    {
     "name": "stdout",
     "output_type": "stream",
     "text": [
      "掩码中的唯一值: [  0 255]\n",
      "掩码已保存为: E:/Dataset/CBIS-DDSM/New_CBDDSM/roi/calc-training\\Calc-Training_P_00355_LEFT_CC_1_1-2.png\n"
     ]
    },
    {
     "name": "stderr",
     "output_type": "stream",
     "text": [
      "转换文件:  16%|█▌        | 247/1546 [00:38<03:57,  5.47it/s]"
     ]
    },
    {
     "name": "stdout",
     "output_type": "stream",
     "text": [
      "掩码中的唯一值: [  0 255]\n",
      "掩码已保存为: E:/Dataset/CBIS-DDSM/New_CBDDSM/roi/calc-training\\Calc-Training_P_00355_LEFT_MLO_1_1-2.png\n",
      "掩码中的唯一值: [  0 255]\n",
      "掩码已保存为: E:/Dataset/CBIS-DDSM/New_CBDDSM/roi/calc-training\\Calc-Training_P_00357_LEFT_CC_1_1-2.png\n"
     ]
    },
    {
     "name": "stderr",
     "output_type": "stream",
     "text": [
      "转换文件:  16%|█▌        | 248/1546 [00:38<03:39,  5.92it/s]"
     ]
    },
    {
     "name": "stdout",
     "output_type": "stream",
     "text": [
      "掩码中的唯一值: [  0 255]\n",
      "掩码已保存为: E:/Dataset/CBIS-DDSM/New_CBDDSM/roi/calc-training\\Calc-Training_P_00360_RIGHT_CC_1_1-2.png\n"
     ]
    },
    {
     "name": "stderr",
     "output_type": "stream",
     "text": [
      "转换文件:  16%|█▌        | 249/1546 [00:38<03:59,  5.41it/s]"
     ]
    },
    {
     "name": "stdout",
     "output_type": "stream",
     "text": [
      "掩码中的唯一值: [  0 255]\n",
      "掩码已保存为: E:/Dataset/CBIS-DDSM/New_CBDDSM/roi/calc-training\\Calc-Training_P_00360_RIGHT_MLO_1_1-2.png\n"
     ]
    },
    {
     "name": "stderr",
     "output_type": "stream",
     "text": [
      "转换文件:  16%|█▌        | 250/1546 [00:38<04:17,  5.03it/s]"
     ]
    },
    {
     "name": "stdout",
     "output_type": "stream",
     "text": [
      "掩码中的唯一值: [  0 255]\n",
      "掩码已保存为: E:/Dataset/CBIS-DDSM/New_CBDDSM/roi/calc-training\\Calc-Training_P_00364_RIGHT_CC_1_1-2.png\n"
     ]
    },
    {
     "name": "stderr",
     "output_type": "stream",
     "text": [
      "转换文件:  16%|█▋        | 252/1546 [00:39<04:00,  5.38it/s]"
     ]
    },
    {
     "name": "stdout",
     "output_type": "stream",
     "text": [
      "掩码中的唯一值: [  0 255]\n",
      "掩码已保存为: E:/Dataset/CBIS-DDSM/New_CBDDSM/roi/calc-training\\Calc-Training_P_00364_RIGHT_MLO_1_1-2.png\n",
      "掩码中的唯一值: [  0 255]\n",
      "掩码已保存为: E:/Dataset/CBIS-DDSM/New_CBDDSM/roi/calc-training\\Calc-Training_P_00373_LEFT_CC_1_1-2.png\n"
     ]
    },
    {
     "name": "stderr",
     "output_type": "stream",
     "text": [
      "转换文件:  16%|█▋        | 254/1546 [00:39<03:22,  6.39it/s]"
     ]
    },
    {
     "name": "stdout",
     "output_type": "stream",
     "text": [
      "掩码中的唯一值: [  0 255]\n",
      "掩码已保存为: E:/Dataset/CBIS-DDSM/New_CBDDSM/roi/calc-training\\Calc-Training_P_00373_LEFT_MLO_1_1-2.png\n",
      "掩码中的唯一值: [  0 255]\n",
      "掩码已保存为: E:/Dataset/CBIS-DDSM/New_CBDDSM/roi/calc-training\\Calc-Training_P_00377_LEFT_CC_1_1-2.png\n"
     ]
    },
    {
     "name": "stderr",
     "output_type": "stream",
     "text": [
      "转换文件:  17%|█▋        | 256/1546 [00:39<02:52,  7.48it/s]"
     ]
    },
    {
     "name": "stdout",
     "output_type": "stream",
     "text": [
      "掩码中的唯一值: [  0 255]\n",
      "掩码已保存为: E:/Dataset/CBIS-DDSM/New_CBDDSM/roi/calc-training\\Calc-Training_P_00377_LEFT_CC_2_1-2.png\n",
      "掩码中的唯一值: [  0 255]\n",
      "掩码已保存为: E:/Dataset/CBIS-DDSM/New_CBDDSM/roi/calc-training\\Calc-Training_P_00377_LEFT_MLO_1_1-2.png\n",
      "掩码中的唯一值: [  0 255]\n"
     ]
    },
    {
     "name": "stderr",
     "output_type": "stream",
     "text": [
      "转换文件:  17%|█▋        | 258/1546 [00:39<02:37,  8.15it/s]"
     ]
    },
    {
     "name": "stdout",
     "output_type": "stream",
     "text": [
      "掩码已保存为: E:/Dataset/CBIS-DDSM/New_CBDDSM/roi/calc-training\\Calc-Training_P_00378_LEFT_CC_1_1-2.png\n",
      "掩码中的唯一值: [  0 255]\n",
      "掩码已保存为: E:/Dataset/CBIS-DDSM/New_CBDDSM/roi/calc-training\\Calc-Training_P_00378_LEFT_MLO_1_1-2.png\n"
     ]
    },
    {
     "name": "stderr",
     "output_type": "stream",
     "text": [
      "转换文件:  17%|█▋        | 260/1546 [00:40<02:35,  8.29it/s]"
     ]
    },
    {
     "name": "stdout",
     "output_type": "stream",
     "text": [
      "掩码中的唯一值: [  0 255]\n",
      "掩码已保存为: E:/Dataset/CBIS-DDSM/New_CBDDSM/roi/calc-training\\Calc-Training_P_00380_RIGHT_CC_1_1-2.png\n",
      "掩码中的唯一值: [  0 255]\n",
      "掩码已保存为: E:/Dataset/CBIS-DDSM/New_CBDDSM/roi/calc-training\\Calc-Training_P_00380_RIGHT_MLO_1_1-2.png\n"
     ]
    },
    {
     "name": "stderr",
     "output_type": "stream",
     "text": [
      "转换文件:  17%|█▋        | 262/1546 [00:40<02:47,  7.66it/s]"
     ]
    },
    {
     "name": "stdout",
     "output_type": "stream",
     "text": [
      "掩码中的唯一值: [  0 255]\n",
      "掩码已保存为: E:/Dataset/CBIS-DDSM/New_CBDDSM/roi/calc-training\\Calc-Training_P_00385_LEFT_CC_1_1-2.png\n",
      "掩码中的唯一值: [  0 255]\n",
      "掩码已保存为: E:/Dataset/CBIS-DDSM/New_CBDDSM/roi/calc-training\\Calc-Training_P_00385_LEFT_CC_2_1-2.png\n"
     ]
    },
    {
     "name": "stderr",
     "output_type": "stream",
     "text": [
      "转换文件:  17%|█▋        | 264/1546 [00:40<02:45,  7.76it/s]"
     ]
    },
    {
     "name": "stdout",
     "output_type": "stream",
     "text": [
      "掩码中的唯一值: [  0 255]\n",
      "掩码已保存为: E:/Dataset/CBIS-DDSM/New_CBDDSM/roi/calc-training\\Calc-Training_P_00385_LEFT_CC_3_1-2.png\n",
      "掩码中的唯一值: [  0 255]\n",
      "掩码已保存为: E:/Dataset/CBIS-DDSM/New_CBDDSM/roi/calc-training\\Calc-Training_P_00385_LEFT_CC_4_1-2.png\n"
     ]
    },
    {
     "name": "stderr",
     "output_type": "stream",
     "text": [
      "转换文件:  17%|█▋        | 266/1546 [00:40<02:50,  7.49it/s]"
     ]
    },
    {
     "name": "stdout",
     "output_type": "stream",
     "text": [
      "掩码中的唯一值: [  0 255]\n",
      "掩码已保存为: E:/Dataset/CBIS-DDSM/New_CBDDSM/roi/calc-training\\Calc-Training_P_00385_LEFT_MLO_1_1-2.png\n",
      "掩码中的唯一值: [  0 255]\n",
      "掩码已保存为: E:/Dataset/CBIS-DDSM/New_CBDDSM/roi/calc-training\\Calc-Training_P_00385_LEFT_MLO_2_1-2.png\n"
     ]
    },
    {
     "name": "stderr",
     "output_type": "stream",
     "text": [
      "转换文件:  17%|█▋        | 268/1546 [00:41<02:43,  7.80it/s]"
     ]
    },
    {
     "name": "stdout",
     "output_type": "stream",
     "text": [
      "掩码中的唯一值: [  0 255]\n",
      "掩码已保存为: E:/Dataset/CBIS-DDSM/New_CBDDSM/roi/calc-training\\Calc-Training_P_00385_LEFT_MLO_3_1-2.png\n",
      "掩码中的唯一值: [  0 255]\n",
      "掩码已保存为: E:/Dataset/CBIS-DDSM/New_CBDDSM/roi/calc-training\\Calc-Training_P_00385_LEFT_MLO_4_1-2.png\n"
     ]
    },
    {
     "name": "stderr",
     "output_type": "stream",
     "text": [
      "转换文件:  17%|█▋        | 270/1546 [00:41<02:52,  7.40it/s]"
     ]
    },
    {
     "name": "stdout",
     "output_type": "stream",
     "text": [
      "掩码中的唯一值: [  0 255]\n",
      "掩码已保存为: E:/Dataset/CBIS-DDSM/New_CBDDSM/roi/calc-training\\Calc-Training_P_00385_RIGHT_CC_2_1-2.png\n",
      "掩码中的唯一值: [  0 255]\n",
      "掩码已保存为: E:/Dataset/CBIS-DDSM/New_CBDDSM/roi/calc-training\\Calc-Training_P_00385_RIGHT_CC_3_1-2.png\n"
     ]
    },
    {
     "name": "stderr",
     "output_type": "stream",
     "text": [
      "转换文件:  18%|█▊        | 272/1546 [00:41<02:41,  7.91it/s]"
     ]
    },
    {
     "name": "stdout",
     "output_type": "stream",
     "text": [
      "掩码中的唯一值: [  0 255]\n",
      "掩码已保存为: E:/Dataset/CBIS-DDSM/New_CBDDSM/roi/calc-training\\Calc-Training_P_00385_RIGHT_MLO_2_1-2.png\n",
      "掩码中的唯一值: [  0 255]\n",
      "掩码已保存为: E:/Dataset/CBIS-DDSM/New_CBDDSM/roi/calc-training\\Calc-Training_P_00385_RIGHT_MLO_3_1-2.png\n"
     ]
    },
    {
     "name": "stderr",
     "output_type": "stream",
     "text": [
      "转换文件:  18%|█▊        | 274/1546 [00:41<02:46,  7.62it/s]"
     ]
    },
    {
     "name": "stdout",
     "output_type": "stream",
     "text": [
      "掩码中的唯一值: [  0 255]\n",
      "掩码已保存为: E:/Dataset/CBIS-DDSM/New_CBDDSM/roi/calc-training\\Calc-Training_P_00392_LEFT_CC_1_1-2.png\n",
      "掩码中的唯一值: [  0 255]\n",
      "掩码已保存为: E:/Dataset/CBIS-DDSM/New_CBDDSM/roi/calc-training\\Calc-Training_P_00392_LEFT_MLO_1_1-2.png\n"
     ]
    },
    {
     "name": "stderr",
     "output_type": "stream",
     "text": [
      "转换文件:  18%|█▊        | 276/1546 [00:42<02:47,  7.56it/s]"
     ]
    },
    {
     "name": "stdout",
     "output_type": "stream",
     "text": [
      "掩码中的唯一值: [  0 255]\n",
      "掩码已保存为: E:/Dataset/CBIS-DDSM/New_CBDDSM/roi/calc-training\\Calc-Training_P_00393_LEFT_MLO_1_1-2.png\n",
      "掩码中的唯一值: [  0 255]\n",
      "掩码已保存为: E:/Dataset/CBIS-DDSM/New_CBDDSM/roi/calc-training\\Calc-Training_P_00394_LEFT_MLO_1_1-2.png\n"
     ]
    },
    {
     "name": "stderr",
     "output_type": "stream",
     "text": [
      "转换文件:  18%|█▊        | 277/1546 [00:42<02:47,  7.58it/s]"
     ]
    },
    {
     "name": "stdout",
     "output_type": "stream",
     "text": [
      "掩码中的唯一值: [  0 255]\n",
      "掩码已保存为: E:/Dataset/CBIS-DDSM/New_CBDDSM/roi/calc-training\\Calc-Training_P_00394_LEFT_MLO_2_1-2.png\n"
     ]
    },
    {
     "name": "stderr",
     "output_type": "stream",
     "text": [
      "转换文件:  18%|█▊        | 279/1546 [00:42<03:38,  5.80it/s]"
     ]
    },
    {
     "name": "stdout",
     "output_type": "stream",
     "text": [
      "掩码中的唯一值: [  0 255]\n",
      "掩码已保存为: E:/Dataset/CBIS-DDSM/New_CBDDSM/roi/calc-training\\Calc-Training_P_00395_RIGHT_CC_1_1-2.png\n",
      "掩码中的唯一值: [  0 255]\n",
      "掩码已保存为: E:/Dataset/CBIS-DDSM/New_CBDDSM/roi/calc-training\\Calc-Training_P_00395_RIGHT_CC_2_1-2.png\n"
     ]
    },
    {
     "name": "stderr",
     "output_type": "stream",
     "text": [
      "转换文件:  18%|█▊        | 280/1546 [00:42<03:52,  5.44it/s]"
     ]
    },
    {
     "name": "stdout",
     "output_type": "stream",
     "text": [
      "掩码中的唯一值: [  0 255]\n",
      "掩码已保存为: E:/Dataset/CBIS-DDSM/New_CBDDSM/roi/calc-training\\Calc-Training_P_00395_RIGHT_CC_3_1-2.png\n"
     ]
    },
    {
     "name": "stderr",
     "output_type": "stream",
     "text": [
      "转换文件:  18%|█▊        | 282/1546 [00:43<04:17,  4.91it/s]"
     ]
    },
    {
     "name": "stdout",
     "output_type": "stream",
     "text": [
      "掩码中的唯一值: [  0 255]\n",
      "掩码已保存为: E:/Dataset/CBIS-DDSM/New_CBDDSM/roi/calc-training\\Calc-Training_P_00395_RIGHT_MLO_1_1-2.png\n",
      "掩码中的唯一值: [  0 255]\n",
      "掩码已保存为: E:/Dataset/CBIS-DDSM/New_CBDDSM/roi/calc-training\\Calc-Training_P_00395_RIGHT_MLO_2_1-2.png\n"
     ]
    },
    {
     "name": "stderr",
     "output_type": "stream",
     "text": [
      "转换文件:  18%|█▊        | 284/1546 [00:43<04:04,  5.15it/s]"
     ]
    },
    {
     "name": "stdout",
     "output_type": "stream",
     "text": [
      "掩码中的唯一值: [  0 255]\n",
      "掩码已保存为: E:/Dataset/CBIS-DDSM/New_CBDDSM/roi/calc-training\\Calc-Training_P_00395_RIGHT_MLO_3_1-2.png\n",
      "掩码中的唯一值: [  0 255]\n",
      "掩码已保存为: E:/Dataset/CBIS-DDSM/New_CBDDSM/roi/calc-training\\Calc-Training_P_00398_LEFT_CC_1_1-2.png\n"
     ]
    },
    {
     "name": "stderr",
     "output_type": "stream",
     "text": [
      "转换文件:  18%|█▊        | 286/1546 [00:44<03:22,  6.22it/s]"
     ]
    },
    {
     "name": "stdout",
     "output_type": "stream",
     "text": [
      "掩码中的唯一值: [  0 255]\n",
      "掩码已保存为: E:/Dataset/CBIS-DDSM/New_CBDDSM/roi/calc-training\\Calc-Training_P_00398_LEFT_MLO_1_1-2.png\n",
      "掩码中的唯一值: [  0 255]\n",
      "掩码已保存为: E:/Dataset/CBIS-DDSM/New_CBDDSM/roi/calc-training\\Calc-Training_P_00400_RIGHT_CC_1_1-2.png\n"
     ]
    },
    {
     "name": "stderr",
     "output_type": "stream",
     "text": [
      "转换文件:  19%|█▊        | 287/1546 [00:44<03:11,  6.58it/s]"
     ]
    },
    {
     "name": "stdout",
     "output_type": "stream",
     "text": [
      "掩码中的唯一值: [  0 255]\n",
      "掩码已保存为: E:/Dataset/CBIS-DDSM/New_CBDDSM/roi/calc-training\\Calc-Training_P_00400_RIGHT_MLO_1_1-2.png\n"
     ]
    },
    {
     "name": "stderr",
     "output_type": "stream",
     "text": [
      "转换文件:  19%|█▊        | 289/1546 [00:44<03:41,  5.66it/s]"
     ]
    },
    {
     "name": "stdout",
     "output_type": "stream",
     "text": [
      "掩码中的唯一值: [  0 255]\n",
      "掩码已保存为: E:/Dataset/CBIS-DDSM/New_CBDDSM/roi/calc-training\\Calc-Training_P_00404_RIGHT_MLO_1_1-2.png\n",
      "掩码中的唯一值: [  0 255]\n",
      "掩码已保存为: E:/Dataset/CBIS-DDSM/New_CBDDSM/roi/calc-training\\Calc-Training_P_00410_RIGHT_CC_1_1-2.png\n"
     ]
    },
    {
     "name": "stderr",
     "output_type": "stream",
     "text": [
      "转换文件:  19%|█▉        | 291/1546 [00:44<03:39,  5.71it/s]"
     ]
    },
    {
     "name": "stdout",
     "output_type": "stream",
     "text": [
      "掩码中的唯一值: [  0 255]\n",
      "掩码已保存为: E:/Dataset/CBIS-DDSM/New_CBDDSM/roi/calc-training\\Calc-Training_P_00410_RIGHT_MLO_1_1-2.png\n",
      "掩码中的唯一值: [  0 255]\n",
      "掩码已保存为: E:/Dataset/CBIS-DDSM/New_CBDDSM/roi/calc-training\\Calc-Training_P_00418_LEFT_CC_1_1-2.png\n"
     ]
    },
    {
     "name": "stderr",
     "output_type": "stream",
     "text": [
      "转换文件:  19%|█▉        | 293/1546 [00:45<03:13,  6.46it/s]"
     ]
    },
    {
     "name": "stdout",
     "output_type": "stream",
     "text": [
      "掩码中的唯一值: [  0 255]\n",
      "掩码已保存为: E:/Dataset/CBIS-DDSM/New_CBDDSM/roi/calc-training\\Calc-Training_P_00418_LEFT_MLO_1_1-2.png\n",
      "掩码中的唯一值: [  0 255]\n",
      "掩码已保存为: E:/Dataset/CBIS-DDSM/New_CBDDSM/roi/calc-training\\Calc-Training_P_00418_RIGHT_CC_1_1-2.png\n"
     ]
    },
    {
     "name": "stderr",
     "output_type": "stream",
     "text": [
      "转换文件:  19%|█▉        | 295/1546 [00:45<03:04,  6.77it/s]"
     ]
    },
    {
     "name": "stdout",
     "output_type": "stream",
     "text": [
      "掩码中的唯一值: [  0 255]\n",
      "掩码已保存为: E:/Dataset/CBIS-DDSM/New_CBDDSM/roi/calc-training\\Calc-Training_P_00418_RIGHT_MLO_1_1-2.png\n",
      "掩码中的唯一值: [  0 255]\n",
      "掩码已保存为: E:/Dataset/CBIS-DDSM/New_CBDDSM/roi/calc-training\\Calc-Training_P_00422_LEFT_CC_1_1-2.png\n"
     ]
    },
    {
     "name": "stderr",
     "output_type": "stream",
     "text": [
      "转换文件:  19%|█▉        | 296/1546 [00:45<02:56,  7.07it/s]"
     ]
    },
    {
     "name": "stdout",
     "output_type": "stream",
     "text": [
      "掩码中的唯一值: [  0 255]\n",
      "掩码已保存为: E:/Dataset/CBIS-DDSM/New_CBDDSM/roi/calc-training\\Calc-Training_P_00422_LEFT_MLO_1_1-2.png\n"
     ]
    },
    {
     "name": "stderr",
     "output_type": "stream",
     "text": [
      "转换文件:  19%|█▉        | 297/1546 [00:45<03:27,  6.01it/s]"
     ]
    },
    {
     "name": "stdout",
     "output_type": "stream",
     "text": [
      "掩码中的唯一值: [  0 255]\n",
      "掩码已保存为: E:/Dataset/CBIS-DDSM/New_CBDDSM/roi/calc-training\\Calc-Training_P_00425_RIGHT_CC_1_1-2.png\n"
     ]
    },
    {
     "name": "stderr",
     "output_type": "stream",
     "text": [
      "转换文件:  19%|█▉        | 299/1546 [00:46<04:03,  5.12it/s]"
     ]
    },
    {
     "name": "stdout",
     "output_type": "stream",
     "text": [
      "掩码中的唯一值: [  0 255]\n",
      "掩码已保存为: E:/Dataset/CBIS-DDSM/New_CBDDSM/roi/calc-training\\Calc-Training_P_00425_RIGHT_MLO_1_1-2.png\n",
      "掩码中的唯一值: [  0 255]\n",
      "掩码已保存为: E:/Dataset/CBIS-DDSM/New_CBDDSM/roi/calc-training\\Calc-Training_P_00432_RIGHT_CC_1_1-2.png\n"
     ]
    },
    {
     "name": "stderr",
     "output_type": "stream",
     "text": [
      "转换文件:  19%|█▉        | 300/1546 [00:46<04:05,  5.07it/s]"
     ]
    },
    {
     "name": "stdout",
     "output_type": "stream",
     "text": [
      "掩码中的唯一值: [  0 255]\n",
      "掩码已保存为: E:/Dataset/CBIS-DDSM/New_CBDDSM/roi/calc-training\\Calc-Training_P_00432_RIGHT_CC_2_1-2.png\n"
     ]
    },
    {
     "name": "stderr",
     "output_type": "stream",
     "text": [
      "转换文件:  19%|█▉        | 301/1546 [00:46<04:18,  4.81it/s]"
     ]
    },
    {
     "name": "stdout",
     "output_type": "stream",
     "text": [
      "掩码中的唯一值: [  0 255]\n",
      "掩码已保存为: E:/Dataset/CBIS-DDSM/New_CBDDSM/roi/calc-training\\Calc-Training_P_00432_RIGHT_MLO_1_1-2.png\n"
     ]
    },
    {
     "name": "stderr",
     "output_type": "stream",
     "text": [
      "转换文件:  20%|█▉        | 303/1546 [00:47<04:07,  5.01it/s]"
     ]
    },
    {
     "name": "stdout",
     "output_type": "stream",
     "text": [
      "掩码中的唯一值: [  0 255]\n",
      "掩码已保存为: E:/Dataset/CBIS-DDSM/New_CBDDSM/roi/calc-training\\Calc-Training_P_00432_RIGHT_MLO_2_1-2.png\n",
      "掩码中的唯一值: [  0 255]\n",
      "掩码已保存为: E:/Dataset/CBIS-DDSM/New_CBDDSM/roi/calc-training\\Calc-Training_P_00438_LEFT_CC_1_1-2.png\n"
     ]
    },
    {
     "name": "stderr",
     "output_type": "stream",
     "text": [
      "转换文件:  20%|█▉        | 305/1546 [00:47<03:42,  5.58it/s]"
     ]
    },
    {
     "name": "stdout",
     "output_type": "stream",
     "text": [
      "掩码中的唯一值: [  0 255]\n",
      "掩码已保存为: E:/Dataset/CBIS-DDSM/New_CBDDSM/roi/calc-training\\Calc-Training_P_00438_LEFT_MLO_1_1-2.png\n",
      "掩码中的唯一值: [  0 255]\n",
      "掩码已保存为: E:/Dataset/CBIS-DDSM/New_CBDDSM/roi/calc-training\\Calc-Training_P_00443_RIGHT_MLO_1_1-2.png\n"
     ]
    },
    {
     "name": "stderr",
     "output_type": "stream",
     "text": [
      "转换文件:  20%|█▉        | 306/1546 [00:47<04:17,  4.82it/s]"
     ]
    },
    {
     "name": "stdout",
     "output_type": "stream",
     "text": [
      "掩码中的唯一值: [  0 255]\n",
      "掩码已保存为: E:/Dataset/CBIS-DDSM/New_CBDDSM/roi/calc-training\\Calc-Training_P_00445_LEFT_MLO_1_1-2.png\n"
     ]
    },
    {
     "name": "stderr",
     "output_type": "stream",
     "text": [
      "转换文件:  20%|█▉        | 308/1546 [00:48<04:15,  4.85it/s]"
     ]
    },
    {
     "name": "stdout",
     "output_type": "stream",
     "text": [
      "掩码中的唯一值: [  0 255]\n",
      "掩码已保存为: E:/Dataset/CBIS-DDSM/New_CBDDSM/roi/calc-training\\Calc-Training_P_00447_RIGHT_CC_1_1-2.png\n",
      "掩码中的唯一值: [  0 255]\n",
      "掩码已保存为: E:/Dataset/CBIS-DDSM/New_CBDDSM/roi/calc-training\\Calc-Training_P_00447_RIGHT_MLO_1_1-2.png\n"
     ]
    },
    {
     "name": "stderr",
     "output_type": "stream",
     "text": [
      "转换文件:  20%|█▉        | 309/1546 [00:48<03:56,  5.23it/s]"
     ]
    },
    {
     "name": "stdout",
     "output_type": "stream",
     "text": [
      "掩码中的唯一值: [  0 255]\n",
      "掩码已保存为: E:/Dataset/CBIS-DDSM/New_CBDDSM/roi/calc-training\\Calc-Training_P_00448_LEFT_CC_1_1-2.png\n"
     ]
    },
    {
     "name": "stderr",
     "output_type": "stream",
     "text": [
      "转换文件:  20%|██        | 311/1546 [00:48<03:39,  5.63it/s]"
     ]
    },
    {
     "name": "stdout",
     "output_type": "stream",
     "text": [
      "掩码中的唯一值: [  0 255]\n",
      "掩码已保存为: E:/Dataset/CBIS-DDSM/New_CBDDSM/roi/calc-training\\Calc-Training_P_00448_LEFT_MLO_1_1-2.png\n",
      "掩码中的唯一值: [  0 255]\n",
      "掩码已保存为: E:/Dataset/CBIS-DDSM/New_CBDDSM/roi/calc-training\\Calc-Training_P_00452_LEFT_CC_1_1-2.png\n"
     ]
    },
    {
     "name": "stderr",
     "output_type": "stream",
     "text": [
      "转换文件:  20%|██        | 313/1546 [00:48<03:32,  5.79it/s]"
     ]
    },
    {
     "name": "stdout",
     "output_type": "stream",
     "text": [
      "掩码中的唯一值: [  0 255]\n",
      "掩码已保存为: E:/Dataset/CBIS-DDSM/New_CBDDSM/roi/calc-training\\Calc-Training_P_00452_LEFT_MLO_1_1-2.png\n",
      "掩码中的唯一值: [  0 255]\n",
      "掩码已保存为: E:/Dataset/CBIS-DDSM/New_CBDDSM/roi/calc-training\\Calc-Training_P_00452_LEFT_MLO_2_1-2.png\n"
     ]
    },
    {
     "name": "stderr",
     "output_type": "stream",
     "text": [
      "转换文件:  20%|██        | 315/1546 [00:49<03:09,  6.49it/s]"
     ]
    },
    {
     "name": "stdout",
     "output_type": "stream",
     "text": [
      "掩码中的唯一值: [  0 255]\n",
      "掩码已保存为: E:/Dataset/CBIS-DDSM/New_CBDDSM/roi/calc-training\\Calc-Training_P_00452_RIGHT_CC_1_1-2.png\n",
      "掩码中的唯一值: [  0 255]\n",
      "掩码已保存为: E:/Dataset/CBIS-DDSM/New_CBDDSM/roi/calc-training\\Calc-Training_P_00452_RIGHT_CC_2_1-2.png\n"
     ]
    },
    {
     "name": "stderr",
     "output_type": "stream",
     "text": [
      "转换文件:  21%|██        | 317/1546 [00:49<03:05,  6.61it/s]"
     ]
    },
    {
     "name": "stdout",
     "output_type": "stream",
     "text": [
      "掩码中的唯一值: [  0 255]\n",
      "掩码已保存为: E:/Dataset/CBIS-DDSM/New_CBDDSM/roi/calc-training\\Calc-Training_P_00452_RIGHT_MLO_1_1-2.png\n",
      "掩码中的唯一值: [  0 255]\n",
      "掩码已保存为: E:/Dataset/CBIS-DDSM/New_CBDDSM/roi/calc-training\\Calc-Training_P_00452_RIGHT_MLO_2_1-2.png\n"
     ]
    },
    {
     "name": "stderr",
     "output_type": "stream",
     "text": [
      "转换文件:  21%|██        | 318/1546 [00:49<03:00,  6.79it/s]"
     ]
    },
    {
     "name": "stdout",
     "output_type": "stream",
     "text": [
      "掩码中的唯一值: [  0 255]\n",
      "掩码已保存为: E:/Dataset/CBIS-DDSM/New_CBDDSM/roi/calc-training\\Calc-Training_P_00452_RIGHT_MLO_3_1-2.png\n"
     ]
    },
    {
     "name": "stderr",
     "output_type": "stream",
     "text": [
      "转换文件:  21%|██        | 319/1546 [00:49<03:28,  5.88it/s]"
     ]
    },
    {
     "name": "stdout",
     "output_type": "stream",
     "text": [
      "掩码中的唯一值: [  0 255]\n",
      "掩码已保存为: E:/Dataset/CBIS-DDSM/New_CBDDSM/roi/calc-training\\Calc-Training_P_00455_LEFT_CC_1_1-2.png\n"
     ]
    },
    {
     "name": "stderr",
     "output_type": "stream",
     "text": [
      "转换文件:  21%|██        | 320/1546 [00:50<03:59,  5.12it/s]"
     ]
    },
    {
     "name": "stdout",
     "output_type": "stream",
     "text": [
      "掩码中的唯一值: [  0 255]\n",
      "掩码已保存为: E:/Dataset/CBIS-DDSM/New_CBDDSM/roi/calc-training\\Calc-Training_P_00455_LEFT_CC_2_1-2.png\n",
      "掩码中的唯一值: [  0 255]\n"
     ]
    },
    {
     "name": "stderr",
     "output_type": "stream",
     "text": [
      "转换文件:  21%|██        | 321/1546 [00:50<04:05,  4.99it/s]"
     ]
    },
    {
     "name": "stdout",
     "output_type": "stream",
     "text": [
      "掩码已保存为: E:/Dataset/CBIS-DDSM/New_CBDDSM/roi/calc-training\\Calc-Training_P_00455_LEFT_CC_3_1-2.png\n"
     ]
    },
    {
     "name": "stderr",
     "output_type": "stream",
     "text": [
      "转换文件:  21%|██        | 323/1546 [00:50<04:21,  4.67it/s]"
     ]
    },
    {
     "name": "stdout",
     "output_type": "stream",
     "text": [
      "掩码中的唯一值: [  0 255]\n",
      "掩码已保存为: E:/Dataset/CBIS-DDSM/New_CBDDSM/roi/calc-training\\Calc-Training_P_00455_LEFT_CC_4_1-2.png\n",
      "掩码中的唯一值: [  0 255]\n",
      "掩码已保存为: E:/Dataset/CBIS-DDSM/New_CBDDSM/roi/calc-training\\Calc-Training_P_00455_LEFT_MLO_1_1-2.png\n"
     ]
    },
    {
     "name": "stderr",
     "output_type": "stream",
     "text": [
      "转换文件:  21%|██        | 324/1546 [00:50<04:23,  4.64it/s]"
     ]
    },
    {
     "name": "stdout",
     "output_type": "stream",
     "text": [
      "掩码中的唯一值: [  0 255]\n",
      "掩码已保存为: E:/Dataset/CBIS-DDSM/New_CBDDSM/roi/calc-training\\Calc-Training_P_00455_LEFT_MLO_2_1-2.png\n"
     ]
    },
    {
     "name": "stderr",
     "output_type": "stream",
     "text": [
      "转换文件:  21%|██        | 326/1546 [00:51<04:25,  4.60it/s]"
     ]
    },
    {
     "name": "stdout",
     "output_type": "stream",
     "text": [
      "掩码中的唯一值: [  0 255]\n",
      "掩码已保存为: E:/Dataset/CBIS-DDSM/New_CBDDSM/roi/calc-training\\Calc-Training_P_00455_LEFT_MLO_3_1-2.png\n",
      "掩码中的唯一值: [  0 255]\n",
      "掩码已保存为: E:/Dataset/CBIS-DDSM/New_CBDDSM/roi/calc-training\\Calc-Training_P_00455_LEFT_MLO_4_1-2.png\n"
     ]
    },
    {
     "name": "stderr",
     "output_type": "stream",
     "text": [
      "转换文件:  21%|██        | 328/1546 [00:51<03:44,  5.43it/s]"
     ]
    },
    {
     "name": "stdout",
     "output_type": "stream",
     "text": [
      "掩码中的唯一值: [  0 255]\n",
      "掩码已保存为: E:/Dataset/CBIS-DDSM/New_CBDDSM/roi/calc-training\\Calc-Training_P_00456_RIGHT_CC_1_1-2.png\n",
      "掩码中的唯一值: [  0 255]\n",
      "掩码已保存为: E:/Dataset/CBIS-DDSM/New_CBDDSM/roi/calc-training\\Calc-Training_P_00456_RIGHT_MLO_1_1-2.png\n"
     ]
    },
    {
     "name": "stderr",
     "output_type": "stream",
     "text": [
      "转换文件:  21%|██▏       | 330/1546 [00:52<03:56,  5.13it/s]"
     ]
    },
    {
     "name": "stdout",
     "output_type": "stream",
     "text": [
      "掩码中的唯一值: [  0 255]\n",
      "掩码已保存为: E:/Dataset/CBIS-DDSM/New_CBDDSM/roi/calc-training\\Calc-Training_P_00458_LEFT_CC_1_1-2.png\n",
      "掩码中的唯一值: [  0 255]\n",
      "掩码已保存为: E:/Dataset/CBIS-DDSM/New_CBDDSM/roi/calc-training\\Calc-Training_P_00467_LEFT_CC_1_1-2.png\n"
     ]
    },
    {
     "name": "stderr",
     "output_type": "stream",
     "text": [
      "转换文件:  21%|██▏       | 332/1546 [00:52<03:25,  5.90it/s]"
     ]
    },
    {
     "name": "stdout",
     "output_type": "stream",
     "text": [
      "掩码中的唯一值: [  0 255]\n",
      "掩码已保存为: E:/Dataset/CBIS-DDSM/New_CBDDSM/roi/calc-training\\Calc-Training_P_00467_LEFT_MLO_1_1-2.png\n",
      "掩码中的唯一值: [  0 255]\n",
      "掩码已保存为: E:/Dataset/CBIS-DDSM/New_CBDDSM/roi/calc-training\\Calc-Training_P_00467_RIGHT_CC_1_1-2.png\n"
     ]
    },
    {
     "name": "stderr",
     "output_type": "stream",
     "text": [
      "转换文件:  22%|██▏       | 334/1546 [00:52<03:25,  5.89it/s]"
     ]
    },
    {
     "name": "stdout",
     "output_type": "stream",
     "text": [
      "掩码中的唯一值: [  0 255]\n",
      "掩码已保存为: E:/Dataset/CBIS-DDSM/New_CBDDSM/roi/calc-training\\Calc-Training_P_00467_RIGHT_MLO_1_1-2.png\n",
      "掩码中的唯一值: [  0 255]\n",
      "掩码已保存为: E:/Dataset/CBIS-DDSM/New_CBDDSM/roi/calc-training\\Calc-Training_P_00469_LEFT_CC_1_1-2.png\n"
     ]
    },
    {
     "name": "stderr",
     "output_type": "stream",
     "text": [
      "转换文件:  22%|██▏       | 336/1546 [00:53<03:28,  5.80it/s]"
     ]
    },
    {
     "name": "stdout",
     "output_type": "stream",
     "text": [
      "掩码中的唯一值: [  0 255]\n",
      "掩码已保存为: E:/Dataset/CBIS-DDSM/New_CBDDSM/roi/calc-training\\Calc-Training_P_00469_LEFT_MLO_1_1-2.png\n",
      "掩码中的唯一值: [  0 255]\n",
      "掩码已保存为: E:/Dataset/CBIS-DDSM/New_CBDDSM/roi/calc-training\\Calc-Training_P_00471_LEFT_CC_1_1-2.png\n"
     ]
    },
    {
     "name": "stderr",
     "output_type": "stream",
     "text": [
      "转换文件:  22%|██▏       | 338/1546 [00:53<03:01,  6.65it/s]"
     ]
    },
    {
     "name": "stdout",
     "output_type": "stream",
     "text": [
      "掩码中的唯一值: [  0 255]\n",
      "掩码已保存为: E:/Dataset/CBIS-DDSM/New_CBDDSM/roi/calc-training\\Calc-Training_P_00471_LEFT_CC_2_1-2.png\n",
      "掩码中的唯一值: [  0 255]\n",
      "掩码已保存为: E:/Dataset/CBIS-DDSM/New_CBDDSM/roi/calc-training\\Calc-Training_P_00471_LEFT_CC_3_1-2.png\n"
     ]
    },
    {
     "name": "stderr",
     "output_type": "stream",
     "text": [
      "转换文件:  22%|██▏       | 340/1546 [00:53<03:05,  6.49it/s]"
     ]
    },
    {
     "name": "stdout",
     "output_type": "stream",
     "text": [
      "掩码中的唯一值: [  0 255]\n",
      "掩码已保存为: E:/Dataset/CBIS-DDSM/New_CBDDSM/roi/calc-training\\Calc-Training_P_00471_LEFT_MLO_1_1-2.png\n",
      "掩码中的唯一值: [  0 255]\n",
      "掩码已保存为: E:/Dataset/CBIS-DDSM/New_CBDDSM/roi/calc-training\\Calc-Training_P_00471_LEFT_MLO_2_1-2.png\n"
     ]
    },
    {
     "name": "stderr",
     "output_type": "stream",
     "text": [
      "转换文件:  22%|██▏       | 342/1546 [00:53<02:48,  7.15it/s]"
     ]
    },
    {
     "name": "stdout",
     "output_type": "stream",
     "text": [
      "掩码中的唯一值: [  0 255]\n",
      "掩码已保存为: E:/Dataset/CBIS-DDSM/New_CBDDSM/roi/calc-training\\Calc-Training_P_00471_LEFT_MLO_3_1-2.png\n",
      "掩码中的唯一值: [  0 255]\n",
      "掩码已保存为: E:/Dataset/CBIS-DDSM/New_CBDDSM/roi/calc-training\\Calc-Training_P_00473_LEFT_CC_1_1-2.png\n"
     ]
    },
    {
     "name": "stderr",
     "output_type": "stream",
     "text": [
      "转换文件:  22%|██▏       | 344/1546 [00:54<02:54,  6.89it/s]"
     ]
    },
    {
     "name": "stdout",
     "output_type": "stream",
     "text": [
      "掩码中的唯一值: [  0 255]\n",
      "掩码已保存为: E:/Dataset/CBIS-DDSM/New_CBDDSM/roi/calc-training\\Calc-Training_P_00473_LEFT_MLO_1_1-2.png\n",
      "掩码中的唯一值: [  0 255]\n",
      "掩码已保存为: E:/Dataset/CBIS-DDSM/New_CBDDSM/roi/calc-training\\Calc-Training_P_00474_LEFT_CC_1_1-2.png\n"
     ]
    },
    {
     "name": "stderr",
     "output_type": "stream",
     "text": [
      "转换文件:  22%|██▏       | 346/1546 [00:54<03:16,  6.09it/s]"
     ]
    },
    {
     "name": "stdout",
     "output_type": "stream",
     "text": [
      "掩码中的唯一值: [  0 255]\n",
      "掩码已保存为: E:/Dataset/CBIS-DDSM/New_CBDDSM/roi/calc-training\\Calc-Training_P_00474_LEFT_MLO_1_1-1.png\n",
      "掩码中的唯一值: [  0 255]\n",
      "掩码已保存为: E:/Dataset/CBIS-DDSM/New_CBDDSM/roi/calc-training\\Calc-Training_P_00476_LEFT_CC_1_1-2.png\n"
     ]
    },
    {
     "name": "stderr",
     "output_type": "stream",
     "text": [
      "转换文件:  22%|██▏       | 347/1546 [00:54<03:28,  5.74it/s]"
     ]
    },
    {
     "name": "stdout",
     "output_type": "stream",
     "text": [
      "掩码中的唯一值: [  0 255]\n",
      "掩码已保存为: E:/Dataset/CBIS-DDSM/New_CBDDSM/roi/calc-training\\Calc-Training_P_00476_LEFT_MLO_1_1-2.png\n"
     ]
    },
    {
     "name": "stderr",
     "output_type": "stream",
     "text": [
      "转换文件:  23%|██▎       | 349/1546 [00:55<03:56,  5.06it/s]"
     ]
    },
    {
     "name": "stdout",
     "output_type": "stream",
     "text": [
      "掩码中的唯一值: [  0 255]\n",
      "掩码已保存为: E:/Dataset/CBIS-DDSM/New_CBDDSM/roi/calc-training\\Calc-Training_P_00476_RIGHT_CC_1_1-2.png\n",
      "掩码中的唯一值: [  0 255]\n",
      "掩码已保存为: E:/Dataset/CBIS-DDSM/New_CBDDSM/roi/calc-training\\Calc-Training_P_00476_RIGHT_CC_2_1-2.png\n"
     ]
    },
    {
     "name": "stderr",
     "output_type": "stream",
     "text": [
      "转换文件:  23%|██▎       | 350/1546 [00:55<04:02,  4.94it/s]"
     ]
    },
    {
     "name": "stdout",
     "output_type": "stream",
     "text": [
      "掩码中的唯一值: [  0 255]\n",
      "掩码已保存为: E:/Dataset/CBIS-DDSM/New_CBDDSM/roi/calc-training\\Calc-Training_P_00476_RIGHT_CC_3_1-2.png\n"
     ]
    },
    {
     "name": "stderr",
     "output_type": "stream",
     "text": [
      "转换文件:  23%|██▎       | 351/1546 [00:55<04:16,  4.66it/s]"
     ]
    },
    {
     "name": "stdout",
     "output_type": "stream",
     "text": [
      "掩码中的唯一值: [  0 255]\n",
      "掩码已保存为: E:/Dataset/CBIS-DDSM/New_CBDDSM/roi/calc-training\\Calc-Training_P_00476_RIGHT_MLO_1_1-2.png\n"
     ]
    },
    {
     "name": "stderr",
     "output_type": "stream",
     "text": [
      "转换文件:  23%|██▎       | 352/1546 [00:55<04:21,  4.57it/s]"
     ]
    },
    {
     "name": "stdout",
     "output_type": "stream",
     "text": [
      "掩码中的唯一值: [  0 255]\n",
      "掩码已保存为: E:/Dataset/CBIS-DDSM/New_CBDDSM/roi/calc-training\\Calc-Training_P_00476_RIGHT_MLO_2_1-2.png\n"
     ]
    },
    {
     "name": "stderr",
     "output_type": "stream",
     "text": [
      "转换文件:  23%|██▎       | 354/1546 [00:56<03:58,  4.99it/s]"
     ]
    },
    {
     "name": "stdout",
     "output_type": "stream",
     "text": [
      "掩码中的唯一值: [  0 255]\n",
      "掩码已保存为: E:/Dataset/CBIS-DDSM/New_CBDDSM/roi/calc-training\\Calc-Training_P_00476_RIGHT_MLO_3_1-2.png\n",
      "掩码中的唯一值: [  0 255]\n",
      "掩码已保存为: E:/Dataset/CBIS-DDSM/New_CBDDSM/roi/calc-training\\Calc-Training_P_00479_LEFT_CC_1_1-2.png\n"
     ]
    },
    {
     "name": "stderr",
     "output_type": "stream",
     "text": [
      "转换文件:  23%|██▎       | 356/1546 [00:56<03:23,  5.83it/s]"
     ]
    },
    {
     "name": "stdout",
     "output_type": "stream",
     "text": [
      "掩码中的唯一值: [  0 255]\n",
      "掩码已保存为: E:/Dataset/CBIS-DDSM/New_CBDDSM/roi/calc-training\\Calc-Training_P_00479_LEFT_MLO_1_1-2.png\n",
      "掩码中的唯一值: [  0 255]\n",
      "掩码已保存为: E:/Dataset/CBIS-DDSM/New_CBDDSM/roi/calc-training\\Calc-Training_P_00480_LEFT_CC_1_1-2.png\n"
     ]
    },
    {
     "name": "stderr",
     "output_type": "stream",
     "text": [
      "转换文件:  23%|██▎       | 358/1546 [00:56<03:01,  6.54it/s]"
     ]
    },
    {
     "name": "stdout",
     "output_type": "stream",
     "text": [
      "掩码中的唯一值: [  0 255]\n",
      "掩码已保存为: E:/Dataset/CBIS-DDSM/New_CBDDSM/roi/calc-training\\Calc-Training_P_00480_LEFT_MLO_1_1-2.png\n",
      "掩码中的唯一值: [  0 255]\n",
      "掩码已保存为: E:/Dataset/CBIS-DDSM/New_CBDDSM/roi/calc-training\\Calc-Training_P_00480_RIGHT_CC_1_1-2.png\n"
     ]
    },
    {
     "name": "stderr",
     "output_type": "stream",
     "text": [
      "转换文件:  23%|██▎       | 360/1546 [00:57<03:05,  6.41it/s]"
     ]
    },
    {
     "name": "stdout",
     "output_type": "stream",
     "text": [
      "掩码中的唯一值: [  0 255]\n",
      "掩码已保存为: E:/Dataset/CBIS-DDSM/New_CBDDSM/roi/calc-training\\Calc-Training_P_00480_RIGHT_CC_2_1-2.png\n",
      "掩码中的唯一值: [  0 255]\n",
      "掩码已保存为: E:/Dataset/CBIS-DDSM/New_CBDDSM/roi/calc-training\\Calc-Training_P_00480_RIGHT_CC_3_1-2.png\n"
     ]
    },
    {
     "name": "stderr",
     "output_type": "stream",
     "text": [
      "转换文件:  23%|██▎       | 362/1546 [00:57<03:00,  6.55it/s]"
     ]
    },
    {
     "name": "stdout",
     "output_type": "stream",
     "text": [
      "掩码中的唯一值: [  0 255]\n",
      "掩码已保存为: E:/Dataset/CBIS-DDSM/New_CBDDSM/roi/calc-training\\Calc-Training_P_00480_RIGHT_MLO_1_1-2.png\n",
      "掩码中的唯一值: [  0 255]\n",
      "掩码已保存为: E:/Dataset/CBIS-DDSM/New_CBDDSM/roi/calc-training\\Calc-Training_P_00484_LEFT_CC_1_1-2.png\n"
     ]
    },
    {
     "name": "stderr",
     "output_type": "stream",
     "text": [
      "转换文件:  23%|██▎       | 363/1546 [00:57<03:07,  6.31it/s]"
     ]
    },
    {
     "name": "stdout",
     "output_type": "stream",
     "text": [
      "掩码中的唯一值: [  0 255]\n",
      "掩码已保存为: E:/Dataset/CBIS-DDSM/New_CBDDSM/roi/calc-training\\Calc-Training_P_00484_LEFT_MLO_1_1-2.png\n"
     ]
    },
    {
     "name": "stderr",
     "output_type": "stream",
     "text": [
      "转换文件:  24%|██▎       | 365/1546 [00:58<03:38,  5.40it/s]"
     ]
    },
    {
     "name": "stdout",
     "output_type": "stream",
     "text": [
      "掩码中的唯一值: [  0 255]\n",
      "掩码已保存为: E:/Dataset/CBIS-DDSM/New_CBDDSM/roi/calc-training\\Calc-Training_P_00486_RIGHT_CC_1_1-2.png\n",
      "掩码中的唯一值: [  0 255]\n",
      "掩码已保存为: E:/Dataset/CBIS-DDSM/New_CBDDSM/roi/calc-training\\Calc-Training_P_00486_RIGHT_MLO_1_1-2.png\n"
     ]
    },
    {
     "name": "stderr",
     "output_type": "stream",
     "text": [
      "转换文件:  24%|██▎       | 366/1546 [00:58<03:25,  5.73it/s]"
     ]
    },
    {
     "name": "stdout",
     "output_type": "stream",
     "text": [
      "掩码中的唯一值: [  0 255]\n",
      "掩码已保存为: E:/Dataset/CBIS-DDSM/New_CBDDSM/roi/calc-training\\Calc-Training_P_00491_LEFT_MLO_1_1-2.png\n"
     ]
    },
    {
     "name": "stderr",
     "output_type": "stream",
     "text": [
      "转换文件:  24%|██▎       | 367/1546 [00:58<03:58,  4.95it/s]"
     ]
    },
    {
     "name": "stdout",
     "output_type": "stream",
     "text": [
      "掩码中的唯一值: [  0 255]\n",
      "掩码已保存为: E:/Dataset/CBIS-DDSM/New_CBDDSM/roi/calc-training\\Calc-Training_P_00502_LEFT_CC_1_1-2.png\n"
     ]
    },
    {
     "name": "stderr",
     "output_type": "stream",
     "text": [
      "转换文件:  24%|██▍       | 369/1546 [00:58<03:47,  5.18it/s]"
     ]
    },
    {
     "name": "stdout",
     "output_type": "stream",
     "text": [
      "掩码中的唯一值: [  0 255]\n",
      "掩码已保存为: E:/Dataset/CBIS-DDSM/New_CBDDSM/roi/calc-training\\Calc-Training_P_00502_LEFT_MLO_1_1-2.png\n",
      "掩码中的唯一值: [  0 255]\n",
      "掩码已保存为: E:/Dataset/CBIS-DDSM/New_CBDDSM/roi/calc-training\\Calc-Training_P_00503_RIGHT_CC_1_1-2.png\n"
     ]
    },
    {
     "name": "stderr",
     "output_type": "stream",
     "text": [
      "转换文件:  24%|██▍       | 371/1546 [00:59<03:05,  6.33it/s]"
     ]
    },
    {
     "name": "stdout",
     "output_type": "stream",
     "text": [
      "掩码中的唯一值: [  0 255]\n",
      "掩码已保存为: E:/Dataset/CBIS-DDSM/New_CBDDSM/roi/calc-training\\Calc-Training_P_00503_RIGHT_MLO_1_1-2.png\n",
      "掩码中的唯一值: [  0 255]\n",
      "掩码已保存为: E:/Dataset/CBIS-DDSM/New_CBDDSM/roi/calc-training\\Calc-Training_P_00505_LEFT_CC_1_1-2.png\n"
     ]
    },
    {
     "name": "stderr",
     "output_type": "stream",
     "text": [
      "转换文件:  24%|██▍       | 373/1546 [00:59<02:57,  6.61it/s]"
     ]
    },
    {
     "name": "stdout",
     "output_type": "stream",
     "text": [
      "掩码中的唯一值: [  0 255]\n",
      "掩码已保存为: E:/Dataset/CBIS-DDSM/New_CBDDSM/roi/calc-training\\Calc-Training_P_00505_LEFT_MLO_1_1-2.png\n",
      "掩码中的唯一值: [  0 255]\n",
      "掩码已保存为: E:/Dataset/CBIS-DDSM/New_CBDDSM/roi/calc-training\\Calc-Training_P_00505_LEFT_MLO_2_1-2.png\n"
     ]
    },
    {
     "name": "stderr",
     "output_type": "stream",
     "text": [
      "转换文件:  24%|██▍       | 375/1546 [00:59<02:43,  7.15it/s]"
     ]
    },
    {
     "name": "stdout",
     "output_type": "stream",
     "text": [
      "掩码中的唯一值: [  0 255]\n",
      "掩码已保存为: E:/Dataset/CBIS-DDSM/New_CBDDSM/roi/calc-training\\Calc-Training_P_00505_RIGHT_CC_1_1-2.png\n",
      "掩码中的唯一值: [  0 255]\n",
      "掩码已保存为: E:/Dataset/CBIS-DDSM/New_CBDDSM/roi/calc-training\\Calc-Training_P_00505_RIGHT_CC_2_1-2.png\n"
     ]
    },
    {
     "name": "stderr",
     "output_type": "stream",
     "text": [
      "转换文件:  24%|██▍       | 377/1546 [00:59<02:40,  7.27it/s]"
     ]
    },
    {
     "name": "stdout",
     "output_type": "stream",
     "text": [
      "掩码中的唯一值: [  0 255]\n",
      "掩码已保存为: E:/Dataset/CBIS-DDSM/New_CBDDSM/roi/calc-training\\Calc-Training_P_00505_RIGHT_MLO_1_1-2.png\n",
      "掩码中的唯一值: [  0 255]\n",
      "掩码已保存为: E:/Dataset/CBIS-DDSM/New_CBDDSM/roi/calc-training\\Calc-Training_P_00505_RIGHT_MLO_2_1-2.png\n"
     ]
    },
    {
     "name": "stderr",
     "output_type": "stream",
     "text": [
      "转换文件:  24%|██▍       | 378/1546 [01:00<03:09,  6.16it/s]"
     ]
    },
    {
     "name": "stdout",
     "output_type": "stream",
     "text": [
      "掩码中的唯一值: [  0 255]\n",
      "掩码已保存为: E:/Dataset/CBIS-DDSM/New_CBDDSM/roi/calc-training\\Calc-Training_P_00506_RIGHT_CC_1_1-2.png\n"
     ]
    },
    {
     "name": "stderr",
     "output_type": "stream",
     "text": [
      "转换文件:  25%|██▍       | 380/1546 [01:00<03:26,  5.64it/s]"
     ]
    },
    {
     "name": "stdout",
     "output_type": "stream",
     "text": [
      "掩码中的唯一值: [  0 255]\n",
      "掩码已保存为: E:/Dataset/CBIS-DDSM/New_CBDDSM/roi/calc-training\\Calc-Training_P_00506_RIGHT_MLO_1_1-2.png\n",
      "掩码中的唯一值: [  0 255]\n",
      "掩码已保存为: E:/Dataset/CBIS-DDSM/New_CBDDSM/roi/calc-training\\Calc-Training_P_00508_LEFT_CC_1_1-2.png\n"
     ]
    },
    {
     "name": "stderr",
     "output_type": "stream",
     "text": [
      "转换文件:  25%|██▍       | 381/1546 [01:00<03:17,  5.90it/s]"
     ]
    },
    {
     "name": "stdout",
     "output_type": "stream",
     "text": [
      "掩码中的唯一值: [  0 255]\n",
      "掩码已保存为: E:/Dataset/CBIS-DDSM/New_CBDDSM/roi/calc-training\\Calc-Training_P_00508_LEFT_MLO_1_1-2.png\n"
     ]
    },
    {
     "name": "stderr",
     "output_type": "stream",
     "text": [
      "转换文件:  25%|██▍       | 382/1546 [01:00<03:34,  5.43it/s]"
     ]
    },
    {
     "name": "stdout",
     "output_type": "stream",
     "text": [
      "掩码中的唯一值: [  0 255]\n",
      "掩码已保存为: E:/Dataset/CBIS-DDSM/New_CBDDSM/roi/calc-training\\Calc-Training_P_00510_LEFT_CC_1_1-2.png\n"
     ]
    },
    {
     "name": "stderr",
     "output_type": "stream",
     "text": [
      "转换文件:  25%|██▍       | 383/1546 [01:01<03:52,  5.00it/s]"
     ]
    },
    {
     "name": "stdout",
     "output_type": "stream",
     "text": [
      "掩码中的唯一值: [  0 255]\n",
      "掩码已保存为: E:/Dataset/CBIS-DDSM/New_CBDDSM/roi/calc-training\\Calc-Training_P_00510_LEFT_CC_2_1-2.png\n"
     ]
    },
    {
     "name": "stderr",
     "output_type": "stream",
     "text": [
      "转换文件:  25%|██▍       | 384/1546 [01:01<03:59,  4.84it/s]"
     ]
    },
    {
     "name": "stdout",
     "output_type": "stream",
     "text": [
      "掩码中的唯一值: [  0 255]\n",
      "掩码已保存为: E:/Dataset/CBIS-DDSM/New_CBDDSM/roi/calc-training\\Calc-Training_P_00510_LEFT_CC_3_1-2.png\n"
     ]
    },
    {
     "name": "stderr",
     "output_type": "stream",
     "text": [
      "转换文件:  25%|██▍       | 385/1546 [01:01<04:16,  4.52it/s]"
     ]
    },
    {
     "name": "stdout",
     "output_type": "stream",
     "text": [
      "掩码中的唯一值: [  0 255]\n",
      "掩码已保存为: E:/Dataset/CBIS-DDSM/New_CBDDSM/roi/calc-training\\Calc-Training_P_00510_LEFT_CC_5_1-2.png\n",
      "掩码中的唯一值: [  0 255]\n"
     ]
    },
    {
     "name": "stderr",
     "output_type": "stream",
     "text": [
      "转换文件:  25%|██▍       | 386/1546 [01:01<04:17,  4.50it/s]"
     ]
    },
    {
     "name": "stdout",
     "output_type": "stream",
     "text": [
      "掩码已保存为: E:/Dataset/CBIS-DDSM/New_CBDDSM/roi/calc-training\\Calc-Training_P_00510_LEFT_MLO_1_1-2.png\n"
     ]
    },
    {
     "name": "stderr",
     "output_type": "stream",
     "text": [
      "转换文件:  25%|██▌       | 387/1546 [01:02<04:27,  4.32it/s]"
     ]
    },
    {
     "name": "stdout",
     "output_type": "stream",
     "text": [
      "掩码中的唯一值: [  0 255]\n",
      "掩码已保存为: E:/Dataset/CBIS-DDSM/New_CBDDSM/roi/calc-training\\Calc-Training_P_00510_LEFT_MLO_3_1-2.png\n"
     ]
    },
    {
     "name": "stderr",
     "output_type": "stream",
     "text": [
      "转换文件:  25%|██▌       | 388/1546 [01:02<04:25,  4.35it/s]"
     ]
    },
    {
     "name": "stdout",
     "output_type": "stream",
     "text": [
      "掩码中的唯一值: [  0 255]\n",
      "掩码已保存为: E:/Dataset/CBIS-DDSM/New_CBDDSM/roi/calc-training\\Calc-Training_P_00510_RIGHT_CC_1_1-2.png\n"
     ]
    },
    {
     "name": "stderr",
     "output_type": "stream",
     "text": [
      "转换文件:  25%|██▌       | 389/1546 [01:02<04:31,  4.26it/s]"
     ]
    },
    {
     "name": "stdout",
     "output_type": "stream",
     "text": [
      "掩码中的唯一值: [  0 255]\n",
      "掩码已保存为: E:/Dataset/CBIS-DDSM/New_CBDDSM/roi/calc-training\\Calc-Training_P_00510_RIGHT_CC_2_1-2.png\n"
     ]
    },
    {
     "name": "stderr",
     "output_type": "stream",
     "text": [
      "转换文件:  25%|██▌       | 390/1546 [01:02<04:26,  4.33it/s]"
     ]
    },
    {
     "name": "stdout",
     "output_type": "stream",
     "text": [
      "掩码中的唯一值: [  0 255]\n",
      "掩码已保存为: E:/Dataset/CBIS-DDSM/New_CBDDSM/roi/calc-training\\Calc-Training_P_00510_RIGHT_CC_3_1-2.png\n"
     ]
    },
    {
     "name": "stderr",
     "output_type": "stream",
     "text": [
      "转换文件:  25%|██▌       | 391/1546 [01:03<04:30,  4.28it/s]"
     ]
    },
    {
     "name": "stdout",
     "output_type": "stream",
     "text": [
      "掩码中的唯一值: [  0 255]\n",
      "掩码已保存为: E:/Dataset/CBIS-DDSM/New_CBDDSM/roi/calc-training\\Calc-Training_P_00510_RIGHT_MLO_1_1-2.png\n"
     ]
    },
    {
     "name": "stderr",
     "output_type": "stream",
     "text": [
      "转换文件:  25%|██▌       | 392/1546 [01:03<04:23,  4.38it/s]"
     ]
    },
    {
     "name": "stdout",
     "output_type": "stream",
     "text": [
      "掩码中的唯一值: [  0 255]\n",
      "掩码已保存为: E:/Dataset/CBIS-DDSM/New_CBDDSM/roi/calc-training\\Calc-Training_P_00510_RIGHT_MLO_2_1-2.png\n"
     ]
    },
    {
     "name": "stderr",
     "output_type": "stream",
     "text": [
      "转换文件:  25%|██▌       | 394/1546 [01:03<03:49,  5.02it/s]"
     ]
    },
    {
     "name": "stdout",
     "output_type": "stream",
     "text": [
      "掩码中的唯一值: [  0 255]\n",
      "掩码已保存为: E:/Dataset/CBIS-DDSM/New_CBDDSM/roi/calc-training\\Calc-Training_P_00510_RIGHT_MLO_3_1-2.png\n",
      "掩码中的唯一值: [  0 255]\n",
      "掩码已保存为: E:/Dataset/CBIS-DDSM/New_CBDDSM/roi/calc-training\\Calc-Training_P_00519_LEFT_CC_1_1-2.png\n"
     ]
    },
    {
     "name": "stderr",
     "output_type": "stream",
     "text": [
      "转换文件:  26%|██▌       | 396/1546 [01:03<03:17,  5.82it/s]"
     ]
    },
    {
     "name": "stdout",
     "output_type": "stream",
     "text": [
      "掩码中的唯一值: [  0 255]\n",
      "掩码已保存为: E:/Dataset/CBIS-DDSM/New_CBDDSM/roi/calc-training\\Calc-Training_P_00519_LEFT_MLO_1_1-2.png\n",
      "掩码中的唯一值: [  0 255]\n",
      "掩码已保存为: E:/Dataset/CBIS-DDSM/New_CBDDSM/roi/calc-training\\Calc-Training_P_00520_LEFT_CC_1_1-2.png\n"
     ]
    },
    {
     "name": "stderr",
     "output_type": "stream",
     "text": [
      "转换文件:  26%|██▌       | 398/1546 [01:04<02:48,  6.82it/s]"
     ]
    },
    {
     "name": "stdout",
     "output_type": "stream",
     "text": [
      "掩码中的唯一值: [  0 255]\n",
      "掩码已保存为: E:/Dataset/CBIS-DDSM/New_CBDDSM/roi/calc-training\\Calc-Training_P_00520_LEFT_MLO_1_1-2.png\n",
      "掩码中的唯一值: [  0 255]\n",
      "掩码已保存为: E:/Dataset/CBIS-DDSM/New_CBDDSM/roi/calc-training\\Calc-Training_P_00522_RIGHT_CC_1_1-2.png\n"
     ]
    },
    {
     "name": "stderr",
     "output_type": "stream",
     "text": [
      "转换文件:  26%|██▌       | 400/1546 [01:04<02:34,  7.44it/s]"
     ]
    },
    {
     "name": "stdout",
     "output_type": "stream",
     "text": [
      "掩码中的唯一值: [  0 255]\n",
      "掩码已保存为: E:/Dataset/CBIS-DDSM/New_CBDDSM/roi/calc-training\\Calc-Training_P_00522_RIGHT_MLO_2_1-2.png\n",
      "掩码中的唯一值: [  0 255]\n",
      "掩码已保存为: E:/Dataset/CBIS-DDSM/New_CBDDSM/roi/calc-training\\Calc-Training_P_00523_RIGHT_CC_1_1-2.png\n"
     ]
    },
    {
     "name": "stderr",
     "output_type": "stream",
     "text": [
      "转换文件:  26%|██▌       | 402/1546 [01:04<02:20,  8.12it/s]"
     ]
    },
    {
     "name": "stdout",
     "output_type": "stream",
     "text": [
      "掩码中的唯一值: [  0 255]\n",
      "掩码已保存为: E:/Dataset/CBIS-DDSM/New_CBDDSM/roi/calc-training\\Calc-Training_P_00523_RIGHT_MLO_1_1-2.png\n",
      "掩码中的唯一值: [  0 255]\n",
      "掩码已保存为: E:/Dataset/CBIS-DDSM/New_CBDDSM/roi/calc-training\\Calc-Training_P_00527_RIGHT_MLO_1_1-2.png\n"
     ]
    },
    {
     "name": "stderr",
     "output_type": "stream",
     "text": [
      "转换文件:  26%|██▌       | 404/1546 [01:04<02:25,  7.85it/s]"
     ]
    },
    {
     "name": "stdout",
     "output_type": "stream",
     "text": [
      "掩码中的唯一值: [  0 255]\n",
      "掩码已保存为: E:/Dataset/CBIS-DDSM/New_CBDDSM/roi/calc-training\\Calc-Training_P_00529_LEFT_MLO_1_1-2.png\n",
      "掩码中的唯一值: [  0 255]\n",
      "掩码已保存为: E:/Dataset/CBIS-DDSM/New_CBDDSM/roi/calc-training\\Calc-Training_P_00529_RIGHT_CC_1_1-2.png\n"
     ]
    },
    {
     "name": "stderr",
     "output_type": "stream",
     "text": [
      "转换文件:  26%|██▋       | 406/1546 [01:05<02:33,  7.42it/s]"
     ]
    },
    {
     "name": "stdout",
     "output_type": "stream",
     "text": [
      "掩码中的唯一值: [  0 255]\n",
      "掩码已保存为: E:/Dataset/CBIS-DDSM/New_CBDDSM/roi/calc-training\\Calc-Training_P_00529_RIGHT_CC_2_1-2.png\n",
      "掩码中的唯一值: [  0 255]\n",
      "掩码已保存为: E:/Dataset/CBIS-DDSM/New_CBDDSM/roi/calc-training\\Calc-Training_P_00529_RIGHT_MLO_1_1-2.png\n"
     ]
    },
    {
     "name": "stderr",
     "output_type": "stream",
     "text": [
      "转换文件:  26%|██▋       | 408/1546 [01:05<03:01,  6.28it/s]"
     ]
    },
    {
     "name": "stdout",
     "output_type": "stream",
     "text": [
      "掩码中的唯一值: [  0 255]\n",
      "掩码已保存为: E:/Dataset/CBIS-DDSM/New_CBDDSM/roi/calc-training\\Calc-Training_P_00529_RIGHT_MLO_2_1-2.png\n",
      "掩码中的唯一值: [  0 255]\n",
      "掩码已保存为: E:/Dataset/CBIS-DDSM/New_CBDDSM/roi/calc-training\\Calc-Training_P_00530_LEFT_CC_1_1-2.png\n"
     ]
    },
    {
     "name": "stderr",
     "output_type": "stream",
     "text": [
      "转换文件:  27%|██▋       | 410/1546 [01:05<03:17,  5.75it/s]"
     ]
    },
    {
     "name": "stdout",
     "output_type": "stream",
     "text": [
      "掩码中的唯一值: [  0 255]\n",
      "掩码已保存为: E:/Dataset/CBIS-DDSM/New_CBDDSM/roi/calc-training\\Calc-Training_P_00530_LEFT_MLO_1_1-2.png\n",
      "掩码中的唯一值: [  0 255]\n",
      "掩码已保存为: E:/Dataset/CBIS-DDSM/New_CBDDSM/roi/calc-training\\Calc-Training_P_00531_RIGHT_CC_1_1-2.png\n"
     ]
    },
    {
     "name": "stderr",
     "output_type": "stream",
     "text": [
      "转换文件:  27%|██▋       | 412/1546 [01:06<03:18,  5.72it/s]"
     ]
    },
    {
     "name": "stdout",
     "output_type": "stream",
     "text": [
      "掩码中的唯一值: [  0 255]\n",
      "掩码已保存为: E:/Dataset/CBIS-DDSM/New_CBDDSM/roi/calc-training\\Calc-Training_P_00531_RIGHT_MLO_1_1-2.png\n",
      "掩码中的唯一值: [  0 255]\n",
      "掩码已保存为: E:/Dataset/CBIS-DDSM/New_CBDDSM/roi/calc-training\\Calc-Training_P_00534_RIGHT_CC_1_1-2.png\n"
     ]
    },
    {
     "name": "stderr",
     "output_type": "stream",
     "text": [
      "转换文件:  27%|██▋       | 414/1546 [01:06<02:48,  6.71it/s]"
     ]
    },
    {
     "name": "stdout",
     "output_type": "stream",
     "text": [
      "掩码中的唯一值: [  0 255]\n",
      "掩码已保存为: E:/Dataset/CBIS-DDSM/New_CBDDSM/roi/calc-training\\Calc-Training_P_00534_RIGHT_MLO_1_1-2.png\n",
      "掩码中的唯一值: [  0 255]\n",
      "掩码已保存为: E:/Dataset/CBIS-DDSM/New_CBDDSM/roi/calc-training\\Calc-Training_P_00538_RIGHT_CC_1_1-2.png\n"
     ]
    },
    {
     "name": "stderr",
     "output_type": "stream",
     "text": [
      "转换文件:  27%|██▋       | 416/1546 [01:06<02:46,  6.78it/s]"
     ]
    },
    {
     "name": "stdout",
     "output_type": "stream",
     "text": [
      "掩码中的唯一值: [  0 255]\n",
      "掩码已保存为: E:/Dataset/CBIS-DDSM/New_CBDDSM/roi/calc-training\\Calc-Training_P_00538_RIGHT_CC_2_1-2.png\n",
      "掩码中的唯一值: [  0 255]\n",
      "掩码已保存为: E:/Dataset/CBIS-DDSM/New_CBDDSM/roi/calc-training\\Calc-Training_P_00538_RIGHT_MLO_1_1-2.png\n"
     ]
    },
    {
     "name": "stderr",
     "output_type": "stream",
     "text": [
      "转换文件:  27%|██▋       | 417/1546 [01:06<02:40,  7.03it/s]"
     ]
    },
    {
     "name": "stdout",
     "output_type": "stream",
     "text": [
      "掩码中的唯一值: [  0 255]\n",
      "掩码已保存为: E:/Dataset/CBIS-DDSM/New_CBDDSM/roi/calc-training\\Calc-Training_P_00538_RIGHT_MLO_2_1-2.png\n"
     ]
    },
    {
     "name": "stderr",
     "output_type": "stream",
     "text": [
      "转换文件:  27%|██▋       | 418/1546 [01:07<03:01,  6.22it/s]"
     ]
    },
    {
     "name": "stdout",
     "output_type": "stream",
     "text": [
      "掩码中的唯一值: [  0 255]\n",
      "掩码已保存为: E:/Dataset/CBIS-DDSM/New_CBDDSM/roi/calc-training\\Calc-Training_P_00539_RIGHT_CC_2_1-2.png\n"
     ]
    },
    {
     "name": "stderr",
     "output_type": "stream",
     "text": [
      "转换文件:  27%|██▋       | 419/1546 [01:07<03:25,  5.49it/s]"
     ]
    },
    {
     "name": "stdout",
     "output_type": "stream",
     "text": [
      "掩码中的唯一值: [  0 255]\n",
      "掩码已保存为: E:/Dataset/CBIS-DDSM/New_CBDDSM/roi/calc-training\\Calc-Training_P_00539_RIGHT_CC_3_1-2.png\n",
      "掩码中的唯一值: [  0 255]\n"
     ]
    },
    {
     "name": "stderr",
     "output_type": "stream",
     "text": [
      "转换文件:  27%|██▋       | 420/1546 [01:07<03:35,  5.23it/s]"
     ]
    },
    {
     "name": "stdout",
     "output_type": "stream",
     "text": [
      "掩码已保存为: E:/Dataset/CBIS-DDSM/New_CBDDSM/roi/calc-training\\Calc-Training_P_00539_RIGHT_CC_4_1-2.png\n"
     ]
    },
    {
     "name": "stderr",
     "output_type": "stream",
     "text": [
      "转换文件:  27%|██▋       | 421/1546 [01:07<03:56,  4.76it/s]"
     ]
    },
    {
     "name": "stdout",
     "output_type": "stream",
     "text": [
      "掩码中的唯一值: [  0 255]\n",
      "掩码已保存为: E:/Dataset/CBIS-DDSM/New_CBDDSM/roi/calc-training\\Calc-Training_P_00539_RIGHT_MLO_2_1-2.png\n"
     ]
    },
    {
     "name": "stderr",
     "output_type": "stream",
     "text": [
      "转换文件:  27%|██▋       | 422/1546 [01:08<03:58,  4.71it/s]"
     ]
    },
    {
     "name": "stdout",
     "output_type": "stream",
     "text": [
      "掩码中的唯一值: [  0 255]\n",
      "掩码已保存为: E:/Dataset/CBIS-DDSM/New_CBDDSM/roi/calc-training\\Calc-Training_P_00539_RIGHT_MLO_3_1-2.png\n"
     ]
    },
    {
     "name": "stderr",
     "output_type": "stream",
     "text": [
      "转换文件:  27%|██▋       | 424/1546 [01:08<03:35,  5.20it/s]"
     ]
    },
    {
     "name": "stdout",
     "output_type": "stream",
     "text": [
      "掩码中的唯一值: [  0 255]\n",
      "掩码已保存为: E:/Dataset/CBIS-DDSM/New_CBDDSM/roi/calc-training\\Calc-Training_P_00539_RIGHT_MLO_4_1-2.png\n",
      "掩码中的唯一值: [  0 255]\n",
      "掩码已保存为: E:/Dataset/CBIS-DDSM/New_CBDDSM/roi/calc-training\\Calc-Training_P_00546_RIGHT_MLO_1_1-2.png\n"
     ]
    },
    {
     "name": "stderr",
     "output_type": "stream",
     "text": [
      "转换文件:  28%|██▊       | 426/1546 [01:08<02:53,  6.45it/s]"
     ]
    },
    {
     "name": "stdout",
     "output_type": "stream",
     "text": [
      "掩码中的唯一值: [  0 255]\n",
      "掩码已保存为: E:/Dataset/CBIS-DDSM/New_CBDDSM/roi/calc-training\\Calc-Training_P_00548_LEFT_CC_1_1-2.png\n",
      "掩码中的唯一值: [  0 255]\n",
      "掩码已保存为: E:/Dataset/CBIS-DDSM/New_CBDDSM/roi/calc-training\\Calc-Training_P_00548_LEFT_CC_2_1-2.png\n"
     ]
    },
    {
     "name": "stderr",
     "output_type": "stream",
     "text": [
      "转换文件:  28%|██▊       | 428/1546 [01:08<02:36,  7.14it/s]"
     ]
    },
    {
     "name": "stdout",
     "output_type": "stream",
     "text": [
      "掩码中的唯一值: [  0 255]\n",
      "掩码已保存为: E:/Dataset/CBIS-DDSM/New_CBDDSM/roi/calc-training\\Calc-Training_P_00548_LEFT_CC_3_1-2.png\n",
      "掩码中的唯一值: [  0 255]\n",
      "掩码已保存为: E:/Dataset/CBIS-DDSM/New_CBDDSM/roi/calc-training\\Calc-Training_P_00548_LEFT_MLO_1_1-2.png\n"
     ]
    },
    {
     "name": "stderr",
     "output_type": "stream",
     "text": [
      "转换文件:  28%|██▊       | 430/1546 [01:09<02:28,  7.51it/s]"
     ]
    },
    {
     "name": "stdout",
     "output_type": "stream",
     "text": [
      "掩码中的唯一值: [  0 255]\n",
      "掩码已保存为: E:/Dataset/CBIS-DDSM/New_CBDDSM/roi/calc-training\\Calc-Training_P_00548_LEFT_MLO_2_1-2.png\n",
      "掩码中的唯一值: [  0 255]\n",
      "掩码已保存为: E:/Dataset/CBIS-DDSM/New_CBDDSM/roi/calc-training\\Calc-Training_P_00548_LEFT_MLO_3_1-2.png\n"
     ]
    },
    {
     "name": "stderr",
     "output_type": "stream",
     "text": [
      "转换文件:  28%|██▊       | 432/1546 [01:09<02:25,  7.67it/s]"
     ]
    },
    {
     "name": "stdout",
     "output_type": "stream",
     "text": [
      "掩码中的唯一值: [  0 255]\n",
      "掩码已保存为: E:/Dataset/CBIS-DDSM/New_CBDDSM/roi/calc-training\\Calc-Training_P_00551_RIGHT_CC_1_1-2.png\n",
      "掩码中的唯一值: [  0 255]\n",
      "掩码已保存为: E:/Dataset/CBIS-DDSM/New_CBDDSM/roi/calc-training\\Calc-Training_P_00551_RIGHT_MLO_1_1-2.png\n"
     ]
    },
    {
     "name": "stderr",
     "output_type": "stream",
     "text": [
      "转换文件:  28%|██▊       | 434/1546 [01:09<02:23,  7.76it/s]"
     ]
    },
    {
     "name": "stdout",
     "output_type": "stream",
     "text": [
      "掩码中的唯一值: [  0 255]\n",
      "掩码已保存为: E:/Dataset/CBIS-DDSM/New_CBDDSM/roi/calc-training\\Calc-Training_P_00552_RIGHT_MLO_1_1-2.png\n",
      "掩码中的唯一值: [  0 255]\n",
      "掩码已保存为: E:/Dataset/CBIS-DDSM/New_CBDDSM/roi/calc-training\\Calc-Training_P_00555_RIGHT_CC_1_1-2.png\n"
     ]
    },
    {
     "name": "stderr",
     "output_type": "stream",
     "text": [
      "转换文件:  28%|██▊       | 436/1546 [01:09<02:22,  7.80it/s]"
     ]
    },
    {
     "name": "stdout",
     "output_type": "stream",
     "text": [
      "掩码中的唯一值: [  0 255]\n",
      "掩码已保存为: E:/Dataset/CBIS-DDSM/New_CBDDSM/roi/calc-training\\Calc-Training_P_00555_RIGHT_CC_2_1-2.png\n",
      "掩码中的唯一值: [  0 255]\n",
      "掩码已保存为: E:/Dataset/CBIS-DDSM/New_CBDDSM/roi/calc-training\\Calc-Training_P_00555_RIGHT_MLO_1_1-2.png\n"
     ]
    },
    {
     "name": "stderr",
     "output_type": "stream",
     "text": [
      "转换文件:  28%|██▊       | 438/1546 [01:10<02:14,  8.21it/s]"
     ]
    },
    {
     "name": "stdout",
     "output_type": "stream",
     "text": [
      "掩码中的唯一值: [  0 255]\n",
      "掩码已保存为: E:/Dataset/CBIS-DDSM/New_CBDDSM/roi/calc-training\\Calc-Training_P_00555_RIGHT_MLO_2_1-2.png\n",
      "掩码中的唯一值: [  0 255]\n",
      "掩码已保存为: E:/Dataset/CBIS-DDSM/New_CBDDSM/roi/calc-training\\Calc-Training_P_00556_LEFT_CC_1_1-2.png\n"
     ]
    },
    {
     "name": "stderr",
     "output_type": "stream",
     "text": [
      "转换文件:  28%|██▊       | 440/1546 [01:10<02:17,  8.03it/s]"
     ]
    },
    {
     "name": "stdout",
     "output_type": "stream",
     "text": [
      "掩码中的唯一值: [  0 255]\n",
      "掩码已保存为: E:/Dataset/CBIS-DDSM/New_CBDDSM/roi/calc-training\\Calc-Training_P_00556_LEFT_MLO_1_1-2.png\n",
      "掩码中的唯一值: [  0 255]\n",
      "掩码已保存为: E:/Dataset/CBIS-DDSM/New_CBDDSM/roi/calc-training\\Calc-Training_P_00557_LEFT_CC_1_1-2.png\n"
     ]
    },
    {
     "name": "stderr",
     "output_type": "stream",
     "text": [
      "转换文件:  29%|██▊       | 442/1546 [01:10<02:17,  8.05it/s]"
     ]
    },
    {
     "name": "stdout",
     "output_type": "stream",
     "text": [
      "掩码中的唯一值: [  0 255]\n",
      "掩码已保存为: E:/Dataset/CBIS-DDSM/New_CBDDSM/roi/calc-training\\Calc-Training_P_00557_LEFT_MLO_1_1-2.png\n",
      "掩码中的唯一值: [  0 255]\n",
      "掩码已保存为: E:/Dataset/CBIS-DDSM/New_CBDDSM/roi/calc-training\\Calc-Training_P_00557_RIGHT_CC_1_1-2.png\n"
     ]
    },
    {
     "name": "stderr",
     "output_type": "stream",
     "text": [
      "转换文件:  29%|██▊       | 444/1546 [01:10<02:25,  7.59it/s]"
     ]
    },
    {
     "name": "stdout",
     "output_type": "stream",
     "text": [
      "掩码中的唯一值: [  0 255]\n",
      "掩码已保存为: E:/Dataset/CBIS-DDSM/New_CBDDSM/roi/calc-training\\Calc-Training_P_00557_RIGHT_CC_2_1-2.png\n",
      "掩码中的唯一值: [  0 255]\n",
      "掩码已保存为: E:/Dataset/CBIS-DDSM/New_CBDDSM/roi/calc-training\\Calc-Training_P_00557_RIGHT_CC_3_1-2.png\n"
     ]
    },
    {
     "name": "stderr",
     "output_type": "stream",
     "text": [
      "转换文件:  29%|██▉       | 446/1546 [01:11<02:19,  7.88it/s]"
     ]
    },
    {
     "name": "stdout",
     "output_type": "stream",
     "text": [
      "掩码中的唯一值: [  0 255]\n",
      "掩码已保存为: E:/Dataset/CBIS-DDSM/New_CBDDSM/roi/calc-training\\Calc-Training_P_00557_RIGHT_CC_4_1-2.png\n",
      "掩码中的唯一值: [  0 255]\n",
      "掩码已保存为: E:/Dataset/CBIS-DDSM/New_CBDDSM/roi/calc-training\\Calc-Training_P_00557_RIGHT_MLO_1_1-2.png\n"
     ]
    },
    {
     "name": "stderr",
     "output_type": "stream",
     "text": [
      "转换文件:  29%|██▉       | 448/1546 [01:11<02:17,  8.01it/s]"
     ]
    },
    {
     "name": "stdout",
     "output_type": "stream",
     "text": [
      "掩码中的唯一值: [  0 255]\n",
      "掩码已保存为: E:/Dataset/CBIS-DDSM/New_CBDDSM/roi/calc-training\\Calc-Training_P_00557_RIGHT_MLO_2_1-2.png\n",
      "掩码中的唯一值: [  0 255]\n",
      "掩码已保存为: E:/Dataset/CBIS-DDSM/New_CBDDSM/roi/calc-training\\Calc-Training_P_00557_RIGHT_MLO_3_1-2.png\n"
     ]
    },
    {
     "name": "stderr",
     "output_type": "stream",
     "text": [
      "转换文件:  29%|██▉       | 450/1546 [01:11<02:17,  7.96it/s]"
     ]
    },
    {
     "name": "stdout",
     "output_type": "stream",
     "text": [
      "掩码中的唯一值: [  0 255]\n",
      "掩码已保存为: E:/Dataset/CBIS-DDSM/New_CBDDSM/roi/calc-training\\Calc-Training_P_00558_RIGHT_CC_1_1-2.png\n",
      "掩码中的唯一值: [  0 255]\n",
      "掩码已保存为: E:/Dataset/CBIS-DDSM/New_CBDDSM/roi/calc-training\\Calc-Training_P_00558_RIGHT_MLO_1_1-2.png\n"
     ]
    },
    {
     "name": "stderr",
     "output_type": "stream",
     "text": [
      "转换文件:  29%|██▉       | 451/1546 [01:11<02:20,  7.82it/s]"
     ]
    },
    {
     "name": "stdout",
     "output_type": "stream",
     "text": [
      "掩码中的唯一值: [  0 255]\n",
      "掩码已保存为: E:/Dataset/CBIS-DDSM/New_CBDDSM/roi/calc-training\\Calc-Training_P_00558_RIGHT_MLO_2_1-2.png\n"
     ]
    },
    {
     "name": "stderr",
     "output_type": "stream",
     "text": [
      "转换文件:  29%|██▉       | 452/1546 [01:12<02:53,  6.31it/s]"
     ]
    },
    {
     "name": "stdout",
     "output_type": "stream",
     "text": [
      "掩码中的唯一值: [  0 255]\n",
      "掩码已保存为: E:/Dataset/CBIS-DDSM/New_CBDDSM/roi/calc-training\\Calc-Training_P_00559_RIGHT_CC_1_1-2.png\n"
     ]
    },
    {
     "name": "stderr",
     "output_type": "stream",
     "text": [
      "转换文件:  29%|██▉       | 453/1546 [01:12<03:13,  5.64it/s]"
     ]
    },
    {
     "name": "stdout",
     "output_type": "stream",
     "text": [
      "掩码中的唯一值: [  0 255]\n",
      "掩码已保存为: E:/Dataset/CBIS-DDSM/New_CBDDSM/roi/calc-training\\Calc-Training_P_00559_RIGHT_CC_2_1-2.png\n"
     ]
    },
    {
     "name": "stderr",
     "output_type": "stream",
     "text": [
      "转换文件:  29%|██▉       | 454/1546 [01:12<03:27,  5.26it/s]"
     ]
    },
    {
     "name": "stdout",
     "output_type": "stream",
     "text": [
      "掩码中的唯一值: [  0 255]\n",
      "掩码已保存为: E:/Dataset/CBIS-DDSM/New_CBDDSM/roi/calc-training\\Calc-Training_P_00559_RIGHT_MLO_1_1-2.png\n"
     ]
    },
    {
     "name": "stderr",
     "output_type": "stream",
     "text": [
      "转换文件:  29%|██▉       | 456/1546 [01:12<03:10,  5.71it/s]"
     ]
    },
    {
     "name": "stdout",
     "output_type": "stream",
     "text": [
      "掩码中的唯一值: [  0 255]\n",
      "掩码已保存为: E:/Dataset/CBIS-DDSM/New_CBDDSM/roi/calc-training\\Calc-Training_P_00559_RIGHT_MLO_2_1-2.png\n",
      "掩码中的唯一值: [  0 255]\n",
      "掩码已保存为: E:/Dataset/CBIS-DDSM/New_CBDDSM/roi/calc-training\\Calc-Training_P_00563_RIGHT_MLO_1_1-2.png\n"
     ]
    },
    {
     "name": "stderr",
     "output_type": "stream",
     "text": [
      "转换文件:  30%|██▉       | 458/1546 [01:13<02:41,  6.75it/s]"
     ]
    },
    {
     "name": "stdout",
     "output_type": "stream",
     "text": [
      "掩码中的唯一值: [  0 255]\n",
      "掩码已保存为: E:/Dataset/CBIS-DDSM/New_CBDDSM/roi/calc-training\\Calc-Training_P_00571_RIGHT_CC_1_1-2.png\n",
      "掩码中的唯一值: [  0 255]\n",
      "掩码已保存为: E:/Dataset/CBIS-DDSM/New_CBDDSM/roi/calc-training\\Calc-Training_P_00571_RIGHT_MLO_1_1-2.png\n"
     ]
    },
    {
     "name": "stderr",
     "output_type": "stream",
     "text": [
      "转换文件:  30%|██▉       | 460/1546 [01:13<02:22,  7.65it/s]"
     ]
    },
    {
     "name": "stdout",
     "output_type": "stream",
     "text": [
      "掩码中的唯一值: [  0 255]\n",
      "掩码已保存为: E:/Dataset/CBIS-DDSM/New_CBDDSM/roi/calc-training\\Calc-Training_P_00573_RIGHT_CC_1_1-2.png\n",
      "掩码中的唯一值: [  0 255]\n",
      "掩码已保存为: E:/Dataset/CBIS-DDSM/New_CBDDSM/roi/calc-training\\Calc-Training_P_00573_RIGHT_MLO_3_1-2.png\n"
     ]
    },
    {
     "name": "stderr",
     "output_type": "stream",
     "text": [
      "转换文件:  30%|██▉       | 461/1546 [01:13<02:47,  6.48it/s]"
     ]
    },
    {
     "name": "stdout",
     "output_type": "stream",
     "text": [
      "掩码中的唯一值: [  0 255]\n",
      "掩码已保存为: E:/Dataset/CBIS-DDSM/New_CBDDSM/roi/calc-training\\Calc-Training_P_00574_RIGHT_CC_1_1-2.png\n"
     ]
    },
    {
     "name": "stderr",
     "output_type": "stream",
     "text": [
      "转换文件:  30%|██▉       | 463/1546 [01:14<03:22,  5.35it/s]"
     ]
    },
    {
     "name": "stdout",
     "output_type": "stream",
     "text": [
      "掩码中的唯一值: [  0 255]\n",
      "掩码已保存为: E:/Dataset/CBIS-DDSM/New_CBDDSM/roi/calc-training\\Calc-Training_P_00574_RIGHT_MLO_1_1-2.png\n",
      "掩码中的唯一值: [  0 255]\n",
      "掩码已保存为: E:/Dataset/CBIS-DDSM/New_CBDDSM/roi/calc-training\\Calc-Training_P_00578_LEFT_CC_1_1-2.png\n"
     ]
    },
    {
     "name": "stderr",
     "output_type": "stream",
     "text": [
      "转换文件:  30%|███       | 465/1546 [01:14<02:59,  6.01it/s]"
     ]
    },
    {
     "name": "stdout",
     "output_type": "stream",
     "text": [
      "掩码中的唯一值: [  0 255]\n",
      "掩码已保存为: E:/Dataset/CBIS-DDSM/New_CBDDSM/roi/calc-training\\Calc-Training_P_00578_LEFT_MLO_1_1-2.png\n",
      "掩码中的唯一值: [  0 255]\n",
      "掩码已保存为: E:/Dataset/CBIS-DDSM/New_CBDDSM/roi/calc-training\\Calc-Training_P_00582_RIGHT_MLO_1_1-2.png\n"
     ]
    },
    {
     "name": "stderr",
     "output_type": "stream",
     "text": [
      "转换文件:  30%|███       | 467/1546 [01:14<03:15,  5.53it/s]"
     ]
    },
    {
     "name": "stdout",
     "output_type": "stream",
     "text": [
      "掩码中的唯一值: [  0 255]\n",
      "掩码已保存为: E:/Dataset/CBIS-DDSM/New_CBDDSM/roi/calc-training\\Calc-Training_P_00583_LEFT_CC_1_1-2.png\n",
      "掩码中的唯一值: [  0 255]\n",
      "掩码已保存为: E:/Dataset/CBIS-DDSM/New_CBDDSM/roi/calc-training\\Calc-Training_P_00583_LEFT_MLO_1_1-2.png\n"
     ]
    },
    {
     "name": "stderr",
     "output_type": "stream",
     "text": [
      "转换文件:  30%|███       | 468/1546 [01:14<02:52,  6.26it/s]"
     ]
    },
    {
     "name": "stdout",
     "output_type": "stream",
     "text": [
      "掩码中的唯一值: [  0 255]\n",
      "掩码已保存为: E:/Dataset/CBIS-DDSM/New_CBDDSM/roi/calc-training\\Calc-Training_P_00584_LEFT_CC_1_1-2.png\n"
     ]
    },
    {
     "name": "stderr",
     "output_type": "stream",
     "text": [
      "转换文件:  30%|███       | 469/1546 [01:15<03:11,  5.62it/s]"
     ]
    },
    {
     "name": "stdout",
     "output_type": "stream",
     "text": [
      "掩码中的唯一值: [  0 255]\n",
      "掩码已保存为: E:/Dataset/CBIS-DDSM/New_CBDDSM/roi/calc-training\\Calc-Training_P_00585_LEFT_CC_1_1-2.png\n"
     ]
    },
    {
     "name": "stderr",
     "output_type": "stream",
     "text": [
      "转换文件:  30%|███       | 471/1546 [01:15<03:27,  5.19it/s]"
     ]
    },
    {
     "name": "stdout",
     "output_type": "stream",
     "text": [
      "掩码中的唯一值: [  0 255]\n",
      "掩码已保存为: E:/Dataset/CBIS-DDSM/New_CBDDSM/roi/calc-training\\Calc-Training_P_00585_LEFT_MLO_1_1-2.png\n",
      "掩码中的唯一值: [  0 255]\n",
      "掩码已保存为: E:/Dataset/CBIS-DDSM/New_CBDDSM/roi/calc-training\\Calc-Training_P_00591_RIGHT_CC_1_1-2.png\n"
     ]
    },
    {
     "name": "stderr",
     "output_type": "stream",
     "text": [
      "转换文件:  31%|███       | 473/1546 [01:15<03:15,  5.50it/s]"
     ]
    },
    {
     "name": "stdout",
     "output_type": "stream",
     "text": [
      "掩码中的唯一值: [  0 255]\n",
      "掩码已保存为: E:/Dataset/CBIS-DDSM/New_CBDDSM/roi/calc-training\\Calc-Training_P_00591_RIGHT_CC_2_1-2.png\n",
      "掩码中的唯一值: [  0 255]\n",
      "掩码已保存为: E:/Dataset/CBIS-DDSM/New_CBDDSM/roi/calc-training\\Calc-Training_P_00591_RIGHT_MLO_1_1-2.png\n"
     ]
    },
    {
     "name": "stderr",
     "output_type": "stream",
     "text": [
      "转换文件:  31%|███       | 475/1546 [01:16<02:54,  6.12it/s]"
     ]
    },
    {
     "name": "stdout",
     "output_type": "stream",
     "text": [
      "掩码中的唯一值: [  0 255]\n",
      "掩码已保存为: E:/Dataset/CBIS-DDSM/New_CBDDSM/roi/calc-training\\Calc-Training_P_00591_RIGHT_MLO_2_1-2.png\n",
      "掩码中的唯一值: [  0 255]\n",
      "掩码已保存为: E:/Dataset/CBIS-DDSM/New_CBDDSM/roi/calc-training\\Calc-Training_P_00593_RIGHT_CC_1_1-2.png\n"
     ]
    },
    {
     "name": "stderr",
     "output_type": "stream",
     "text": [
      "转换文件:  31%|███       | 477/1546 [01:16<02:39,  6.68it/s]"
     ]
    },
    {
     "name": "stdout",
     "output_type": "stream",
     "text": [
      "掩码中的唯一值: [  0 255]\n",
      "掩码已保存为: E:/Dataset/CBIS-DDSM/New_CBDDSM/roi/calc-training\\Calc-Training_P_00593_RIGHT_MLO_1_1-2.png\n",
      "掩码中的唯一值: [  0 255]\n",
      "掩码已保存为: E:/Dataset/CBIS-DDSM/New_CBDDSM/roi/calc-training\\Calc-Training_P_00594_LEFT_CC_2_1-2.png\n"
     ]
    },
    {
     "name": "stderr",
     "output_type": "stream",
     "text": [
      "转换文件:  31%|███       | 480/1546 [01:16<02:00,  8.88it/s]"
     ]
    },
    {
     "name": "stdout",
     "output_type": "stream",
     "text": [
      "掩码中的唯一值: [  0 255]\n",
      "掩码已保存为: E:/Dataset/CBIS-DDSM/New_CBDDSM/roi/calc-training\\Calc-Training_P_00594_LEFT_MLO_2_1-2.png\n",
      "掩码中的唯一值: [  0 255]\n",
      "掩码已保存为: E:/Dataset/CBIS-DDSM/New_CBDDSM/roi/calc-training\\Calc-Training_P_00595_LEFT_CC_1_1-2.png\n",
      "掩码中的唯一值: [  0 255]\n",
      "掩码已保存为: E:/Dataset/CBIS-DDSM/New_CBDDSM/roi/calc-training\\Calc-Training_P_00595_LEFT_MLO_1_1-2.png\n"
     ]
    },
    {
     "name": "stderr",
     "output_type": "stream",
     "text": [
      "转换文件:  31%|███       | 482/1546 [01:16<02:00,  8.82it/s]"
     ]
    },
    {
     "name": "stdout",
     "output_type": "stream",
     "text": [
      "掩码中的唯一值: [  0 255]\n",
      "掩码已保存为: E:/Dataset/CBIS-DDSM/New_CBDDSM/roi/calc-training\\Calc-Training_P_00597_LEFT_CC_1_1-2.png\n",
      "掩码中的唯一值: [  0 255]\n",
      "掩码已保存为: E:/Dataset/CBIS-DDSM/New_CBDDSM/roi/calc-training\\Calc-Training_P_00597_LEFT_MLO_1_1-2.png\n"
     ]
    },
    {
     "name": "stderr",
     "output_type": "stream",
     "text": [
      "转换文件:  31%|███▏      | 484/1546 [01:17<02:01,  8.78it/s]"
     ]
    },
    {
     "name": "stdout",
     "output_type": "stream",
     "text": [
      "掩码中的唯一值: [  0 255]\n",
      "掩码已保存为: E:/Dataset/CBIS-DDSM/New_CBDDSM/roi/calc-training\\Calc-Training_P_00600_LEFT_CC_1_1-2.png\n",
      "掩码中的唯一值: [  0 255]\n",
      "掩码已保存为: E:/Dataset/CBIS-DDSM/New_CBDDSM/roi/calc-training\\Calc-Training_P_00600_LEFT_CC_2_1-2.png\n"
     ]
    },
    {
     "name": "stderr",
     "output_type": "stream",
     "text": [
      "转换文件:  31%|███▏      | 486/1546 [01:17<01:57,  9.05it/s]"
     ]
    },
    {
     "name": "stdout",
     "output_type": "stream",
     "text": [
      "掩码中的唯一值: [  0 255]\n",
      "掩码已保存为: E:/Dataset/CBIS-DDSM/New_CBDDSM/roi/calc-training\\Calc-Training_P_00600_LEFT_MLO_1_1-2.png\n",
      "掩码中的唯一值: [  0 255]\n",
      "掩码已保存为: E:/Dataset/CBIS-DDSM/New_CBDDSM/roi/calc-training\\Calc-Training_P_00600_LEFT_MLO_2_1-2.png\n"
     ]
    },
    {
     "name": "stderr",
     "output_type": "stream",
     "text": [
      "转换文件:  32%|███▏      | 487/1546 [01:17<02:26,  7.23it/s]"
     ]
    },
    {
     "name": "stdout",
     "output_type": "stream",
     "text": [
      "掩码中的唯一值: [  0 255]\n",
      "掩码已保存为: E:/Dataset/CBIS-DDSM/New_CBDDSM/roi/calc-training\\Calc-Training_P_00601_LEFT_CC_2_1-2.png\n",
      "掩码中的唯一值: [  0 255]\n"
     ]
    },
    {
     "name": "stderr",
     "output_type": "stream",
     "text": [
      "转换文件:  32%|███▏      | 488/1546 [01:17<02:46,  6.37it/s]"
     ]
    },
    {
     "name": "stdout",
     "output_type": "stream",
     "text": [
      "掩码已保存为: E:/Dataset/CBIS-DDSM/New_CBDDSM/roi/calc-training\\Calc-Training_P_00601_LEFT_MLO_1_1-2.png\n",
      "掩码中的唯一值: [  0 255]\n",
      "掩码已保存为: E:/Dataset/CBIS-DDSM/New_CBDDSM/roi/calc-training\\Calc-Training_P_00606_LEFT_CC_1_1-2.png\n"
     ]
    },
    {
     "name": "stderr",
     "output_type": "stream",
     "text": [
      "转换文件:  32%|███▏      | 491/1546 [01:18<02:19,  7.56it/s]"
     ]
    },
    {
     "name": "stdout",
     "output_type": "stream",
     "text": [
      "掩码中的唯一值: [  0 255]\n",
      "掩码已保存为: E:/Dataset/CBIS-DDSM/New_CBDDSM/roi/calc-training\\Calc-Training_P_00606_LEFT_MLO_1_1-2.png\n",
      "掩码中的唯一值: [  0 255]\n",
      "掩码已保存为: E:/Dataset/CBIS-DDSM/New_CBDDSM/roi/calc-training\\Calc-Training_P_00609_RIGHT_CC_1_1-2.png\n"
     ]
    },
    {
     "name": "stderr",
     "output_type": "stream",
     "text": [
      "转换文件:  32%|███▏      | 492/1546 [01:18<02:28,  7.08it/s]"
     ]
    },
    {
     "name": "stdout",
     "output_type": "stream",
     "text": [
      "掩码中的唯一值: [  0 255]\n",
      "掩码已保存为: E:/Dataset/CBIS-DDSM/New_CBDDSM/roi/calc-training\\Calc-Training_P_00609_RIGHT_MLO_1_1-2.png\n",
      "掩码中的唯一值: [  0 255]\n"
     ]
    },
    {
     "name": "stderr",
     "output_type": "stream",
     "text": [
      "转换文件:  32%|███▏      | 493/1546 [01:18<02:47,  6.27it/s]"
     ]
    },
    {
     "name": "stdout",
     "output_type": "stream",
     "text": [
      "掩码已保存为: E:/Dataset/CBIS-DDSM/New_CBDDSM/roi/calc-training\\Calc-Training_P_00613_RIGHT_CC_1_1-2.png\n",
      "掩码中的唯一值: [  0 255]\n"
     ]
    },
    {
     "name": "stderr",
     "output_type": "stream",
     "text": [
      "转换文件:  32%|███▏      | 494/1546 [01:18<03:06,  5.65it/s]"
     ]
    },
    {
     "name": "stdout",
     "output_type": "stream",
     "text": [
      "掩码已保存为: E:/Dataset/CBIS-DDSM/New_CBDDSM/roi/calc-training\\Calc-Training_P_00613_RIGHT_MLO_1_1-2.png\n"
     ]
    },
    {
     "name": "stderr",
     "output_type": "stream",
     "text": [
      "转换文件:  32%|███▏      | 495/1546 [01:18<03:20,  5.24it/s]"
     ]
    },
    {
     "name": "stdout",
     "output_type": "stream",
     "text": [
      "掩码中的唯一值: [  0 255]\n",
      "掩码已保存为: E:/Dataset/CBIS-DDSM/New_CBDDSM/roi/calc-training\\Calc-Training_P_00621_LEFT_CC_1_1-2.png\n"
     ]
    },
    {
     "name": "stderr",
     "output_type": "stream",
     "text": [
      "转换文件:  32%|███▏      | 497/1546 [01:19<03:11,  5.48it/s]"
     ]
    },
    {
     "name": "stdout",
     "output_type": "stream",
     "text": [
      "掩码中的唯一值: [  0 255]\n",
      "掩码已保存为: E:/Dataset/CBIS-DDSM/New_CBDDSM/roi/calc-training\\Calc-Training_P_00621_LEFT_MLO_1_1-2.png\n",
      "掩码中的唯一值: [  0 255]\n",
      "掩码已保存为: E:/Dataset/CBIS-DDSM/New_CBDDSM/roi/calc-training\\Calc-Training_P_00624_LEFT_CC_1_1-2.png\n"
     ]
    },
    {
     "name": "stderr",
     "output_type": "stream",
     "text": [
      "转换文件:  32%|███▏      | 499/1546 [01:19<02:43,  6.39it/s]"
     ]
    },
    {
     "name": "stdout",
     "output_type": "stream",
     "text": [
      "掩码中的唯一值: [  0 255]\n",
      "掩码已保存为: E:/Dataset/CBIS-DDSM/New_CBDDSM/roi/calc-training\\Calc-Training_P_00624_LEFT_MLO_1_1-2.png\n",
      "掩码中的唯一值: [  0 255]\n",
      "掩码已保存为: E:/Dataset/CBIS-DDSM/New_CBDDSM/roi/calc-training\\Calc-Training_P_00624_RIGHT_CC_1_1-2.png\n"
     ]
    },
    {
     "name": "stderr",
     "output_type": "stream",
     "text": [
      "转换文件:  32%|███▏      | 501/1546 [01:19<02:26,  7.11it/s]"
     ]
    },
    {
     "name": "stdout",
     "output_type": "stream",
     "text": [
      "掩码中的唯一值: [  0 255]\n",
      "掩码已保存为: E:/Dataset/CBIS-DDSM/New_CBDDSM/roi/calc-training\\Calc-Training_P_00624_RIGHT_MLO_1_1-2.png\n",
      "掩码中的唯一值: [  0 255]\n",
      "掩码已保存为: E:/Dataset/CBIS-DDSM/New_CBDDSM/roi/calc-training\\Calc-Training_P_00625_RIGHT_MLO_1_1-2.png\n"
     ]
    },
    {
     "name": "stderr",
     "output_type": "stream",
     "text": [
      "转换文件:  33%|███▎      | 503/1546 [01:20<02:28,  7.03it/s]"
     ]
    },
    {
     "name": "stdout",
     "output_type": "stream",
     "text": [
      "掩码中的唯一值: [  0 255]\n",
      "掩码已保存为: E:/Dataset/CBIS-DDSM/New_CBDDSM/roi/calc-training\\Calc-Training_P_00627_LEFT_CC_1_1-2.png\n",
      "掩码中的唯一值: [  0 255]\n",
      "掩码已保存为: E:/Dataset/CBIS-DDSM/New_CBDDSM/roi/calc-training\\Calc-Training_P_00631_RIGHT_CC_1_1-2.png\n"
     ]
    },
    {
     "name": "stderr",
     "output_type": "stream",
     "text": [
      "转换文件:  33%|███▎      | 505/1546 [01:20<02:21,  7.34it/s]"
     ]
    },
    {
     "name": "stdout",
     "output_type": "stream",
     "text": [
      "掩码中的唯一值: [  0 255]\n",
      "掩码已保存为: E:/Dataset/CBIS-DDSM/New_CBDDSM/roi/calc-training\\Calc-Training_P_00631_RIGHT_MLO_1_1-2.png\n",
      "掩码中的唯一值: [  0 255]\n",
      "掩码已保存为: E:/Dataset/CBIS-DDSM/New_CBDDSM/roi/calc-training\\Calc-Training_P_00633_RIGHT_MLO_1_1-2.png\n"
     ]
    },
    {
     "name": "stderr",
     "output_type": "stream",
     "text": [
      "转换文件:  33%|███▎      | 507/1546 [01:20<02:16,  7.60it/s]"
     ]
    },
    {
     "name": "stdout",
     "output_type": "stream",
     "text": [
      "掩码中的唯一值: [  0 255]\n",
      "掩码已保存为: E:/Dataset/CBIS-DDSM/New_CBDDSM/roi/calc-training\\Calc-Training_P_00635_LEFT_CC_1_1-2.png\n",
      "掩码中的唯一值: [  0 255]\n",
      "掩码已保存为: E:/Dataset/CBIS-DDSM/New_CBDDSM/roi/calc-training\\Calc-Training_P_00635_LEFT_MLO_1_1-2.png\n"
     ]
    },
    {
     "name": "stderr",
     "output_type": "stream",
     "text": [
      "转换文件:  33%|███▎      | 509/1546 [01:20<02:16,  7.60it/s]"
     ]
    },
    {
     "name": "stdout",
     "output_type": "stream",
     "text": [
      "掩码中的唯一值: [  0 255]\n",
      "掩码已保存为: E:/Dataset/CBIS-DDSM/New_CBDDSM/roi/calc-training\\Calc-Training_P_00635_RIGHT_CC_1_1-2.png\n",
      "掩码中的唯一值: [  0 255]\n",
      "掩码已保存为: E:/Dataset/CBIS-DDSM/New_CBDDSM/roi/calc-training\\Calc-Training_P_00635_RIGHT_CC_2_1-2.png\n"
     ]
    },
    {
     "name": "stderr",
     "output_type": "stream",
     "text": [
      "转换文件:  33%|███▎      | 511/1546 [01:21<02:13,  7.73it/s]"
     ]
    },
    {
     "name": "stdout",
     "output_type": "stream",
     "text": [
      "掩码中的唯一值: [  0 255]\n",
      "掩码已保存为: E:/Dataset/CBIS-DDSM/New_CBDDSM/roi/calc-training\\Calc-Training_P_00635_RIGHT_MLO_1_1-2.png\n",
      "掩码中的唯一值: [  0 255]\n",
      "掩码已保存为: E:/Dataset/CBIS-DDSM/New_CBDDSM/roi/calc-training\\Calc-Training_P_00635_RIGHT_MLO_2_1-2.png\n"
     ]
    },
    {
     "name": "stderr",
     "output_type": "stream",
     "text": [
      "转换文件:  33%|███▎      | 513/1546 [01:21<02:18,  7.48it/s]"
     ]
    },
    {
     "name": "stdout",
     "output_type": "stream",
     "text": [
      "掩码中的唯一值: [  0 255]\n",
      "掩码已保存为: E:/Dataset/CBIS-DDSM/New_CBDDSM/roi/calc-training\\Calc-Training_P_00638_LEFT_CC_1_1-2.png\n",
      "掩码中的唯一值: [  0 255]\n",
      "掩码已保存为: E:/Dataset/CBIS-DDSM/New_CBDDSM/roi/calc-training\\Calc-Training_P_00638_LEFT_MLO_1_1-2.png\n"
     ]
    },
    {
     "name": "stderr",
     "output_type": "stream",
     "text": [
      "转换文件:  33%|███▎      | 515/1546 [01:21<02:36,  6.58it/s]"
     ]
    },
    {
     "name": "stdout",
     "output_type": "stream",
     "text": [
      "掩码中的唯一值: [  0 255]\n",
      "掩码已保存为: E:/Dataset/CBIS-DDSM/New_CBDDSM/roi/calc-training\\Calc-Training_P_00639_RIGHT_CC_1_1-2.png\n",
      "掩码中的唯一值: [  0 255]\n",
      "掩码已保存为: E:/Dataset/CBIS-DDSM/New_CBDDSM/roi/calc-training\\Calc-Training_P_00639_RIGHT_MLO_1_1-2.png\n"
     ]
    },
    {
     "name": "stderr",
     "output_type": "stream",
     "text": [
      "转换文件:  33%|███▎      | 517/1546 [01:22<03:05,  5.56it/s]"
     ]
    },
    {
     "name": "stdout",
     "output_type": "stream",
     "text": [
      "掩码中的唯一值: [  0 255]\n",
      "掩码已保存为: E:/Dataset/CBIS-DDSM/New_CBDDSM/roi/calc-training\\Calc-Training_P_00642_LEFT_CC_1_1-2.png\n",
      "掩码中的唯一值: [  0 255]\n",
      "掩码已保存为: E:/Dataset/CBIS-DDSM/New_CBDDSM/roi/calc-training\\Calc-Training_P_00642_LEFT_MLO_1_1-2.png\n"
     ]
    },
    {
     "name": "stderr",
     "output_type": "stream",
     "text": [
      "转换文件:  34%|███▎      | 519/1546 [01:22<03:18,  5.16it/s]"
     ]
    },
    {
     "name": "stdout",
     "output_type": "stream",
     "text": [
      "掩码中的唯一值: [  0 255]\n",
      "掩码已保存为: E:/Dataset/CBIS-DDSM/New_CBDDSM/roi/calc-training\\Calc-Training_P_00642_RIGHT_CC_1_1-2.png\n",
      "掩码中的唯一值: [  0 255]\n",
      "掩码已保存为: E:/Dataset/CBIS-DDSM/New_CBDDSM/roi/calc-training\\Calc-Training_P_00642_RIGHT_MLO_1_1-2.png\n"
     ]
    },
    {
     "name": "stderr",
     "output_type": "stream",
     "text": [
      "转换文件:  34%|███▎      | 520/1546 [01:22<03:16,  5.22it/s]"
     ]
    },
    {
     "name": "stdout",
     "output_type": "stream",
     "text": [
      "掩码中的唯一值: [  0 255]\n",
      "掩码已保存为: E:/Dataset/CBIS-DDSM/New_CBDDSM/roi/calc-training\\Calc-Training_P_00645_RIGHT_MLO_1_1-2.png\n",
      "掩码中的唯一值: [  0 255]\n",
      "掩码已保存为: E:/Dataset/CBIS-DDSM/New_CBDDSM/roi/calc-training\\Calc-Training_P_00647_RIGHT_CC_1_1-2.png\n",
      "掩码中的唯一值: [  0 255]\n"
     ]
    },
    {
     "name": "stderr",
     "output_type": "stream",
     "text": [
      "转换文件:  34%|███▍      | 523/1546 [01:23<02:28,  6.89it/s]"
     ]
    },
    {
     "name": "stdout",
     "output_type": "stream",
     "text": [
      "掩码已保存为: E:/Dataset/CBIS-DDSM/New_CBDDSM/roi/calc-training\\Calc-Training_P_00647_RIGHT_MLO_1_1-2.png\n",
      "掩码中的唯一值: [  0 255]\n",
      "掩码已保存为: E:/Dataset/CBIS-DDSM/New_CBDDSM/roi/calc-training\\Calc-Training_P_00652_LEFT_CC_2_1-2.png\n"
     ]
    },
    {
     "name": "stderr",
     "output_type": "stream",
     "text": [
      "转换文件:  34%|███▍      | 525/1546 [01:23<02:22,  7.16it/s]"
     ]
    },
    {
     "name": "stdout",
     "output_type": "stream",
     "text": [
      "掩码中的唯一值: [  0 255]\n",
      "掩码已保存为: E:/Dataset/CBIS-DDSM/New_CBDDSM/roi/calc-training\\Calc-Training_P_00652_LEFT_MLO_1_1-2.png\n",
      "掩码中的唯一值: [  0 255]\n",
      "掩码已保存为: E:/Dataset/CBIS-DDSM/New_CBDDSM/roi/calc-training\\Calc-Training_P_00654_RIGHT_CC_1_1-2.png\n"
     ]
    },
    {
     "name": "stderr",
     "output_type": "stream",
     "text": [
      "转换文件:  34%|███▍      | 526/1546 [01:23<02:22,  7.18it/s]"
     ]
    },
    {
     "name": "stdout",
     "output_type": "stream",
     "text": [
      "掩码中的唯一值: [  0 255]\n",
      "掩码已保存为: E:/Dataset/CBIS-DDSM/New_CBDDSM/roi/calc-training\\Calc-Training_P_00654_RIGHT_MLO_1_1-2.png\n"
     ]
    },
    {
     "name": "stderr",
     "output_type": "stream",
     "text": [
      "转换文件:  34%|███▍      | 527/1546 [01:23<02:43,  6.22it/s]"
     ]
    },
    {
     "name": "stdout",
     "output_type": "stream",
     "text": [
      "掩码中的唯一值: [  0 255]\n",
      "掩码已保存为: E:/Dataset/CBIS-DDSM/New_CBDDSM/roi/calc-training\\Calc-Training_P_00655_RIGHT_CC_1_1-2.png\n"
     ]
    },
    {
     "name": "stderr",
     "output_type": "stream",
     "text": [
      "转换文件:  34%|███▍      | 528/1546 [01:23<03:00,  5.64it/s]"
     ]
    },
    {
     "name": "stdout",
     "output_type": "stream",
     "text": [
      "掩码中的唯一值: [  0 255]\n",
      "掩码已保存为: E:/Dataset/CBIS-DDSM/New_CBDDSM/roi/calc-training\\Calc-Training_P_00655_RIGHT_MLO_1_1-2.png\n"
     ]
    },
    {
     "name": "stderr",
     "output_type": "stream",
     "text": [
      "转换文件:  34%|███▍      | 529/1546 [01:24<03:27,  4.90it/s]"
     ]
    },
    {
     "name": "stdout",
     "output_type": "stream",
     "text": [
      "掩码中的唯一值: [  0 255]\n",
      "掩码已保存为: E:/Dataset/CBIS-DDSM/New_CBDDSM/roi/calc-training\\Calc-Training_P_00658_LEFT_CC_1_1-2.png\n"
     ]
    },
    {
     "name": "stderr",
     "output_type": "stream",
     "text": [
      "转换文件:  34%|███▍      | 531/1546 [01:24<03:12,  5.27it/s]"
     ]
    },
    {
     "name": "stdout",
     "output_type": "stream",
     "text": [
      "掩码中的唯一值: [  0 255]\n",
      "掩码已保存为: E:/Dataset/CBIS-DDSM/New_CBDDSM/roi/calc-training\\Calc-Training_P_00658_LEFT_MLO_1_1-2.png\n",
      "掩码中的唯一值: [  0 255]\n",
      "掩码已保存为: E:/Dataset/CBIS-DDSM/New_CBDDSM/roi/calc-training\\Calc-Training_P_00664_RIGHT_CC_1_1-2.png\n"
     ]
    },
    {
     "name": "stderr",
     "output_type": "stream",
     "text": [
      "转换文件:  34%|███▍      | 532/1546 [01:24<02:49,  5.97it/s]"
     ]
    },
    {
     "name": "stdout",
     "output_type": "stream",
     "text": [
      "掩码中的唯一值: [  0 255]\n",
      "掩码已保存为: E:/Dataset/CBIS-DDSM/New_CBDDSM/roi/calc-training\\Calc-Training_P_00664_RIGHT_MLO_1_1-2.png\n"
     ]
    },
    {
     "name": "stderr",
     "output_type": "stream",
     "text": [
      "转换文件:  34%|███▍      | 533/1546 [01:24<03:07,  5.40it/s]"
     ]
    },
    {
     "name": "stdout",
     "output_type": "stream",
     "text": [
      "掩码中的唯一值: [  0 255]\n",
      "掩码已保存为: E:/Dataset/CBIS-DDSM/New_CBDDSM/roi/calc-training\\Calc-Training_P_00666_LEFT_CC_1_1-2.png\n",
      "掩码中的唯一值: [  0 255]\n"
     ]
    },
    {
     "name": "stderr",
     "output_type": "stream",
     "text": [
      "转换文件:  35%|███▍      | 535/1546 [01:25<03:12,  5.26it/s]"
     ]
    },
    {
     "name": "stdout",
     "output_type": "stream",
     "text": [
      "掩码已保存为: E:/Dataset/CBIS-DDSM/New_CBDDSM/roi/calc-training\\Calc-Training_P_00666_LEFT_MLO_1_1-2.png\n",
      "掩码中的唯一值: [  0 255]\n",
      "掩码已保存为: E:/Dataset/CBIS-DDSM/New_CBDDSM/roi/calc-training\\Calc-Training_P_00666_RIGHT_CC_2_1-2.png\n"
     ]
    },
    {
     "name": "stderr",
     "output_type": "stream",
     "text": [
      "转换文件:  35%|███▍      | 537/1546 [01:25<03:13,  5.22it/s]"
     ]
    },
    {
     "name": "stdout",
     "output_type": "stream",
     "text": [
      "掩码中的唯一值: [  0 255]\n",
      "掩码已保存为: E:/Dataset/CBIS-DDSM/New_CBDDSM/roi/calc-training\\Calc-Training_P_00666_RIGHT_CC_3_1-2.png\n",
      "掩码中的唯一值: [  0 255]\n",
      "掩码已保存为: E:/Dataset/CBIS-DDSM/New_CBDDSM/roi/calc-training\\Calc-Training_P_00666_RIGHT_MLO_2_1-2.png\n"
     ]
    },
    {
     "name": "stderr",
     "output_type": "stream",
     "text": [
      "转换文件:  35%|███▍      | 539/1546 [01:25<02:52,  5.85it/s]"
     ]
    },
    {
     "name": "stdout",
     "output_type": "stream",
     "text": [
      "掩码中的唯一值: [  0 255]\n",
      "掩码已保存为: E:/Dataset/CBIS-DDSM/New_CBDDSM/roi/calc-training\\Calc-Training_P_00666_RIGHT_MLO_3_1-2.png\n",
      "掩码中的唯一值: [  0 255]\n",
      "掩码已保存为: E:/Dataset/CBIS-DDSM/New_CBDDSM/roi/calc-training\\Calc-Training_P_00667_RIGHT_CC_1_1-2.png\n"
     ]
    },
    {
     "name": "stderr",
     "output_type": "stream",
     "text": [
      "转换文件:  35%|███▍      | 540/1546 [01:26<02:35,  6.45it/s]"
     ]
    },
    {
     "name": "stdout",
     "output_type": "stream",
     "text": [
      "掩码中的唯一值: [  0 255]\n",
      "掩码已保存为: E:/Dataset/CBIS-DDSM/New_CBDDSM/roi/calc-training\\Calc-Training_P_00667_RIGHT_MLO_1_1-2.png\n",
      "掩码中的唯一值: [  0 255]\n",
      "掩码已保存为: E:/Dataset/CBIS-DDSM/New_CBDDSM/roi/calc-training\\Calc-Training_P_00669_RIGHT_CC_1_1-2.png\n"
     ]
    },
    {
     "name": "stderr",
     "output_type": "stream",
     "text": [
      "转换文件:  35%|███▌      | 543/1546 [01:26<02:25,  6.88it/s]"
     ]
    },
    {
     "name": "stdout",
     "output_type": "stream",
     "text": [
      "掩码中的唯一值: [  0 255]\n",
      "掩码已保存为: E:/Dataset/CBIS-DDSM/New_CBDDSM/roi/calc-training\\Calc-Training_P_00669_RIGHT_MLO_1_1-2.png\n",
      "掩码中的唯一值: [  0 255]\n",
      "掩码已保存为: E:/Dataset/CBIS-DDSM/New_CBDDSM/roi/calc-training\\Calc-Training_P_00673_LEFT_MLO_1_1-2.png\n"
     ]
    },
    {
     "name": "stderr",
     "output_type": "stream",
     "text": [
      "转换文件:  35%|███▌      | 545/1546 [01:26<02:29,  6.67it/s]"
     ]
    },
    {
     "name": "stdout",
     "output_type": "stream",
     "text": [
      "掩码中的唯一值: [  0 255]\n",
      "掩码已保存为: E:/Dataset/CBIS-DDSM/New_CBDDSM/roi/calc-training\\Calc-Training_P_00673_RIGHT_MLO_2_1-2.png\n",
      "掩码中的唯一值: [  0 255]\n",
      "掩码已保存为: E:/Dataset/CBIS-DDSM/New_CBDDSM/roi/calc-training\\Calc-Training_P_00674_RIGHT_CC_1_1-2.png\n"
     ]
    },
    {
     "name": "stderr",
     "output_type": "stream",
     "text": [
      "转换文件:  35%|███▌      | 547/1546 [01:27<02:13,  7.50it/s]"
     ]
    },
    {
     "name": "stdout",
     "output_type": "stream",
     "text": [
      "掩码中的唯一值: [  0 255]\n",
      "掩码已保存为: E:/Dataset/CBIS-DDSM/New_CBDDSM/roi/calc-training\\Calc-Training_P_00674_RIGHT_MLO_1_1-2.png\n",
      "掩码中的唯一值: [  0 255]\n",
      "掩码已保存为: E:/Dataset/CBIS-DDSM/New_CBDDSM/roi/calc-training\\Calc-Training_P_00680_LEFT_CC_1_1-2.png\n"
     ]
    },
    {
     "name": "stderr",
     "output_type": "stream",
     "text": [
      "转换文件:  36%|███▌      | 549/1546 [01:27<02:09,  7.71it/s]"
     ]
    },
    {
     "name": "stdout",
     "output_type": "stream",
     "text": [
      "掩码中的唯一值: [  0 255]\n",
      "掩码已保存为: E:/Dataset/CBIS-DDSM/New_CBDDSM/roi/calc-training\\Calc-Training_P_00680_LEFT_MLO_1_1-2.png\n",
      "掩码中的唯一值: [  0 255]\n",
      "掩码已保存为: E:/Dataset/CBIS-DDSM/New_CBDDSM/roi/calc-training\\Calc-Training_P_00680_RIGHT_CC_1_1-2.png\n"
     ]
    },
    {
     "name": "stderr",
     "output_type": "stream",
     "text": [
      "转换文件:  36%|███▌      | 550/1546 [01:27<02:04,  7.98it/s]"
     ]
    },
    {
     "name": "stdout",
     "output_type": "stream",
     "text": [
      "掩码中的唯一值: [  0 255]\n",
      "掩码已保存为: E:/Dataset/CBIS-DDSM/New_CBDDSM/roi/calc-training\\Calc-Training_P_00680_RIGHT_MLO_1_1-2.png\n",
      "掩码中的唯一值: [  0 255]\n",
      "掩码已保存为: E:/Dataset/CBIS-DDSM/New_CBDDSM/roi/calc-training\\Calc-Training_P_00682_RIGHT_CC_1_1-2.png\n",
      "掩码中的唯一值: [  0 255]\n"
     ]
    },
    {
     "name": "stderr",
     "output_type": "stream",
     "text": [
      "转换文件:  36%|███▌      | 553/1546 [01:27<01:55,  8.62it/s]"
     ]
    },
    {
     "name": "stdout",
     "output_type": "stream",
     "text": [
      "掩码已保存为: E:/Dataset/CBIS-DDSM/New_CBDDSM/roi/calc-training\\Calc-Training_P_00682_RIGHT_MLO_1_1-2.png\n",
      "掩码中的唯一值: [  0 255]\n",
      "掩码已保存为: E:/Dataset/CBIS-DDSM/New_CBDDSM/roi/calc-training\\Calc-Training_P_00683_RIGHT_CC_1_1-2.png\n"
     ]
    },
    {
     "name": "stderr",
     "output_type": "stream",
     "text": [
      "转换文件:  36%|███▌      | 555/1546 [01:27<01:58,  8.38it/s]"
     ]
    },
    {
     "name": "stdout",
     "output_type": "stream",
     "text": [
      "掩码中的唯一值: [  0 255]\n",
      "掩码已保存为: E:/Dataset/CBIS-DDSM/New_CBDDSM/roi/calc-training\\Calc-Training_P_00683_RIGHT_MLO_1_1-2.png\n",
      "掩码中的唯一值: [  0 255]\n",
      "掩码已保存为: E:/Dataset/CBIS-DDSM/New_CBDDSM/roi/calc-training\\Calc-Training_P_00684_RIGHT_CC_1_1-2.png\n"
     ]
    },
    {
     "name": "stderr",
     "output_type": "stream",
     "text": [
      "转换文件:  36%|███▌      | 557/1546 [01:28<01:56,  8.46it/s]"
     ]
    },
    {
     "name": "stdout",
     "output_type": "stream",
     "text": [
      "掩码中的唯一值: [  0 255]\n",
      "掩码已保存为: E:/Dataset/CBIS-DDSM/New_CBDDSM/roi/calc-training\\Calc-Training_P_00684_RIGHT_MLO_1_1-2.png\n",
      "掩码中的唯一值: [  0 255]\n",
      "掩码已保存为: E:/Dataset/CBIS-DDSM/New_CBDDSM/roi/calc-training\\Calc-Training_P_00685_RIGHT_CC_1_1-2.png\n"
     ]
    },
    {
     "name": "stderr",
     "output_type": "stream",
     "text": [
      "转换文件:  36%|███▌      | 558/1546 [01:28<01:57,  8.43it/s]"
     ]
    },
    {
     "name": "stdout",
     "output_type": "stream",
     "text": [
      "掩码中的唯一值: [  0 255]\n",
      "掩码已保存为: E:/Dataset/CBIS-DDSM/New_CBDDSM/roi/calc-training\\Calc-Training_P_00685_RIGHT_MLO_1_1-2.png\n"
     ]
    },
    {
     "name": "stderr",
     "output_type": "stream",
     "text": [
      "转换文件:  36%|███▌      | 560/1546 [01:28<02:29,  6.57it/s]"
     ]
    },
    {
     "name": "stdout",
     "output_type": "stream",
     "text": [
      "掩码中的唯一值: [  0 255]\n",
      "掩码已保存为: E:/Dataset/CBIS-DDSM/New_CBDDSM/roi/calc-training\\Calc-Training_P_00693_LEFT_CC_1_1-2.png\n",
      "掩码中的唯一值: [  0 255]\n",
      "掩码已保存为: E:/Dataset/CBIS-DDSM/New_CBDDSM/roi/calc-training\\Calc-Training_P_00693_LEFT_MLO_1_1-2.png\n"
     ]
    },
    {
     "name": "stderr",
     "output_type": "stream",
     "text": [
      "转换文件:  36%|███▋      | 562/1546 [01:28<02:15,  7.24it/s]"
     ]
    },
    {
     "name": "stdout",
     "output_type": "stream",
     "text": [
      "掩码中的唯一值: [  0 255]\n",
      "掩码已保存为: E:/Dataset/CBIS-DDSM/New_CBDDSM/roi/calc-training\\Calc-Training_P_00701_LEFT_CC_1_1-2.png\n",
      "掩码中的唯一值: [  0 255]\n",
      "掩码已保存为: E:/Dataset/CBIS-DDSM/New_CBDDSM/roi/calc-training\\Calc-Training_P_00701_LEFT_MLO_1_1-2.png\n"
     ]
    },
    {
     "name": "stderr",
     "output_type": "stream",
     "text": [
      "转换文件:  36%|███▋      | 564/1546 [01:29<02:07,  7.71it/s]"
     ]
    },
    {
     "name": "stdout",
     "output_type": "stream",
     "text": [
      "掩码中的唯一值: [  0 255]\n",
      "掩码已保存为: E:/Dataset/CBIS-DDSM/New_CBDDSM/roi/calc-training\\Calc-Training_P_00704_LEFT_CC_1_1-2.png\n",
      "掩码中的唯一值: [  0 255]\n",
      "掩码已保存为: E:/Dataset/CBIS-DDSM/New_CBDDSM/roi/calc-training\\Calc-Training_P_00704_LEFT_MLO_1_1-2.png\n"
     ]
    },
    {
     "name": "stderr",
     "output_type": "stream",
     "text": [
      "转换文件:  37%|███▋      | 566/1546 [01:29<02:56,  5.54it/s]"
     ]
    },
    {
     "name": "stdout",
     "output_type": "stream",
     "text": [
      "掩码中的唯一值: [  0 255]\n",
      "掩码已保存为: E:/Dataset/CBIS-DDSM/New_CBDDSM/roi/calc-training\\Calc-Training_P_00705_LEFT_CC_1_1-2.png\n",
      "掩码中的唯一值: [  0 255]\n",
      "掩码已保存为: E:/Dataset/CBIS-DDSM/New_CBDDSM/roi/calc-training\\Calc-Training_P_00705_LEFT_CC_2_1-2.png\n"
     ]
    },
    {
     "name": "stderr",
     "output_type": "stream",
     "text": [
      "转换文件:  37%|███▋      | 567/1546 [01:29<03:05,  5.27it/s]"
     ]
    },
    {
     "name": "stdout",
     "output_type": "stream",
     "text": [
      "掩码中的唯一值: [  0 255]\n",
      "掩码已保存为: E:/Dataset/CBIS-DDSM/New_CBDDSM/roi/calc-training\\Calc-Training_P_00705_LEFT_MLO_1_1-2.png\n"
     ]
    },
    {
     "name": "stderr",
     "output_type": "stream",
     "text": [
      "转换文件:  37%|███▋      | 570/1546 [01:30<02:25,  6.69it/s]"
     ]
    },
    {
     "name": "stdout",
     "output_type": "stream",
     "text": [
      "掩码中的唯一值: [  0 255]\n",
      "掩码已保存为: E:/Dataset/CBIS-DDSM/New_CBDDSM/roi/calc-training\\Calc-Training_P_00705_LEFT_MLO_2_1-2.png\n",
      "掩码中的唯一值: [  0 255]\n",
      "掩码已保存为: E:/Dataset/CBIS-DDSM/New_CBDDSM/roi/calc-training\\Calc-Training_P_00709_RIGHT_CC_1_1-2.png\n",
      "掩码中的唯一值: [  0 255]\n",
      "掩码已保存为: E:/Dataset/CBIS-DDSM/New_CBDDSM/roi/calc-training\\Calc-Training_P_00709_RIGHT_MLO_1_1-2.png\n"
     ]
    },
    {
     "name": "stderr",
     "output_type": "stream",
     "text": [
      "转换文件:  37%|███▋      | 572/1546 [01:30<02:17,  7.08it/s]"
     ]
    },
    {
     "name": "stdout",
     "output_type": "stream",
     "text": [
      "掩码中的唯一值: [  0 255]\n",
      "掩码已保存为: E:/Dataset/CBIS-DDSM/New_CBDDSM/roi/calc-training\\Calc-Training_P_00710_RIGHT_CC_2_1-2.png\n",
      "掩码中的唯一值: [  0 255]\n",
      "掩码已保存为: E:/Dataset/CBIS-DDSM/New_CBDDSM/roi/calc-training\\Calc-Training_P_00710_RIGHT_MLO_2_1-2.png\n"
     ]
    },
    {
     "name": "stderr",
     "output_type": "stream",
     "text": [
      "转换文件:  37%|███▋      | 573/1546 [01:30<02:07,  7.64it/s]"
     ]
    },
    {
     "name": "stdout",
     "output_type": "stream",
     "text": [
      "掩码中的唯一值: [  0 255]\n",
      "掩码已保存为: E:/Dataset/CBIS-DDSM/New_CBDDSM/roi/calc-training\\Calc-Training_P_00712_RIGHT_CC_1_1-2.png\n",
      "掩码中的唯一值: [  0 255]\n",
      "掩码已保存为: E:/Dataset/CBIS-DDSM/New_CBDDSM/roi/calc-training\\Calc-Training_P_00712_RIGHT_MLO_1_1-2.png\n"
     ]
    },
    {
     "name": "stderr",
     "output_type": "stream",
     "text": [
      "转换文件:  37%|███▋      | 577/1546 [01:31<02:11,  7.38it/s]"
     ]
    },
    {
     "name": "stdout",
     "output_type": "stream",
     "text": [
      "掩码中的唯一值: [  0 255]\n",
      "掩码已保存为: E:/Dataset/CBIS-DDSM/New_CBDDSM/roi/calc-training\\Calc-Training_P_00713_LEFT_CC_1_1-2.png\n",
      "掩码中的唯一值: [  0 255]\n",
      "掩码已保存为: E:/Dataset/CBIS-DDSM/New_CBDDSM/roi/calc-training\\Calc-Training_P_00725_LEFT_CC_1_1-2.png\n",
      "掩码中的唯一值: [  0 255]\n",
      "掩码已保存为: E:/Dataset/CBIS-DDSM/New_CBDDSM/roi/calc-training\\Calc-Training_P_00725_LEFT_MLO_1_1-2.png\n"
     ]
    },
    {
     "name": "stderr",
     "output_type": "stream",
     "text": [
      "转换文件:  37%|███▋      | 579/1546 [01:31<02:19,  6.94it/s]"
     ]
    },
    {
     "name": "stdout",
     "output_type": "stream",
     "text": [
      "掩码中的唯一值: [  0 255]\n",
      "掩码已保存为: E:/Dataset/CBIS-DDSM/New_CBDDSM/roi/calc-training\\Calc-Training_P_00729_LEFT_CC_1_1-2.png\n",
      "掩码中的唯一值: [  0 255]\n",
      "掩码已保存为: E:/Dataset/CBIS-DDSM/New_CBDDSM/roi/calc-training\\Calc-Training_P_00729_LEFT_MLO_1_1-2.png\n"
     ]
    },
    {
     "name": "stderr",
     "output_type": "stream",
     "text": [
      "转换文件:  38%|███▊      | 581/1546 [01:31<02:09,  7.46it/s]"
     ]
    },
    {
     "name": "stdout",
     "output_type": "stream",
     "text": [
      "掩码中的唯一值: [  0 255]\n",
      "掩码已保存为: E:/Dataset/CBIS-DDSM/New_CBDDSM/roi/calc-training\\Calc-Training_P_00734_RIGHT_CC_1_1-2.png\n",
      "掩码中的唯一值: [  0 255]\n",
      "掩码已保存为: E:/Dataset/CBIS-DDSM/New_CBDDSM/roi/calc-training\\Calc-Training_P_00734_RIGHT_MLO_2_1-2.png\n"
     ]
    },
    {
     "name": "stderr",
     "output_type": "stream",
     "text": [
      "转换文件:  38%|███▊      | 583/1546 [01:32<02:21,  6.79it/s]"
     ]
    },
    {
     "name": "stdout",
     "output_type": "stream",
     "text": [
      "掩码中的唯一值: [  0 255]\n",
      "掩码已保存为: E:/Dataset/CBIS-DDSM/New_CBDDSM/roi/calc-training\\Calc-Training_P_00735_LEFT_CC_1_1-2.png\n",
      "掩码中的唯一值: [  0 255]\n",
      "掩码已保存为: E:/Dataset/CBIS-DDSM/New_CBDDSM/roi/calc-training\\Calc-Training_P_00735_LEFT_MLO_1_1-2.png\n"
     ]
    },
    {
     "name": "stderr",
     "output_type": "stream",
     "text": [
      "转换文件:  38%|███▊      | 585/1546 [01:32<02:43,  5.89it/s]"
     ]
    },
    {
     "name": "stdout",
     "output_type": "stream",
     "text": [
      "掩码中的唯一值: [  0 255]\n",
      "掩码已保存为: E:/Dataset/CBIS-DDSM/New_CBDDSM/roi/calc-training\\Calc-Training_P_00736_LEFT_CC_1_1-2.png\n",
      "掩码中的唯一值: [  0 255]\n",
      "掩码已保存为: E:/Dataset/CBIS-DDSM/New_CBDDSM/roi/calc-training\\Calc-Training_P_00736_LEFT_MLO_1_1-2.png\n"
     ]
    },
    {
     "name": "stderr",
     "output_type": "stream",
     "text": [
      "转换文件:  38%|███▊      | 587/1546 [01:32<02:15,  7.07it/s]"
     ]
    },
    {
     "name": "stdout",
     "output_type": "stream",
     "text": [
      "掩码中的唯一值: [  0 255]\n",
      "掩码已保存为: E:/Dataset/CBIS-DDSM/New_CBDDSM/roi/calc-training\\Calc-Training_P_00743_LEFT_CC_1_1-2.png\n",
      "掩码中的唯一值: [  0 255]\n",
      "掩码已保存为: E:/Dataset/CBIS-DDSM/New_CBDDSM/roi/calc-training\\Calc-Training_P_00743_LEFT_MLO_1_1-2.png\n"
     ]
    },
    {
     "name": "stderr",
     "output_type": "stream",
     "text": [
      "转换文件:  38%|███▊      | 589/1546 [01:32<02:07,  7.49it/s]"
     ]
    },
    {
     "name": "stdout",
     "output_type": "stream",
     "text": [
      "掩码中的唯一值: [  0 255]\n",
      "掩码已保存为: E:/Dataset/CBIS-DDSM/New_CBDDSM/roi/calc-training\\Calc-Training_P_00744_RIGHT_CC_1_1-2.png\n",
      "掩码中的唯一值: [  0 255]\n",
      "掩码已保存为: E:/Dataset/CBIS-DDSM/New_CBDDSM/roi/calc-training\\Calc-Training_P_00744_RIGHT_MLO_1_1-2.png\n"
     ]
    },
    {
     "name": "stderr",
     "output_type": "stream",
     "text": [
      "转换文件:  38%|███▊      | 591/1546 [01:33<02:01,  7.85it/s]"
     ]
    },
    {
     "name": "stdout",
     "output_type": "stream",
     "text": [
      "掩码中的唯一值: [  0 255]\n",
      "掩码已保存为: E:/Dataset/CBIS-DDSM/New_CBDDSM/roi/calc-training\\Calc-Training_P_00750_LEFT_CC_1_1-2.png\n",
      "掩码中的唯一值: [  0 255]\n",
      "掩码已保存为: E:/Dataset/CBIS-DDSM/New_CBDDSM/roi/calc-training\\Calc-Training_P_00750_LEFT_MLO_1_1-2.png\n"
     ]
    },
    {
     "name": "stderr",
     "output_type": "stream",
     "text": [
      "转换文件:  38%|███▊      | 593/1546 [01:33<02:01,  7.86it/s]"
     ]
    },
    {
     "name": "stdout",
     "output_type": "stream",
     "text": [
      "掩码中的唯一值: [  0 255]\n",
      "掩码已保存为: E:/Dataset/CBIS-DDSM/New_CBDDSM/roi/calc-training\\Calc-Training_P_00750_RIGHT_CC_1_1-2.png\n",
      "掩码中的唯一值: [  0 255]\n",
      "掩码已保存为: E:/Dataset/CBIS-DDSM/New_CBDDSM/roi/calc-training\\Calc-Training_P_00750_RIGHT_CC_2_1-2.png\n"
     ]
    },
    {
     "name": "stderr",
     "output_type": "stream",
     "text": [
      "转换文件:  38%|███▊      | 595/1546 [01:33<02:00,  7.89it/s]"
     ]
    },
    {
     "name": "stdout",
     "output_type": "stream",
     "text": [
      "掩码中的唯一值: [  0 255]\n",
      "掩码已保存为: E:/Dataset/CBIS-DDSM/New_CBDDSM/roi/calc-training\\Calc-Training_P_00750_RIGHT_MLO_1_1-2.png\n",
      "掩码中的唯一值: [  0 255]\n",
      "掩码已保存为: E:/Dataset/CBIS-DDSM/New_CBDDSM/roi/calc-training\\Calc-Training_P_00750_RIGHT_MLO_2_1-2.png\n"
     ]
    },
    {
     "name": "stderr",
     "output_type": "stream",
     "text": [
      "转换文件:  39%|███▊      | 597/1546 [01:34<02:31,  6.25it/s]"
     ]
    },
    {
     "name": "stdout",
     "output_type": "stream",
     "text": [
      "掩码中的唯一值: [  0 255]\n",
      "掩码已保存为: E:/Dataset/CBIS-DDSM/New_CBDDSM/roi/calc-training\\Calc-Training_P_00751_LEFT_CC_1_1-2.png\n",
      "掩码中的唯一值: [  0 255]\n",
      "掩码已保存为: E:/Dataset/CBIS-DDSM/New_CBDDSM/roi/calc-training\\Calc-Training_P_00757_LEFT_MLO_1_1-2.png\n"
     ]
    },
    {
     "name": "stderr",
     "output_type": "stream",
     "text": [
      "转换文件:  39%|███▉      | 600/1546 [01:34<01:58,  7.98it/s]"
     ]
    },
    {
     "name": "stdout",
     "output_type": "stream",
     "text": [
      "掩码中的唯一值: [  0 255]\n",
      "掩码已保存为: E:/Dataset/CBIS-DDSM/New_CBDDSM/roi/calc-training\\Calc-Training_P_00759_LEFT_CC_1_1-2.png\n",
      "掩码中的唯一值: [  0 255]\n",
      "掩码已保存为: E:/Dataset/CBIS-DDSM/New_CBDDSM/roi/calc-training\\Calc-Training_P_00759_LEFT_CC_2_1-2.png\n",
      "掩码中的唯一值: [  0 255]\n",
      "掩码已保存为: E:/Dataset/CBIS-DDSM/New_CBDDSM/roi/calc-training\\Calc-Training_P_00759_LEFT_MLO_1_1-2.png\n"
     ]
    },
    {
     "name": "stderr",
     "output_type": "stream",
     "text": [
      "转换文件:  39%|███▉      | 602/1546 [01:34<01:55,  8.19it/s]"
     ]
    },
    {
     "name": "stdout",
     "output_type": "stream",
     "text": [
      "掩码中的唯一值: [  0 255]\n",
      "掩码已保存为: E:/Dataset/CBIS-DDSM/New_CBDDSM/roi/calc-training\\Calc-Training_P_00759_LEFT_MLO_2_1-2.png\n",
      "掩码中的唯一值: [  0 255]\n",
      "掩码已保存为: E:/Dataset/CBIS-DDSM/New_CBDDSM/roi/calc-training\\Calc-Training_P_00761_RIGHT_CC_1_1-2.png\n"
     ]
    },
    {
     "name": "stderr",
     "output_type": "stream",
     "text": [
      "转换文件:  39%|███▉      | 603/1546 [01:34<01:55,  8.18it/s]"
     ]
    },
    {
     "name": "stdout",
     "output_type": "stream",
     "text": [
      "掩码中的唯一值: [  0 255]\n",
      "掩码已保存为: E:/Dataset/CBIS-DDSM/New_CBDDSM/roi/calc-training\\Calc-Training_P_00761_RIGHT_MLO_1_1-2.png\n"
     ]
    },
    {
     "name": "stderr",
     "output_type": "stream",
     "text": [
      "转换文件:  39%|███▉      | 604/1546 [01:35<02:17,  6.83it/s]"
     ]
    },
    {
     "name": "stdout",
     "output_type": "stream",
     "text": [
      "掩码中的唯一值: [  0 255]\n",
      "掩码已保存为: E:/Dataset/CBIS-DDSM/New_CBDDSM/roi/calc-training\\Calc-Training_P_00767_LEFT_CC_1_1-2.png\n"
     ]
    },
    {
     "name": "stderr",
     "output_type": "stream",
     "text": [
      "转换文件:  39%|███▉      | 605/1546 [01:35<02:35,  6.05it/s]"
     ]
    },
    {
     "name": "stdout",
     "output_type": "stream",
     "text": [
      "掩码中的唯一值: [  0 255]\n",
      "掩码已保存为: E:/Dataset/CBIS-DDSM/New_CBDDSM/roi/calc-training\\Calc-Training_P_00767_LEFT_MLO_1_1-2.png\n",
      "掩码中的唯一值: [  0 255]\n"
     ]
    },
    {
     "name": "stderr",
     "output_type": "stream",
     "text": [
      "转换文件:  39%|███▉      | 606/1546 [01:35<02:48,  5.59it/s]"
     ]
    },
    {
     "name": "stdout",
     "output_type": "stream",
     "text": [
      "掩码已保存为: E:/Dataset/CBIS-DDSM/New_CBDDSM/roi/calc-training\\Calc-Training_P_00767_RIGHT_CC_1_1-2.png\n",
      "掩码中的唯一值: [  0 255]\n"
     ]
    },
    {
     "name": "stderr",
     "output_type": "stream",
     "text": [
      "转换文件:  39%|███▉      | 608/1546 [01:35<02:39,  5.89it/s]"
     ]
    },
    {
     "name": "stdout",
     "output_type": "stream",
     "text": [
      "掩码已保存为: E:/Dataset/CBIS-DDSM/New_CBDDSM/roi/calc-training\\Calc-Training_P_00767_RIGHT_MLO_1_1-2.png\n",
      "掩码中的唯一值: [  0 255]\n",
      "掩码已保存为: E:/Dataset/CBIS-DDSM/New_CBDDSM/roi/calc-training\\Calc-Training_P_00768_LEFT_CC_1_1-2.png\n"
     ]
    },
    {
     "name": "stderr",
     "output_type": "stream",
     "text": [
      "转换文件:  39%|███▉      | 610/1546 [01:36<02:37,  5.95it/s]"
     ]
    },
    {
     "name": "stdout",
     "output_type": "stream",
     "text": [
      "掩码中的唯一值: [  0 255]\n",
      "掩码已保存为: E:/Dataset/CBIS-DDSM/New_CBDDSM/roi/calc-training\\Calc-Training_P_00768_LEFT_MLO_1_1-2.png\n",
      "掩码中的唯一值: [  0 255]\n",
      "掩码已保存为: E:/Dataset/CBIS-DDSM/New_CBDDSM/roi/calc-training\\Calc-Training_P_00771_RIGHT_CC_1_1-2.png\n"
     ]
    },
    {
     "name": "stderr",
     "output_type": "stream",
     "text": [
      "转换文件:  40%|███▉      | 612/1546 [01:36<02:31,  6.16it/s]"
     ]
    },
    {
     "name": "stdout",
     "output_type": "stream",
     "text": [
      "掩码中的唯一值: [  0 255]\n",
      "掩码已保存为: E:/Dataset/CBIS-DDSM/New_CBDDSM/roi/calc-training\\Calc-Training_P_00771_RIGHT_MLO_1_1-2.png\n",
      "掩码中的唯一值: [  0 255]\n",
      "掩码已保存为: E:/Dataset/CBIS-DDSM/New_CBDDSM/roi/calc-training\\Calc-Training_P_00772_RIGHT_CC_1_1-2.png\n"
     ]
    },
    {
     "name": "stderr",
     "output_type": "stream",
     "text": [
      "转换文件:  40%|███▉      | 614/1546 [01:36<02:22,  6.56it/s]"
     ]
    },
    {
     "name": "stdout",
     "output_type": "stream",
     "text": [
      "掩码中的唯一值: [  0 255]\n",
      "掩码已保存为: E:/Dataset/CBIS-DDSM/New_CBDDSM/roi/calc-training\\Calc-Training_P_00772_RIGHT_MLO_1_1-2.png\n",
      "掩码中的唯一值: [  0 255]\n",
      "掩码已保存为: E:/Dataset/CBIS-DDSM/New_CBDDSM/roi/calc-training\\Calc-Training_P_00778_LEFT_CC_1_1-2.png\n"
     ]
    },
    {
     "name": "stderr",
     "output_type": "stream",
     "text": [
      "转换文件:  40%|███▉      | 616/1546 [01:36<02:12,  7.02it/s]"
     ]
    },
    {
     "name": "stdout",
     "output_type": "stream",
     "text": [
      "掩码中的唯一值: [  0 255]\n",
      "掩码已保存为: E:/Dataset/CBIS-DDSM/New_CBDDSM/roi/calc-training\\Calc-Training_P_00778_LEFT_MLO_1_1-2.png\n",
      "掩码中的唯一值: [  0 255]\n",
      "掩码已保存为: E:/Dataset/CBIS-DDSM/New_CBDDSM/roi/calc-training\\Calc-Training_P_00780_LEFT_CC_1_1-2.png\n"
     ]
    },
    {
     "name": "stderr",
     "output_type": "stream",
     "text": [
      "转换文件:  40%|███▉      | 618/1546 [01:37<02:05,  7.40it/s]"
     ]
    },
    {
     "name": "stdout",
     "output_type": "stream",
     "text": [
      "掩码中的唯一值: [  0 255]\n",
      "掩码已保存为: E:/Dataset/CBIS-DDSM/New_CBDDSM/roi/calc-training\\Calc-Training_P_00780_LEFT_CC_2_1-2.png\n",
      "掩码中的唯一值: [  0 255]\n",
      "掩码已保存为: E:/Dataset/CBIS-DDSM/New_CBDDSM/roi/calc-training\\Calc-Training_P_00780_LEFT_MLO_1_1-2.png\n"
     ]
    },
    {
     "name": "stderr",
     "output_type": "stream",
     "text": [
      "转换文件:  40%|████      | 620/1546 [01:37<02:00,  7.66it/s]"
     ]
    },
    {
     "name": "stdout",
     "output_type": "stream",
     "text": [
      "掩码中的唯一值: [  0 255]\n",
      "掩码已保存为: E:/Dataset/CBIS-DDSM/New_CBDDSM/roi/calc-training\\Calc-Training_P_00780_LEFT_MLO_2_1-2.png\n",
      "掩码中的唯一值: [  0 255]\n",
      "掩码已保存为: E:/Dataset/CBIS-DDSM/New_CBDDSM/roi/calc-training\\Calc-Training_P_00780_RIGHT_CC_1_1-2.png\n"
     ]
    },
    {
     "name": "stderr",
     "output_type": "stream",
     "text": [
      "转换文件:  40%|████      | 622/1546 [01:37<01:57,  7.84it/s]"
     ]
    },
    {
     "name": "stdout",
     "output_type": "stream",
     "text": [
      "掩码中的唯一值: [  0 255]\n",
      "掩码已保存为: E:/Dataset/CBIS-DDSM/New_CBDDSM/roi/calc-training\\Calc-Training_P_00780_RIGHT_CC_2_1-2.png\n",
      "掩码中的唯一值: [  0 255]\n",
      "掩码已保存为: E:/Dataset/CBIS-DDSM/New_CBDDSM/roi/calc-training\\Calc-Training_P_00780_RIGHT_CC_3_1-2.png\n"
     ]
    },
    {
     "name": "stderr",
     "output_type": "stream",
     "text": [
      "转换文件:  40%|████      | 624/1546 [01:37<01:54,  8.03it/s]"
     ]
    },
    {
     "name": "stdout",
     "output_type": "stream",
     "text": [
      "掩码中的唯一值: [  0 255]\n",
      "掩码已保存为: E:/Dataset/CBIS-DDSM/New_CBDDSM/roi/calc-training\\Calc-Training_P_00780_RIGHT_CC_4_1-2.png\n",
      "掩码中的唯一值: [  0 255]\n",
      "掩码已保存为: E:/Dataset/CBIS-DDSM/New_CBDDSM/roi/calc-training\\Calc-Training_P_00780_RIGHT_CC_5_1-2.png\n"
     ]
    },
    {
     "name": "stderr",
     "output_type": "stream",
     "text": [
      "转换文件:  40%|████      | 626/1546 [01:38<01:54,  8.04it/s]"
     ]
    },
    {
     "name": "stdout",
     "output_type": "stream",
     "text": [
      "掩码中的唯一值: [  0 255]\n",
      "掩码已保存为: E:/Dataset/CBIS-DDSM/New_CBDDSM/roi/calc-training\\Calc-Training_P_00780_RIGHT_MLO_1_1-2.png\n",
      "掩码中的唯一值: [  0 255]\n",
      "掩码已保存为: E:/Dataset/CBIS-DDSM/New_CBDDSM/roi/calc-training\\Calc-Training_P_00780_RIGHT_MLO_2_1-2.png\n"
     ]
    },
    {
     "name": "stderr",
     "output_type": "stream",
     "text": [
      "转换文件:  41%|████      | 628/1546 [01:38<02:02,  7.51it/s]"
     ]
    },
    {
     "name": "stdout",
     "output_type": "stream",
     "text": [
      "掩码中的唯一值: [  0 255]\n",
      "掩码已保存为: E:/Dataset/CBIS-DDSM/New_CBDDSM/roi/calc-training\\Calc-Training_P_00780_RIGHT_MLO_3_1-2.png\n",
      "掩码中的唯一值: [  0 255]\n",
      "掩码已保存为: E:/Dataset/CBIS-DDSM/New_CBDDSM/roi/calc-training\\Calc-Training_P_00780_RIGHT_MLO_4_1-2.png\n"
     ]
    },
    {
     "name": "stderr",
     "output_type": "stream",
     "text": [
      "转换文件:  41%|████      | 630/1546 [01:38<02:09,  7.05it/s]"
     ]
    },
    {
     "name": "stdout",
     "output_type": "stream",
     "text": [
      "掩码中的唯一值: [  0 255]\n",
      "掩码已保存为: E:/Dataset/CBIS-DDSM/New_CBDDSM/roi/calc-training\\Calc-Training_P_00780_RIGHT_MLO_5_1-2.png\n",
      "掩码中的唯一值: [  0 255]\n",
      "掩码已保存为: E:/Dataset/CBIS-DDSM/New_CBDDSM/roi/calc-training\\Calc-Training_P_00784_RIGHT_CC_1_1-2.png\n"
     ]
    },
    {
     "name": "stderr",
     "output_type": "stream",
     "text": [
      "转换文件:  41%|████      | 631/1546 [01:38<02:16,  6.69it/s]"
     ]
    },
    {
     "name": "stdout",
     "output_type": "stream",
     "text": [
      "掩码中的唯一值: [  0 255]\n",
      "掩码已保存为: E:/Dataset/CBIS-DDSM/New_CBDDSM/roi/calc-training\\Calc-Training_P_00784_RIGHT_MLO_1_1-2.png\n",
      "掩码中的唯一值: [  0 255]\n",
      "掩码已保存为: E:/Dataset/CBIS-DDSM/New_CBDDSM/roi/calc-training\\Calc-Training_P_00787_LEFT_CC_1_1-2.png\n"
     ]
    },
    {
     "name": "stderr",
     "output_type": "stream",
     "text": [
      "转换文件:  41%|████      | 634/1546 [01:39<01:57,  7.78it/s]"
     ]
    },
    {
     "name": "stdout",
     "output_type": "stream",
     "text": [
      "掩码中的唯一值: [  0 255]\n",
      "掩码已保存为: E:/Dataset/CBIS-DDSM/New_CBDDSM/roi/calc-training\\Calc-Training_P_00787_LEFT_MLO_1_1-2.png\n",
      "掩码中的唯一值: [  0 255]\n",
      "掩码已保存为: E:/Dataset/CBIS-DDSM/New_CBDDSM/roi/calc-training\\Calc-Training_P_00792_LEFT_CC_1_1-2.png\n"
     ]
    },
    {
     "name": "stderr",
     "output_type": "stream",
     "text": [
      "转换文件:  41%|████      | 636/1546 [01:39<01:55,  7.89it/s]"
     ]
    },
    {
     "name": "stdout",
     "output_type": "stream",
     "text": [
      "掩码中的唯一值: [  0 255]\n",
      "掩码已保存为: E:/Dataset/CBIS-DDSM/New_CBDDSM/roi/calc-training\\Calc-Training_P_00792_LEFT_MLO_1_1-2.png\n",
      "掩码中的唯一值: [  0 255]\n",
      "掩码已保存为: E:/Dataset/CBIS-DDSM/New_CBDDSM/roi/calc-training\\Calc-Training_P_00793_LEFT_CC_1_1-2.png\n"
     ]
    },
    {
     "name": "stderr",
     "output_type": "stream",
     "text": [
      "转换文件:  41%|████▏     | 638/1546 [01:39<01:53,  8.02it/s]"
     ]
    },
    {
     "name": "stdout",
     "output_type": "stream",
     "text": [
      "掩码中的唯一值: [  0 255]\n",
      "掩码已保存为: E:/Dataset/CBIS-DDSM/New_CBDDSM/roi/calc-training\\Calc-Training_P_00793_LEFT_MLO_1_1-2.png\n",
      "掩码中的唯一值: [  0 255]\n",
      "掩码已保存为: E:/Dataset/CBIS-DDSM/New_CBDDSM/roi/calc-training\\Calc-Training_P_00799_LEFT_CC_1_1-2.png\n"
     ]
    },
    {
     "name": "stderr",
     "output_type": "stream",
     "text": [
      "转换文件:  41%|████▏     | 640/1546 [01:40<01:52,  8.07it/s]"
     ]
    },
    {
     "name": "stdout",
     "output_type": "stream",
     "text": [
      "掩码中的唯一值: [  0 255]\n",
      "掩码已保存为: E:/Dataset/CBIS-DDSM/New_CBDDSM/roi/calc-training\\Calc-Training_P_00799_LEFT_MLO_1_1-2.png\n",
      "掩码中的唯一值: [  0 255]\n",
      "掩码已保存为: E:/Dataset/CBIS-DDSM/New_CBDDSM/roi/calc-training\\Calc-Training_P_00799_RIGHT_CC_1_1-2.png\n"
     ]
    },
    {
     "name": "stderr",
     "output_type": "stream",
     "text": [
      "转换文件:  42%|████▏     | 642/1546 [01:40<02:05,  7.18it/s]"
     ]
    },
    {
     "name": "stdout",
     "output_type": "stream",
     "text": [
      "掩码中的唯一值: [  0 255]\n",
      "掩码已保存为: E:/Dataset/CBIS-DDSM/New_CBDDSM/roi/calc-training\\Calc-Training_P_00799_RIGHT_MLO_1_1-2.png\n",
      "掩码中的唯一值: [  0 255]\n",
      "掩码已保存为: E:/Dataset/CBIS-DDSM/New_CBDDSM/roi/calc-training\\Calc-Training_P_00806_LEFT_CC_1_1-2.png\n"
     ]
    },
    {
     "name": "stderr",
     "output_type": "stream",
     "text": [
      "转换文件:  42%|████▏     | 644/1546 [01:40<02:12,  6.78it/s]"
     ]
    },
    {
     "name": "stdout",
     "output_type": "stream",
     "text": [
      "掩码中的唯一值: [  0 255]\n",
      "掩码已保存为: E:/Dataset/CBIS-DDSM/New_CBDDSM/roi/calc-training\\Calc-Training_P_00806_LEFT_MLO_1_1-2.png\n",
      "掩码中的唯一值: [  0 255]\n",
      "掩码已保存为: E:/Dataset/CBIS-DDSM/New_CBDDSM/roi/calc-training\\Calc-Training_P_00808_LEFT_MLO_1_1-2.png\n"
     ]
    },
    {
     "name": "stderr",
     "output_type": "stream",
     "text": [
      "转换文件:  42%|████▏     | 646/1546 [01:40<01:59,  7.56it/s]"
     ]
    },
    {
     "name": "stdout",
     "output_type": "stream",
     "text": [
      "掩码中的唯一值: [  0 255]\n",
      "掩码已保存为: E:/Dataset/CBIS-DDSM/New_CBDDSM/roi/calc-training\\Calc-Training_P_00809_LEFT_CC_1_1-2.png\n",
      "掩码中的唯一值: [  0 255]\n",
      "掩码已保存为: E:/Dataset/CBIS-DDSM/New_CBDDSM/roi/calc-training\\Calc-Training_P_00809_LEFT_MLO_1_1-2.png\n"
     ]
    },
    {
     "name": "stderr",
     "output_type": "stream",
     "text": [
      "转换文件:  42%|████▏     | 648/1546 [01:41<01:58,  7.60it/s]"
     ]
    },
    {
     "name": "stdout",
     "output_type": "stream",
     "text": [
      "掩码中的唯一值: [  0 255]\n",
      "掩码已保存为: E:/Dataset/CBIS-DDSM/New_CBDDSM/roi/calc-training\\Calc-Training_P_00812_LEFT_CC_1_1-2.png\n",
      "掩码中的唯一值: [  0 255]\n",
      "掩码已保存为: E:/Dataset/CBIS-DDSM/New_CBDDSM/roi/calc-training\\Calc-Training_P_00812_LEFT_MLO_1_1-2.png\n"
     ]
    },
    {
     "name": "stderr",
     "output_type": "stream",
     "text": [
      "转换文件:  42%|████▏     | 650/1546 [01:41<01:51,  8.05it/s]"
     ]
    },
    {
     "name": "stdout",
     "output_type": "stream",
     "text": [
      "掩码中的唯一值: [  0 255]\n",
      "掩码已保存为: E:/Dataset/CBIS-DDSM/New_CBDDSM/roi/calc-training\\Calc-Training_P_00814_LEFT_CC_2_1-2.png\n",
      "掩码中的唯一值: [  0 255]\n",
      "掩码已保存为: E:/Dataset/CBIS-DDSM/New_CBDDSM/roi/calc-training\\Calc-Training_P_00814_LEFT_MLO_2_1-2.png\n"
     ]
    },
    {
     "name": "stderr",
     "output_type": "stream",
     "text": [
      "转换文件:  42%|████▏     | 652/1546 [01:41<01:47,  8.35it/s]"
     ]
    },
    {
     "name": "stdout",
     "output_type": "stream",
     "text": [
      "掩码中的唯一值: [  0 255]\n",
      "掩码已保存为: E:/Dataset/CBIS-DDSM/New_CBDDSM/roi/calc-training\\Calc-Training_P_00814_RIGHT_CC_1_1-2.png\n",
      "掩码中的唯一值: [  0 255]\n",
      "掩码已保存为: E:/Dataset/CBIS-DDSM/New_CBDDSM/roi/calc-training\\Calc-Training_P_00814_RIGHT_MLO_1_1-2.png\n"
     ]
    },
    {
     "name": "stderr",
     "output_type": "stream",
     "text": [
      "转换文件:  42%|████▏     | 654/1546 [01:41<01:51,  8.00it/s]"
     ]
    },
    {
     "name": "stdout",
     "output_type": "stream",
     "text": [
      "掩码中的唯一值: [  0 255]\n",
      "掩码已保存为: E:/Dataset/CBIS-DDSM/New_CBDDSM/roi/calc-training\\Calc-Training_P_00819_RIGHT_CC_1_1-2.png\n",
      "掩码中的唯一值: [  0 255]\n",
      "掩码已保存为: E:/Dataset/CBIS-DDSM/New_CBDDSM/roi/calc-training\\Calc-Training_P_00819_RIGHT_MLO_1_1-2.png\n"
     ]
    },
    {
     "name": "stderr",
     "output_type": "stream",
     "text": [
      "转换文件:  42%|████▏     | 656/1546 [01:42<01:45,  8.45it/s]"
     ]
    },
    {
     "name": "stdout",
     "output_type": "stream",
     "text": [
      "掩码中的唯一值: [  0 255]\n",
      "掩码已保存为: E:/Dataset/CBIS-DDSM/New_CBDDSM/roi/calc-training\\Calc-Training_P_00824_LEFT_CC_1_1-2.png\n",
      "掩码中的唯一值: [  0 255]\n",
      "掩码已保存为: E:/Dataset/CBIS-DDSM/New_CBDDSM/roi/calc-training\\Calc-Training_P_00824_LEFT_MLO_1_1-2.png\n"
     ]
    },
    {
     "name": "stderr",
     "output_type": "stream",
     "text": [
      "转换文件:  43%|████▎     | 658/1546 [01:42<01:47,  8.26it/s]"
     ]
    },
    {
     "name": "stdout",
     "output_type": "stream",
     "text": [
      "掩码中的唯一值: [  0 255]\n",
      "掩码已保存为: E:/Dataset/CBIS-DDSM/New_CBDDSM/roi/calc-training\\Calc-Training_P_00825_RIGHT_MLO_1_1-2.png\n",
      "掩码中的唯一值: [  0 255]\n",
      "掩码已保存为: E:/Dataset/CBIS-DDSM/New_CBDDSM/roi/calc-training\\Calc-Training_P_00832_RIGHT_CC_1_1-2.png\n"
     ]
    },
    {
     "name": "stderr",
     "output_type": "stream",
     "text": [
      "转换文件:  43%|████▎     | 660/1546 [01:42<01:45,  8.37it/s]"
     ]
    },
    {
     "name": "stdout",
     "output_type": "stream",
     "text": [
      "掩码中的唯一值: [  0 255]\n",
      "掩码已保存为: E:/Dataset/CBIS-DDSM/New_CBDDSM/roi/calc-training\\Calc-Training_P_00832_RIGHT_MLO_1_1-2.png\n",
      "掩码中的唯一值: [  0 255]\n",
      "掩码已保存为: E:/Dataset/CBIS-DDSM/New_CBDDSM/roi/calc-training\\Calc-Training_P_00833_LEFT_CC_1_1-2.png\n"
     ]
    },
    {
     "name": "stderr",
     "output_type": "stream",
     "text": [
      "转换文件:  43%|████▎     | 662/1546 [01:42<01:49,  8.06it/s]"
     ]
    },
    {
     "name": "stdout",
     "output_type": "stream",
     "text": [
      "掩码中的唯一值: [  0 255]\n",
      "掩码已保存为: E:/Dataset/CBIS-DDSM/New_CBDDSM/roi/calc-training\\Calc-Training_P_00833_LEFT_MLO_1_1-2.png\n",
      "掩码中的唯一值: [  0 255]\n",
      "掩码已保存为: E:/Dataset/CBIS-DDSM/New_CBDDSM/roi/calc-training\\Calc-Training_P_00834_LEFT_CC_1_1-2.png\n"
     ]
    },
    {
     "name": "stderr",
     "output_type": "stream",
     "text": [
      "转换文件:  43%|████▎     | 664/1546 [01:43<02:03,  7.12it/s]"
     ]
    },
    {
     "name": "stdout",
     "output_type": "stream",
     "text": [
      "掩码中的唯一值: [  0 255]\n",
      "掩码已保存为: E:/Dataset/CBIS-DDSM/New_CBDDSM/roi/calc-training\\Calc-Training_P_00834_LEFT_MLO_1_1-2.png\n",
      "掩码中的唯一值: [  0 255]\n",
      "掩码已保存为: E:/Dataset/CBIS-DDSM/New_CBDDSM/roi/calc-training\\Calc-Training_P_00835_LEFT_CC_1_1-2.png\n"
     ]
    },
    {
     "name": "stderr",
     "output_type": "stream",
     "text": [
      "转换文件:  43%|████▎     | 666/1546 [01:43<02:07,  6.90it/s]"
     ]
    },
    {
     "name": "stdout",
     "output_type": "stream",
     "text": [
      "掩码中的唯一值: [  0 255]\n",
      "掩码已保存为: E:/Dataset/CBIS-DDSM/New_CBDDSM/roi/calc-training\\Calc-Training_P_00835_LEFT_MLO_1_1-2.png\n",
      "掩码中的唯一值: [  0 255]\n",
      "掩码已保存为: E:/Dataset/CBIS-DDSM/New_CBDDSM/roi/calc-training\\Calc-Training_P_00840_RIGHT_CC_1_1-2.png\n"
     ]
    },
    {
     "name": "stderr",
     "output_type": "stream",
     "text": [
      "转换文件:  43%|████▎     | 668/1546 [01:43<02:17,  6.39it/s]"
     ]
    },
    {
     "name": "stdout",
     "output_type": "stream",
     "text": [
      "掩码中的唯一值: [  0 255]\n",
      "掩码已保存为: E:/Dataset/CBIS-DDSM/New_CBDDSM/roi/calc-training\\Calc-Training_P_00840_RIGHT_MLO_1_1-2.png\n",
      "掩码中的唯一值: [  0 255]\n",
      "掩码已保存为: E:/Dataset/CBIS-DDSM/New_CBDDSM/roi/calc-training\\Calc-Training_P_00842_LEFT_CC_1_1-2.png\n"
     ]
    },
    {
     "name": "stderr",
     "output_type": "stream",
     "text": [
      "转换文件:  43%|████▎     | 671/1546 [01:44<01:56,  7.49it/s]"
     ]
    },
    {
     "name": "stdout",
     "output_type": "stream",
     "text": [
      "掩码中的唯一值: [  0 255]\n",
      "掩码已保存为: E:/Dataset/CBIS-DDSM/New_CBDDSM/roi/calc-training\\Calc-Training_P_00842_LEFT_MLO_1_1-2.png\n",
      "掩码中的唯一值: [  0 255]\n",
      "掩码已保存为: E:/Dataset/CBIS-DDSM/New_CBDDSM/roi/calc-training\\Calc-Training_P_00846_LEFT_CC_1_1-2.png\n",
      "掩码中的唯一值: [  0 255]\n",
      "掩码已保存为: E:/Dataset/CBIS-DDSM/New_CBDDSM/roi/calc-training\\Calc-Training_P_00846_LEFT_MLO_1_1-2.png\n"
     ]
    },
    {
     "name": "stderr",
     "output_type": "stream",
     "text": [
      "转换文件:  44%|████▎     | 673/1546 [01:44<01:50,  7.88it/s]"
     ]
    },
    {
     "name": "stdout",
     "output_type": "stream",
     "text": [
      "掩码中的唯一值: [  0 255]\n",
      "掩码已保存为: E:/Dataset/CBIS-DDSM/New_CBDDSM/roi/calc-training\\Calc-Training_P_00847_LEFT_CC_2_1-2.png\n",
      "掩码中的唯一值: [  0 255]\n",
      "掩码已保存为: E:/Dataset/CBIS-DDSM/New_CBDDSM/roi/calc-training\\Calc-Training_P_00847_LEFT_MLO_2_1-2.png\n"
     ]
    },
    {
     "name": "stderr",
     "output_type": "stream",
     "text": [
      "转换文件:  44%|████▎     | 674/1546 [01:44<02:08,  6.76it/s]"
     ]
    },
    {
     "name": "stdout",
     "output_type": "stream",
     "text": [
      "掩码中的唯一值: [  0 255]\n",
      "掩码已保存为: E:/Dataset/CBIS-DDSM/New_CBDDSM/roi/calc-training\\Calc-Training_P_00852_LEFT_CC_1_1-2.png\n"
     ]
    },
    {
     "name": "stderr",
     "output_type": "stream",
     "text": [
      "转换文件:  44%|████▎     | 676/1546 [01:44<02:20,  6.19it/s]"
     ]
    },
    {
     "name": "stdout",
     "output_type": "stream",
     "text": [
      "掩码中的唯一值: [  0 255]\n",
      "掩码已保存为: E:/Dataset/CBIS-DDSM/New_CBDDSM/roi/calc-training\\Calc-Training_P_00852_LEFT_MLO_1_1-2.png\n",
      "掩码中的唯一值: [  0 255]\n",
      "掩码已保存为: E:/Dataset/CBIS-DDSM/New_CBDDSM/roi/calc-training\\Calc-Training_P_00854_RIGHT_CC_1_1-2.png\n"
     ]
    },
    {
     "name": "stderr",
     "output_type": "stream",
     "text": [
      "转换文件:  44%|████▍     | 678/1546 [01:45<02:09,  6.70it/s]"
     ]
    },
    {
     "name": "stdout",
     "output_type": "stream",
     "text": [
      "掩码中的唯一值: [  0 255]\n",
      "掩码已保存为: E:/Dataset/CBIS-DDSM/New_CBDDSM/roi/calc-training\\Calc-Training_P_00854_RIGHT_MLO_1_1-2.png\n",
      "掩码中的唯一值: [  0 255]\n",
      "掩码已保存为: E:/Dataset/CBIS-DDSM/New_CBDDSM/roi/calc-training\\Calc-Training_P_00855_RIGHT_CC_1_1-2.png\n"
     ]
    },
    {
     "name": "stderr",
     "output_type": "stream",
     "text": [
      "转换文件:  44%|████▍     | 680/1546 [01:45<01:56,  7.43it/s]"
     ]
    },
    {
     "name": "stdout",
     "output_type": "stream",
     "text": [
      "掩码中的唯一值: [  0 255]\n",
      "掩码已保存为: E:/Dataset/CBIS-DDSM/New_CBDDSM/roi/calc-training\\Calc-Training_P_00856_LEFT_MLO_1_1-2.png\n",
      "掩码中的唯一值: [  0 255]\n",
      "掩码已保存为: E:/Dataset/CBIS-DDSM/New_CBDDSM/roi/calc-training\\Calc-Training_P_00858_LEFT_CC_1_1-2.png\n"
     ]
    },
    {
     "name": "stderr",
     "output_type": "stream",
     "text": [
      "转换文件:  44%|████▍     | 682/1546 [01:45<01:48,  7.99it/s]"
     ]
    },
    {
     "name": "stdout",
     "output_type": "stream",
     "text": [
      "掩码中的唯一值: [  0 255]\n",
      "掩码已保存为: E:/Dataset/CBIS-DDSM/New_CBDDSM/roi/calc-training\\Calc-Training_P_00858_LEFT_MLO_1_1-2.png\n",
      "掩码中的唯一值: [  0 255]\n",
      "掩码已保存为: E:/Dataset/CBIS-DDSM/New_CBDDSM/roi/calc-training\\Calc-Training_P_00858_RIGHT_CC_1_1-2.png\n"
     ]
    },
    {
     "name": "stderr",
     "output_type": "stream",
     "text": [
      "转换文件:  44%|████▍     | 684/1546 [01:45<01:51,  7.70it/s]"
     ]
    },
    {
     "name": "stdout",
     "output_type": "stream",
     "text": [
      "掩码中的唯一值: [  0 255]\n",
      "掩码已保存为: E:/Dataset/CBIS-DDSM/New_CBDDSM/roi/calc-training\\Calc-Training_P_00858_RIGHT_CC_2_1-2.png\n",
      "掩码中的唯一值: [  0 255]\n",
      "掩码已保存为: E:/Dataset/CBIS-DDSM/New_CBDDSM/roi/calc-training\\Calc-Training_P_00858_RIGHT_MLO_1_1-2.png\n"
     ]
    },
    {
     "name": "stderr",
     "output_type": "stream",
     "text": [
      "转换文件:  44%|████▍     | 686/1546 [01:46<01:45,  8.16it/s]"
     ]
    },
    {
     "name": "stdout",
     "output_type": "stream",
     "text": [
      "掩码中的唯一值: [  0 255]\n",
      "掩码已保存为: E:/Dataset/CBIS-DDSM/New_CBDDSM/roi/calc-training\\Calc-Training_P_00858_RIGHT_MLO_2_1-2.png\n",
      "掩码中的唯一值: [  0 255]\n",
      "掩码已保存为: E:/Dataset/CBIS-DDSM/New_CBDDSM/roi/calc-training\\Calc-Training_P_00861_RIGHT_CC_1_1-2.png\n"
     ]
    },
    {
     "name": "stderr",
     "output_type": "stream",
     "text": [
      "转换文件:  44%|████▍     | 687/1546 [01:46<01:43,  8.33it/s]"
     ]
    },
    {
     "name": "stdout",
     "output_type": "stream",
     "text": [
      "掩码中的唯一值: [  0 255]\n",
      "掩码已保存为: E:/Dataset/CBIS-DDSM/New_CBDDSM/roi/calc-training\\Calc-Training_P_00861_RIGHT_MLO_1_1-2.png\n",
      "掩码中的唯一值: [  0 255]\n",
      "掩码已保存为: E:/Dataset/CBIS-DDSM/New_CBDDSM/roi/calc-training\\Calc-Training_P_00862_LEFT_CC_1_1-2.png\n"
     ]
    },
    {
     "name": "stderr",
     "output_type": "stream",
     "text": [
      "转换文件:  45%|████▍     | 690/1546 [01:46<01:44,  8.21it/s]"
     ]
    },
    {
     "name": "stdout",
     "output_type": "stream",
     "text": [
      "掩码中的唯一值: [  0 255]\n",
      "掩码已保存为: E:/Dataset/CBIS-DDSM/New_CBDDSM/roi/calc-training\\Calc-Training_P_00862_LEFT_MLO_1_1-2.png\n",
      "掩码中的唯一值: [  0 255]\n",
      "掩码已保存为: E:/Dataset/CBIS-DDSM/New_CBDDSM/roi/calc-training\\Calc-Training_P_00864_LEFT_CC_1_1-2.png\n"
     ]
    },
    {
     "name": "stderr",
     "output_type": "stream",
     "text": [
      "转换文件:  45%|████▍     | 692/1546 [01:46<01:51,  7.63it/s]"
     ]
    },
    {
     "name": "stdout",
     "output_type": "stream",
     "text": [
      "掩码中的唯一值: [  0 255]\n",
      "掩码已保存为: E:/Dataset/CBIS-DDSM/New_CBDDSM/roi/calc-training\\Calc-Training_P_00864_LEFT_MLO_1_1-2.png\n",
      "掩码中的唯一值: [  0 255]\n",
      "掩码已保存为: E:/Dataset/CBIS-DDSM/New_CBDDSM/roi/calc-training\\Calc-Training_P_00866_RIGHT_CC_1_1-2.png\n"
     ]
    },
    {
     "name": "stderr",
     "output_type": "stream",
     "text": [
      "转换文件:  45%|████▍     | 693/1546 [01:47<02:00,  7.10it/s]"
     ]
    },
    {
     "name": "stdout",
     "output_type": "stream",
     "text": [
      "掩码中的唯一值: [  0 255]\n",
      "掩码已保存为: E:/Dataset/CBIS-DDSM/New_CBDDSM/roi/calc-training\\Calc-Training_P_00866_RIGHT_MLO_1_1-2.png\n"
     ]
    },
    {
     "name": "stderr",
     "output_type": "stream",
     "text": [
      "转换文件:  45%|████▍     | 694/1546 [01:47<02:22,  5.97it/s]"
     ]
    },
    {
     "name": "stdout",
     "output_type": "stream",
     "text": [
      "掩码中的唯一值: [  0 255]\n",
      "掩码已保存为: E:/Dataset/CBIS-DDSM/New_CBDDSM/roi/calc-training\\Calc-Training_P_00868_RIGHT_CC_1_1-2.png\n"
     ]
    },
    {
     "name": "stderr",
     "output_type": "stream",
     "text": [
      "转换文件:  45%|████▍     | 695/1546 [01:47<02:48,  5.05it/s]"
     ]
    },
    {
     "name": "stdout",
     "output_type": "stream",
     "text": [
      "掩码中的唯一值: [  0 255]\n",
      "掩码已保存为: E:/Dataset/CBIS-DDSM/New_CBDDSM/roi/calc-training\\Calc-Training_P_00868_RIGHT_MLO_1_1-2.png\n"
     ]
    },
    {
     "name": "stderr",
     "output_type": "stream",
     "text": [
      "转换文件:  45%|████▌     | 696/1546 [01:47<02:58,  4.76it/s]"
     ]
    },
    {
     "name": "stdout",
     "output_type": "stream",
     "text": [
      "掩码中的唯一值: [  0 255]\n",
      "掩码已保存为: E:/Dataset/CBIS-DDSM/New_CBDDSM/roi/calc-training\\Calc-Training_P_00877_LEFT_CC_1_1-2.png\n",
      "掩码中的唯一值: [  0 255]\n",
      "掩码已保存为: E:/Dataset/CBIS-DDSM/New_CBDDSM/roi/calc-training\\Calc-Training_P_00877_LEFT_CC_2_1-2.png\n"
     ]
    },
    {
     "name": "stderr",
     "output_type": "stream",
     "text": [
      "转换文件:  45%|████▌     | 698/1546 [01:48<02:57,  4.78it/s]"
     ]
    },
    {
     "name": "stdout",
     "output_type": "stream",
     "text": [
      "掩码中的唯一值: [  0 255]\n",
      "掩码已保存为: E:/Dataset/CBIS-DDSM/New_CBDDSM/roi/calc-training\\Calc-Training_P_00877_LEFT_MLO_1_1-2.png\n"
     ]
    },
    {
     "name": "stderr",
     "output_type": "stream",
     "text": [
      "转换文件:  45%|████▌     | 700/1546 [01:48<02:36,  5.41it/s]"
     ]
    },
    {
     "name": "stdout",
     "output_type": "stream",
     "text": [
      "掩码中的唯一值: [  0 255]\n",
      "掩码已保存为: E:/Dataset/CBIS-DDSM/New_CBDDSM/roi/calc-training\\Calc-Training_P_00877_LEFT_MLO_2_1-2.png\n",
      "掩码中的唯一值: [  0 255]\n",
      "掩码已保存为: E:/Dataset/CBIS-DDSM/New_CBDDSM/roi/calc-training\\Calc-Training_P_00878_LEFT_CC_1_1-2.png\n"
     ]
    },
    {
     "name": "stderr",
     "output_type": "stream",
     "text": [
      "转换文件:  45%|████▌     | 702/1546 [01:48<02:09,  6.53it/s]"
     ]
    },
    {
     "name": "stdout",
     "output_type": "stream",
     "text": [
      "掩码中的唯一值: [  0 255]\n",
      "掩码已保存为: E:/Dataset/CBIS-DDSM/New_CBDDSM/roi/calc-training\\Calc-Training_P_00878_LEFT_MLO_1_1-2.png\n",
      "掩码中的唯一值: [  0 255]\n",
      "掩码已保存为: E:/Dataset/CBIS-DDSM/New_CBDDSM/roi/calc-training\\Calc-Training_P_00880_RIGHT_CC_1_1-2.png\n"
     ]
    },
    {
     "name": "stderr",
     "output_type": "stream",
     "text": [
      "转换文件:  46%|████▌     | 704/1546 [01:49<02:02,  6.88it/s]"
     ]
    },
    {
     "name": "stdout",
     "output_type": "stream",
     "text": [
      "掩码中的唯一值: [  0 255]\n",
      "掩码已保存为: E:/Dataset/CBIS-DDSM/New_CBDDSM/roi/calc-training\\Calc-Training_P_00882_LEFT_CC_1_1-2.png\n",
      "掩码中的唯一值: [  0 255]\n",
      "掩码已保存为: E:/Dataset/CBIS-DDSM/New_CBDDSM/roi/calc-training\\Calc-Training_P_00882_LEFT_MLO_1_1-2.png\n"
     ]
    },
    {
     "name": "stderr",
     "output_type": "stream",
     "text": [
      "转换文件:  46%|████▌     | 706/1546 [01:49<01:58,  7.11it/s]"
     ]
    },
    {
     "name": "stdout",
     "output_type": "stream",
     "text": [
      "掩码中的唯一值: [  0 255]\n",
      "掩码已保存为: E:/Dataset/CBIS-DDSM/New_CBDDSM/roi/calc-training\\Calc-Training_P_00883_RIGHT_CC_1_1-2.png\n",
      "掩码中的唯一值: [  0 255]\n",
      "掩码已保存为: E:/Dataset/CBIS-DDSM/New_CBDDSM/roi/calc-training\\Calc-Training_P_00883_RIGHT_MLO_1_1-2.png\n"
     ]
    },
    {
     "name": "stderr",
     "output_type": "stream",
     "text": [
      "转换文件:  46%|████▌     | 707/1546 [01:49<02:01,  6.88it/s]"
     ]
    },
    {
     "name": "stdout",
     "output_type": "stream",
     "text": [
      "掩码中的唯一值: [  0 255]\n",
      "掩码已保存为: E:/Dataset/CBIS-DDSM/New_CBDDSM/roi/calc-training\\Calc-Training_P_00890_RIGHT_MLO_1_1-2.png\n",
      "掩码中的唯一值: [  0 255]\n"
     ]
    },
    {
     "name": "stderr",
     "output_type": "stream",
     "text": [
      "转换文件:  46%|████▌     | 709/1546 [01:49<02:20,  5.98it/s]"
     ]
    },
    {
     "name": "stdout",
     "output_type": "stream",
     "text": [
      "掩码已保存为: E:/Dataset/CBIS-DDSM/New_CBDDSM/roi/calc-training\\Calc-Training_P_00895_RIGHT_CC_1_1-2.png\n",
      "掩码中的唯一值: [  0 255]\n",
      "掩码已保存为: E:/Dataset/CBIS-DDSM/New_CBDDSM/roi/calc-training\\Calc-Training_P_00895_RIGHT_MLO_1_1-2.png\n"
     ]
    },
    {
     "name": "stderr",
     "output_type": "stream",
     "text": [
      "转换文件:  46%|████▌     | 711/1546 [01:50<02:25,  5.74it/s]"
     ]
    },
    {
     "name": "stdout",
     "output_type": "stream",
     "text": [
      "掩码中的唯一值: [  0 255]\n",
      "掩码已保存为: E:/Dataset/CBIS-DDSM/New_CBDDSM/roi/calc-training\\Calc-Training_P_00897_LEFT_CC_1_1-2.png\n",
      "掩码中的唯一值: [  0 255]\n",
      "掩码已保存为: E:/Dataset/CBIS-DDSM/New_CBDDSM/roi/calc-training\\Calc-Training_P_00897_LEFT_MLO_1_1-2.png\n"
     ]
    },
    {
     "name": "stderr",
     "output_type": "stream",
     "text": [
      "转换文件:  46%|████▌     | 712/1546 [01:50<02:29,  5.57it/s]"
     ]
    },
    {
     "name": "stdout",
     "output_type": "stream",
     "text": [
      "掩码中的唯一值: [  0 255]\n",
      "掩码已保存为: E:/Dataset/CBIS-DDSM/New_CBDDSM/roi/calc-training\\Calc-Training_P_00899_RIGHT_CC_1_1-2.png\n"
     ]
    },
    {
     "name": "stderr",
     "output_type": "stream",
     "text": [
      "转换文件:  46%|████▌     | 713/1546 [01:50<02:45,  5.04it/s]"
     ]
    },
    {
     "name": "stdout",
     "output_type": "stream",
     "text": [
      "掩码中的唯一值: [  0 255]\n",
      "掩码已保存为: E:/Dataset/CBIS-DDSM/New_CBDDSM/roi/calc-training\\Calc-Training_P_00899_RIGHT_MLO_1_1-2.png\n"
     ]
    },
    {
     "name": "stderr",
     "output_type": "stream",
     "text": [
      "转换文件:  46%|████▌     | 715/1546 [01:51<02:56,  4.70it/s]"
     ]
    },
    {
     "name": "stdout",
     "output_type": "stream",
     "text": [
      "掩码中的唯一值: [  0 255]\n",
      "掩码已保存为: E:/Dataset/CBIS-DDSM/New_CBDDSM/roi/calc-training\\Calc-Training_P_00909_LEFT_MLO_1_1-2.png\n",
      "掩码中的唯一值: [  0 255]\n",
      "掩码已保存为: E:/Dataset/CBIS-DDSM/New_CBDDSM/roi/calc-training\\Calc-Training_P_00912_LEFT_CC_1_1-2.png\n"
     ]
    },
    {
     "name": "stderr",
     "output_type": "stream",
     "text": [
      "转换文件:  46%|████▋     | 716/1546 [01:51<02:56,  4.71it/s]"
     ]
    },
    {
     "name": "stdout",
     "output_type": "stream",
     "text": [
      "掩码中的唯一值: [  0 255]\n",
      "掩码已保存为: E:/Dataset/CBIS-DDSM/New_CBDDSM/roi/calc-training\\Calc-Training_P_00912_LEFT_MLO_1_1-2.png\n"
     ]
    },
    {
     "name": "stderr",
     "output_type": "stream",
     "text": [
      "转换文件:  46%|████▋     | 718/1546 [01:51<02:43,  5.06it/s]"
     ]
    },
    {
     "name": "stdout",
     "output_type": "stream",
     "text": [
      "掩码中的唯一值: [  0 255]\n",
      "掩码已保存为: E:/Dataset/CBIS-DDSM/New_CBDDSM/roi/calc-training\\Calc-Training_P_00916_RIGHT_MLO_1_1-2.png\n",
      "掩码中的唯一值: [  0 255]\n",
      "掩码已保存为: E:/Dataset/CBIS-DDSM/New_CBDDSM/roi/calc-training\\Calc-Training_P_00923_RIGHT_CC_1_1-2.png\n"
     ]
    },
    {
     "name": "stderr",
     "output_type": "stream",
     "text": [
      "转换文件:  47%|████▋     | 720/1546 [01:52<02:15,  6.10it/s]"
     ]
    },
    {
     "name": "stdout",
     "output_type": "stream",
     "text": [
      "掩码中的唯一值: [  0 255]\n",
      "掩码已保存为: E:/Dataset/CBIS-DDSM/New_CBDDSM/roi/calc-training\\Calc-Training_P_00923_RIGHT_MLO_1_1-2.png\n",
      "掩码中的唯一值: [  0 255]\n",
      "掩码已保存为: E:/Dataset/CBIS-DDSM/New_CBDDSM/roi/calc-training\\Calc-Training_P_00924_LEFT_CC_1_1-2.png\n"
     ]
    },
    {
     "name": "stderr",
     "output_type": "stream",
     "text": [
      "转换文件:  47%|████▋     | 722/1546 [01:52<02:24,  5.71it/s]"
     ]
    },
    {
     "name": "stdout",
     "output_type": "stream",
     "text": [
      "掩码中的唯一值: [  0 255]\n",
      "掩码已保存为: E:/Dataset/CBIS-DDSM/New_CBDDSM/roi/calc-training\\Calc-Training_P_00924_LEFT_MLO_1_1-2.png\n",
      "掩码中的唯一值: [  0 255]\n",
      "掩码已保存为: E:/Dataset/CBIS-DDSM/New_CBDDSM/roi/calc-training\\Calc-Training_P_00924_LEFT_MLO_2_1-2.png\n"
     ]
    },
    {
     "name": "stderr",
     "output_type": "stream",
     "text": [
      "转换文件:  47%|████▋     | 724/1546 [01:52<02:19,  5.91it/s]"
     ]
    },
    {
     "name": "stdout",
     "output_type": "stream",
     "text": [
      "掩码中的唯一值: [  0 255]\n",
      "掩码已保存为: E:/Dataset/CBIS-DDSM/New_CBDDSM/roi/calc-training\\Calc-Training_P_00924_LEFT_MLO_3_1-2.png\n",
      "掩码中的唯一值: [  0 255]\n",
      "掩码已保存为: E:/Dataset/CBIS-DDSM/New_CBDDSM/roi/calc-training\\Calc-Training_P_00924_RIGHT_CC_2_1-2.png\n"
     ]
    },
    {
     "name": "stderr",
     "output_type": "stream",
     "text": [
      "转换文件:  47%|████▋     | 726/1546 [01:53<02:06,  6.48it/s]"
     ]
    },
    {
     "name": "stdout",
     "output_type": "stream",
     "text": [
      "掩码中的唯一值: [  0 255]\n",
      "掩码已保存为: E:/Dataset/CBIS-DDSM/New_CBDDSM/roi/calc-training\\Calc-Training_P_00924_RIGHT_MLO_2_1-2.png\n",
      "掩码中的唯一值: [  0 255]\n",
      "掩码已保存为: E:/Dataset/CBIS-DDSM/New_CBDDSM/roi/calc-training\\Calc-Training_P_00924_RIGHT_MLO_3_1-2.png\n"
     ]
    },
    {
     "name": "stderr",
     "output_type": "stream",
     "text": [
      "转换文件:  47%|████▋     | 728/1546 [01:53<01:58,  6.90it/s]"
     ]
    },
    {
     "name": "stdout",
     "output_type": "stream",
     "text": [
      "掩码中的唯一值: [  0 255]\n",
      "掩码已保存为: E:/Dataset/CBIS-DDSM/New_CBDDSM/roi/calc-training\\Calc-Training_P_00924_RIGHT_MLO_4_1-2.png\n",
      "掩码中的唯一值: [  0 255]\n",
      "掩码已保存为: E:/Dataset/CBIS-DDSM/New_CBDDSM/roi/calc-training\\Calc-Training_P_00925_RIGHT_CC_1_1-2.png\n"
     ]
    },
    {
     "name": "stderr",
     "output_type": "stream",
     "text": [
      "转换文件:  47%|████▋     | 729/1546 [01:53<01:51,  7.32it/s]"
     ]
    },
    {
     "name": "stdout",
     "output_type": "stream",
     "text": [
      "掩码中的唯一值: [  0 255]\n",
      "掩码已保存为: E:/Dataset/CBIS-DDSM/New_CBDDSM/roi/calc-training\\Calc-Training_P_00925_RIGHT_MLO_1_1-2.png\n"
     ]
    },
    {
     "name": "stderr",
     "output_type": "stream",
     "text": [
      "转换文件:  47%|████▋     | 730/1546 [01:53<02:12,  6.18it/s]"
     ]
    },
    {
     "name": "stdout",
     "output_type": "stream",
     "text": [
      "掩码中的唯一值: [  0 255]\n",
      "掩码已保存为: E:/Dataset/CBIS-DDSM/New_CBDDSM/roi/calc-training\\Calc-Training_P_00926_LEFT_CC_1_1-2.png\n"
     ]
    },
    {
     "name": "stderr",
     "output_type": "stream",
     "text": [
      "转换文件:  47%|████▋     | 732/1546 [01:54<02:27,  5.52it/s]"
     ]
    },
    {
     "name": "stdout",
     "output_type": "stream",
     "text": [
      "掩码中的唯一值: [  0 255]\n",
      "掩码已保存为: E:/Dataset/CBIS-DDSM/New_CBDDSM/roi/calc-training\\Calc-Training_P_00926_LEFT_MLO_1_1-2.png\n",
      "掩码中的唯一值: [  0 255]\n",
      "掩码已保存为: E:/Dataset/CBIS-DDSM/New_CBDDSM/roi/calc-training\\Calc-Training_P_00930_LEFT_CC_1_1-2.png\n"
     ]
    },
    {
     "name": "stderr",
     "output_type": "stream",
     "text": [
      "转换文件:  47%|████▋     | 734/1546 [01:54<02:41,  5.03it/s]"
     ]
    },
    {
     "name": "stdout",
     "output_type": "stream",
     "text": [
      "掩码中的唯一值: [  0 255]\n",
      "掩码已保存为: E:/Dataset/CBIS-DDSM/New_CBDDSM/roi/calc-training\\Calc-Training_P_00930_LEFT_MLO_1_1-2.png\n",
      "掩码中的唯一值: [  0 255]\n",
      "掩码已保存为: E:/Dataset/CBIS-DDSM/New_CBDDSM/roi/calc-training\\Calc-Training_P_00933_LEFT_CC_1_1-2.png\n"
     ]
    },
    {
     "name": "stderr",
     "output_type": "stream",
     "text": [
      "转换文件:  48%|████▊     | 736/1546 [01:54<02:18,  5.83it/s]"
     ]
    },
    {
     "name": "stdout",
     "output_type": "stream",
     "text": [
      "掩码中的唯一值: [  0 255]\n",
      "掩码已保存为: E:/Dataset/CBIS-DDSM/New_CBDDSM/roi/calc-training\\Calc-Training_P_00933_LEFT_MLO_1_1-2.png\n",
      "掩码中的唯一值: [  0 255]\n",
      "掩码已保存为: E:/Dataset/CBIS-DDSM/New_CBDDSM/roi/calc-training\\Calc-Training_P_00937_LEFT_CC_1_1-2.png\n"
     ]
    },
    {
     "name": "stderr",
     "output_type": "stream",
     "text": [
      "转换文件:  48%|████▊     | 738/1546 [01:55<02:03,  6.53it/s]"
     ]
    },
    {
     "name": "stdout",
     "output_type": "stream",
     "text": [
      "掩码中的唯一值: [  0 255]\n",
      "掩码已保存为: E:/Dataset/CBIS-DDSM/New_CBDDSM/roi/calc-training\\Calc-Training_P_00937_LEFT_MLO_1_1-2.png\n",
      "掩码中的唯一值: [  0 255]\n",
      "掩码已保存为: E:/Dataset/CBIS-DDSM/New_CBDDSM/roi/calc-training\\Calc-Training_P_00937_RIGHT_CC_1_1-2.png\n"
     ]
    },
    {
     "name": "stderr",
     "output_type": "stream",
     "text": [
      "转换文件:  48%|████▊     | 740/1546 [01:55<01:56,  6.91it/s]"
     ]
    },
    {
     "name": "stdout",
     "output_type": "stream",
     "text": [
      "掩码中的唯一值: [  0 255]\n",
      "掩码已保存为: E:/Dataset/CBIS-DDSM/New_CBDDSM/roi/calc-training\\Calc-Training_P_00937_RIGHT_CC_2_1-2.png\n",
      "掩码中的唯一值: [  0 255]\n",
      "掩码已保存为: E:/Dataset/CBIS-DDSM/New_CBDDSM/roi/calc-training\\Calc-Training_P_00937_RIGHT_MLO_1_1-2.png\n"
     ]
    },
    {
     "name": "stderr",
     "output_type": "stream",
     "text": [
      "转换文件:  48%|████▊     | 742/1546 [01:55<01:50,  7.26it/s]"
     ]
    },
    {
     "name": "stdout",
     "output_type": "stream",
     "text": [
      "掩码中的唯一值: [  0 255]\n",
      "掩码已保存为: E:/Dataset/CBIS-DDSM/New_CBDDSM/roi/calc-training\\Calc-Training_P_00937_RIGHT_MLO_2_1-2.png\n",
      "掩码中的唯一值: [  0 255]\n",
      "掩码已保存为: E:/Dataset/CBIS-DDSM/New_CBDDSM/roi/calc-training\\Calc-Training_P_00944_LEFT_CC_1_1-2.png\n"
     ]
    },
    {
     "name": "stderr",
     "output_type": "stream",
     "text": [
      "转换文件:  48%|████▊     | 744/1546 [01:55<01:39,  8.04it/s]"
     ]
    },
    {
     "name": "stdout",
     "output_type": "stream",
     "text": [
      "掩码中的唯一值: [  0 255]\n",
      "掩码已保存为: E:/Dataset/CBIS-DDSM/New_CBDDSM/roi/calc-training\\Calc-Training_P_00944_LEFT_MLO_1_1-2.png\n",
      "掩码中的唯一值: [  0 255]\n",
      "掩码已保存为: E:/Dataset/CBIS-DDSM/New_CBDDSM/roi/calc-training\\Calc-Training_P_00945_RIGHT_CC_1_1-2.png\n"
     ]
    },
    {
     "name": "stderr",
     "output_type": "stream",
     "text": [
      "转换文件:  48%|████▊     | 746/1546 [01:56<01:37,  8.20it/s]"
     ]
    },
    {
     "name": "stdout",
     "output_type": "stream",
     "text": [
      "掩码中的唯一值: [  0 255]\n",
      "掩码已保存为: E:/Dataset/CBIS-DDSM/New_CBDDSM/roi/calc-training\\Calc-Training_P_00945_RIGHT_MLO_1_1-2.png\n",
      "掩码中的唯一值: [  0 255]\n",
      "掩码已保存为: E:/Dataset/CBIS-DDSM/New_CBDDSM/roi/calc-training\\Calc-Training_P_00953_LEFT_CC_1_1-2.png\n"
     ]
    },
    {
     "name": "stderr",
     "output_type": "stream",
     "text": [
      "转换文件:  48%|████▊     | 749/1546 [01:56<01:25,  9.29it/s]"
     ]
    },
    {
     "name": "stdout",
     "output_type": "stream",
     "text": [
      "掩码中的唯一值: [  0 255]\n",
      "掩码已保存为: E:/Dataset/CBIS-DDSM/New_CBDDSM/roi/calc-training\\Calc-Training_P_00953_LEFT_MLO_1_1-2.png\n",
      "掩码中的唯一值: [  0 255]\n",
      "掩码已保存为: E:/Dataset/CBIS-DDSM/New_CBDDSM/roi/calc-training\\Calc-Training_P_00954_RIGHT_CC_1_1-2.png\n",
      "掩码中的唯一值: [  0 255]\n",
      "掩码已保存为: E:/Dataset/CBIS-DDSM/New_CBDDSM/roi/calc-training\\Calc-Training_P_00954_RIGHT_MLO_1_1-2.png\n"
     ]
    },
    {
     "name": "stderr",
     "output_type": "stream",
     "text": [
      "转换文件:  49%|████▊     | 750/1546 [01:56<01:48,  7.36it/s]"
     ]
    },
    {
     "name": "stdout",
     "output_type": "stream",
     "text": [
      "掩码中的唯一值: [  0 255]\n",
      "掩码已保存为: E:/Dataset/CBIS-DDSM/New_CBDDSM/roi/calc-training\\Calc-Training_P_00955_RIGHT_CC_1_1-2.png\n",
      "掩码中的唯一值: [  0 255]\n"
     ]
    },
    {
     "name": "stderr",
     "output_type": "stream",
     "text": [
      "转换文件:  49%|████▊     | 751/1546 [01:56<02:03,  6.41it/s]"
     ]
    },
    {
     "name": "stdout",
     "output_type": "stream",
     "text": [
      "掩码已保存为: E:/Dataset/CBIS-DDSM/New_CBDDSM/roi/calc-training\\Calc-Training_P_00955_RIGHT_MLO_1_1-2.png\n"
     ]
    },
    {
     "name": "stderr",
     "output_type": "stream",
     "text": [
      "转换文件:  49%|████▊     | 753/1546 [01:57<02:17,  5.79it/s]"
     ]
    },
    {
     "name": "stdout",
     "output_type": "stream",
     "text": [
      "掩码中的唯一值: [  0 255]\n",
      "掩码已保存为: E:/Dataset/CBIS-DDSM/New_CBDDSM/roi/calc-training\\Calc-Training_P_00956_LEFT_MLO_1_1-2.png\n",
      "掩码中的唯一值: [  0 255]\n",
      "掩码已保存为: E:/Dataset/CBIS-DDSM/New_CBDDSM/roi/calc-training\\Calc-Training_P_00960_LEFT_CC_1_1-2.png\n"
     ]
    },
    {
     "name": "stderr",
     "output_type": "stream",
     "text": [
      "转换文件:  49%|████▉     | 754/1546 [01:57<02:16,  5.78it/s]"
     ]
    },
    {
     "name": "stdout",
     "output_type": "stream",
     "text": [
      "掩码中的唯一值: [  0 255]\n",
      "掩码已保存为: E:/Dataset/CBIS-DDSM/New_CBDDSM/roi/calc-training\\Calc-Training_P_00960_LEFT_MLO_1_1-2.png\n"
     ]
    },
    {
     "name": "stderr",
     "output_type": "stream",
     "text": [
      "转换文件:  49%|████▉     | 755/1546 [01:57<02:58,  4.44it/s]"
     ]
    },
    {
     "name": "stdout",
     "output_type": "stream",
     "text": [
      "掩码中的唯一值: [  0 255]\n",
      "掩码已保存为: E:/Dataset/CBIS-DDSM/New_CBDDSM/roi/calc-training\\Calc-Training_P_00965_LEFT_CC_1_1-2.png\n"
     ]
    },
    {
     "name": "stderr",
     "output_type": "stream",
     "text": [
      "转换文件:  49%|████▉     | 756/1546 [01:58<03:21,  3.92it/s]"
     ]
    },
    {
     "name": "stdout",
     "output_type": "stream",
     "text": [
      "掩码中的唯一值: [  0 255]\n",
      "掩码已保存为: E:/Dataset/CBIS-DDSM/New_CBDDSM/roi/calc-training\\Calc-Training_P_00965_LEFT_MLO_1_1-2.png\n"
     ]
    },
    {
     "name": "stderr",
     "output_type": "stream",
     "text": [
      "转换文件:  49%|████▉     | 757/1546 [01:58<03:14,  4.06it/s]"
     ]
    },
    {
     "name": "stdout",
     "output_type": "stream",
     "text": [
      "掩码中的唯一值: [  0 255]\n",
      "掩码已保存为: E:/Dataset/CBIS-DDSM/New_CBDDSM/roi/calc-training\\Calc-Training_P_00967_RIGHT_CC_1_1-2.png\n"
     ]
    },
    {
     "name": "stderr",
     "output_type": "stream",
     "text": [
      "转换文件:  49%|████▉     | 758/1546 [01:58<03:14,  4.06it/s]"
     ]
    },
    {
     "name": "stdout",
     "output_type": "stream",
     "text": [
      "掩码中的唯一值: [  0 255]\n",
      "掩码已保存为: E:/Dataset/CBIS-DDSM/New_CBDDSM/roi/calc-training\\Calc-Training_P_00967_RIGHT_MLO_1_1-2.png\n"
     ]
    },
    {
     "name": "stderr",
     "output_type": "stream",
     "text": [
      "转换文件:  49%|████▉     | 760/1546 [01:59<03:00,  4.36it/s]"
     ]
    },
    {
     "name": "stdout",
     "output_type": "stream",
     "text": [
      "掩码中的唯一值: [  0 255]\n",
      "掩码已保存为: E:/Dataset/CBIS-DDSM/New_CBDDSM/roi/calc-training\\Calc-Training_P_00969_LEFT_CC_2_1-2.png\n",
      "掩码中的唯一值: [  0 255]\n",
      "掩码已保存为: E:/Dataset/CBIS-DDSM/New_CBDDSM/roi/calc-training\\Calc-Training_P_00969_LEFT_MLO_2_1-2.png\n"
     ]
    },
    {
     "name": "stderr",
     "output_type": "stream",
     "text": [
      "转换文件:  49%|████▉     | 762/1546 [01:59<02:51,  4.57it/s]"
     ]
    },
    {
     "name": "stdout",
     "output_type": "stream",
     "text": [
      "掩码中的唯一值: [  0 255]\n",
      "掩码已保存为: E:/Dataset/CBIS-DDSM/New_CBDDSM/roi/calc-training\\Calc-Training_P_00969_LEFT_MLO_3_1-2.png\n",
      "掩码中的唯一值: [  0 255]\n",
      "掩码已保存为: E:/Dataset/CBIS-DDSM/New_CBDDSM/roi/calc-training\\Calc-Training_P_00969_LEFT_MLO_5_1-2.png\n"
     ]
    },
    {
     "name": "stderr",
     "output_type": "stream",
     "text": [
      "转换文件:  49%|████▉     | 764/1546 [01:59<02:25,  5.36it/s]"
     ]
    },
    {
     "name": "stdout",
     "output_type": "stream",
     "text": [
      "掩码中的唯一值: [  0 255]\n",
      "掩码已保存为: E:/Dataset/CBIS-DDSM/New_CBDDSM/roi/calc-training\\Calc-Training_P_00971_RIGHT_MLO_1_1-2.png\n",
      "掩码中的唯一值: [  0 255]\n",
      "掩码已保存为: E:/Dataset/CBIS-DDSM/New_CBDDSM/roi/calc-training\\Calc-Training_P_00973_RIGHT_CC_1_1-2.png\n"
     ]
    },
    {
     "name": "stderr",
     "output_type": "stream",
     "text": [
      "转换文件:  50%|████▉     | 766/1546 [02:00<02:06,  6.15it/s]"
     ]
    },
    {
     "name": "stdout",
     "output_type": "stream",
     "text": [
      "掩码中的唯一值: [  0 255]\n",
      "掩码已保存为: E:/Dataset/CBIS-DDSM/New_CBDDSM/roi/calc-training\\Calc-Training_P_00973_RIGHT_MLO_1_1-2.png\n",
      "掩码中的唯一值: [  0 255]\n",
      "掩码已保存为: E:/Dataset/CBIS-DDSM/New_CBDDSM/roi/calc-training\\Calc-Training_P_00977_LEFT_MLO_1_1-2.png\n"
     ]
    },
    {
     "name": "stderr",
     "output_type": "stream",
     "text": [
      "转换文件:  50%|████▉     | 767/1546 [02:00<02:21,  5.50it/s]"
     ]
    },
    {
     "name": "stdout",
     "output_type": "stream",
     "text": [
      "掩码中的唯一值: [  0 255]\n",
      "掩码已保存为: E:/Dataset/CBIS-DDSM/New_CBDDSM/roi/calc-training\\Calc-Training_P_00978_LEFT_CC_1_1-2.png\n"
     ]
    },
    {
     "name": "stderr",
     "output_type": "stream",
     "text": [
      "转换文件:  50%|████▉     | 768/1546 [02:00<02:32,  5.11it/s]"
     ]
    },
    {
     "name": "stdout",
     "output_type": "stream",
     "text": [
      "掩码中的唯一值: [  0 255]\n",
      "掩码已保存为: E:/Dataset/CBIS-DDSM/New_CBDDSM/roi/calc-training\\Calc-Training_P_00978_LEFT_MLO_1_1-2.png\n",
      "掩码中的唯一值: [  0 255]\n",
      "掩码已保存为: E:/Dataset/CBIS-DDSM/New_CBDDSM/roi/calc-training\\Calc-Training_P_00981_LEFT_CC_1_1-2.png\n",
      "掩码中的唯一值: [  0 255]\n"
     ]
    },
    {
     "name": "stderr",
     "output_type": "stream",
     "text": [
      "转换文件:  50%|████▉     | 771/1546 [02:00<01:54,  6.78it/s]"
     ]
    },
    {
     "name": "stdout",
     "output_type": "stream",
     "text": [
      "掩码已保存为: E:/Dataset/CBIS-DDSM/New_CBDDSM/roi/calc-training\\Calc-Training_P_00981_LEFT_MLO_1_1-2.png\n",
      "掩码中的唯一值: [  0 255]\n",
      "掩码已保存为: E:/Dataset/CBIS-DDSM/New_CBDDSM/roi/calc-training\\Calc-Training_P_00983_LEFT_CC_1_1-2.png\n"
     ]
    },
    {
     "name": "stderr",
     "output_type": "stream",
     "text": [
      "转换文件:  50%|█████     | 773/1546 [02:01<01:46,  7.24it/s]"
     ]
    },
    {
     "name": "stdout",
     "output_type": "stream",
     "text": [
      "掩码中的唯一值: [  0 255]\n",
      "掩码已保存为: E:/Dataset/CBIS-DDSM/New_CBDDSM/roi/calc-training\\Calc-Training_P_00989_RIGHT_CC_1_1-2.png\n",
      "掩码中的唯一值: [  0 255]\n",
      "掩码已保存为: E:/Dataset/CBIS-DDSM/New_CBDDSM/roi/calc-training\\Calc-Training_P_00989_RIGHT_CC_2_1-2.png\n"
     ]
    },
    {
     "name": "stderr",
     "output_type": "stream",
     "text": [
      "转换文件:  50%|█████     | 775/1546 [02:01<01:43,  7.43it/s]"
     ]
    },
    {
     "name": "stdout",
     "output_type": "stream",
     "text": [
      "掩码中的唯一值: [  0 255]\n",
      "掩码已保存为: E:/Dataset/CBIS-DDSM/New_CBDDSM/roi/calc-training\\Calc-Training_P_00989_RIGHT_MLO_1_1-2.png\n",
      "掩码中的唯一值: [  0 255]\n",
      "掩码已保存为: E:/Dataset/CBIS-DDSM/New_CBDDSM/roi/calc-training\\Calc-Training_P_00991_LEFT_CC_1_1-2.png\n"
     ]
    },
    {
     "name": "stderr",
     "output_type": "stream",
     "text": [
      "转换文件:  50%|█████     | 777/1546 [02:01<01:37,  7.85it/s]"
     ]
    },
    {
     "name": "stdout",
     "output_type": "stream",
     "text": [
      "掩码中的唯一值: [  0 255]\n",
      "掩码已保存为: E:/Dataset/CBIS-DDSM/New_CBDDSM/roi/calc-training\\Calc-Training_P_00991_LEFT_MLO_1_1-2.png\n",
      "掩码中的唯一值: [  0 255]\n",
      "掩码已保存为: E:/Dataset/CBIS-DDSM/New_CBDDSM/roi/calc-training\\Calc-Training_P_00992_LEFT_CC_1_1-2.png\n"
     ]
    },
    {
     "name": "stderr",
     "output_type": "stream",
     "text": [
      "转换文件:  50%|█████     | 779/1546 [02:01<01:38,  7.81it/s]"
     ]
    },
    {
     "name": "stdout",
     "output_type": "stream",
     "text": [
      "掩码中的唯一值: [  0 255]\n",
      "掩码已保存为: E:/Dataset/CBIS-DDSM/New_CBDDSM/roi/calc-training\\Calc-Training_P_00992_LEFT_MLO_1_1-2.png\n",
      "掩码中的唯一值: [  0 255]\n",
      "掩码已保存为: E:/Dataset/CBIS-DDSM/New_CBDDSM/roi/calc-training\\Calc-Training_P_00992_RIGHT_CC_1_1-2.png\n"
     ]
    },
    {
     "name": "stderr",
     "output_type": "stream",
     "text": [
      "转换文件:  51%|█████     | 781/1546 [02:02<01:50,  6.94it/s]"
     ]
    },
    {
     "name": "stdout",
     "output_type": "stream",
     "text": [
      "掩码中的唯一值: [  0 255]\n",
      "掩码已保存为: E:/Dataset/CBIS-DDSM/New_CBDDSM/roi/calc-training\\Calc-Training_P_00992_RIGHT_MLO_1_1-2.png\n",
      "掩码中的唯一值: [  0 255]\n",
      "掩码已保存为: E:/Dataset/CBIS-DDSM/New_CBDDSM/roi/calc-training\\Calc-Training_P_00993_RIGHT_CC_1_1-2.png\n"
     ]
    },
    {
     "name": "stderr",
     "output_type": "stream",
     "text": [
      "转换文件:  51%|█████     | 782/1546 [02:02<02:01,  6.29it/s]"
     ]
    },
    {
     "name": "stdout",
     "output_type": "stream",
     "text": [
      "掩码中的唯一值: [  0 255]\n",
      "掩码已保存为: E:/Dataset/CBIS-DDSM/New_CBDDSM/roi/calc-training\\Calc-Training_P_00993_RIGHT_MLO_1_1-2.png\n"
     ]
    },
    {
     "name": "stderr",
     "output_type": "stream",
     "text": [
      "转换文件:  51%|█████     | 784/1546 [02:02<02:13,  5.69it/s]"
     ]
    },
    {
     "name": "stdout",
     "output_type": "stream",
     "text": [
      "掩码中的唯一值: [  0 255]\n",
      "掩码已保存为: E:/Dataset/CBIS-DDSM/New_CBDDSM/roi/calc-training\\Calc-Training_P_00998_LEFT_CC_1_1-2.png\n",
      "掩码中的唯一值: [  0 255]\n",
      "掩码已保存为: E:/Dataset/CBIS-DDSM/New_CBDDSM/roi/calc-training\\Calc-Training_P_01002_LEFT_CC_1_1-2.png\n"
     ]
    },
    {
     "name": "stderr",
     "output_type": "stream",
     "text": [
      "转换文件:  51%|█████     | 786/1546 [02:03<01:53,  6.69it/s]"
     ]
    },
    {
     "name": "stdout",
     "output_type": "stream",
     "text": [
      "掩码中的唯一值: [  0 255]\n",
      "掩码已保存为: E:/Dataset/CBIS-DDSM/New_CBDDSM/roi/calc-training\\Calc-Training_P_01002_LEFT_MLO_1_1-2.png\n",
      "掩码中的唯一值: [  0 255]\n",
      "掩码已保存为: E:/Dataset/CBIS-DDSM/New_CBDDSM/roi/calc-training\\Calc-Training_P_01003_LEFT_CC_1_1-2.png\n"
     ]
    },
    {
     "name": "stderr",
     "output_type": "stream",
     "text": [
      "转换文件:  51%|█████     | 788/1546 [02:03<01:44,  7.24it/s]"
     ]
    },
    {
     "name": "stdout",
     "output_type": "stream",
     "text": [
      "掩码中的唯一值: [  0 255]\n",
      "掩码已保存为: E:/Dataset/CBIS-DDSM/New_CBDDSM/roi/calc-training\\Calc-Training_P_01003_LEFT_MLO_1_1-2.png\n",
      "掩码中的唯一值: [  0 255]\n",
      "掩码已保存为: E:/Dataset/CBIS-DDSM/New_CBDDSM/roi/calc-training\\Calc-Training_P_01010_RIGHT_MLO_1_1-2.png\n"
     ]
    },
    {
     "name": "stderr",
     "output_type": "stream",
     "text": [
      "转换文件:  51%|█████     | 789/1546 [02:03<01:50,  6.86it/s]"
     ]
    },
    {
     "name": "stdout",
     "output_type": "stream",
     "text": [
      "掩码中的唯一值: [  0 255]\n",
      "掩码已保存为: E:/Dataset/CBIS-DDSM/New_CBDDSM/roi/calc-training\\Calc-Training_P_01015_LEFT_CC_1_1-2.png\n"
     ]
    },
    {
     "name": "stderr",
     "output_type": "stream",
     "text": [
      "转换文件:  51%|█████     | 791/1546 [02:03<01:58,  6.35it/s]"
     ]
    },
    {
     "name": "stdout",
     "output_type": "stream",
     "text": [
      "掩码中的唯一值: [  0 255]\n",
      "掩码已保存为: E:/Dataset/CBIS-DDSM/New_CBDDSM/roi/calc-training\\Calc-Training_P_01015_LEFT_MLO_1_1-2.png\n",
      "掩码中的唯一值: [  0 255]\n",
      "掩码已保存为: E:/Dataset/CBIS-DDSM/New_CBDDSM/roi/calc-training\\Calc-Training_P_01016_RIGHT_MLO_1_1-2.png\n"
     ]
    },
    {
     "name": "stderr",
     "output_type": "stream",
     "text": [
      "转换文件:  51%|█████▏    | 793/1546 [02:04<01:58,  6.36it/s]"
     ]
    },
    {
     "name": "stdout",
     "output_type": "stream",
     "text": [
      "掩码中的唯一值: [  0 255]\n",
      "掩码已保存为: E:/Dataset/CBIS-DDSM/New_CBDDSM/roi/calc-training\\Calc-Training_P_01019_LEFT_CC_1_1-2.png\n",
      "掩码中的唯一值: [  0 255]\n",
      "掩码已保存为: E:/Dataset/CBIS-DDSM/New_CBDDSM/roi/calc-training\\Calc-Training_P_01019_LEFT_MLO_1_1-2.png\n"
     ]
    },
    {
     "name": "stderr",
     "output_type": "stream",
     "text": [
      "转换文件:  51%|█████▏    | 795/1546 [02:04<01:54,  6.54it/s]"
     ]
    },
    {
     "name": "stdout",
     "output_type": "stream",
     "text": [
      "掩码中的唯一值: [  0 255]\n",
      "掩码已保存为: E:/Dataset/CBIS-DDSM/New_CBDDSM/roi/calc-training\\Calc-Training_P_01029_LEFT_CC_1_1-2.png\n",
      "掩码中的唯一值: [  0 255]\n",
      "掩码已保存为: E:/Dataset/CBIS-DDSM/New_CBDDSM/roi/calc-training\\Calc-Training_P_01029_LEFT_CC_2_1-2.png\n"
     ]
    },
    {
     "name": "stderr",
     "output_type": "stream",
     "text": [
      "转换文件:  52%|█████▏    | 797/1546 [02:04<01:45,  7.08it/s]"
     ]
    },
    {
     "name": "stdout",
     "output_type": "stream",
     "text": [
      "掩码中的唯一值: [  0 255]\n",
      "掩码已保存为: E:/Dataset/CBIS-DDSM/New_CBDDSM/roi/calc-training\\Calc-Training_P_01029_LEFT_CC_3_1-2.png\n",
      "掩码中的唯一值: [  0 255]\n",
      "掩码已保存为: E:/Dataset/CBIS-DDSM/New_CBDDSM/roi/calc-training\\Calc-Training_P_01029_LEFT_MLO_1_1-2.png\n"
     ]
    },
    {
     "name": "stderr",
     "output_type": "stream",
     "text": [
      "转换文件:  52%|█████▏    | 799/1546 [02:04<01:41,  7.35it/s]"
     ]
    },
    {
     "name": "stdout",
     "output_type": "stream",
     "text": [
      "掩码中的唯一值: [  0 255]\n",
      "掩码已保存为: E:/Dataset/CBIS-DDSM/New_CBDDSM/roi/calc-training\\Calc-Training_P_01029_LEFT_MLO_2_1-2.png\n",
      "掩码中的唯一值: [  0 255]\n",
      "掩码已保存为: E:/Dataset/CBIS-DDSM/New_CBDDSM/roi/calc-training\\Calc-Training_P_01029_LEFT_MLO_3_1-2.png\n"
     ]
    },
    {
     "name": "stderr",
     "output_type": "stream",
     "text": [
      "转换文件:  52%|█████▏    | 801/1546 [02:05<01:39,  7.49it/s]"
     ]
    },
    {
     "name": "stdout",
     "output_type": "stream",
     "text": [
      "掩码中的唯一值: [  0 255]\n",
      "掩码已保存为: E:/Dataset/CBIS-DDSM/New_CBDDSM/roi/calc-training\\Calc-Training_P_01029_RIGHT_CC_1_1-2.png\n",
      "掩码中的唯一值: [  0 255]\n",
      "掩码已保存为: E:/Dataset/CBIS-DDSM/New_CBDDSM/roi/calc-training\\Calc-Training_P_01029_RIGHT_MLO_1_1-2.png\n"
     ]
    },
    {
     "name": "stderr",
     "output_type": "stream",
     "text": [
      "转换文件:  52%|█████▏    | 803/1546 [02:05<01:38,  7.53it/s]"
     ]
    },
    {
     "name": "stdout",
     "output_type": "stream",
     "text": [
      "掩码中的唯一值: [  0 255]\n",
      "掩码已保存为: E:/Dataset/CBIS-DDSM/New_CBDDSM/roi/calc-training\\Calc-Training_P_01033_LEFT_CC_1_1-2.png\n",
      "掩码中的唯一值: [  0 255]\n",
      "掩码已保存为: E:/Dataset/CBIS-DDSM/New_CBDDSM/roi/calc-training\\Calc-Training_P_01033_LEFT_MLO_1_1-2.png\n"
     ]
    },
    {
     "name": "stderr",
     "output_type": "stream",
     "text": [
      "转换文件:  52%|█████▏    | 804/1546 [02:05<02:01,  6.13it/s]"
     ]
    },
    {
     "name": "stdout",
     "output_type": "stream",
     "text": [
      "掩码中的唯一值: [  0 255]\n",
      "掩码已保存为: E:/Dataset/CBIS-DDSM/New_CBDDSM/roi/calc-training\\Calc-Training_P_01034_LEFT_CC_1_1-2.png\n"
     ]
    },
    {
     "name": "stderr",
     "output_type": "stream",
     "text": [
      "转换文件:  52%|█████▏    | 805/1546 [02:05<02:16,  5.43it/s]"
     ]
    },
    {
     "name": "stdout",
     "output_type": "stream",
     "text": [
      "掩码中的唯一值: [  0 255]\n",
      "掩码已保存为: E:/Dataset/CBIS-DDSM/New_CBDDSM/roi/calc-training\\Calc-Training_P_01034_LEFT_CC_2_1-2.png\n"
     ]
    },
    {
     "name": "stderr",
     "output_type": "stream",
     "text": [
      "转换文件:  52%|█████▏    | 806/1546 [02:06<02:25,  5.10it/s]"
     ]
    },
    {
     "name": "stdout",
     "output_type": "stream",
     "text": [
      "掩码中的唯一值: [  0 255]\n",
      "掩码已保存为: E:/Dataset/CBIS-DDSM/New_CBDDSM/roi/calc-training\\Calc-Training_P_01034_LEFT_MLO_1_1-2.png\n"
     ]
    },
    {
     "name": "stderr",
     "output_type": "stream",
     "text": [
      "转换文件:  52%|█████▏    | 807/1546 [02:06<02:37,  4.69it/s]"
     ]
    },
    {
     "name": "stdout",
     "output_type": "stream",
     "text": [
      "掩码中的唯一值: [  0 255]\n",
      "掩码已保存为: E:/Dataset/CBIS-DDSM/New_CBDDSM/roi/calc-training\\Calc-Training_P_01034_LEFT_MLO_2_1-2.png\n"
     ]
    },
    {
     "name": "stderr",
     "output_type": "stream",
     "text": [
      "转换文件:  52%|█████▏    | 809/1546 [02:06<02:15,  5.42it/s]"
     ]
    },
    {
     "name": "stdout",
     "output_type": "stream",
     "text": [
      "掩码中的唯一值: [  0 255]\n",
      "掩码已保存为: E:/Dataset/CBIS-DDSM/New_CBDDSM/roi/calc-training\\Calc-Training_P_01034_LEFT_MLO_3_1-2.png\n",
      "掩码中的唯一值: [  0 255]\n",
      "掩码已保存为: E:/Dataset/CBIS-DDSM/New_CBDDSM/roi/calc-training\\Calc-Training_P_01037_LEFT_CC_1_1-2.png\n"
     ]
    },
    {
     "name": "stderr",
     "output_type": "stream",
     "text": [
      "转换文件:  52%|█████▏    | 811/1546 [02:07<02:06,  5.82it/s]"
     ]
    },
    {
     "name": "stdout",
     "output_type": "stream",
     "text": [
      "掩码中的唯一值: [  0 255]\n",
      "掩码已保存为: E:/Dataset/CBIS-DDSM/New_CBDDSM/roi/calc-training\\Calc-Training_P_01037_LEFT_MLO_1_1-2.png\n",
      "掩码中的唯一值: [  0 255]\n",
      "掩码已保存为: E:/Dataset/CBIS-DDSM/New_CBDDSM/roi/calc-training\\Calc-Training_P_01040_RIGHT_CC_1_1-2.png\n"
     ]
    },
    {
     "name": "stderr",
     "output_type": "stream",
     "text": [
      "转换文件:  53%|█████▎    | 813/1546 [02:07<02:00,  6.08it/s]"
     ]
    },
    {
     "name": "stdout",
     "output_type": "stream",
     "text": [
      "掩码中的唯一值: [  0 255]\n",
      "掩码已保存为: E:/Dataset/CBIS-DDSM/New_CBDDSM/roi/calc-training\\Calc-Training_P_01040_RIGHT_MLO_1_1-2.png\n",
      "掩码中的唯一值: [  0 255]\n",
      "掩码已保存为: E:/Dataset/CBIS-DDSM/New_CBDDSM/roi/calc-training\\Calc-Training_P_01041_RIGHT_CC_1_1-2.png\n"
     ]
    },
    {
     "name": "stderr",
     "output_type": "stream",
     "text": [
      "转换文件:  53%|█████▎    | 815/1546 [02:07<01:44,  7.00it/s]"
     ]
    },
    {
     "name": "stdout",
     "output_type": "stream",
     "text": [
      "掩码中的唯一值: [  0 255]\n",
      "掩码已保存为: E:/Dataset/CBIS-DDSM/New_CBDDSM/roi/calc-training\\Calc-Training_P_01041_RIGHT_MLO_1_1-2.png\n",
      "掩码中的唯一值: [  0 255]\n",
      "掩码已保存为: E:/Dataset/CBIS-DDSM/New_CBDDSM/roi/calc-training\\Calc-Training_P_01043_RIGHT_CC_1_1-2.png\n"
     ]
    },
    {
     "name": "stderr",
     "output_type": "stream",
     "text": [
      "转换文件:  53%|█████▎    | 817/1546 [02:07<01:47,  6.79it/s]"
     ]
    },
    {
     "name": "stdout",
     "output_type": "stream",
     "text": [
      "掩码中的唯一值: [  0 255]\n",
      "掩码已保存为: E:/Dataset/CBIS-DDSM/New_CBDDSM/roi/calc-training\\Calc-Training_P_01043_RIGHT_MLO_1_1-2.png\n",
      "掩码中的唯一值: [  0 255]\n",
      "掩码已保存为: E:/Dataset/CBIS-DDSM/New_CBDDSM/roi/calc-training\\Calc-Training_P_01045_RIGHT_CC_1_1-2.png\n"
     ]
    },
    {
     "name": "stderr",
     "output_type": "stream",
     "text": [
      "转换文件:  53%|█████▎    | 818/1546 [02:08<01:59,  6.11it/s]"
     ]
    },
    {
     "name": "stdout",
     "output_type": "stream",
     "text": [
      "掩码中的唯一值: [  0 255]\n",
      "掩码已保存为: E:/Dataset/CBIS-DDSM/New_CBDDSM/roi/calc-training\\Calc-Training_P_01045_RIGHT_MLO_1_1-2.png\n",
      "掩码中的唯一值: [  0 255]\n"
     ]
    },
    {
     "name": "stderr",
     "output_type": "stream",
     "text": [
      "转换文件:  53%|█████▎    | 819/1546 [02:08<02:10,  5.59it/s]"
     ]
    },
    {
     "name": "stdout",
     "output_type": "stream",
     "text": [
      "掩码已保存为: E:/Dataset/CBIS-DDSM/New_CBDDSM/roi/calc-training\\Calc-Training_P_01046_LEFT_CC_1_1-2.png\n",
      "掩码中的唯一值: [  0 255]\n"
     ]
    },
    {
     "name": "stderr",
     "output_type": "stream",
     "text": [
      "转换文件:  53%|█████▎    | 820/1546 [02:08<02:17,  5.27it/s]"
     ]
    },
    {
     "name": "stdout",
     "output_type": "stream",
     "text": [
      "掩码已保存为: E:/Dataset/CBIS-DDSM/New_CBDDSM/roi/calc-training\\Calc-Training_P_01046_LEFT_MLO_1_1-2.png\n",
      "掩码中的唯一值: [  0 255]\n"
     ]
    },
    {
     "name": "stderr",
     "output_type": "stream",
     "text": [
      "转换文件:  53%|█████▎    | 821/1546 [02:08<02:22,  5.07it/s]"
     ]
    },
    {
     "name": "stdout",
     "output_type": "stream",
     "text": [
      "掩码已保存为: E:/Dataset/CBIS-DDSM/New_CBDDSM/roi/calc-training\\Calc-Training_P_01049_LEFT_CC_1_1-2.png\n",
      "掩码中的唯一值: [  0 255]\n"
     ]
    },
    {
     "name": "stderr",
     "output_type": "stream",
     "text": [
      "转换文件:  53%|█████▎    | 823/1546 [02:09<02:26,  4.92it/s]"
     ]
    },
    {
     "name": "stdout",
     "output_type": "stream",
     "text": [
      "掩码已保存为: E:/Dataset/CBIS-DDSM/New_CBDDSM/roi/calc-training\\Calc-Training_P_01049_LEFT_MLO_1_1-2.png\n",
      "掩码中的唯一值: [  0 255]\n",
      "掩码已保存为: E:/Dataset/CBIS-DDSM/New_CBDDSM/roi/calc-training\\Calc-Training_P_01053_LEFT_CC_1_1-2.png\n"
     ]
    },
    {
     "name": "stderr",
     "output_type": "stream",
     "text": [
      "转换文件:  53%|█████▎    | 825/1546 [02:09<02:14,  5.38it/s]"
     ]
    },
    {
     "name": "stdout",
     "output_type": "stream",
     "text": [
      "掩码中的唯一值: [  0 255]\n",
      "掩码已保存为: E:/Dataset/CBIS-DDSM/New_CBDDSM/roi/calc-training\\Calc-Training_P_01053_LEFT_MLO_1_1-2.png\n",
      "掩码中的唯一值: [  0 255]\n",
      "掩码已保存为: E:/Dataset/CBIS-DDSM/New_CBDDSM/roi/calc-training\\Calc-Training_P_01056_RIGHT_CC_1_1-2.png\n"
     ]
    },
    {
     "name": "stderr",
     "output_type": "stream",
     "text": [
      "转换文件:  53%|█████▎    | 826/1546 [02:09<02:05,  5.73it/s]"
     ]
    },
    {
     "name": "stdout",
     "output_type": "stream",
     "text": [
      "掩码中的唯一值: [  0 255]\n",
      "掩码已保存为: E:/Dataset/CBIS-DDSM/New_CBDDSM/roi/calc-training\\Calc-Training_P_01056_RIGHT_MLO_1_1-2.png\n",
      "掩码中的唯一值: [  0 255]\n",
      "掩码已保存为: E:/Dataset/CBIS-DDSM/New_CBDDSM/roi/calc-training\\Calc-Training_P_01059_LEFT_CC_1_1-2.png\n"
     ]
    },
    {
     "name": "stderr",
     "output_type": "stream",
     "text": [
      "转换文件:  54%|█████▎    | 828/1546 [02:09<01:43,  6.94it/s]"
     ]
    },
    {
     "name": "stdout",
     "output_type": "stream",
     "text": [
      "掩码中的唯一值: [  0 255]\n",
      "掩码已保存为: E:/Dataset/CBIS-DDSM/New_CBDDSM/roi/calc-training\\Calc-Training_P_01059_LEFT_MLO_1_1-2.png\n"
     ]
    },
    {
     "name": "stderr",
     "output_type": "stream",
     "text": [
      "转换文件:  54%|█████▎    | 829/1546 [02:10<02:04,  5.76it/s]"
     ]
    },
    {
     "name": "stdout",
     "output_type": "stream",
     "text": [
      "掩码中的唯一值: [  0 255]\n",
      "掩码已保存为: E:/Dataset/CBIS-DDSM/New_CBDDSM/roi/calc-training\\Calc-Training_P_01060_RIGHT_CC_1_1-2.png\n"
     ]
    },
    {
     "name": "stderr",
     "output_type": "stream",
     "text": [
      "转换文件:  54%|█████▍    | 831/1546 [02:10<02:15,  5.29it/s]"
     ]
    },
    {
     "name": "stdout",
     "output_type": "stream",
     "text": [
      "掩码中的唯一值: [  0 255]\n",
      "掩码已保存为: E:/Dataset/CBIS-DDSM/New_CBDDSM/roi/calc-training\\Calc-Training_P_01060_RIGHT_MLO_1_1-2.png\n",
      "掩码中的唯一值: [  0 255]\n",
      "掩码已保存为: E:/Dataset/CBIS-DDSM/New_CBDDSM/roi/calc-training\\Calc-Training_P_01063_RIGHT_MLO_1_1-2.png\n"
     ]
    },
    {
     "name": "stderr",
     "output_type": "stream",
     "text": [
      "转换文件:  54%|█████▍    | 833/1546 [02:10<01:49,  6.52it/s]"
     ]
    },
    {
     "name": "stdout",
     "output_type": "stream",
     "text": [
      "掩码中的唯一值: [  0 255]\n",
      "掩码已保存为: E:/Dataset/CBIS-DDSM/New_CBDDSM/roi/calc-training\\Calc-Training_P_01064_LEFT_MLO_1_1-2.png\n",
      "掩码中的唯一值: [  0 255]\n",
      "掩码已保存为: E:/Dataset/CBIS-DDSM/New_CBDDSM/roi/calc-training\\Calc-Training_P_01065_LEFT_CC_1_1-2.png\n"
     ]
    },
    {
     "name": "stderr",
     "output_type": "stream",
     "text": [
      "转换文件:  54%|█████▍    | 834/1546 [02:10<01:43,  6.85it/s]"
     ]
    },
    {
     "name": "stdout",
     "output_type": "stream",
     "text": [
      "掩码中的唯一值: [  0 255]\n",
      "掩码已保存为: E:/Dataset/CBIS-DDSM/New_CBDDSM/roi/calc-training\\Calc-Training_P_01065_LEFT_MLO_1_1-2.png\n"
     ]
    },
    {
     "name": "stderr",
     "output_type": "stream",
     "text": [
      "转换文件:  54%|█████▍    | 835/1546 [02:11<01:59,  5.94it/s]"
     ]
    },
    {
     "name": "stdout",
     "output_type": "stream",
     "text": [
      "掩码中的唯一值: [  0 255]\n",
      "掩码已保存为: E:/Dataset/CBIS-DDSM/New_CBDDSM/roi/calc-training\\Calc-Training_P_01066_RIGHT_CC_1_1-2.png\n"
     ]
    },
    {
     "name": "stderr",
     "output_type": "stream",
     "text": [
      "转换文件:  54%|█████▍    | 837/1546 [02:11<02:05,  5.67it/s]"
     ]
    },
    {
     "name": "stdout",
     "output_type": "stream",
     "text": [
      "掩码中的唯一值: [  0 255]\n",
      "掩码已保存为: E:/Dataset/CBIS-DDSM/New_CBDDSM/roi/calc-training\\Calc-Training_P_01066_RIGHT_MLO_1_1-2.png\n",
      "掩码中的唯一值: [  0 255]\n",
      "掩码已保存为: E:/Dataset/CBIS-DDSM/New_CBDDSM/roi/calc-training\\Calc-Training_P_01069_LEFT_CC_1_1-2.png\n"
     ]
    },
    {
     "name": "stderr",
     "output_type": "stream",
     "text": [
      "转换文件:  54%|█████▍    | 839/1546 [02:11<01:49,  6.45it/s]"
     ]
    },
    {
     "name": "stdout",
     "output_type": "stream",
     "text": [
      "掩码中的唯一值: [  0 255]\n",
      "掩码已保存为: E:/Dataset/CBIS-DDSM/New_CBDDSM/roi/calc-training\\Calc-Training_P_01069_LEFT_MLO_1_1-2.png\n",
      "掩码中的唯一值: [  0 255]\n",
      "掩码已保存为: E:/Dataset/CBIS-DDSM/New_CBDDSM/roi/calc-training\\Calc-Training_P_01069_RIGHT_CC_1_1-2.png\n"
     ]
    },
    {
     "name": "stderr",
     "output_type": "stream",
     "text": [
      "转换文件:  54%|█████▍    | 840/1546 [02:11<01:45,  6.71it/s]"
     ]
    },
    {
     "name": "stdout",
     "output_type": "stream",
     "text": [
      "掩码中的唯一值: [  0 255]\n",
      "掩码已保存为: E:/Dataset/CBIS-DDSM/New_CBDDSM/roi/calc-training\\Calc-Training_P_01069_RIGHT_MLO_1_1-2.png\n",
      "掩码中的唯一值: [  0 255]\n"
     ]
    },
    {
     "name": "stderr",
     "output_type": "stream",
     "text": [
      "转换文件:  54%|█████▍    | 842/1546 [02:12<02:03,  5.71it/s]"
     ]
    },
    {
     "name": "stdout",
     "output_type": "stream",
     "text": [
      "掩码已保存为: E:/Dataset/CBIS-DDSM/New_CBDDSM/roi/calc-training\\Calc-Training_P_01072_LEFT_CC_1_1-2.png\n",
      "掩码中的唯一值: [  0 255]\n",
      "掩码已保存为: E:/Dataset/CBIS-DDSM/New_CBDDSM/roi/calc-training\\Calc-Training_P_01072_LEFT_MLO_1_1-2.png\n"
     ]
    },
    {
     "name": "stderr",
     "output_type": "stream",
     "text": [
      "转换文件:  55%|█████▍    | 844/1546 [02:12<01:49,  6.44it/s]"
     ]
    },
    {
     "name": "stdout",
     "output_type": "stream",
     "text": [
      "掩码中的唯一值: [  0 255]\n",
      "掩码已保存为: E:/Dataset/CBIS-DDSM/New_CBDDSM/roi/calc-training\\Calc-Training_P_01073_RIGHT_CC_1_1-2.png\n",
      "掩码中的唯一值: [  0 255]\n",
      "掩码已保存为: E:/Dataset/CBIS-DDSM/New_CBDDSM/roi/calc-training\\Calc-Training_P_01073_RIGHT_MLO_1_1-2.png\n"
     ]
    },
    {
     "name": "stderr",
     "output_type": "stream",
     "text": [
      "转换文件:  55%|█████▍    | 846/1546 [02:12<01:32,  7.56it/s]"
     ]
    },
    {
     "name": "stdout",
     "output_type": "stream",
     "text": [
      "掩码中的唯一值: [  0 255]\n",
      "掩码已保存为: E:/Dataset/CBIS-DDSM/New_CBDDSM/roi/calc-training\\Calc-Training_P_01084_LEFT_CC_2_1-2.png\n",
      "掩码中的唯一值: [  0 255]\n",
      "掩码已保存为: E:/Dataset/CBIS-DDSM/New_CBDDSM/roi/calc-training\\Calc-Training_P_01084_LEFT_MLO_2_1-2.png\n"
     ]
    },
    {
     "name": "stderr",
     "output_type": "stream",
     "text": [
      "转换文件:  55%|█████▍    | 847/1546 [02:12<01:30,  7.75it/s]"
     ]
    },
    {
     "name": "stdout",
     "output_type": "stream",
     "text": [
      "掩码中的唯一值: [  0 255]\n",
      "掩码已保存为: E:/Dataset/CBIS-DDSM/New_CBDDSM/roi/calc-training\\Calc-Training_P_01084_LEFT_MLO_3_1-2.png\n"
     ]
    },
    {
     "name": "stderr",
     "output_type": "stream",
     "text": [
      "转换文件:  55%|█████▍    | 849/1546 [02:13<01:45,  6.63it/s]"
     ]
    },
    {
     "name": "stdout",
     "output_type": "stream",
     "text": [
      "掩码中的唯一值: [  0 255]\n",
      "掩码已保存为: E:/Dataset/CBIS-DDSM/New_CBDDSM/roi/calc-training\\Calc-Training_P_01087_LEFT_CC_1_1-2.png\n",
      "掩码中的唯一值: [  0 255]\n",
      "掩码已保存为: E:/Dataset/CBIS-DDSM/New_CBDDSM/roi/calc-training\\Calc-Training_P_01091_RIGHT_MLO_1_1-2.png\n"
     ]
    },
    {
     "name": "stderr",
     "output_type": "stream",
     "text": [
      "转换文件:  55%|█████▌    | 851/1546 [02:13<02:02,  5.65it/s]"
     ]
    },
    {
     "name": "stdout",
     "output_type": "stream",
     "text": [
      "掩码中的唯一值: [  0 255]\n",
      "掩码已保存为: E:/Dataset/CBIS-DDSM/New_CBDDSM/roi/calc-training\\Calc-Training_P_01094_RIGHT_CC_1_1-2.png\n",
      "掩码中的唯一值: [  0 255]\n",
      "掩码已保存为: E:/Dataset/CBIS-DDSM/New_CBDDSM/roi/calc-training\\Calc-Training_P_01094_RIGHT_MLO_1_1-2.png\n"
     ]
    },
    {
     "name": "stderr",
     "output_type": "stream",
     "text": [
      "转换文件:  55%|█████▌    | 853/1546 [02:14<01:49,  6.31it/s]"
     ]
    },
    {
     "name": "stdout",
     "output_type": "stream",
     "text": [
      "掩码中的唯一值: [  0 255]\n",
      "掩码已保存为: E:/Dataset/CBIS-DDSM/New_CBDDSM/roi/calc-training\\Calc-Training_P_01095_LEFT_CC_1_1-2.png\n",
      "掩码中的唯一值: [  0 255]\n",
      "掩码已保存为: E:/Dataset/CBIS-DDSM/New_CBDDSM/roi/calc-training\\Calc-Training_P_01095_LEFT_MLO_1_1-2.png\n"
     ]
    },
    {
     "name": "stderr",
     "output_type": "stream",
     "text": [
      "转换文件:  55%|█████▌    | 854/1546 [02:14<01:59,  5.80it/s]"
     ]
    },
    {
     "name": "stdout",
     "output_type": "stream",
     "text": [
      "掩码中的唯一值: [  0 255]\n",
      "掩码已保存为: E:/Dataset/CBIS-DDSM/New_CBDDSM/roi/calc-training\\Calc-Training_P_01099_LEFT_CC_1_1-2.png\n",
      "掩码中的唯一值: [  0 255]\n"
     ]
    },
    {
     "name": "stderr",
     "output_type": "stream",
     "text": [
      "转换文件:  55%|█████▌    | 856/1546 [02:14<02:11,  5.24it/s]"
     ]
    },
    {
     "name": "stdout",
     "output_type": "stream",
     "text": [
      "掩码已保存为: E:/Dataset/CBIS-DDSM/New_CBDDSM/roi/calc-training\\Calc-Training_P_01099_LEFT_CC_2_1-2.png\n",
      "掩码中的唯一值: [  0 255]\n",
      "掩码已保存为: E:/Dataset/CBIS-DDSM/New_CBDDSM/roi/calc-training\\Calc-Training_P_01099_LEFT_CC_3_1-2.png\n"
     ]
    },
    {
     "name": "stderr",
     "output_type": "stream",
     "text": [
      "转换文件:  55%|█████▌    | 858/1546 [02:15<02:17,  5.01it/s]"
     ]
    },
    {
     "name": "stdout",
     "output_type": "stream",
     "text": [
      "掩码中的唯一值: [  0 255]\n",
      "掩码已保存为: E:/Dataset/CBIS-DDSM/New_CBDDSM/roi/calc-training\\Calc-Training_P_01099_LEFT_CC_4_1-2.png\n",
      "掩码中的唯一值: [  0 255]\n",
      "掩码已保存为: E:/Dataset/CBIS-DDSM/New_CBDDSM/roi/calc-training\\Calc-Training_P_01099_LEFT_CC_5_1-2.png\n"
     ]
    },
    {
     "name": "stderr",
     "output_type": "stream",
     "text": [
      "转换文件:  56%|█████▌    | 860/1546 [02:15<02:20,  4.90it/s]"
     ]
    },
    {
     "name": "stdout",
     "output_type": "stream",
     "text": [
      "掩码中的唯一值: [  0 255]\n",
      "掩码已保存为: E:/Dataset/CBIS-DDSM/New_CBDDSM/roi/calc-training\\Calc-Training_P_01099_LEFT_CC_6_1-2.png\n",
      "掩码中的唯一值: [  0 255]\n",
      "掩码已保存为: E:/Dataset/CBIS-DDSM/New_CBDDSM/roi/calc-training\\Calc-Training_P_01099_LEFT_MLO_1_1-2.png\n"
     ]
    },
    {
     "name": "stderr",
     "output_type": "stream",
     "text": [
      "转换文件:  56%|█████▌    | 862/1546 [02:15<02:21,  4.82it/s]"
     ]
    },
    {
     "name": "stdout",
     "output_type": "stream",
     "text": [
      "掩码中的唯一值: [  0 255]\n",
      "掩码已保存为: E:/Dataset/CBIS-DDSM/New_CBDDSM/roi/calc-training\\Calc-Training_P_01099_LEFT_MLO_2_1-2.png\n",
      "掩码中的唯一值: [  0 255]\n",
      "掩码已保存为: E:/Dataset/CBIS-DDSM/New_CBDDSM/roi/calc-training\\Calc-Training_P_01099_LEFT_MLO_3_1-2.png\n"
     ]
    },
    {
     "name": "stderr",
     "output_type": "stream",
     "text": [
      "转换文件:  56%|█████▌    | 864/1546 [02:16<02:21,  4.81it/s]"
     ]
    },
    {
     "name": "stdout",
     "output_type": "stream",
     "text": [
      "掩码中的唯一值: [  0 255]\n",
      "掩码已保存为: E:/Dataset/CBIS-DDSM/New_CBDDSM/roi/calc-training\\Calc-Training_P_01099_LEFT_MLO_4_1-2.png\n",
      "掩码中的唯一值: [  0 255]\n",
      "掩码已保存为: E:/Dataset/CBIS-DDSM/New_CBDDSM/roi/calc-training\\Calc-Training_P_01099_RIGHT_CC_1_1-2.png\n"
     ]
    },
    {
     "name": "stderr",
     "output_type": "stream",
     "text": [
      "转换文件:  56%|█████▌    | 866/1546 [02:16<02:23,  4.72it/s]"
     ]
    },
    {
     "name": "stdout",
     "output_type": "stream",
     "text": [
      "掩码中的唯一值: [  0 255]\n",
      "掩码已保存为: E:/Dataset/CBIS-DDSM/New_CBDDSM/roi/calc-training\\Calc-Training_P_01099_RIGHT_CC_2_1-2.png\n",
      "掩码中的唯一值: [  0 255]\n",
      "掩码已保存为: E:/Dataset/CBIS-DDSM/New_CBDDSM/roi/calc-training\\Calc-Training_P_01099_RIGHT_CC_3_1-2.png\n"
     ]
    },
    {
     "name": "stderr",
     "output_type": "stream",
     "text": [
      "转换文件:  56%|█████▌    | 868/1546 [02:17<02:20,  4.81it/s]"
     ]
    },
    {
     "name": "stdout",
     "output_type": "stream",
     "text": [
      "掩码中的唯一值: [  0 255]\n",
      "掩码已保存为: E:/Dataset/CBIS-DDSM/New_CBDDSM/roi/calc-training\\Calc-Training_P_01099_RIGHT_CC_4_1-2.png\n",
      "掩码中的唯一值: [  0 255]\n",
      "掩码已保存为: E:/Dataset/CBIS-DDSM/New_CBDDSM/roi/calc-training\\Calc-Training_P_01099_RIGHT_MLO_1_1-2.png\n"
     ]
    },
    {
     "name": "stderr",
     "output_type": "stream",
     "text": [
      "转换文件:  56%|█████▋    | 870/1546 [02:17<02:06,  5.34it/s]"
     ]
    },
    {
     "name": "stdout",
     "output_type": "stream",
     "text": [
      "掩码中的唯一值: [  0 255]\n",
      "掩码已保存为: E:/Dataset/CBIS-DDSM/New_CBDDSM/roi/calc-training\\Calc-Training_P_01099_RIGHT_MLO_2_1-2.png\n",
      "掩码中的唯一值: [  0 255]\n",
      "掩码已保存为: E:/Dataset/CBIS-DDSM/New_CBDDSM/roi/calc-training\\Calc-Training_P_01100_RIGHT_CC_1_1-2.png\n"
     ]
    },
    {
     "name": "stderr",
     "output_type": "stream",
     "text": [
      "转换文件:  56%|█████▋    | 872/1546 [02:17<01:49,  6.16it/s]"
     ]
    },
    {
     "name": "stdout",
     "output_type": "stream",
     "text": [
      "掩码中的唯一值: [  0 255]\n",
      "掩码已保存为: E:/Dataset/CBIS-DDSM/New_CBDDSM/roi/calc-training\\Calc-Training_P_01100_RIGHT_MLO_1_1-2.png\n",
      "掩码中的唯一值: [  0 255]\n",
      "掩码已保存为: E:/Dataset/CBIS-DDSM/New_CBDDSM/roi/calc-training\\Calc-Training_P_01102_LEFT_CC_1_1-2.png\n"
     ]
    },
    {
     "name": "stderr",
     "output_type": "stream",
     "text": [
      "转换文件:  56%|█████▋    | 873/1546 [02:17<01:44,  6.44it/s]"
     ]
    },
    {
     "name": "stdout",
     "output_type": "stream",
     "text": [
      "掩码中的唯一值: [  0 255]\n",
      "掩码已保存为: E:/Dataset/CBIS-DDSM/New_CBDDSM/roi/calc-training\\Calc-Training_P_01102_LEFT_MLO_1_1-2.png\n"
     ]
    },
    {
     "name": "stderr",
     "output_type": "stream",
     "text": [
      "转换文件:  57%|█████▋    | 875/1546 [02:18<01:49,  6.14it/s]"
     ]
    },
    {
     "name": "stdout",
     "output_type": "stream",
     "text": [
      "掩码中的唯一值: [  0 255]\n",
      "掩码已保存为: E:/Dataset/CBIS-DDSM/New_CBDDSM/roi/calc-training\\Calc-Training_P_01107_LEFT_CC_1_1-2.png\n",
      "掩码中的唯一值: [  0 255]\n",
      "掩码已保存为: E:/Dataset/CBIS-DDSM/New_CBDDSM/roi/calc-training\\Calc-Training_P_01108_LEFT_CC_1_1-2.png\n"
     ]
    },
    {
     "name": "stderr",
     "output_type": "stream",
     "text": [
      "转换文件:  57%|█████▋    | 876/1546 [02:18<01:43,  6.48it/s]"
     ]
    },
    {
     "name": "stdout",
     "output_type": "stream",
     "text": [
      "掩码中的唯一值: [  0 255]\n",
      "掩码已保存为: E:/Dataset/CBIS-DDSM/New_CBDDSM/roi/calc-training\\Calc-Training_P_01108_LEFT_MLO_1_1-2.png\n"
     ]
    },
    {
     "name": "stderr",
     "output_type": "stream",
     "text": [
      "转换文件:  57%|█████▋    | 877/1546 [02:18<02:00,  5.57it/s]"
     ]
    },
    {
     "name": "stdout",
     "output_type": "stream",
     "text": [
      "掩码中的唯一值: [  0 255]\n",
      "掩码已保存为: E:/Dataset/CBIS-DDSM/New_CBDDSM/roi/calc-training\\Calc-Training_P_01111_RIGHT_CC_1_1-2.png\n",
      "掩码中的唯一值: [  0 255]\n"
     ]
    },
    {
     "name": "stderr",
     "output_type": "stream",
     "text": [
      "转换文件:  57%|█████▋    | 879/1546 [02:19<02:10,  5.12it/s]"
     ]
    },
    {
     "name": "stdout",
     "output_type": "stream",
     "text": [
      "掩码已保存为: E:/Dataset/CBIS-DDSM/New_CBDDSM/roi/calc-training\\Calc-Training_P_01111_RIGHT_MLO_1_1-2.png\n",
      "掩码中的唯一值: [  0 255]\n",
      "掩码已保存为: E:/Dataset/CBIS-DDSM/New_CBDDSM/roi/calc-training\\Calc-Training_P_01116_LEFT_CC_1_1-2.png\n"
     ]
    },
    {
     "name": "stderr",
     "output_type": "stream",
     "text": [
      "转换文件:  57%|█████▋    | 881/1546 [02:19<02:02,  5.42it/s]"
     ]
    },
    {
     "name": "stdout",
     "output_type": "stream",
     "text": [
      "掩码中的唯一值: [  0 255]\n",
      "掩码已保存为: E:/Dataset/CBIS-DDSM/New_CBDDSM/roi/calc-training\\Calc-Training_P_01116_LEFT_MLO_1_1-2.png\n",
      "掩码中的唯一值: [  0 255]\n",
      "掩码已保存为: E:/Dataset/CBIS-DDSM/New_CBDDSM/roi/calc-training\\Calc-Training_P_01121_RIGHT_CC_1_1-2.png\n"
     ]
    },
    {
     "name": "stderr",
     "output_type": "stream",
     "text": [
      "转换文件:  57%|█████▋    | 883/1546 [02:19<01:40,  6.61it/s]"
     ]
    },
    {
     "name": "stdout",
     "output_type": "stream",
     "text": [
      "掩码中的唯一值: [  0 255]\n",
      "掩码已保存为: E:/Dataset/CBIS-DDSM/New_CBDDSM/roi/calc-training\\Calc-Training_P_01122_LEFT_MLO_1_1-2.png\n",
      "掩码中的唯一值: [  0 255]\n",
      "掩码已保存为: E:/Dataset/CBIS-DDSM/New_CBDDSM/roi/calc-training\\Calc-Training_P_01126_LEFT_CC_1_1-2.png\n"
     ]
    },
    {
     "name": "stderr",
     "output_type": "stream",
     "text": [
      "转换文件:  57%|█████▋    | 885/1546 [02:19<01:42,  6.47it/s]"
     ]
    },
    {
     "name": "stdout",
     "output_type": "stream",
     "text": [
      "掩码中的唯一值: [  0 255]\n",
      "掩码已保存为: E:/Dataset/CBIS-DDSM/New_CBDDSM/roi/calc-training\\Calc-Training_P_01126_LEFT_MLO_1_1-2.png\n",
      "掩码中的唯一值: [  0 255]\n",
      "掩码已保存为: E:/Dataset/CBIS-DDSM/New_CBDDSM/roi/calc-training\\Calc-Training_P_01127_RIGHT_CC_1_1-2.png\n"
     ]
    },
    {
     "name": "stderr",
     "output_type": "stream",
     "text": [
      "转换文件:  57%|█████▋    | 887/1546 [02:20<01:37,  6.76it/s]"
     ]
    },
    {
     "name": "stdout",
     "output_type": "stream",
     "text": [
      "掩码中的唯一值: [  0 255]\n",
      "掩码已保存为: E:/Dataset/CBIS-DDSM/New_CBDDSM/roi/calc-training\\Calc-Training_P_01127_RIGHT_MLO_1_1-2.png\n",
      "掩码中的唯一值: [  0 255]\n",
      "掩码已保存为: E:/Dataset/CBIS-DDSM/New_CBDDSM/roi/calc-training\\Calc-Training_P_01128_RIGHT_CC_1_1-2.png\n"
     ]
    },
    {
     "name": "stderr",
     "output_type": "stream",
     "text": [
      "转换文件:  57%|█████▋    | 888/1546 [02:20<01:34,  6.94it/s]"
     ]
    },
    {
     "name": "stdout",
     "output_type": "stream",
     "text": [
      "掩码中的唯一值: [  0 255]\n",
      "掩码已保存为: E:/Dataset/CBIS-DDSM/New_CBDDSM/roi/calc-training\\Calc-Training_P_01128_RIGHT_MLO_1_1-2.png\n"
     ]
    },
    {
     "name": "stderr",
     "output_type": "stream",
     "text": [
      "转换文件:  58%|█████▊    | 890/1546 [02:20<02:00,  5.44it/s]"
     ]
    },
    {
     "name": "stdout",
     "output_type": "stream",
     "text": [
      "掩码中的唯一值: [  0 255]\n",
      "掩码已保存为: E:/Dataset/CBIS-DDSM/New_CBDDSM/roi/calc-training\\Calc-Training_P_01129_RIGHT_CC_1_1-2.png\n",
      "掩码中的唯一值: [  0 255]\n",
      "掩码已保存为: E:/Dataset/CBIS-DDSM/New_CBDDSM/roi/calc-training\\Calc-Training_P_01129_RIGHT_MLO_1_1-2.png\n"
     ]
    },
    {
     "name": "stderr",
     "output_type": "stream",
     "text": [
      "转换文件:  58%|█████▊    | 892/1546 [02:21<01:31,  7.12it/s]"
     ]
    },
    {
     "name": "stdout",
     "output_type": "stream",
     "text": [
      "掩码中的唯一值: [  0 255]\n",
      "掩码已保存为: E:/Dataset/CBIS-DDSM/New_CBDDSM/roi/calc-training\\Calc-Training_P_01135_RIGHT_CC_1_1-2.png\n",
      "掩码中的唯一值: [  0 255]\n",
      "掩码已保存为: E:/Dataset/CBIS-DDSM/New_CBDDSM/roi/calc-training\\Calc-Training_P_01135_RIGHT_MLO_1_1-2.png\n"
     ]
    },
    {
     "name": "stderr",
     "output_type": "stream",
     "text": [
      "转换文件:  58%|█████▊    | 894/1546 [02:21<01:46,  6.14it/s]"
     ]
    },
    {
     "name": "stdout",
     "output_type": "stream",
     "text": [
      "掩码中的唯一值: [  0 255]\n",
      "掩码已保存为: E:/Dataset/CBIS-DDSM/New_CBDDSM/roi/calc-training\\Calc-Training_P_01136_RIGHT_CC_1_1-2.png\n",
      "掩码中的唯一值: [  0 255]\n",
      "掩码已保存为: E:/Dataset/CBIS-DDSM/New_CBDDSM/roi/calc-training\\Calc-Training_P_01136_RIGHT_MLO_1_1-2.png\n"
     ]
    },
    {
     "name": "stderr",
     "output_type": "stream",
     "text": [
      "转换文件:  58%|█████▊    | 896/1546 [02:21<01:31,  7.14it/s]"
     ]
    },
    {
     "name": "stdout",
     "output_type": "stream",
     "text": [
      "掩码中的唯一值: [  0 255]\n",
      "掩码已保存为: E:/Dataset/CBIS-DDSM/New_CBDDSM/roi/calc-training\\Calc-Training_P_01137_LEFT_CC_1_1-2.png\n",
      "掩码中的唯一值: [  0 255]\n",
      "掩码已保存为: E:/Dataset/CBIS-DDSM/New_CBDDSM/roi/calc-training\\Calc-Training_P_01137_LEFT_MLO_1_1-2.png\n"
     ]
    },
    {
     "name": "stderr",
     "output_type": "stream",
     "text": [
      "转换文件:  58%|█████▊    | 898/1546 [02:21<01:23,  7.76it/s]"
     ]
    },
    {
     "name": "stdout",
     "output_type": "stream",
     "text": [
      "掩码中的唯一值: [  0 255]\n",
      "掩码已保存为: E:/Dataset/CBIS-DDSM/New_CBDDSM/roi/calc-training\\Calc-Training_P_01139_RIGHT_CC_1_1-2.png\n",
      "掩码中的唯一值: [  0 255]\n",
      "掩码已保存为: E:/Dataset/CBIS-DDSM/New_CBDDSM/roi/calc-training\\Calc-Training_P_01139_RIGHT_MLO_1_1-2.png\n"
     ]
    },
    {
     "name": "stderr",
     "output_type": "stream",
     "text": [
      "转换文件:  58%|█████▊    | 900/1546 [02:22<01:41,  6.40it/s]"
     ]
    },
    {
     "name": "stdout",
     "output_type": "stream",
     "text": [
      "掩码中的唯一值: [  0 255]\n",
      "掩码已保存为: E:/Dataset/CBIS-DDSM/New_CBDDSM/roi/calc-training\\Calc-Training_P_01143_RIGHT_CC_1_1-2.png\n",
      "掩码中的唯一值: [  0 255]\n",
      "掩码已保存为: E:/Dataset/CBIS-DDSM/New_CBDDSM/roi/calc-training\\Calc-Training_P_01156_LEFT_CC_1_1-2.png\n"
     ]
    },
    {
     "name": "stderr",
     "output_type": "stream",
     "text": [
      "转换文件:  58%|█████▊    | 902/1546 [02:22<01:36,  6.66it/s]"
     ]
    },
    {
     "name": "stdout",
     "output_type": "stream",
     "text": [
      "掩码中的唯一值: [  0 255]\n",
      "掩码已保存为: E:/Dataset/CBIS-DDSM/New_CBDDSM/roi/calc-training\\Calc-Training_P_01156_LEFT_MLO_1_1-2.png\n",
      "掩码中的唯一值: [  0 255]\n",
      "掩码已保存为: E:/Dataset/CBIS-DDSM/New_CBDDSM/roi/calc-training\\Calc-Training_P_01156_RIGHT_CC_1_1-2.png\n"
     ]
    },
    {
     "name": "stderr",
     "output_type": "stream",
     "text": [
      "转换文件:  58%|█████▊    | 904/1546 [02:22<01:30,  7.10it/s]"
     ]
    },
    {
     "name": "stdout",
     "output_type": "stream",
     "text": [
      "掩码中的唯一值: [  0 255]\n",
      "掩码已保存为: E:/Dataset/CBIS-DDSM/New_CBDDSM/roi/calc-training\\Calc-Training_P_01156_RIGHT_MLO_1_1-2.png\n",
      "掩码中的唯一值: [  0 255]\n",
      "掩码已保存为: E:/Dataset/CBIS-DDSM/New_CBDDSM/roi/calc-training\\Calc-Training_P_01159_LEFT_CC_1_1-2.png\n"
     ]
    },
    {
     "name": "stderr",
     "output_type": "stream",
     "text": [
      "转换文件:  59%|█████▊    | 906/1546 [02:23<01:22,  7.74it/s]"
     ]
    },
    {
     "name": "stdout",
     "output_type": "stream",
     "text": [
      "掩码中的唯一值: [  0 255]\n",
      "掩码已保存为: E:/Dataset/CBIS-DDSM/New_CBDDSM/roi/calc-training\\Calc-Training_P_01159_LEFT_MLO_1_1-2.png\n",
      "掩码中的唯一值: [  0 255]\n",
      "掩码已保存为: E:/Dataset/CBIS-DDSM/New_CBDDSM/roi/calc-training\\Calc-Training_P_01160_LEFT_CC_1_1-2.png\n"
     ]
    },
    {
     "name": "stderr",
     "output_type": "stream",
     "text": [
      "转换文件:  59%|█████▊    | 908/1546 [02:23<01:18,  8.12it/s]"
     ]
    },
    {
     "name": "stdout",
     "output_type": "stream",
     "text": [
      "掩码中的唯一值: [  0 255]\n",
      "掩码已保存为: E:/Dataset/CBIS-DDSM/New_CBDDSM/roi/calc-training\\Calc-Training_P_01160_LEFT_CC_2_1-2.png\n",
      "掩码中的唯一值: [  0 255]\n",
      "掩码已保存为: E:/Dataset/CBIS-DDSM/New_CBDDSM/roi/calc-training\\Calc-Training_P_01160_LEFT_MLO_1_1-2.png\n"
     ]
    },
    {
     "name": "stderr",
     "output_type": "stream",
     "text": [
      "转换文件:  59%|█████▉    | 910/1546 [02:23<01:16,  8.36it/s]"
     ]
    },
    {
     "name": "stdout",
     "output_type": "stream",
     "text": [
      "掩码中的唯一值: [  0 255]\n",
      "掩码已保存为: E:/Dataset/CBIS-DDSM/New_CBDDSM/roi/calc-training\\Calc-Training_P_01160_RIGHT_CC_1_1-2.png\n",
      "掩码中的唯一值: [  0 255]\n",
      "掩码已保存为: E:/Dataset/CBIS-DDSM/New_CBDDSM/roi/calc-training\\Calc-Training_P_01160_RIGHT_MLO_1_1-2.png\n"
     ]
    },
    {
     "name": "stderr",
     "output_type": "stream",
     "text": [
      "转换文件:  59%|█████▉    | 912/1546 [02:23<01:22,  7.65it/s]"
     ]
    },
    {
     "name": "stdout",
     "output_type": "stream",
     "text": [
      "掩码中的唯一值: [  0 255]\n",
      "掩码已保存为: E:/Dataset/CBIS-DDSM/New_CBDDSM/roi/calc-training\\Calc-Training_P_01161_LEFT_CC_1_1-2.png\n",
      "掩码中的唯一值: [  0 255]\n",
      "掩码已保存为: E:/Dataset/CBIS-DDSM/New_CBDDSM/roi/calc-training\\Calc-Training_P_01161_LEFT_MLO_1_1-2.png\n"
     ]
    },
    {
     "name": "stderr",
     "output_type": "stream",
     "text": [
      "转换文件:  59%|█████▉    | 914/1546 [02:24<01:21,  7.79it/s]"
     ]
    },
    {
     "name": "stdout",
     "output_type": "stream",
     "text": [
      "掩码中的唯一值: [  0 255]\n",
      "掩码已保存为: E:/Dataset/CBIS-DDSM/New_CBDDSM/roi/calc-training\\Calc-Training_P_01166_RIGHT_CC_1_1-2.png\n",
      "掩码中的唯一值: [  0 255]\n",
      "掩码已保存为: E:/Dataset/CBIS-DDSM/New_CBDDSM/roi/calc-training\\Calc-Training_P_01166_RIGHT_MLO_1_1-2.png\n"
     ]
    },
    {
     "name": "stderr",
     "output_type": "stream",
     "text": [
      "转换文件:  59%|█████▉    | 915/1546 [02:24<01:35,  6.57it/s]"
     ]
    },
    {
     "name": "stdout",
     "output_type": "stream",
     "text": [
      "掩码中的唯一值: [  0 255]\n",
      "掩码已保存为: E:/Dataset/CBIS-DDSM/New_CBDDSM/roi/calc-training\\Calc-Training_P_01169_LEFT_CC_1_1-2.png\n",
      "掩码中的唯一值: [  0 255]\n"
     ]
    },
    {
     "name": "stderr",
     "output_type": "stream",
     "text": [
      "转换文件:  59%|█████▉    | 917/1546 [02:24<01:54,  5.50it/s]"
     ]
    },
    {
     "name": "stdout",
     "output_type": "stream",
     "text": [
      "掩码已保存为: E:/Dataset/CBIS-DDSM/New_CBDDSM/roi/calc-training\\Calc-Training_P_01169_LEFT_CC_2_1-2.png\n",
      "掩码中的唯一值: [  0 255]\n",
      "掩码已保存为: E:/Dataset/CBIS-DDSM/New_CBDDSM/roi/calc-training\\Calc-Training_P_01169_LEFT_CC_3_1-2.png\n"
     ]
    },
    {
     "name": "stderr",
     "output_type": "stream",
     "text": [
      "转换文件:  59%|█████▉    | 918/1546 [02:24<01:59,  5.23it/s]"
     ]
    },
    {
     "name": "stdout",
     "output_type": "stream",
     "text": [
      "掩码中的唯一值: [  0 255]\n",
      "掩码已保存为: E:/Dataset/CBIS-DDSM/New_CBDDSM/roi/calc-training\\Calc-Training_P_01169_LEFT_MLO_1_1-2.png\n"
     ]
    },
    {
     "name": "stderr",
     "output_type": "stream",
     "text": [
      "转换文件:  59%|█████▉    | 919/1546 [02:25<02:04,  5.03it/s]"
     ]
    },
    {
     "name": "stdout",
     "output_type": "stream",
     "text": [
      "掩码中的唯一值: [  0 255]\n",
      "掩码已保存为: E:/Dataset/CBIS-DDSM/New_CBDDSM/roi/calc-training\\Calc-Training_P_01169_LEFT_MLO_2_1-2.png\n"
     ]
    },
    {
     "name": "stderr",
     "output_type": "stream",
     "text": [
      "转换文件:  60%|█████▉    | 921/1546 [02:25<01:51,  5.62it/s]"
     ]
    },
    {
     "name": "stdout",
     "output_type": "stream",
     "text": [
      "掩码中的唯一值: [  0 255]\n",
      "掩码已保存为: E:/Dataset/CBIS-DDSM/New_CBDDSM/roi/calc-training\\Calc-Training_P_01169_LEFT_MLO_3_1-2.png\n",
      "掩码中的唯一值: [  0 255]\n",
      "掩码已保存为: E:/Dataset/CBIS-DDSM/New_CBDDSM/roi/calc-training\\Calc-Training_P_01170_RIGHT_CC_1_1-2.png\n"
     ]
    },
    {
     "name": "stderr",
     "output_type": "stream",
     "text": [
      "转换文件:  60%|█████▉    | 923/1546 [02:25<01:32,  6.72it/s]"
     ]
    },
    {
     "name": "stdout",
     "output_type": "stream",
     "text": [
      "掩码中的唯一值: [  0 255]\n",
      "掩码已保存为: E:/Dataset/CBIS-DDSM/New_CBDDSM/roi/calc-training\\Calc-Training_P_01170_RIGHT_MLO_1_1-2.png\n",
      "掩码中的唯一值: [  0 255]\n",
      "掩码已保存为: E:/Dataset/CBIS-DDSM/New_CBDDSM/roi/calc-training\\Calc-Training_P_01172_LEFT_CC_1_1-2.png\n"
     ]
    },
    {
     "name": "stderr",
     "output_type": "stream",
     "text": [
      "转换文件:  60%|█████▉    | 925/1546 [02:25<01:25,  7.25it/s]"
     ]
    },
    {
     "name": "stdout",
     "output_type": "stream",
     "text": [
      "掩码中的唯一值: [  0 255]\n",
      "掩码已保存为: E:/Dataset/CBIS-DDSM/New_CBDDSM/roi/calc-training\\Calc-Training_P_01172_LEFT_MLO_1_1-2.png\n",
      "掩码中的唯一值: [  0 255]\n",
      "掩码已保存为: E:/Dataset/CBIS-DDSM/New_CBDDSM/roi/calc-training\\Calc-Training_P_01180_LEFT_CC_1_1-2.png\n"
     ]
    },
    {
     "name": "stderr",
     "output_type": "stream",
     "text": [
      "转换文件:  60%|█████▉    | 927/1546 [02:26<01:23,  7.42it/s]"
     ]
    },
    {
     "name": "stdout",
     "output_type": "stream",
     "text": [
      "掩码中的唯一值: [  0 255]\n",
      "掩码已保存为: E:/Dataset/CBIS-DDSM/New_CBDDSM/roi/calc-training\\Calc-Training_P_01180_LEFT_MLO_1_1-2.png\n",
      "掩码中的唯一值: [  0 255]\n",
      "掩码已保存为: E:/Dataset/CBIS-DDSM/New_CBDDSM/roi/calc-training\\Calc-Training_P_01184_LEFT_CC_1_1-2.png\n"
     ]
    },
    {
     "name": "stderr",
     "output_type": "stream",
     "text": [
      "转换文件:  60%|██████    | 929/1546 [02:26<01:17,  7.97it/s]"
     ]
    },
    {
     "name": "stdout",
     "output_type": "stream",
     "text": [
      "掩码中的唯一值: [  0 255]\n",
      "掩码已保存为: E:/Dataset/CBIS-DDSM/New_CBDDSM/roi/calc-training\\Calc-Training_P_01184_LEFT_MLO_1_1-2.png\n",
      "掩码中的唯一值: [  0 255]\n",
      "掩码已保存为: E:/Dataset/CBIS-DDSM/New_CBDDSM/roi/calc-training\\Calc-Training_P_01186_LEFT_CC_1_1-2.png\n"
     ]
    },
    {
     "name": "stderr",
     "output_type": "stream",
     "text": [
      "转换文件:  60%|██████    | 932/1546 [02:26<01:07,  9.13it/s]"
     ]
    },
    {
     "name": "stdout",
     "output_type": "stream",
     "text": [
      "掩码中的唯一值: [  0 255]\n",
      "掩码已保存为: E:/Dataset/CBIS-DDSM/New_CBDDSM/roi/calc-training\\Calc-Training_P_01186_LEFT_MLO_1_1-2.png\n",
      "掩码中的唯一值: [  0 255]\n",
      "掩码已保存为: E:/Dataset/CBIS-DDSM/New_CBDDSM/roi/calc-training\\Calc-Training_P_01188_RIGHT_CC_1_1-2.png\n",
      "掩码中的唯一值: [  0 255]\n",
      "掩码已保存为: E:/Dataset/CBIS-DDSM/New_CBDDSM/roi/calc-training\\Calc-Training_P_01188_RIGHT_MLO_1_1-2.png\n"
     ]
    },
    {
     "name": "stderr",
     "output_type": "stream",
     "text": [
      "转换文件:  60%|██████    | 934/1546 [02:27<01:30,  6.79it/s]"
     ]
    },
    {
     "name": "stdout",
     "output_type": "stream",
     "text": [
      "掩码中的唯一值: [  0 255]\n",
      "掩码已保存为: E:/Dataset/CBIS-DDSM/New_CBDDSM/roi/calc-training\\Calc-Training_P_01193_LEFT_CC_1_1-2.png\n",
      "掩码中的唯一值: [  0 255]\n",
      "掩码已保存为: E:/Dataset/CBIS-DDSM/New_CBDDSM/roi/calc-training\\Calc-Training_P_01196_LEFT_MLO_1_1-2.png\n"
     ]
    },
    {
     "name": "stderr",
     "output_type": "stream",
     "text": [
      "转换文件:  61%|██████    | 936/1546 [02:27<01:21,  7.48it/s]"
     ]
    },
    {
     "name": "stdout",
     "output_type": "stream",
     "text": [
      "掩码中的唯一值: [  0 255]\n",
      "掩码已保存为: E:/Dataset/CBIS-DDSM/New_CBDDSM/roi/calc-training\\Calc-Training_P_01197_LEFT_CC_1_1-2.png\n",
      "掩码中的唯一值: [  0 255]\n",
      "掩码已保存为: E:/Dataset/CBIS-DDSM/New_CBDDSM/roi/calc-training\\Calc-Training_P_01197_LEFT_MLO_1_1-2.png\n"
     ]
    },
    {
     "name": "stderr",
     "output_type": "stream",
     "text": [
      "转换文件:  61%|██████    | 938/1546 [02:27<01:14,  8.17it/s]"
     ]
    },
    {
     "name": "stdout",
     "output_type": "stream",
     "text": [
      "掩码中的唯一值: [  0 255]\n",
      "掩码已保存为: E:/Dataset/CBIS-DDSM/New_CBDDSM/roi/calc-training\\Calc-Training_P_01198_RIGHT_CC_1_1-2.png\n",
      "掩码中的唯一值: [  0 255]\n",
      "掩码已保存为: E:/Dataset/CBIS-DDSM/New_CBDDSM/roi/calc-training\\Calc-Training_P_01198_RIGHT_MLO_1_1-2.png\n"
     ]
    },
    {
     "name": "stderr",
     "output_type": "stream",
     "text": [
      "转换文件:  61%|██████    | 940/1546 [02:27<01:13,  8.20it/s]"
     ]
    },
    {
     "name": "stdout",
     "output_type": "stream",
     "text": [
      "掩码中的唯一值: [  0 255]\n",
      "掩码已保存为: E:/Dataset/CBIS-DDSM/New_CBDDSM/roi/calc-training\\Calc-Training_P_01200_LEFT_CC_1_1-2.png\n",
      "掩码中的唯一值: [  0 255]\n",
      "掩码已保存为: E:/Dataset/CBIS-DDSM/New_CBDDSM/roi/calc-training\\Calc-Training_P_01200_LEFT_MLO_1_1-2.png\n"
     ]
    },
    {
     "name": "stderr",
     "output_type": "stream",
     "text": [
      "转换文件:  61%|██████    | 942/1546 [02:28<01:17,  7.76it/s]"
     ]
    },
    {
     "name": "stdout",
     "output_type": "stream",
     "text": [
      "掩码中的唯一值: [  0 255]\n",
      "掩码已保存为: E:/Dataset/CBIS-DDSM/New_CBDDSM/roi/calc-training\\Calc-Training_P_01200_RIGHT_MLO_1_1-2.png\n",
      "掩码中的唯一值: [  0 255]\n",
      "掩码已保存为: E:/Dataset/CBIS-DDSM/New_CBDDSM/roi/calc-training\\Calc-Training_P_01205_RIGHT_CC_1_1-2.png\n"
     ]
    },
    {
     "name": "stderr",
     "output_type": "stream",
     "text": [
      "转换文件:  61%|██████    | 944/1546 [02:28<01:13,  8.14it/s]"
     ]
    },
    {
     "name": "stdout",
     "output_type": "stream",
     "text": [
      "掩码中的唯一值: [  0 255]\n",
      "掩码已保存为: E:/Dataset/CBIS-DDSM/New_CBDDSM/roi/calc-training\\Calc-Training_P_01205_RIGHT_MLO_1_1-2.png\n",
      "掩码中的唯一值: [  0 255]\n",
      "掩码已保存为: E:/Dataset/CBIS-DDSM/New_CBDDSM/roi/calc-training\\Calc-Training_P_01219_LEFT_CC_1_1-2.png\n"
     ]
    },
    {
     "name": "stderr",
     "output_type": "stream",
     "text": [
      "转换文件:  61%|██████    | 946/1546 [02:28<01:09,  8.69it/s]"
     ]
    },
    {
     "name": "stdout",
     "output_type": "stream",
     "text": [
      "掩码中的唯一值: [  0 255]\n",
      "掩码已保存为: E:/Dataset/CBIS-DDSM/New_CBDDSM/roi/calc-training\\Calc-Training_P_01219_LEFT_MLO_1_1-2.png\n",
      "掩码中的唯一值: [  0 255]\n",
      "掩码已保存为: E:/Dataset/CBIS-DDSM/New_CBDDSM/roi/calc-training\\Calc-Training_P_01220_RIGHT_CC_1_1-2.png\n"
     ]
    },
    {
     "name": "stderr",
     "output_type": "stream",
     "text": [
      "转换文件:  61%|██████▏   | 949/1546 [02:28<00:55, 10.85it/s]"
     ]
    },
    {
     "name": "stdout",
     "output_type": "stream",
     "text": [
      "掩码中的唯一值: [  0 255]\n",
      "掩码已保存为: E:/Dataset/CBIS-DDSM/New_CBDDSM/roi/calc-training\\Calc-Training_P_01220_RIGHT_MLO_1_1-2.png\n",
      "掩码中的唯一值: [  0 255]\n",
      "掩码已保存为: E:/Dataset/CBIS-DDSM/New_CBDDSM/roi/calc-training\\Calc-Training_P_01227_RIGHT_CC_1_1-2.png\n",
      "掩码中的唯一值: [  0 255]\n",
      "掩码已保存为: E:/Dataset/CBIS-DDSM/New_CBDDSM/roi/calc-training\\Calc-Training_P_01227_RIGHT_MLO_1_1-2.png\n",
      "掩码中的唯一值: [  0 255]\n",
      "掩码已保存为: E:/Dataset/CBIS-DDSM/New_CBDDSM/roi/calc-training\\Calc-Training_P_01229_RIGHT_CC_1_1-2.png\n"
     ]
    },
    {
     "name": "stderr",
     "output_type": "stream",
     "text": [
      "转换文件:  62%|██████▏   | 951/1546 [02:29<01:24,  7.01it/s]"
     ]
    },
    {
     "name": "stdout",
     "output_type": "stream",
     "text": [
      "掩码中的唯一值: [  0 255]\n",
      "掩码已保存为: E:/Dataset/CBIS-DDSM/New_CBDDSM/roi/calc-training\\Calc-Training_P_01229_RIGHT_MLO_1_1-2.png\n"
     ]
    },
    {
     "name": "stderr",
     "output_type": "stream",
     "text": [
      "转换文件:  62%|██████▏   | 953/1546 [02:29<01:42,  5.80it/s]"
     ]
    },
    {
     "name": "stdout",
     "output_type": "stream",
     "text": [
      "掩码中的唯一值: [  0 255]\n",
      "掩码已保存为: E:/Dataset/CBIS-DDSM/New_CBDDSM/roi/calc-training\\Calc-Training_P_01234_RIGHT_CC_1_1-2.png\n",
      "掩码中的唯一值: [  0 255]\n",
      "掩码已保存为: E:/Dataset/CBIS-DDSM/New_CBDDSM/roi/calc-training\\Calc-Training_P_01234_RIGHT_MLO_1_1-2.png\n"
     ]
    },
    {
     "name": "stderr",
     "output_type": "stream",
     "text": [
      "转换文件:  62%|██████▏   | 956/1546 [02:30<01:16,  7.73it/s]"
     ]
    },
    {
     "name": "stdout",
     "output_type": "stream",
     "text": [
      "掩码中的唯一值: [  0 255]\n",
      "掩码已保存为: E:/Dataset/CBIS-DDSM/New_CBDDSM/roi/calc-training\\Calc-Training_P_01240_RIGHT_MLO_1_1-2.png\n",
      "掩码中的唯一值: [  0 255]\n",
      "掩码已保存为: E:/Dataset/CBIS-DDSM/New_CBDDSM/roi/calc-training\\Calc-Training_P_01246_RIGHT_MLO_1_1-2.png\n",
      "掩码中的唯一值: [  0 255]\n",
      "掩码已保存为: E:/Dataset/CBIS-DDSM/New_CBDDSM/roi/calc-training\\Calc-Training_P_01249_LEFT_CC_1_1-2.png\n"
     ]
    },
    {
     "name": "stderr",
     "output_type": "stream",
     "text": [
      "转换文件:  62%|██████▏   | 958/1546 [02:30<01:18,  7.48it/s]"
     ]
    },
    {
     "name": "stdout",
     "output_type": "stream",
     "text": [
      "掩码中的唯一值: [  0 255]\n",
      "掩码已保存为: E:/Dataset/CBIS-DDSM/New_CBDDSM/roi/calc-training\\Calc-Training_P_01249_LEFT_MLO_1_1-2.png\n",
      "掩码中的唯一值: [  0 255]\n",
      "掩码已保存为: E:/Dataset/CBIS-DDSM/New_CBDDSM/roi/calc-training\\Calc-Training_P_01250_LEFT_CC_1_1-2.png\n"
     ]
    },
    {
     "name": "stderr",
     "output_type": "stream",
     "text": [
      "转换文件:  62%|██████▏   | 960/1546 [02:30<01:20,  7.26it/s]"
     ]
    },
    {
     "name": "stdout",
     "output_type": "stream",
     "text": [
      "掩码中的唯一值: [  0 255]\n",
      "掩码已保存为: E:/Dataset/CBIS-DDSM/New_CBDDSM/roi/calc-training\\Calc-Training_P_01250_LEFT_MLO_1_1-2.png\n",
      "掩码中的唯一值: [  0 255]\n",
      "掩码已保存为: E:/Dataset/CBIS-DDSM/New_CBDDSM/roi/calc-training\\Calc-Training_P_01252_RIGHT_CC_1_1-2.png\n"
     ]
    },
    {
     "name": "stderr",
     "output_type": "stream",
     "text": [
      "转换文件:  62%|██████▏   | 962/1546 [02:30<01:15,  7.77it/s]"
     ]
    },
    {
     "name": "stdout",
     "output_type": "stream",
     "text": [
      "掩码中的唯一值: [  0 255]\n",
      "掩码已保存为: E:/Dataset/CBIS-DDSM/New_CBDDSM/roi/calc-training\\Calc-Training_P_01252_RIGHT_MLO_1_1-2.png\n",
      "掩码中的唯一值: [  0 255]\n",
      "掩码已保存为: E:/Dataset/CBIS-DDSM/New_CBDDSM/roi/calc-training\\Calc-Training_P_01255_RIGHT_CC_1_1-2.png\n"
     ]
    },
    {
     "name": "stderr",
     "output_type": "stream",
     "text": [
      "转换文件:  62%|██████▏   | 964/1546 [02:31<01:14,  7.76it/s]"
     ]
    },
    {
     "name": "stdout",
     "output_type": "stream",
     "text": [
      "掩码中的唯一值: [  0 255]\n",
      "掩码已保存为: E:/Dataset/CBIS-DDSM/New_CBDDSM/roi/calc-training\\Calc-Training_P_01255_RIGHT_MLO_1_1-2.png\n",
      "掩码中的唯一值: [  0 255]\n",
      "掩码已保存为: E:/Dataset/CBIS-DDSM/New_CBDDSM/roi/calc-training\\Calc-Training_P_01256_RIGHT_CC_1_1-2.png\n"
     ]
    },
    {
     "name": "stderr",
     "output_type": "stream",
     "text": [
      "转换文件:  63%|██████▎   | 967/1546 [02:31<01:04,  8.91it/s]"
     ]
    },
    {
     "name": "stdout",
     "output_type": "stream",
     "text": [
      "掩码中的唯一值: [  0 255]\n",
      "掩码已保存为: E:/Dataset/CBIS-DDSM/New_CBDDSM/roi/calc-training\\Calc-Training_P_01256_RIGHT_MLO_1_1-2.png\n",
      "掩码中的唯一值: [  0 255]\n",
      "掩码已保存为: E:/Dataset/CBIS-DDSM/New_CBDDSM/roi/calc-training\\Calc-Training_P_01259_RIGHT_CC_1_1-2.png\n",
      "掩码中的唯一值: [  0 255]\n",
      "掩码已保存为: E:/Dataset/CBIS-DDSM/New_CBDDSM/roi/calc-training\\Calc-Training_P_01259_RIGHT_MLO_1_1-2.png\n"
     ]
    },
    {
     "name": "stderr",
     "output_type": "stream",
     "text": [
      "转换文件:  63%|██████▎   | 968/1546 [02:31<01:19,  7.29it/s]"
     ]
    },
    {
     "name": "stdout",
     "output_type": "stream",
     "text": [
      "掩码中的唯一值: [  0 255]\n",
      "掩码已保存为: E:/Dataset/CBIS-DDSM/New_CBDDSM/roi/calc-training\\Calc-Training_P_01262_RIGHT_CC_3_1-2.png\n"
     ]
    },
    {
     "name": "stderr",
     "output_type": "stream",
     "text": [
      "转换文件:  63%|██████▎   | 969/1546 [02:31<01:34,  6.12it/s]"
     ]
    },
    {
     "name": "stdout",
     "output_type": "stream",
     "text": [
      "掩码中的唯一值: [  0 255]\n",
      "掩码已保存为: E:/Dataset/CBIS-DDSM/New_CBDDSM/roi/calc-training\\Calc-Training_P_01262_RIGHT_CC_4_1-2.png\n",
      "掩码中的唯一值: [  0 255]\n",
      "掩码已保存为: E:/Dataset/CBIS-DDSM/New_CBDDSM/roi/calc-training\\Calc-Training_P_01262_RIGHT_MLO_2_1-2.png\n"
     ]
    },
    {
     "name": "stderr",
     "output_type": "stream",
     "text": [
      "转换文件:  63%|██████▎   | 971/1546 [02:32<01:47,  5.37it/s]"
     ]
    },
    {
     "name": "stdout",
     "output_type": "stream",
     "text": [
      "掩码中的唯一值: [  0 255]\n",
      "掩码已保存为: E:/Dataset/CBIS-DDSM/New_CBDDSM/roi/calc-training\\Calc-Training_P_01262_RIGHT_MLO_3_1-2.png\n"
     ]
    },
    {
     "name": "stderr",
     "output_type": "stream",
     "text": [
      "转换文件:  63%|██████▎   | 973/1546 [02:32<01:42,  5.61it/s]"
     ]
    },
    {
     "name": "stdout",
     "output_type": "stream",
     "text": [
      "掩码中的唯一值: [  0 255]\n",
      "掩码已保存为: E:/Dataset/CBIS-DDSM/New_CBDDSM/roi/calc-training\\Calc-Training_P_01262_RIGHT_MLO_4_1-2.png\n",
      "掩码中的唯一值: [  0 255]\n",
      "掩码已保存为: E:/Dataset/CBIS-DDSM/New_CBDDSM/roi/calc-training\\Calc-Training_P_01264_RIGHT_MLO_1_1-2.png\n"
     ]
    },
    {
     "name": "stderr",
     "output_type": "stream",
     "text": [
      "转换文件:  63%|██████▎   | 975/1546 [02:32<01:26,  6.62it/s]"
     ]
    },
    {
     "name": "stdout",
     "output_type": "stream",
     "text": [
      "掩码中的唯一值: [  0 255]\n",
      "掩码已保存为: E:/Dataset/CBIS-DDSM/New_CBDDSM/roi/calc-training\\Calc-Training_P_01274_LEFT_CC_1_1-2.png\n",
      "掩码中的唯一值: [  0 255]\n",
      "掩码已保存为: E:/Dataset/CBIS-DDSM/New_CBDDSM/roi/calc-training\\Calc-Training_P_01274_LEFT_CC_2_1-2.png\n"
     ]
    },
    {
     "name": "stderr",
     "output_type": "stream",
     "text": [
      "转换文件:  63%|██████▎   | 977/1546 [02:33<01:17,  7.33it/s]"
     ]
    },
    {
     "name": "stdout",
     "output_type": "stream",
     "text": [
      "掩码中的唯一值: [  0 255]\n",
      "掩码已保存为: E:/Dataset/CBIS-DDSM/New_CBDDSM/roi/calc-training\\Calc-Training_P_01274_LEFT_MLO_1_1-2.png\n",
      "掩码中的唯一值: [  0 255]\n",
      "掩码已保存为: E:/Dataset/CBIS-DDSM/New_CBDDSM/roi/calc-training\\Calc-Training_P_01274_LEFT_MLO_2_1-2.png\n"
     ]
    },
    {
     "name": "stderr",
     "output_type": "stream",
     "text": [
      "转换文件:  63%|██████▎   | 979/1546 [02:33<01:14,  7.63it/s]"
     ]
    },
    {
     "name": "stdout",
     "output_type": "stream",
     "text": [
      "掩码中的唯一值: [  0 255]\n",
      "掩码已保存为: E:/Dataset/CBIS-DDSM/New_CBDDSM/roi/calc-training\\Calc-Training_P_01274_RIGHT_CC_1_1-2.png\n",
      "掩码中的唯一值: [  0 255]\n",
      "掩码已保存为: E:/Dataset/CBIS-DDSM/New_CBDDSM/roi/calc-training\\Calc-Training_P_01274_RIGHT_MLO_2_1-2.png\n"
     ]
    },
    {
     "name": "stderr",
     "output_type": "stream",
     "text": [
      "转换文件:  63%|██████▎   | 981/1546 [02:33<01:34,  5.99it/s]"
     ]
    },
    {
     "name": "stdout",
     "output_type": "stream",
     "text": [
      "掩码中的唯一值: [  0 255]\n",
      "掩码已保存为: E:/Dataset/CBIS-DDSM/New_CBDDSM/roi/calc-training\\Calc-Training_P_01275_LEFT_CC_1_1-2.png\n",
      "掩码中的唯一值: [  0 255]\n",
      "掩码已保存为: E:/Dataset/CBIS-DDSM/New_CBDDSM/roi/calc-training\\Calc-Training_P_01275_LEFT_MLO_1_1-2.png\n"
     ]
    },
    {
     "name": "stderr",
     "output_type": "stream",
     "text": [
      "转换文件:  64%|██████▎   | 983/1546 [02:34<01:20,  6.98it/s]"
     ]
    },
    {
     "name": "stdout",
     "output_type": "stream",
     "text": [
      "掩码中的唯一值: [  0 255]\n",
      "掩码已保存为: E:/Dataset/CBIS-DDSM/New_CBDDSM/roi/calc-training\\Calc-Training_P_01276_LEFT_CC_1_1-2.png\n",
      "掩码中的唯一值: [  0 255]\n",
      "掩码已保存为: E:/Dataset/CBIS-DDSM/New_CBDDSM/roi/calc-training\\Calc-Training_P_01276_LEFT_MLO_1_1-2.png\n"
     ]
    },
    {
     "name": "stderr",
     "output_type": "stream",
     "text": [
      "转换文件:  64%|██████▎   | 985/1546 [02:34<01:14,  7.53it/s]"
     ]
    },
    {
     "name": "stdout",
     "output_type": "stream",
     "text": [
      "掩码中的唯一值: [  0 255]\n",
      "掩码已保存为: E:/Dataset/CBIS-DDSM/New_CBDDSM/roi/calc-training\\Calc-Training_P_01276_RIGHT_CC_1_1-2.png\n",
      "掩码中的唯一值: [  0 255]\n",
      "掩码已保存为: E:/Dataset/CBIS-DDSM/New_CBDDSM/roi/calc-training\\Calc-Training_P_01276_RIGHT_CC_2_1-2.png\n"
     ]
    },
    {
     "name": "stderr",
     "output_type": "stream",
     "text": [
      "转换文件:  64%|██████▍   | 987/1546 [02:34<01:10,  7.96it/s]"
     ]
    },
    {
     "name": "stdout",
     "output_type": "stream",
     "text": [
      "掩码中的唯一值: [  0 255]\n",
      "掩码已保存为: E:/Dataset/CBIS-DDSM/New_CBDDSM/roi/calc-training\\Calc-Training_P_01276_RIGHT_MLO_1_1-2.png\n",
      "掩码中的唯一值: [  0 255]\n",
      "掩码已保存为: E:/Dataset/CBIS-DDSM/New_CBDDSM/roi/calc-training\\Calc-Training_P_01276_RIGHT_MLO_2_1-2.png\n"
     ]
    },
    {
     "name": "stderr",
     "output_type": "stream",
     "text": [
      "转换文件:  64%|██████▍   | 989/1546 [02:34<01:08,  8.14it/s]"
     ]
    },
    {
     "name": "stdout",
     "output_type": "stream",
     "text": [
      "掩码中的唯一值: [  0 255]\n",
      "掩码已保存为: E:/Dataset/CBIS-DDSM/New_CBDDSM/roi/calc-training\\Calc-Training_P_01284_RIGHT_MLO_1_1-2.png\n",
      "掩码中的唯一值: [  0 255]\n",
      "掩码已保存为: E:/Dataset/CBIS-DDSM/New_CBDDSM/roi/calc-training\\Calc-Training_P_01284_RIGHT_MLO_2_1-2.png\n"
     ]
    },
    {
     "name": "stderr",
     "output_type": "stream",
     "text": [
      "转换文件:  64%|██████▍   | 991/1546 [02:35<01:11,  7.75it/s]"
     ]
    },
    {
     "name": "stdout",
     "output_type": "stream",
     "text": [
      "掩码中的唯一值: [  0 255]\n",
      "掩码已保存为: E:/Dataset/CBIS-DDSM/New_CBDDSM/roi/calc-training\\Calc-Training_P_01286_LEFT_CC_1_1-2.png\n",
      "掩码中的唯一值: [  0 255]\n",
      "掩码已保存为: E:/Dataset/CBIS-DDSM/New_CBDDSM/roi/calc-training\\Calc-Training_P_01286_LEFT_MLO_1_1-2.png\n"
     ]
    },
    {
     "name": "stderr",
     "output_type": "stream",
     "text": [
      "转换文件:  64%|██████▍   | 993/1546 [02:35<01:22,  6.70it/s]"
     ]
    },
    {
     "name": "stdout",
     "output_type": "stream",
     "text": [
      "掩码中的唯一值: [  0 255]\n",
      "掩码已保存为: E:/Dataset/CBIS-DDSM/New_CBDDSM/roi/calc-training\\Calc-Training_P_01288_RIGHT_MLO_1_1-2.png\n",
      "掩码中的唯一值: [  0 255]\n",
      "掩码已保存为: E:/Dataset/CBIS-DDSM/New_CBDDSM/roi/calc-training\\Calc-Training_P_01291_RIGHT_CC_1_1-2.png\n"
     ]
    },
    {
     "name": "stderr",
     "output_type": "stream",
     "text": [
      "转换文件:  64%|██████▍   | 994/1546 [02:35<01:32,  5.97it/s]"
     ]
    },
    {
     "name": "stdout",
     "output_type": "stream",
     "text": [
      "掩码中的唯一值: [  0 255]\n",
      "掩码已保存为: E:/Dataset/CBIS-DDSM/New_CBDDSM/roi/calc-training\\Calc-Training_P_01291_RIGHT_MLO_1_1-2.png\n"
     ]
    },
    {
     "name": "stderr",
     "output_type": "stream",
     "text": [
      "转换文件:  64%|██████▍   | 995/1546 [02:35<01:42,  5.35it/s]"
     ]
    },
    {
     "name": "stdout",
     "output_type": "stream",
     "text": [
      "掩码中的唯一值: [  0 255]\n",
      "掩码已保存为: E:/Dataset/CBIS-DDSM/New_CBDDSM/roi/calc-training\\Calc-Training_P_01292_RIGHT_CC_1_1-2.png\n"
     ]
    },
    {
     "name": "stderr",
     "output_type": "stream",
     "text": [
      "转换文件:  64%|██████▍   | 996/1546 [02:36<01:50,  4.99it/s]"
     ]
    },
    {
     "name": "stdout",
     "output_type": "stream",
     "text": [
      "掩码中的唯一值: [  0 255]\n",
      "掩码已保存为: E:/Dataset/CBIS-DDSM/New_CBDDSM/roi/calc-training\\Calc-Training_P_01292_RIGHT_CC_2_1-2.png\n"
     ]
    },
    {
     "name": "stderr",
     "output_type": "stream",
     "text": [
      "转换文件:  64%|██████▍   | 997/1546 [02:36<01:55,  4.74it/s]"
     ]
    },
    {
     "name": "stdout",
     "output_type": "stream",
     "text": [
      "掩码中的唯一值: [  0 255]\n",
      "掩码已保存为: E:/Dataset/CBIS-DDSM/New_CBDDSM/roi/calc-training\\Calc-Training_P_01292_RIGHT_CC_3_1-2.png\n"
     ]
    },
    {
     "name": "stderr",
     "output_type": "stream",
     "text": [
      "转换文件:  65%|██████▍   | 998/1546 [02:36<02:02,  4.48it/s]"
     ]
    },
    {
     "name": "stdout",
     "output_type": "stream",
     "text": [
      "掩码中的唯一值: [  0 255]\n",
      "掩码已保存为: E:/Dataset/CBIS-DDSM/New_CBDDSM/roi/calc-training\\Calc-Training_P_01292_RIGHT_MLO_1_1-2.png\n"
     ]
    },
    {
     "name": "stderr",
     "output_type": "stream",
     "text": [
      "转换文件:  65%|██████▍   | 999/1546 [02:36<02:06,  4.33it/s]"
     ]
    },
    {
     "name": "stdout",
     "output_type": "stream",
     "text": [
      "掩码中的唯一值: [  0 255]\n",
      "掩码已保存为: E:/Dataset/CBIS-DDSM/New_CBDDSM/roi/calc-training\\Calc-Training_P_01292_RIGHT_MLO_2_1-2.png\n"
     ]
    },
    {
     "name": "stderr",
     "output_type": "stream",
     "text": [
      "转换文件:  65%|██████▍   | 1000/1546 [02:37<02:13,  4.10it/s]"
     ]
    },
    {
     "name": "stdout",
     "output_type": "stream",
     "text": [
      "掩码中的唯一值: [  0 255]\n",
      "掩码已保存为: E:/Dataset/CBIS-DDSM/New_CBDDSM/roi/calc-training\\Calc-Training_P_01292_RIGHT_MLO_3_1-2.png\n",
      "掩码中的唯一值: [  0 255]\n"
     ]
    },
    {
     "name": "stderr",
     "output_type": "stream",
     "text": [
      "转换文件:  65%|██████▍   | 1002/1546 [02:37<01:59,  4.57it/s]"
     ]
    },
    {
     "name": "stdout",
     "output_type": "stream",
     "text": [
      "掩码已保存为: E:/Dataset/CBIS-DDSM/New_CBDDSM/roi/calc-training\\Calc-Training_P_01293_RIGHT_CC_1_1-2.png\n",
      "掩码中的唯一值: [  0 255]\n",
      "掩码已保存为: E:/Dataset/CBIS-DDSM/New_CBDDSM/roi/calc-training\\Calc-Training_P_01293_RIGHT_MLO_1_1-2.png\n"
     ]
    },
    {
     "name": "stderr",
     "output_type": "stream",
     "text": [
      "转换文件:  65%|██████▍   | 1004/1546 [02:37<01:55,  4.70it/s]"
     ]
    },
    {
     "name": "stdout",
     "output_type": "stream",
     "text": [
      "掩码中的唯一值: [  0 255]\n",
      "掩码已保存为: E:/Dataset/CBIS-DDSM/New_CBDDSM/roi/calc-training\\Calc-Training_P_01296_RIGHT_CC_1_1-2.png\n",
      "掩码中的唯一值: [  0 255]\n",
      "掩码已保存为: E:/Dataset/CBIS-DDSM/New_CBDDSM/roi/calc-training\\Calc-Training_P_01296_RIGHT_MLO_1_1-2.png\n"
     ]
    },
    {
     "name": "stderr",
     "output_type": "stream",
     "text": [
      "转换文件:  65%|██████▌   | 1006/1546 [02:38<01:26,  6.23it/s]"
     ]
    },
    {
     "name": "stdout",
     "output_type": "stream",
     "text": [
      "掩码中的唯一值: [  0 255]\n",
      "掩码已保存为: E:/Dataset/CBIS-DDSM/New_CBDDSM/roi/calc-training\\Calc-Training_P_01297_LEFT_CC_2_1-2.png\n",
      "掩码中的唯一值: [  0 255]\n",
      "掩码已保存为: E:/Dataset/CBIS-DDSM/New_CBDDSM/roi/calc-training\\Calc-Training_P_01297_LEFT_MLO_2_1-2.png\n"
     ]
    },
    {
     "name": "stderr",
     "output_type": "stream",
     "text": [
      "转换文件:  65%|██████▌   | 1008/1546 [02:38<01:13,  7.36it/s]"
     ]
    },
    {
     "name": "stdout",
     "output_type": "stream",
     "text": [
      "掩码中的唯一值: [  0 255]\n",
      "掩码已保存为: E:/Dataset/CBIS-DDSM/New_CBDDSM/roi/calc-training\\Calc-Training_P_01300_LEFT_CC_1_1-2.png\n",
      "掩码中的唯一值: [  0 255]\n",
      "掩码已保存为: E:/Dataset/CBIS-DDSM/New_CBDDSM/roi/calc-training\\Calc-Training_P_01300_LEFT_CC_2_1-2.png\n"
     ]
    },
    {
     "name": "stderr",
     "output_type": "stream",
     "text": [
      "转换文件:  65%|██████▌   | 1010/1546 [02:38<01:10,  7.63it/s]"
     ]
    },
    {
     "name": "stdout",
     "output_type": "stream",
     "text": [
      "掩码中的唯一值: [  0 255]\n",
      "掩码已保存为: E:/Dataset/CBIS-DDSM/New_CBDDSM/roi/calc-training\\Calc-Training_P_01300_LEFT_MLO_1_1-2.png\n",
      "掩码中的唯一值: [  0 255]\n",
      "掩码已保存为: E:/Dataset/CBIS-DDSM/New_CBDDSM/roi/calc-training\\Calc-Training_P_01300_LEFT_MLO_2_1-2.png\n"
     ]
    },
    {
     "name": "stderr",
     "output_type": "stream",
     "text": [
      "转换文件:  65%|██████▌   | 1012/1546 [02:38<01:12,  7.39it/s]"
     ]
    },
    {
     "name": "stdout",
     "output_type": "stream",
     "text": [
      "掩码中的唯一值: [  0 255]\n",
      "掩码已保存为: E:/Dataset/CBIS-DDSM/New_CBDDSM/roi/calc-training\\Calc-Training_P_01300_LEFT_MLO_3_1-2.png\n",
      "掩码中的唯一值: [  0 255]\n",
      "掩码已保存为: E:/Dataset/CBIS-DDSM/New_CBDDSM/roi/calc-training\\Calc-Training_P_01306_LEFT_CC_1_1-2.png\n"
     ]
    },
    {
     "name": "stderr",
     "output_type": "stream",
     "text": [
      "转换文件:  66%|██████▌   | 1014/1546 [02:39<01:10,  7.58it/s]"
     ]
    },
    {
     "name": "stdout",
     "output_type": "stream",
     "text": [
      "掩码中的唯一值: [  0 255]\n",
      "掩码已保存为: E:/Dataset/CBIS-DDSM/New_CBDDSM/roi/calc-training\\Calc-Training_P_01306_LEFT_MLO_1_1-2.png\n",
      "掩码中的唯一值: [  0 255]\n",
      "掩码已保存为: E:/Dataset/CBIS-DDSM/New_CBDDSM/roi/calc-training\\Calc-Training_P_01306_RIGHT_CC_1_1-2.png\n"
     ]
    },
    {
     "name": "stderr",
     "output_type": "stream",
     "text": [
      "转换文件:  66%|██████▌   | 1016/1546 [02:39<01:08,  7.73it/s]"
     ]
    },
    {
     "name": "stdout",
     "output_type": "stream",
     "text": [
      "掩码中的唯一值: [  0 255]\n",
      "掩码已保存为: E:/Dataset/CBIS-DDSM/New_CBDDSM/roi/calc-training\\Calc-Training_P_01306_RIGHT_CC_2_1-2.png\n",
      "掩码中的唯一值: [  0 255]\n",
      "掩码已保存为: E:/Dataset/CBIS-DDSM/New_CBDDSM/roi/calc-training\\Calc-Training_P_01306_RIGHT_MLO_1_1-2.png\n"
     ]
    },
    {
     "name": "stderr",
     "output_type": "stream",
     "text": [
      "转换文件:  66%|██████▌   | 1018/1546 [02:39<01:05,  8.09it/s]"
     ]
    },
    {
     "name": "stdout",
     "output_type": "stream",
     "text": [
      "掩码中的唯一值: [  0 255]\n",
      "掩码已保存为: E:/Dataset/CBIS-DDSM/New_CBDDSM/roi/calc-training\\Calc-Training_P_01306_RIGHT_MLO_2_1-2.png\n",
      "掩码中的唯一值: [  0 255]\n",
      "掩码已保存为: E:/Dataset/CBIS-DDSM/New_CBDDSM/roi/calc-training\\Calc-Training_P_01307_LEFT_CC_1_1-2.png\n"
     ]
    },
    {
     "name": "stderr",
     "output_type": "stream",
     "text": [
      "转换文件:  66%|██████▌   | 1020/1546 [02:39<01:08,  7.64it/s]"
     ]
    },
    {
     "name": "stdout",
     "output_type": "stream",
     "text": [
      "掩码中的唯一值: [  0 255]\n",
      "掩码已保存为: E:/Dataset/CBIS-DDSM/New_CBDDSM/roi/calc-training\\Calc-Training_P_01307_LEFT_MLO_1_1-2.png\n",
      "掩码中的唯一值: [  0 255]\n",
      "掩码已保存为: E:/Dataset/CBIS-DDSM/New_CBDDSM/roi/calc-training\\Calc-Training_P_01309_RIGHT_CC_1_1-2.png\n"
     ]
    },
    {
     "name": "stderr",
     "output_type": "stream",
     "text": [
      "转换文件:  66%|██████▌   | 1023/1546 [02:40<01:06,  7.89it/s]"
     ]
    },
    {
     "name": "stdout",
     "output_type": "stream",
     "text": [
      "掩码中的唯一值: [  0 255]\n",
      "掩码已保存为: E:/Dataset/CBIS-DDSM/New_CBDDSM/roi/calc-training\\Calc-Training_P_01309_RIGHT_MLO_1_1-2.png\n",
      "掩码中的唯一值: [  0 255]\n",
      "掩码已保存为: E:/Dataset/CBIS-DDSM/New_CBDDSM/roi/calc-training\\Calc-Training_P_01313_LEFT_CC_1_1-2.png\n",
      "掩码中的唯一值: [  0 255]\n",
      "掩码已保存为: E:/Dataset/CBIS-DDSM/New_CBDDSM/roi/calc-training\\Calc-Training_P_01313_LEFT_MLO_1_1-2.png\n"
     ]
    },
    {
     "name": "stderr",
     "output_type": "stream",
     "text": [
      "转换文件:  66%|██████▌   | 1024/1546 [02:40<01:22,  6.32it/s]"
     ]
    },
    {
     "name": "stdout",
     "output_type": "stream",
     "text": [
      "掩码中的唯一值: [  0 255]\n",
      "掩码已保存为: E:/Dataset/CBIS-DDSM/New_CBDDSM/roi/calc-training\\Calc-Training_P_01314_LEFT_CC_1_1-2.png\n"
     ]
    },
    {
     "name": "stderr",
     "output_type": "stream",
     "text": [
      "转换文件:  66%|██████▋   | 1026/1546 [02:40<01:24,  6.19it/s]"
     ]
    },
    {
     "name": "stdout",
     "output_type": "stream",
     "text": [
      "掩码中的唯一值: [  0 255]\n",
      "掩码已保存为: E:/Dataset/CBIS-DDSM/New_CBDDSM/roi/calc-training\\Calc-Training_P_01314_LEFT_MLO_1_1-2.png\n",
      "掩码中的唯一值: [  0 255]\n",
      "掩码已保存为: E:/Dataset/CBIS-DDSM/New_CBDDSM/roi/calc-training\\Calc-Training_P_01315_LEFT_CC_1_1-2.png\n"
     ]
    },
    {
     "name": "stderr",
     "output_type": "stream",
     "text": [
      "转换文件:  66%|██████▋   | 1028/1546 [02:41<01:15,  6.86it/s]"
     ]
    },
    {
     "name": "stdout",
     "output_type": "stream",
     "text": [
      "掩码中的唯一值: [  0 255]\n",
      "掩码已保存为: E:/Dataset/CBIS-DDSM/New_CBDDSM/roi/calc-training\\Calc-Training_P_01315_LEFT_MLO_1_1-2.png\n",
      "掩码中的唯一值: [  0 255]\n",
      "掩码已保存为: E:/Dataset/CBIS-DDSM/New_CBDDSM/roi/calc-training\\Calc-Training_P_01319_RIGHT_CC_1_1-2.png\n"
     ]
    },
    {
     "name": "stderr",
     "output_type": "stream",
     "text": [
      "转换文件:  67%|██████▋   | 1030/1546 [02:41<01:10,  7.31it/s]"
     ]
    },
    {
     "name": "stdout",
     "output_type": "stream",
     "text": [
      "掩码中的唯一值: [  0 255]\n",
      "掩码已保存为: E:/Dataset/CBIS-DDSM/New_CBDDSM/roi/calc-training\\Calc-Training_P_01319_RIGHT_MLO_1_1-2.png\n",
      "掩码中的唯一值: [  0 255]\n",
      "掩码已保存为: E:/Dataset/CBIS-DDSM/New_CBDDSM/roi/calc-training\\Calc-Training_P_01321_RIGHT_CC_1_1-2.png\n"
     ]
    },
    {
     "name": "stderr",
     "output_type": "stream",
     "text": [
      "转换文件:  67%|██████▋   | 1032/1546 [02:41<01:09,  7.40it/s]"
     ]
    },
    {
     "name": "stdout",
     "output_type": "stream",
     "text": [
      "掩码中的唯一值: [  0 255]\n",
      "掩码已保存为: E:/Dataset/CBIS-DDSM/New_CBDDSM/roi/calc-training\\Calc-Training_P_01321_RIGHT_CC_2_1-2.png\n",
      "掩码中的唯一值: [  0 255]\n",
      "掩码已保存为: E:/Dataset/CBIS-DDSM/New_CBDDSM/roi/calc-training\\Calc-Training_P_01321_RIGHT_MLO_1_1-2.png\n"
     ]
    },
    {
     "name": "stderr",
     "output_type": "stream",
     "text": [
      "转换文件:  67%|██████▋   | 1034/1546 [02:41<01:08,  7.48it/s]"
     ]
    },
    {
     "name": "stdout",
     "output_type": "stream",
     "text": [
      "掩码中的唯一值: [  0 255]\n",
      "掩码已保存为: E:/Dataset/CBIS-DDSM/New_CBDDSM/roi/calc-training\\Calc-Training_P_01321_RIGHT_MLO_2_1-2.png\n",
      "掩码中的唯一值: [  0 255]\n",
      "掩码已保存为: E:/Dataset/CBIS-DDSM/New_CBDDSM/roi/calc-training\\Calc-Training_P_01321_RIGHT_MLO_3_1-2.png\n"
     ]
    },
    {
     "name": "stderr",
     "output_type": "stream",
     "text": [
      "转换文件:  67%|██████▋   | 1036/1546 [02:42<01:22,  6.17it/s]"
     ]
    },
    {
     "name": "stdout",
     "output_type": "stream",
     "text": [
      "掩码中的唯一值: [  0 255]\n",
      "掩码已保存为: E:/Dataset/CBIS-DDSM/New_CBDDSM/roi/calc-training\\Calc-Training_P_01334_RIGHT_CC_1_1-2.png\n",
      "掩码中的唯一值: [  0 255]\n",
      "掩码已保存为: E:/Dataset/CBIS-DDSM/New_CBDDSM/roi/calc-training\\Calc-Training_P_01334_RIGHT_CC_2_1-2.png\n"
     ]
    },
    {
     "name": "stderr",
     "output_type": "stream",
     "text": [
      "转换文件:  67%|██████▋   | 1037/1546 [02:42<01:28,  5.77it/s]"
     ]
    },
    {
     "name": "stdout",
     "output_type": "stream",
     "text": [
      "掩码中的唯一值: [  0 255]\n",
      "掩码已保存为: E:/Dataset/CBIS-DDSM/New_CBDDSM/roi/calc-training\\Calc-Training_P_01334_RIGHT_MLO_1_1-2.png\n",
      "掩码中的唯一值: [  0 255]\n"
     ]
    },
    {
     "name": "stderr",
     "output_type": "stream",
     "text": [
      "转换文件:  67%|██████▋   | 1039/1546 [02:42<01:24,  6.02it/s]"
     ]
    },
    {
     "name": "stdout",
     "output_type": "stream",
     "text": [
      "掩码已保存为: E:/Dataset/CBIS-DDSM/New_CBDDSM/roi/calc-training\\Calc-Training_P_01334_RIGHT_MLO_2_1-2.png\n",
      "掩码中的唯一值: [  0 255]\n",
      "掩码已保存为: E:/Dataset/CBIS-DDSM/New_CBDDSM/roi/calc-training\\Calc-Training_P_01336_LEFT_CC_1_1-2.png\n"
     ]
    },
    {
     "name": "stderr",
     "output_type": "stream",
     "text": [
      "转换文件:  67%|██████▋   | 1041/1546 [02:43<01:14,  6.82it/s]"
     ]
    },
    {
     "name": "stdout",
     "output_type": "stream",
     "text": [
      "掩码中的唯一值: [  0 255]\n",
      "掩码已保存为: E:/Dataset/CBIS-DDSM/New_CBDDSM/roi/calc-training\\Calc-Training_P_01336_LEFT_CC_2_1-2.png\n",
      "掩码中的唯一值: [  0 255]\n",
      "掩码已保存为: E:/Dataset/CBIS-DDSM/New_CBDDSM/roi/calc-training\\Calc-Training_P_01336_LEFT_MLO_1_1-2.png\n"
     ]
    },
    {
     "name": "stderr",
     "output_type": "stream",
     "text": [
      "转换文件:  67%|██████▋   | 1043/1546 [02:43<01:09,  7.24it/s]"
     ]
    },
    {
     "name": "stdout",
     "output_type": "stream",
     "text": [
      "掩码中的唯一值: [  0 255]\n",
      "掩码已保存为: E:/Dataset/CBIS-DDSM/New_CBDDSM/roi/calc-training\\Calc-Training_P_01336_LEFT_MLO_2_1-2.png\n",
      "掩码中的唯一值: [  0 255]\n",
      "掩码已保存为: E:/Dataset/CBIS-DDSM/New_CBDDSM/roi/calc-training\\Calc-Training_P_01336_RIGHT_CC_1_1-2.png\n"
     ]
    },
    {
     "name": "stderr",
     "output_type": "stream",
     "text": [
      "转换文件:  68%|██████▊   | 1045/1546 [02:43<01:07,  7.46it/s]"
     ]
    },
    {
     "name": "stdout",
     "output_type": "stream",
     "text": [
      "掩码中的唯一值: [  0 255]\n",
      "掩码已保存为: E:/Dataset/CBIS-DDSM/New_CBDDSM/roi/calc-training\\Calc-Training_P_01336_RIGHT_CC_2_1-2.png\n",
      "掩码中的唯一值: [  0 255]\n",
      "掩码已保存为: E:/Dataset/CBIS-DDSM/New_CBDDSM/roi/calc-training\\Calc-Training_P_01336_RIGHT_CC_3_1-2.png\n"
     ]
    },
    {
     "name": "stderr",
     "output_type": "stream",
     "text": [
      "转换文件:  68%|██████▊   | 1047/1546 [02:43<01:08,  7.23it/s]"
     ]
    },
    {
     "name": "stdout",
     "output_type": "stream",
     "text": [
      "掩码中的唯一值: [  0 255]\n",
      "掩码已保存为: E:/Dataset/CBIS-DDSM/New_CBDDSM/roi/calc-training\\Calc-Training_P_01336_RIGHT_MLO_1_1-2.png\n",
      "掩码中的唯一值: [  0 255]\n",
      "掩码已保存为: E:/Dataset/CBIS-DDSM/New_CBDDSM/roi/calc-training\\Calc-Training_P_01336_RIGHT_MLO_2_1-2.png\n"
     ]
    },
    {
     "name": "stderr",
     "output_type": "stream",
     "text": [
      "转换文件:  68%|██████▊   | 1049/1546 [02:44<01:13,  6.74it/s]"
     ]
    },
    {
     "name": "stdout",
     "output_type": "stream",
     "text": [
      "掩码中的唯一值: [  0 255]\n",
      "掩码已保存为: E:/Dataset/CBIS-DDSM/New_CBDDSM/roi/calc-training\\Calc-Training_P_01336_RIGHT_MLO_3_1-2.png\n",
      "掩码中的唯一值: [  0 255]\n",
      "掩码已保存为: E:/Dataset/CBIS-DDSM/New_CBDDSM/roi/calc-training\\Calc-Training_P_01337_LEFT_CC_1_1-2.png\n"
     ]
    },
    {
     "name": "stderr",
     "output_type": "stream",
     "text": [
      "转换文件:  68%|██████▊   | 1051/1546 [02:44<01:23,  5.94it/s]"
     ]
    },
    {
     "name": "stdout",
     "output_type": "stream",
     "text": [
      "掩码中的唯一值: [  0 255]\n",
      "掩码已保存为: E:/Dataset/CBIS-DDSM/New_CBDDSM/roi/calc-training\\Calc-Training_P_01337_LEFT_MLO_1_1-2.png\n",
      "掩码中的唯一值: [  0 255]\n",
      "掩码已保存为: E:/Dataset/CBIS-DDSM/New_CBDDSM/roi/calc-training\\Calc-Training_P_01338_LEFT_CC_1_1-2.png\n"
     ]
    },
    {
     "name": "stderr",
     "output_type": "stream",
     "text": [
      "转换文件:  68%|██████▊   | 1053/1546 [02:44<01:14,  6.66it/s]"
     ]
    },
    {
     "name": "stdout",
     "output_type": "stream",
     "text": [
      "掩码中的唯一值: [  0 255]\n",
      "掩码已保存为: E:/Dataset/CBIS-DDSM/New_CBDDSM/roi/calc-training\\Calc-Training_P_01338_LEFT_MLO_1_1-2.png\n",
      "掩码中的唯一值: [  0 255]\n",
      "掩码已保存为: E:/Dataset/CBIS-DDSM/New_CBDDSM/roi/calc-training\\Calc-Training_P_01339_LEFT_CC_1_1-2.png\n"
     ]
    },
    {
     "name": "stderr",
     "output_type": "stream",
     "text": [
      "转换文件:  68%|██████▊   | 1055/1546 [02:45<01:15,  6.51it/s]"
     ]
    },
    {
     "name": "stdout",
     "output_type": "stream",
     "text": [
      "掩码中的唯一值: [  0 255]\n",
      "掩码已保存为: E:/Dataset/CBIS-DDSM/New_CBDDSM/roi/calc-training\\Calc-Training_P_01339_LEFT_MLO_1_1-2.png\n",
      "掩码中的唯一值: [  0 255]\n",
      "掩码已保存为: E:/Dataset/CBIS-DDSM/New_CBDDSM/roi/calc-training\\Calc-Training_P_01342_LEFT_CC_1_1-2.png\n"
     ]
    },
    {
     "name": "stderr",
     "output_type": "stream",
     "text": [
      "转换文件:  68%|██████▊   | 1056/1546 [02:45<01:27,  5.60it/s]"
     ]
    },
    {
     "name": "stdout",
     "output_type": "stream",
     "text": [
      "掩码中的唯一值: [  0 255]\n",
      "掩码已保存为: E:/Dataset/CBIS-DDSM/New_CBDDSM/roi/calc-training\\Calc-Training_P_01342_LEFT_MLO_1_1-2.png\n"
     ]
    },
    {
     "name": "stderr",
     "output_type": "stream",
     "text": [
      "转换文件:  68%|██████▊   | 1057/1546 [02:45<01:39,  4.92it/s]"
     ]
    },
    {
     "name": "stdout",
     "output_type": "stream",
     "text": [
      "掩码中的唯一值: [  0 255]\n",
      "掩码已保存为: E:/Dataset/CBIS-DDSM/New_CBDDSM/roi/calc-training\\Calc-Training_P_01345_LEFT_CC_1_1-2.png\n"
     ]
    },
    {
     "name": "stderr",
     "output_type": "stream",
     "text": [
      "转换文件:  68%|██████▊   | 1058/1546 [02:45<01:46,  4.60it/s]"
     ]
    },
    {
     "name": "stdout",
     "output_type": "stream",
     "text": [
      "掩码中的唯一值: [  0 255]\n",
      "掩码已保存为: E:/Dataset/CBIS-DDSM/New_CBDDSM/roi/calc-training\\Calc-Training_P_01346_LEFT_CC_1_1-2.png\n"
     ]
    },
    {
     "name": "stderr",
     "output_type": "stream",
     "text": [
      "转换文件:  69%|██████▊   | 1060/1546 [02:46<01:31,  5.32it/s]"
     ]
    },
    {
     "name": "stdout",
     "output_type": "stream",
     "text": [
      "掩码中的唯一值: [  0 255]\n",
      "掩码已保存为: E:/Dataset/CBIS-DDSM/New_CBDDSM/roi/calc-training\\Calc-Training_P_01346_LEFT_MLO_1_1-2.png\n",
      "掩码中的唯一值: [  0 255]\n",
      "掩码已保存为: E:/Dataset/CBIS-DDSM/New_CBDDSM/roi/calc-training\\Calc-Training_P_01358_RIGHT_CC_1_1-2.png\n"
     ]
    },
    {
     "name": "stderr",
     "output_type": "stream",
     "text": [
      "转换文件:  69%|██████▊   | 1062/1546 [02:46<01:24,  5.72it/s]"
     ]
    },
    {
     "name": "stdout",
     "output_type": "stream",
     "text": [
      "掩码中的唯一值: [  0 255]\n",
      "掩码已保存为: E:/Dataset/CBIS-DDSM/New_CBDDSM/roi/calc-training\\Calc-Training_P_01358_RIGHT_MLO_1_1-2.png\n",
      "掩码中的唯一值: [  0 255]\n",
      "掩码已保存为: E:/Dataset/CBIS-DDSM/New_CBDDSM/roi/calc-training\\Calc-Training_P_01359_LEFT_CC_1_1-2.png\n"
     ]
    },
    {
     "name": "stderr",
     "output_type": "stream",
     "text": [
      "转换文件:  69%|██████▉   | 1064/1546 [02:46<01:24,  5.72it/s]"
     ]
    },
    {
     "name": "stdout",
     "output_type": "stream",
     "text": [
      "掩码中的唯一值: [  0 255]\n",
      "掩码已保存为: E:/Dataset/CBIS-DDSM/New_CBDDSM/roi/calc-training\\Calc-Training_P_01359_LEFT_MLO_1_1-2.png\n",
      "掩码中的唯一值: [  0 255]\n",
      "掩码已保存为: E:/Dataset/CBIS-DDSM/New_CBDDSM/roi/calc-training\\Calc-Training_P_01361_LEFT_CC_1_1-2.png\n"
     ]
    },
    {
     "name": "stderr",
     "output_type": "stream",
     "text": [
      "转换文件:  69%|██████▉   | 1066/1546 [02:47<01:16,  6.24it/s]"
     ]
    },
    {
     "name": "stdout",
     "output_type": "stream",
     "text": [
      "掩码中的唯一值: [  0 255]\n",
      "掩码已保存为: E:/Dataset/CBIS-DDSM/New_CBDDSM/roi/calc-training\\Calc-Training_P_01361_LEFT_MLO_1_1-2.png\n",
      "掩码中的唯一值: [  0 255]\n",
      "掩码已保存为: E:/Dataset/CBIS-DDSM/New_CBDDSM/roi/calc-training\\Calc-Training_P_01362_RIGHT_CC_1_1-2.png\n"
     ]
    },
    {
     "name": "stderr",
     "output_type": "stream",
     "text": [
      "转换文件:  69%|██████▉   | 1067/1546 [02:47<01:15,  6.36it/s]"
     ]
    },
    {
     "name": "stdout",
     "output_type": "stream",
     "text": [
      "掩码中的唯一值: [  0 255]\n",
      "掩码已保存为: E:/Dataset/CBIS-DDSM/New_CBDDSM/roi/calc-training\\Calc-Training_P_01362_RIGHT_MLO_1_1-2.png\n"
     ]
    },
    {
     "name": "stderr",
     "output_type": "stream",
     "text": [
      "转换文件:  69%|██████▉   | 1069/1546 [02:47<01:28,  5.39it/s]"
     ]
    },
    {
     "name": "stdout",
     "output_type": "stream",
     "text": [
      "掩码中的唯一值: [  0 255]\n",
      "掩码已保存为: E:/Dataset/CBIS-DDSM/New_CBDDSM/roi/calc-training\\Calc-Training_P_01365_LEFT_CC_1_1-2.png\n",
      "掩码中的唯一值: [  0 255]\n",
      "掩码已保存为: E:/Dataset/CBIS-DDSM/New_CBDDSM/roi/calc-training\\Calc-Training_P_01365_LEFT_MLO_1_1-2.png\n"
     ]
    },
    {
     "name": "stderr",
     "output_type": "stream",
     "text": [
      "转换文件:  69%|██████▉   | 1071/1546 [02:48<01:17,  6.09it/s]"
     ]
    },
    {
     "name": "stdout",
     "output_type": "stream",
     "text": [
      "掩码中的唯一值: [  0 255]\n",
      "掩码已保存为: E:/Dataset/CBIS-DDSM/New_CBDDSM/roi/calc-training\\Calc-Training_P_01366_LEFT_MLO_1_1-2.png\n",
      "掩码中的唯一值: [  0 255]\n",
      "掩码已保存为: E:/Dataset/CBIS-DDSM/New_CBDDSM/roi/calc-training\\Calc-Training_P_01369_RIGHT_MLO_1_1-2.png\n"
     ]
    },
    {
     "name": "stderr",
     "output_type": "stream",
     "text": [
      "转换文件:  69%|██████▉   | 1073/1546 [02:48<01:08,  6.93it/s]"
     ]
    },
    {
     "name": "stdout",
     "output_type": "stream",
     "text": [
      "掩码中的唯一值: [  0 255]\n",
      "掩码已保存为: E:/Dataset/CBIS-DDSM/New_CBDDSM/roi/calc-training\\Calc-Training_P_01370_LEFT_CC_1_1-2.png\n",
      "掩码中的唯一值: [  0 255]\n",
      "掩码已保存为: E:/Dataset/CBIS-DDSM/New_CBDDSM/roi/calc-training\\Calc-Training_P_01370_LEFT_MLO_1_1-2.png\n"
     ]
    },
    {
     "name": "stderr",
     "output_type": "stream",
     "text": [
      "转换文件:  70%|██████▉   | 1075/1546 [02:48<01:18,  6.04it/s]"
     ]
    },
    {
     "name": "stdout",
     "output_type": "stream",
     "text": [
      "掩码中的唯一值: [  0 255]\n",
      "掩码已保存为: E:/Dataset/CBIS-DDSM/New_CBDDSM/roi/calc-training\\Calc-Training_P_01375_LEFT_CC_1_1-2.png\n",
      "掩码中的唯一值: [  0 255]\n",
      "掩码已保存为: E:/Dataset/CBIS-DDSM/New_CBDDSM/roi/calc-training\\Calc-Training_P_01375_LEFT_MLO_1_1-2.png\n"
     ]
    },
    {
     "name": "stderr",
     "output_type": "stream",
     "text": [
      "转换文件:  70%|██████▉   | 1077/1546 [02:48<01:06,  7.07it/s]"
     ]
    },
    {
     "name": "stdout",
     "output_type": "stream",
     "text": [
      "掩码中的唯一值: [  0 255]\n",
      "掩码已保存为: E:/Dataset/CBIS-DDSM/New_CBDDSM/roi/calc-training\\Calc-Training_P_01384_LEFT_MLO_1_1-2.png\n",
      "掩码中的唯一值: [  0 255]\n",
      "掩码已保存为: E:/Dataset/CBIS-DDSM/New_CBDDSM/roi/calc-training\\Calc-Training_P_01385_RIGHT_CC_1_1-2.png\n"
     ]
    },
    {
     "name": "stderr",
     "output_type": "stream",
     "text": [
      "转换文件:  70%|██████▉   | 1079/1546 [02:49<01:06,  6.98it/s]"
     ]
    },
    {
     "name": "stdout",
     "output_type": "stream",
     "text": [
      "掩码中的唯一值: [  0 255]\n",
      "掩码已保存为: E:/Dataset/CBIS-DDSM/New_CBDDSM/roi/calc-training\\Calc-Training_P_01385_RIGHT_MLO_1_1-2.png\n",
      "掩码中的唯一值: [  0 255]\n",
      "掩码已保存为: E:/Dataset/CBIS-DDSM/New_CBDDSM/roi/calc-training\\Calc-Training_P_01387_LEFT_CC_1_1-2.png\n"
     ]
    },
    {
     "name": "stderr",
     "output_type": "stream",
     "text": [
      "转换文件:  70%|██████▉   | 1081/1546 [02:49<01:03,  7.33it/s]"
     ]
    },
    {
     "name": "stdout",
     "output_type": "stream",
     "text": [
      "掩码中的唯一值: [  0 255]\n",
      "掩码已保存为: E:/Dataset/CBIS-DDSM/New_CBDDSM/roi/calc-training\\Calc-Training_P_01387_LEFT_MLO_1_1-2.png\n",
      "掩码中的唯一值: [  0 255]\n",
      "掩码已保存为: E:/Dataset/CBIS-DDSM/New_CBDDSM/roi/calc-training\\Calc-Training_P_01392_LEFT_CC_1_1-2.png\n"
     ]
    },
    {
     "name": "stderr",
     "output_type": "stream",
     "text": [
      "转换文件:  70%|███████   | 1083/1546 [02:49<01:09,  6.70it/s]"
     ]
    },
    {
     "name": "stdout",
     "output_type": "stream",
     "text": [
      "掩码中的唯一值: [  0 255]\n",
      "掩码已保存为: E:/Dataset/CBIS-DDSM/New_CBDDSM/roi/calc-training\\Calc-Training_P_01392_LEFT_MLO_1_1-2.png\n",
      "掩码中的唯一值: [  0 255]\n",
      "掩码已保存为: E:/Dataset/CBIS-DDSM/New_CBDDSM/roi/calc-training\\Calc-Training_P_01397_LEFT_CC_1_1-2.png\n"
     ]
    },
    {
     "name": "stderr",
     "output_type": "stream",
     "text": [
      "转换文件:  70%|███████   | 1085/1546 [02:50<01:10,  6.58it/s]"
     ]
    },
    {
     "name": "stdout",
     "output_type": "stream",
     "text": [
      "掩码中的唯一值: [  0 255]\n",
      "掩码已保存为: E:/Dataset/CBIS-DDSM/New_CBDDSM/roi/calc-training\\Calc-Training_P_01397_LEFT_MLO_1_1-2.png\n",
      "掩码中的唯一值: [  0 255]\n",
      "掩码已保存为: E:/Dataset/CBIS-DDSM/New_CBDDSM/roi/calc-training\\Calc-Training_P_01400_LEFT_CC_1_1-2.png\n"
     ]
    },
    {
     "name": "stderr",
     "output_type": "stream",
     "text": [
      "转换文件:  70%|███████   | 1086/1546 [02:50<01:05,  7.03it/s]"
     ]
    },
    {
     "name": "stdout",
     "output_type": "stream",
     "text": [
      "掩码中的唯一值: [  0 255]\n",
      "掩码已保存为: E:/Dataset/CBIS-DDSM/New_CBDDSM/roi/calc-training\\Calc-Training_P_01400_LEFT_MLO_1_1-2.png\n"
     ]
    },
    {
     "name": "stderr",
     "output_type": "stream",
     "text": [
      "转换文件:  70%|███████   | 1087/1546 [02:50<01:16,  5.99it/s]"
     ]
    },
    {
     "name": "stdout",
     "output_type": "stream",
     "text": [
      "掩码中的唯一值: [  0 255]\n",
      "掩码已保存为: E:/Dataset/CBIS-DDSM/New_CBDDSM/roi/calc-training\\Calc-Training_P_01401_LEFT_CC_1_1-2.png\n"
     ]
    },
    {
     "name": "stderr",
     "output_type": "stream",
     "text": [
      "转换文件:  70%|███████   | 1089/1546 [02:50<01:18,  5.82it/s]"
     ]
    },
    {
     "name": "stdout",
     "output_type": "stream",
     "text": [
      "掩码中的唯一值: [  0 255]\n",
      "掩码已保存为: E:/Dataset/CBIS-DDSM/New_CBDDSM/roi/calc-training\\Calc-Training_P_01401_LEFT_MLO_1_1-2.png\n",
      "掩码中的唯一值: [  0 255]\n",
      "掩码已保存为: E:/Dataset/CBIS-DDSM/New_CBDDSM/roi/calc-training\\Calc-Training_P_01406_RIGHT_CC_1_1-2.png\n"
     ]
    },
    {
     "name": "stderr",
     "output_type": "stream",
     "text": [
      "转换文件:  71%|███████   | 1090/1546 [02:50<01:13,  6.18it/s]"
     ]
    },
    {
     "name": "stdout",
     "output_type": "stream",
     "text": [
      "掩码中的唯一值: [  0 255]\n",
      "掩码已保存为: E:/Dataset/CBIS-DDSM/New_CBDDSM/roi/calc-training\\Calc-Training_P_01406_RIGHT_MLO_1_1-2.png\n",
      "掩码中的唯一值: [  0 255]\n"
     ]
    },
    {
     "name": "stderr",
     "output_type": "stream",
     "text": [
      "转换文件:  71%|███████   | 1091/1546 [02:51<01:19,  5.74it/s]"
     ]
    },
    {
     "name": "stdout",
     "output_type": "stream",
     "text": [
      "掩码已保存为: E:/Dataset/CBIS-DDSM/New_CBDDSM/roi/calc-training\\Calc-Training_P_01408_LEFT_CC_1_1-2.png\n",
      "掩码中的唯一值: [  0 255]\n"
     ]
    },
    {
     "name": "stderr",
     "output_type": "stream",
     "text": [
      "转换文件:  71%|███████   | 1093/1546 [02:51<01:26,  5.23it/s]"
     ]
    },
    {
     "name": "stdout",
     "output_type": "stream",
     "text": [
      "掩码已保存为: E:/Dataset/CBIS-DDSM/New_CBDDSM/roi/calc-training\\Calc-Training_P_01408_LEFT_CC_2_1-2.png\n",
      "掩码中的唯一值: [  0 255]\n",
      "掩码已保存为: E:/Dataset/CBIS-DDSM/New_CBDDSM/roi/calc-training\\Calc-Training_P_01408_LEFT_CC_3_1-2.png\n"
     ]
    },
    {
     "name": "stderr",
     "output_type": "stream",
     "text": [
      "转换文件:  71%|███████   | 1095/1546 [02:51<01:29,  5.05it/s]"
     ]
    },
    {
     "name": "stdout",
     "output_type": "stream",
     "text": [
      "掩码中的唯一值: [  0 255]\n",
      "掩码已保存为: E:/Dataset/CBIS-DDSM/New_CBDDSM/roi/calc-training\\Calc-Training_P_01408_LEFT_CC_4_1-2.png\n",
      "掩码中的唯一值: [  0 255]\n",
      "掩码已保存为: E:/Dataset/CBIS-DDSM/New_CBDDSM/roi/calc-training\\Calc-Training_P_01408_LEFT_CC_5_1-2.png\n"
     ]
    },
    {
     "name": "stderr",
     "output_type": "stream",
     "text": [
      "转换文件:  71%|███████   | 1096/1546 [02:52<01:30,  4.99it/s]"
     ]
    },
    {
     "name": "stdout",
     "output_type": "stream",
     "text": [
      "掩码中的唯一值: [  0 255]\n",
      "掩码已保存为: E:/Dataset/CBIS-DDSM/New_CBDDSM/roi/calc-training\\Calc-Training_P_01408_LEFT_CC_6_1-2.png\n",
      "掩码中的唯一值: [  0 255]\n"
     ]
    },
    {
     "name": "stderr",
     "output_type": "stream",
     "text": [
      "转换文件:  71%|███████   | 1097/1546 [02:52<01:31,  4.89it/s]"
     ]
    },
    {
     "name": "stdout",
     "output_type": "stream",
     "text": [
      "掩码已保存为: E:/Dataset/CBIS-DDSM/New_CBDDSM/roi/calc-training\\Calc-Training_P_01408_LEFT_MLO_1_1-2.png\n",
      "掩码中的唯一值: [  0 255]\n"
     ]
    },
    {
     "name": "stderr",
     "output_type": "stream",
     "text": [
      "转换文件:  71%|███████   | 1098/1546 [02:52<01:32,  4.83it/s]"
     ]
    },
    {
     "name": "stdout",
     "output_type": "stream",
     "text": [
      "掩码已保存为: E:/Dataset/CBIS-DDSM/New_CBDDSM/roi/calc-training\\Calc-Training_P_01408_LEFT_MLO_2_1-2.png\n",
      "掩码中的唯一值: [  0 255]\n"
     ]
    },
    {
     "name": "stderr",
     "output_type": "stream",
     "text": [
      "转换文件:  71%|███████   | 1099/1546 [02:52<01:33,  4.79it/s]"
     ]
    },
    {
     "name": "stdout",
     "output_type": "stream",
     "text": [
      "掩码已保存为: E:/Dataset/CBIS-DDSM/New_CBDDSM/roi/calc-training\\Calc-Training_P_01408_LEFT_MLO_3_1-2.png\n"
     ]
    },
    {
     "name": "stderr",
     "output_type": "stream",
     "text": [
      "转换文件:  71%|███████   | 1100/1546 [02:53<01:36,  4.61it/s]"
     ]
    },
    {
     "name": "stdout",
     "output_type": "stream",
     "text": [
      "掩码中的唯一值: [  0 255]\n",
      "掩码已保存为: E:/Dataset/CBIS-DDSM/New_CBDDSM/roi/calc-training\\Calc-Training_P_01408_LEFT_MLO_4_1-2.png\n"
     ]
    },
    {
     "name": "stderr",
     "output_type": "stream",
     "text": [
      "转换文件:  71%|███████▏  | 1102/1546 [02:53<01:24,  5.23it/s]"
     ]
    },
    {
     "name": "stdout",
     "output_type": "stream",
     "text": [
      "掩码中的唯一值: [  0 255]\n",
      "掩码已保存为: E:/Dataset/CBIS-DDSM/New_CBDDSM/roi/calc-training\\Calc-Training_P_01408_LEFT_MLO_5_1-2.png\n",
      "掩码中的唯一值: [  0 255]\n",
      "掩码已保存为: E:/Dataset/CBIS-DDSM/New_CBDDSM/roi/calc-training\\Calc-Training_P_01409_LEFT_CC_1_1-2.png\n"
     ]
    },
    {
     "name": "stderr",
     "output_type": "stream",
     "text": [
      "转换文件:  71%|███████▏  | 1104/1546 [02:53<01:11,  6.17it/s]"
     ]
    },
    {
     "name": "stdout",
     "output_type": "stream",
     "text": [
      "掩码中的唯一值: [  0 255]\n",
      "掩码已保存为: E:/Dataset/CBIS-DDSM/New_CBDDSM/roi/calc-training\\Calc-Training_P_01409_LEFT_CC_2_1-2.png\n",
      "掩码中的唯一值: [  0 255]\n",
      "掩码已保存为: E:/Dataset/CBIS-DDSM/New_CBDDSM/roi/calc-training\\Calc-Training_P_01409_LEFT_MLO_1_1-2.png\n"
     ]
    },
    {
     "name": "stderr",
     "output_type": "stream",
     "text": [
      "转换文件:  72%|███████▏  | 1106/1546 [02:53<01:03,  6.96it/s]"
     ]
    },
    {
     "name": "stdout",
     "output_type": "stream",
     "text": [
      "掩码中的唯一值: [  0 255]\n",
      "掩码已保存为: E:/Dataset/CBIS-DDSM/New_CBDDSM/roi/calc-training\\Calc-Training_P_01409_LEFT_MLO_2_1-2.png\n",
      "掩码中的唯一值: [  0 255]\n",
      "掩码已保存为: E:/Dataset/CBIS-DDSM/New_CBDDSM/roi/calc-training\\Calc-Training_P_01409_RIGHT_CC_1_1-2.png\n"
     ]
    },
    {
     "name": "stderr",
     "output_type": "stream",
     "text": [
      "转换文件:  72%|███████▏  | 1108/1546 [02:54<00:58,  7.49it/s]"
     ]
    },
    {
     "name": "stdout",
     "output_type": "stream",
     "text": [
      "掩码中的唯一值: [  0 255]\n",
      "掩码已保存为: E:/Dataset/CBIS-DDSM/New_CBDDSM/roi/calc-training\\Calc-Training_P_01409_RIGHT_MLO_1_1-2.png\n",
      "掩码中的唯一值: [  0 255]\n",
      "掩码已保存为: E:/Dataset/CBIS-DDSM/New_CBDDSM/roi/calc-training\\Calc-Training_P_01410_LEFT_CC_1_1-2.png\n"
     ]
    },
    {
     "name": "stderr",
     "output_type": "stream",
     "text": [
      "转换文件:  72%|███████▏  | 1110/1546 [02:54<00:57,  7.60it/s]"
     ]
    },
    {
     "name": "stdout",
     "output_type": "stream",
     "text": [
      "掩码中的唯一值: [  0 255]\n",
      "掩码已保存为: E:/Dataset/CBIS-DDSM/New_CBDDSM/roi/calc-training\\Calc-Training_P_01410_LEFT_MLO_1_1-2.png\n",
      "掩码中的唯一值: [  0 255]\n",
      "掩码已保存为: E:/Dataset/CBIS-DDSM/New_CBDDSM/roi/calc-training\\Calc-Training_P_01420_RIGHT_CC_1_1-2.png\n"
     ]
    },
    {
     "name": "stderr",
     "output_type": "stream",
     "text": [
      "转换文件:  72%|███████▏  | 1111/1546 [02:54<00:58,  7.38it/s]"
     ]
    },
    {
     "name": "stdout",
     "output_type": "stream",
     "text": [
      "掩码中的唯一值: [  0 255]\n",
      "掩码已保存为: E:/Dataset/CBIS-DDSM/New_CBDDSM/roi/calc-training\\Calc-Training_P_01420_RIGHT_MLO_1_1-2.png\n",
      "掩码中的唯一值: [  0 255]\n"
     ]
    },
    {
     "name": "stderr",
     "output_type": "stream",
     "text": [
      "转换文件:  72%|███████▏  | 1113/1546 [02:54<01:12,  5.95it/s]"
     ]
    },
    {
     "name": "stdout",
     "output_type": "stream",
     "text": [
      "掩码已保存为: E:/Dataset/CBIS-DDSM/New_CBDDSM/roi/calc-training\\Calc-Training_P_01422_RIGHT_CC_1_1-2.png\n",
      "掩码中的唯一值: [  0 255]\n",
      "掩码已保存为: E:/Dataset/CBIS-DDSM/New_CBDDSM/roi/calc-training\\Calc-Training_P_01422_RIGHT_MLO_1_1-2.png\n"
     ]
    },
    {
     "name": "stderr",
     "output_type": "stream",
     "text": [
      "转换文件:  72%|███████▏  | 1115/1546 [02:55<01:06,  6.51it/s]"
     ]
    },
    {
     "name": "stdout",
     "output_type": "stream",
     "text": [
      "掩码中的唯一值: [  0 255]\n",
      "掩码已保存为: E:/Dataset/CBIS-DDSM/New_CBDDSM/roi/calc-training\\Calc-Training_P_01424_LEFT_CC_1_1-2.png\n",
      "掩码中的唯一值: [  0 255]\n",
      "掩码已保存为: E:/Dataset/CBIS-DDSM/New_CBDDSM/roi/calc-training\\Calc-Training_P_01424_LEFT_MLO_1_1-2.png\n"
     ]
    },
    {
     "name": "stderr",
     "output_type": "stream",
     "text": [
      "转换文件:  72%|███████▏  | 1117/1546 [02:55<00:58,  7.39it/s]"
     ]
    },
    {
     "name": "stdout",
     "output_type": "stream",
     "text": [
      "掩码中的唯一值: [  0 255]\n",
      "掩码已保存为: E:/Dataset/CBIS-DDSM/New_CBDDSM/roi/calc-training\\Calc-Training_P_01435_RIGHT_CC_1_1-2.png\n",
      "掩码中的唯一值: [  0 255]\n",
      "掩码已保存为: E:/Dataset/CBIS-DDSM/New_CBDDSM/roi/calc-training\\Calc-Training_P_01435_RIGHT_CC_2_1-2.png\n"
     ]
    },
    {
     "name": "stderr",
     "output_type": "stream",
     "text": [
      "转换文件:  72%|███████▏  | 1119/1546 [02:55<00:55,  7.74it/s]"
     ]
    },
    {
     "name": "stdout",
     "output_type": "stream",
     "text": [
      "掩码中的唯一值: [  0 255]\n",
      "掩码已保存为: E:/Dataset/CBIS-DDSM/New_CBDDSM/roi/calc-training\\Calc-Training_P_01435_RIGHT_MLO_1_1-2.png\n",
      "掩码中的唯一值: [  0 255]\n",
      "掩码已保存为: E:/Dataset/CBIS-DDSM/New_CBDDSM/roi/calc-training\\Calc-Training_P_01435_RIGHT_MLO_2_1-2.png\n"
     ]
    },
    {
     "name": "stderr",
     "output_type": "stream",
     "text": [
      "转换文件:  73%|███████▎  | 1121/1546 [02:55<00:57,  7.38it/s]"
     ]
    },
    {
     "name": "stdout",
     "output_type": "stream",
     "text": [
      "掩码中的唯一值: [  0 255]\n",
      "掩码已保存为: E:/Dataset/CBIS-DDSM/New_CBDDSM/roi/calc-training\\Calc-Training_P_01435_RIGHT_MLO_3_1-2.png\n",
      "掩码中的唯一值: [  0 255]\n",
      "掩码已保存为: E:/Dataset/CBIS-DDSM/New_CBDDSM/roi/calc-training\\Calc-Training_P_01436_RIGHT_CC_1_1-2.png\n"
     ]
    },
    {
     "name": "stderr",
     "output_type": "stream",
     "text": [
      "转换文件:  73%|███████▎  | 1123/1546 [02:56<00:53,  7.85it/s]"
     ]
    },
    {
     "name": "stdout",
     "output_type": "stream",
     "text": [
      "掩码中的唯一值: [  0 255]\n",
      "掩码已保存为: E:/Dataset/CBIS-DDSM/New_CBDDSM/roi/calc-training\\Calc-Training_P_01436_RIGHT_MLO_1_1-2.png\n",
      "掩码中的唯一值: [  0 255]\n",
      "掩码已保存为: E:/Dataset/CBIS-DDSM/New_CBDDSM/roi/calc-training\\Calc-Training_P_01437_LEFT_CC_1_1-2.png\n"
     ]
    },
    {
     "name": "stderr",
     "output_type": "stream",
     "text": [
      "转换文件:  73%|███████▎  | 1125/1546 [02:56<00:50,  8.41it/s]"
     ]
    },
    {
     "name": "stdout",
     "output_type": "stream",
     "text": [
      "掩码中的唯一值: [  0 255]\n",
      "掩码已保存为: E:/Dataset/CBIS-DDSM/New_CBDDSM/roi/calc-training\\Calc-Training_P_01437_LEFT_CC_2_1-2.png\n",
      "掩码中的唯一值: [  0 255]\n",
      "掩码已保存为: E:/Dataset/CBIS-DDSM/New_CBDDSM/roi/calc-training\\Calc-Training_P_01437_LEFT_CC_3_1-2.png\n"
     ]
    },
    {
     "name": "stderr",
     "output_type": "stream",
     "text": [
      "转换文件:  73%|███████▎  | 1127/1546 [02:56<00:48,  8.70it/s]"
     ]
    },
    {
     "name": "stdout",
     "output_type": "stream",
     "text": [
      "掩码中的唯一值: [  0 255]\n",
      "掩码已保存为: E:/Dataset/CBIS-DDSM/New_CBDDSM/roi/calc-training\\Calc-Training_P_01437_LEFT_CC_4_1-2.png\n",
      "掩码中的唯一值: [  0 255]\n",
      "掩码已保存为: E:/Dataset/CBIS-DDSM/New_CBDDSM/roi/calc-training\\Calc-Training_P_01437_LEFT_CC_5_1-2.png\n"
     ]
    },
    {
     "name": "stderr",
     "output_type": "stream",
     "text": [
      "转换文件:  73%|███████▎  | 1129/1546 [02:56<00:47,  8.72it/s]"
     ]
    },
    {
     "name": "stdout",
     "output_type": "stream",
     "text": [
      "掩码中的唯一值: [  0 255]\n",
      "掩码已保存为: E:/Dataset/CBIS-DDSM/New_CBDDSM/roi/calc-training\\Calc-Training_P_01437_LEFT_CC_6_1-2.png\n",
      "掩码中的唯一值: [  0 255]\n",
      "掩码已保存为: E:/Dataset/CBIS-DDSM/New_CBDDSM/roi/calc-training\\Calc-Training_P_01437_LEFT_MLO_1_1-2.png\n"
     ]
    },
    {
     "name": "stderr",
     "output_type": "stream",
     "text": [
      "转换文件:  73%|███████▎  | 1131/1546 [02:57<00:47,  8.77it/s]"
     ]
    },
    {
     "name": "stdout",
     "output_type": "stream",
     "text": [
      "掩码中的唯一值: [  0 255]\n",
      "掩码已保存为: E:/Dataset/CBIS-DDSM/New_CBDDSM/roi/calc-training\\Calc-Training_P_01437_LEFT_MLO_2_1-2.png\n",
      "掩码中的唯一值: [  0 255]\n",
      "掩码已保存为: E:/Dataset/CBIS-DDSM/New_CBDDSM/roi/calc-training\\Calc-Training_P_01437_LEFT_MLO_3_1-2.png\n"
     ]
    },
    {
     "name": "stderr",
     "output_type": "stream",
     "text": [
      "转换文件:  73%|███████▎  | 1133/1546 [02:57<00:50,  8.14it/s]"
     ]
    },
    {
     "name": "stdout",
     "output_type": "stream",
     "text": [
      "掩码中的唯一值: [  0 255]\n",
      "掩码已保存为: E:/Dataset/CBIS-DDSM/New_CBDDSM/roi/calc-training\\Calc-Training_P_01437_LEFT_MLO_4_1-2.png\n",
      "掩码中的唯一值: [  0 255]\n",
      "掩码已保存为: E:/Dataset/CBIS-DDSM/New_CBDDSM/roi/calc-training\\Calc-Training_P_01437_LEFT_MLO_5_1-2.png\n"
     ]
    },
    {
     "name": "stderr",
     "output_type": "stream",
     "text": [
      "转换文件:  73%|███████▎  | 1135/1546 [02:57<00:48,  8.43it/s]"
     ]
    },
    {
     "name": "stdout",
     "output_type": "stream",
     "text": [
      "掩码中的唯一值: [  0 255]\n",
      "掩码已保存为: E:/Dataset/CBIS-DDSM/New_CBDDSM/roi/calc-training\\Calc-Training_P_01437_LEFT_MLO_6_1-2.png\n",
      "掩码中的唯一值: [  0 255]\n",
      "掩码已保存为: E:/Dataset/CBIS-DDSM/New_CBDDSM/roi/calc-training\\Calc-Training_P_01437_RIGHT_CC_1_1-2.png\n"
     ]
    },
    {
     "name": "stderr",
     "output_type": "stream",
     "text": [
      "转换文件:  74%|███████▎  | 1137/1546 [02:57<00:47,  8.57it/s]"
     ]
    },
    {
     "name": "stdout",
     "output_type": "stream",
     "text": [
      "掩码中的唯一值: [  0 255]\n",
      "掩码已保存为: E:/Dataset/CBIS-DDSM/New_CBDDSM/roi/calc-training\\Calc-Training_P_01437_RIGHT_CC_2_1-2.png\n",
      "掩码中的唯一值: [  0 255]\n",
      "掩码已保存为: E:/Dataset/CBIS-DDSM/New_CBDDSM/roi/calc-training\\Calc-Training_P_01437_RIGHT_CC_3_1-2.png\n"
     ]
    },
    {
     "name": "stderr",
     "output_type": "stream",
     "text": [
      "转换文件:  74%|███████▎  | 1139/1546 [02:58<00:47,  8.66it/s]"
     ]
    },
    {
     "name": "stdout",
     "output_type": "stream",
     "text": [
      "掩码中的唯一值: [  0 255]\n",
      "掩码已保存为: E:/Dataset/CBIS-DDSM/New_CBDDSM/roi/calc-training\\Calc-Training_P_01437_RIGHT_CC_4_1-2.png\n",
      "掩码中的唯一值: [  0 255]\n",
      "掩码已保存为: E:/Dataset/CBIS-DDSM/New_CBDDSM/roi/calc-training\\Calc-Training_P_01437_RIGHT_CC_5_1-2.png\n"
     ]
    },
    {
     "name": "stderr",
     "output_type": "stream",
     "text": [
      "转换文件:  74%|███████▍  | 1141/1546 [02:58<00:46,  8.72it/s]"
     ]
    },
    {
     "name": "stdout",
     "output_type": "stream",
     "text": [
      "掩码中的唯一值: [  0 255]\n",
      "掩码已保存为: E:/Dataset/CBIS-DDSM/New_CBDDSM/roi/calc-training\\Calc-Training_P_01437_RIGHT_CC_6_1-2.png\n",
      "掩码中的唯一值: [  0 255]\n",
      "掩码已保存为: E:/Dataset/CBIS-DDSM/New_CBDDSM/roi/calc-training\\Calc-Training_P_01437_RIGHT_MLO_1_1-2.png\n",
      "掩码中的唯一值: [  0 255]\n"
     ]
    },
    {
     "name": "stderr",
     "output_type": "stream",
     "text": [
      "转换文件:  74%|███████▍  | 1143/1546 [02:58<00:45,  8.81it/s]"
     ]
    },
    {
     "name": "stdout",
     "output_type": "stream",
     "text": [
      "掩码已保存为: E:/Dataset/CBIS-DDSM/New_CBDDSM/roi/calc-training\\Calc-Training_P_01437_RIGHT_MLO_2_1-2.png\n",
      "掩码中的唯一值: [  0 255]\n",
      "掩码已保存为: E:/Dataset/CBIS-DDSM/New_CBDDSM/roi/calc-training\\Calc-Training_P_01437_RIGHT_MLO_3_1-2.png\n"
     ]
    },
    {
     "name": "stderr",
     "output_type": "stream",
     "text": [
      "转换文件:  74%|███████▍  | 1145/1546 [02:58<00:48,  8.29it/s]"
     ]
    },
    {
     "name": "stdout",
     "output_type": "stream",
     "text": [
      "掩码中的唯一值: [  0 255]\n",
      "掩码已保存为: E:/Dataset/CBIS-DDSM/New_CBDDSM/roi/calc-training\\Calc-Training_P_01437_RIGHT_MLO_4_1-2.png\n",
      "掩码中的唯一值: [  0 255]\n",
      "掩码已保存为: E:/Dataset/CBIS-DDSM/New_CBDDSM/roi/calc-training\\Calc-Training_P_01437_RIGHT_MLO_5_1-2.png\n"
     ]
    },
    {
     "name": "stderr",
     "output_type": "stream",
     "text": [
      "转换文件:  74%|███████▍  | 1147/1546 [02:59<00:48,  8.22it/s]"
     ]
    },
    {
     "name": "stdout",
     "output_type": "stream",
     "text": [
      "掩码中的唯一值: [  0 255]\n",
      "掩码已保存为: E:/Dataset/CBIS-DDSM/New_CBDDSM/roi/calc-training\\Calc-Training_P_01437_RIGHT_MLO_6_1-2.png\n",
      "掩码中的唯一值: [  0 255]\n",
      "掩码已保存为: E:/Dataset/CBIS-DDSM/New_CBDDSM/roi/calc-training\\Calc-Training_P_01440_LEFT_CC_1_1-2.png\n"
     ]
    },
    {
     "name": "stderr",
     "output_type": "stream",
     "text": [
      "转换文件:  74%|███████▍  | 1149/1546 [02:59<00:47,  8.29it/s]"
     ]
    },
    {
     "name": "stdout",
     "output_type": "stream",
     "text": [
      "掩码中的唯一值: [  0 255]\n",
      "掩码已保存为: E:/Dataset/CBIS-DDSM/New_CBDDSM/roi/calc-training\\Calc-Training_P_01440_LEFT_MLO_1_1-2.png\n",
      "掩码中的唯一值: [  0 255]\n",
      "掩码已保存为: E:/Dataset/CBIS-DDSM/New_CBDDSM/roi/calc-training\\Calc-Training_P_01440_RIGHT_CC_1_1-2.png\n"
     ]
    },
    {
     "name": "stderr",
     "output_type": "stream",
     "text": [
      "转换文件:  74%|███████▍  | 1151/1546 [02:59<00:48,  8.21it/s]"
     ]
    },
    {
     "name": "stdout",
     "output_type": "stream",
     "text": [
      "掩码中的唯一值: [  0 255]\n",
      "掩码已保存为: E:/Dataset/CBIS-DDSM/New_CBDDSM/roi/calc-training\\Calc-Training_P_01440_RIGHT_CC_2_1-2.png\n",
      "掩码中的唯一值: [  0 255]\n",
      "掩码已保存为: E:/Dataset/CBIS-DDSM/New_CBDDSM/roi/calc-training\\Calc-Training_P_01440_RIGHT_MLO_1_1-2.png\n"
     ]
    },
    {
     "name": "stderr",
     "output_type": "stream",
     "text": [
      "转换文件:  75%|███████▍  | 1153/1546 [02:59<00:47,  8.25it/s]"
     ]
    },
    {
     "name": "stdout",
     "output_type": "stream",
     "text": [
      "掩码中的唯一值: [  0 255]\n",
      "掩码已保存为: E:/Dataset/CBIS-DDSM/New_CBDDSM/roi/calc-training\\Calc-Training_P_01440_RIGHT_MLO_2_1-2.png\n",
      "掩码中的唯一值: [  0 255]\n",
      "掩码已保存为: E:/Dataset/CBIS-DDSM/New_CBDDSM/roi/calc-training\\Calc-Training_P_01443_RIGHT_CC_1_1-2.png\n"
     ]
    },
    {
     "name": "stderr",
     "output_type": "stream",
     "text": [
      "转换文件:  75%|███████▍  | 1155/1546 [02:59<00:49,  7.91it/s]"
     ]
    },
    {
     "name": "stdout",
     "output_type": "stream",
     "text": [
      "掩码中的唯一值: [  0 255]\n",
      "掩码已保存为: E:/Dataset/CBIS-DDSM/New_CBDDSM/roi/calc-training\\Calc-Training_P_01443_RIGHT_MLO_1_1-2.png\n",
      "掩码中的唯一值: [  0 255]\n",
      "掩码已保存为: E:/Dataset/CBIS-DDSM/New_CBDDSM/roi/calc-training\\Calc-Training_P_01446_LEFT_MLO_1_1-2.png\n"
     ]
    },
    {
     "name": "stderr",
     "output_type": "stream",
     "text": [
      "转换文件:  75%|███████▍  | 1156/1546 [03:00<01:00,  6.42it/s]"
     ]
    },
    {
     "name": "stdout",
     "output_type": "stream",
     "text": [
      "掩码中的唯一值: [  0 255]\n",
      "掩码已保存为: E:/Dataset/CBIS-DDSM/New_CBDDSM/roi/calc-training\\Calc-Training_P_01451_RIGHT_CC_1_1-2.png\n"
     ]
    },
    {
     "name": "stderr",
     "output_type": "stream",
     "text": [
      "转换文件:  75%|███████▍  | 1157/1546 [03:00<01:06,  5.87it/s]"
     ]
    },
    {
     "name": "stdout",
     "output_type": "stream",
     "text": [
      "掩码中的唯一值: [  0 255]\n",
      "掩码已保存为: E:/Dataset/CBIS-DDSM/New_CBDDSM/roi/calc-training\\Calc-Training_P_01451_RIGHT_MLO_1_1-2.png\n"
     ]
    },
    {
     "name": "stderr",
     "output_type": "stream",
     "text": [
      "转换文件:  75%|███████▍  | 1159/1546 [03:00<01:02,  6.17it/s]"
     ]
    },
    {
     "name": "stdout",
     "output_type": "stream",
     "text": [
      "掩码中的唯一值: [  0 255]\n",
      "掩码已保存为: E:/Dataset/CBIS-DDSM/New_CBDDSM/roi/calc-training\\Calc-Training_P_01454_LEFT_MLO_2_1-2.png\n",
      "掩码中的唯一值: [  0 255]\n",
      "掩码已保存为: E:/Dataset/CBIS-DDSM/New_CBDDSM/roi/calc-training\\Calc-Training_P_01455_RIGHT_CC_1_1-2.png\n"
     ]
    },
    {
     "name": "stderr",
     "output_type": "stream",
     "text": [
      "转换文件:  75%|███████▌  | 1161/1546 [03:00<00:53,  7.19it/s]"
     ]
    },
    {
     "name": "stdout",
     "output_type": "stream",
     "text": [
      "掩码中的唯一值: [  0 255]\n",
      "掩码已保存为: E:/Dataset/CBIS-DDSM/New_CBDDSM/roi/calc-training\\Calc-Training_P_01455_RIGHT_MLO_1_1-2.png\n",
      "掩码中的唯一值: [  0 255]\n",
      "掩码已保存为: E:/Dataset/CBIS-DDSM/New_CBDDSM/roi/calc-training\\Calc-Training_P_01456_LEFT_CC_1_1-2.png\n"
     ]
    },
    {
     "name": "stderr",
     "output_type": "stream",
     "text": [
      "转换文件:  75%|███████▌  | 1163/1546 [03:01<00:50,  7.64it/s]"
     ]
    },
    {
     "name": "stdout",
     "output_type": "stream",
     "text": [
      "掩码中的唯一值: [  0 255]\n",
      "掩码已保存为: E:/Dataset/CBIS-DDSM/New_CBDDSM/roi/calc-training\\Calc-Training_P_01456_LEFT_CC_2_1-2.png\n",
      "掩码中的唯一值: [  0 255]\n",
      "掩码已保存为: E:/Dataset/CBIS-DDSM/New_CBDDSM/roi/calc-training\\Calc-Training_P_01456_LEFT_MLO_1_1-2.png\n"
     ]
    },
    {
     "name": "stderr",
     "output_type": "stream",
     "text": [
      "转换文件:  75%|███████▌  | 1165/1546 [03:01<00:48,  7.90it/s]"
     ]
    },
    {
     "name": "stdout",
     "output_type": "stream",
     "text": [
      "掩码中的唯一值: [  0 255]\n",
      "掩码已保存为: E:/Dataset/CBIS-DDSM/New_CBDDSM/roi/calc-training\\Calc-Training_P_01456_LEFT_MLO_2_1-2.png\n",
      "掩码中的唯一值: [  0 255]\n",
      "掩码已保存为: E:/Dataset/CBIS-DDSM/New_CBDDSM/roi/calc-training\\Calc-Training_P_01457_LEFT_CC_1_1-2.png\n"
     ]
    },
    {
     "name": "stderr",
     "output_type": "stream",
     "text": [
      "转换文件:  75%|███████▌  | 1167/1546 [03:01<00:48,  7.80it/s]"
     ]
    },
    {
     "name": "stdout",
     "output_type": "stream",
     "text": [
      "掩码中的唯一值: [  0 255]\n",
      "掩码已保存为: E:/Dataset/CBIS-DDSM/New_CBDDSM/roi/calc-training\\Calc-Training_P_01457_LEFT_CC_2_1-2.png\n",
      "掩码中的唯一值: [  0 255]\n",
      "掩码已保存为: E:/Dataset/CBIS-DDSM/New_CBDDSM/roi/calc-training\\Calc-Training_P_01457_LEFT_MLO_1_1-2.png\n"
     ]
    },
    {
     "name": "stderr",
     "output_type": "stream",
     "text": [
      "转换文件:  76%|███████▌  | 1169/1546 [03:01<00:46,  8.04it/s]"
     ]
    },
    {
     "name": "stdout",
     "output_type": "stream",
     "text": [
      "掩码中的唯一值: [  0 255]\n",
      "掩码已保存为: E:/Dataset/CBIS-DDSM/New_CBDDSM/roi/calc-training\\Calc-Training_P_01457_LEFT_MLO_2_1-2.png\n",
      "掩码中的唯一值: [  0 255]\n",
      "掩码已保存为: E:/Dataset/CBIS-DDSM/New_CBDDSM/roi/calc-training\\Calc-Training_P_01457_RIGHT_CC_1_1-2.png\n"
     ]
    },
    {
     "name": "stderr",
     "output_type": "stream",
     "text": [
      "转换文件:  76%|███████▌  | 1171/1546 [03:02<00:45,  8.22it/s]"
     ]
    },
    {
     "name": "stdout",
     "output_type": "stream",
     "text": [
      "掩码中的唯一值: [  0 255]\n",
      "掩码已保存为: E:/Dataset/CBIS-DDSM/New_CBDDSM/roi/calc-training\\Calc-Training_P_01457_RIGHT_MLO_1_1-2.png\n",
      "掩码中的唯一值: [  0 255]\n",
      "掩码已保存为: E:/Dataset/CBIS-DDSM/New_CBDDSM/roi/calc-training\\Calc-Training_P_01458_LEFT_CC_1_1-2.png\n"
     ]
    },
    {
     "name": "stderr",
     "output_type": "stream",
     "text": [
      "转换文件:  76%|███████▌  | 1174/1546 [03:02<00:41,  8.97it/s]"
     ]
    },
    {
     "name": "stdout",
     "output_type": "stream",
     "text": [
      "掩码中的唯一值: [  0 255]\n",
      "掩码已保存为: E:/Dataset/CBIS-DDSM/New_CBDDSM/roi/calc-training\\Calc-Training_P_01458_LEFT_MLO_1_1-2.png\n",
      "掩码中的唯一值: [  0 255]\n",
      "掩码已保存为: E:/Dataset/CBIS-DDSM/New_CBDDSM/roi/calc-training\\Calc-Training_P_01459_LEFT_CC_1_1-2.png\n",
      "掩码中的唯一值: [  0 255]\n",
      "掩码已保存为: E:/Dataset/CBIS-DDSM/New_CBDDSM/roi/calc-training\\Calc-Training_P_01459_LEFT_MLO_1_1-2.png\n"
     ]
    },
    {
     "name": "stderr",
     "output_type": "stream",
     "text": [
      "转换文件:  76%|███████▌  | 1176/1546 [03:02<00:43,  8.53it/s]"
     ]
    },
    {
     "name": "stdout",
     "output_type": "stream",
     "text": [
      "掩码中的唯一值: [  0 255]\n",
      "掩码已保存为: E:/Dataset/CBIS-DDSM/New_CBDDSM/roi/calc-training\\Calc-Training_P_01462_LEFT_CC_1_1-2.png\n",
      "掩码中的唯一值: [  0 255]\n",
      "掩码已保存为: E:/Dataset/CBIS-DDSM/New_CBDDSM/roi/calc-training\\Calc-Training_P_01462_LEFT_MLO_1_1-2.png\n"
     ]
    },
    {
     "name": "stderr",
     "output_type": "stream",
     "text": [
      "转换文件:  76%|███████▌  | 1178/1546 [03:03<00:45,  8.08it/s]"
     ]
    },
    {
     "name": "stdout",
     "output_type": "stream",
     "text": [
      "掩码中的唯一值: [  0 255]\n",
      "掩码已保存为: E:/Dataset/CBIS-DDSM/New_CBDDSM/roi/calc-training\\Calc-Training_P_01467_RIGHT_CC_1_1-2.png\n",
      "掩码中的唯一值: [  0 255]\n",
      "掩码已保存为: E:/Dataset/CBIS-DDSM/New_CBDDSM/roi/calc-training\\Calc-Training_P_01467_RIGHT_MLO_1_1-2.png\n"
     ]
    },
    {
     "name": "stderr",
     "output_type": "stream",
     "text": [
      "转换文件:  76%|███████▋  | 1180/1546 [03:03<00:47,  7.76it/s]"
     ]
    },
    {
     "name": "stdout",
     "output_type": "stream",
     "text": [
      "掩码中的唯一值: [  0 255]\n",
      "掩码已保存为: E:/Dataset/CBIS-DDSM/New_CBDDSM/roi/calc-training\\Calc-Training_P_01472_RIGHT_MLO_1_1-2.png\n",
      "掩码中的唯一值: [  0 255]\n",
      "掩码已保存为: E:/Dataset/CBIS-DDSM/New_CBDDSM/roi/calc-training\\Calc-Training_P_01478_RIGHT_CC_1_1-2.png\n",
      "掩码中的唯一值: [  0 255]\n"
     ]
    },
    {
     "name": "stderr",
     "output_type": "stream",
     "text": [
      "转换文件:  76%|███████▋  | 1182/1546 [03:03<00:45,  8.06it/s]"
     ]
    },
    {
     "name": "stdout",
     "output_type": "stream",
     "text": [
      "掩码已保存为: E:/Dataset/CBIS-DDSM/New_CBDDSM/roi/calc-training\\Calc-Training_P_01478_RIGHT_MLO_1_1-2.png\n",
      "掩码中的唯一值: [  0 255]\n",
      "掩码已保存为: E:/Dataset/CBIS-DDSM/New_CBDDSM/roi/calc-training\\Calc-Training_P_01487_RIGHT_MLO_1_1-2.png\n"
     ]
    },
    {
     "name": "stderr",
     "output_type": "stream",
     "text": [
      "转换文件:  77%|███████▋  | 1184/1546 [03:03<00:42,  8.46it/s]"
     ]
    },
    {
     "name": "stdout",
     "output_type": "stream",
     "text": [
      "掩码中的唯一值: [  0 255]\n",
      "掩码已保存为: E:/Dataset/CBIS-DDSM/New_CBDDSM/roi/calc-training\\Calc-Training_P_01488_LEFT_CC_1_1-2.png\n",
      "掩码中的唯一值: [  0 255]\n",
      "掩码已保存为: E:/Dataset/CBIS-DDSM/New_CBDDSM/roi/calc-training\\Calc-Training_P_01488_LEFT_MLO_1_1-2.png\n"
     ]
    },
    {
     "name": "stderr",
     "output_type": "stream",
     "text": [
      "转换文件:  77%|███████▋  | 1186/1546 [03:04<00:42,  8.57it/s]"
     ]
    },
    {
     "name": "stdout",
     "output_type": "stream",
     "text": [
      "掩码中的唯一值: [  0 255]\n",
      "掩码已保存为: E:/Dataset/CBIS-DDSM/New_CBDDSM/roi/calc-training\\Calc-Training_P_01497_LEFT_CC_1_1-2.png\n",
      "掩码中的唯一值: [  0 255]\n",
      "掩码已保存为: E:/Dataset/CBIS-DDSM/New_CBDDSM/roi/calc-training\\Calc-Training_P_01497_LEFT_MLO_1_1-2.png\n"
     ]
    },
    {
     "name": "stderr",
     "output_type": "stream",
     "text": [
      "转换文件:  77%|███████▋  | 1188/1546 [03:04<00:43,  8.31it/s]"
     ]
    },
    {
     "name": "stdout",
     "output_type": "stream",
     "text": [
      "掩码中的唯一值: [  0 255]\n",
      "掩码已保存为: E:/Dataset/CBIS-DDSM/New_CBDDSM/roi/calc-training\\Calc-Training_P_01497_RIGHT_MLO_1_1-2.png\n",
      "掩码中的唯一值: [  0 255]\n",
      "掩码已保存为: E:/Dataset/CBIS-DDSM/New_CBDDSM/roi/calc-training\\Calc-Training_P_01505_RIGHT_CC_1_1-2.png\n"
     ]
    },
    {
     "name": "stderr",
     "output_type": "stream",
     "text": [
      "转换文件:  77%|███████▋  | 1190/1546 [03:04<00:42,  8.30it/s]"
     ]
    },
    {
     "name": "stdout",
     "output_type": "stream",
     "text": [
      "掩码中的唯一值: [  0 255]\n",
      "掩码已保存为: E:/Dataset/CBIS-DDSM/New_CBDDSM/roi/calc-training\\Calc-Training_P_01505_RIGHT_MLO_1_1-2.png\n",
      "掩码中的唯一值: [  0 255]\n",
      "掩码已保存为: E:/Dataset/CBIS-DDSM/New_CBDDSM/roi/calc-training\\Calc-Training_P_01513_LEFT_CC_1_1-2.png\n"
     ]
    },
    {
     "name": "stderr",
     "output_type": "stream",
     "text": [
      "转换文件:  77%|███████▋  | 1192/1546 [03:04<00:40,  8.68it/s]"
     ]
    },
    {
     "name": "stdout",
     "output_type": "stream",
     "text": [
      "掩码中的唯一值: [  0 255]\n",
      "掩码已保存为: E:/Dataset/CBIS-DDSM/New_CBDDSM/roi/calc-training\\Calc-Training_P_01513_LEFT_MLO_1_1-2.png\n",
      "掩码中的唯一值: [  0 255]\n",
      "掩码已保存为: E:/Dataset/CBIS-DDSM/New_CBDDSM/roi/calc-training\\Calc-Training_P_01517_LEFT_MLO_2_1-2.png\n"
     ]
    },
    {
     "name": "stderr",
     "output_type": "stream",
     "text": [
      "转换文件:  77%|███████▋  | 1193/1546 [03:04<00:48,  7.34it/s]"
     ]
    },
    {
     "name": "stdout",
     "output_type": "stream",
     "text": [
      "掩码中的唯一值: [  0 255]\n",
      "掩码已保存为: E:/Dataset/CBIS-DDSM/New_CBDDSM/roi/calc-training\\Calc-Training_P_01522_RIGHT_CC_1_1-2.png\n",
      "掩码中的唯一值: [  0 255]\n"
     ]
    },
    {
     "name": "stderr",
     "output_type": "stream",
     "text": [
      "转换文件:  77%|███████▋  | 1195/1546 [03:05<00:51,  6.75it/s]"
     ]
    },
    {
     "name": "stdout",
     "output_type": "stream",
     "text": [
      "掩码已保存为: E:/Dataset/CBIS-DDSM/New_CBDDSM/roi/calc-training\\Calc-Training_P_01522_RIGHT_MLO_1_1-2.png\n",
      "掩码中的唯一值: [  0 255]\n",
      "掩码已保存为: E:/Dataset/CBIS-DDSM/New_CBDDSM/roi/calc-training\\Calc-Training_P_01524_LEFT_CC_1_1-2.png\n"
     ]
    },
    {
     "name": "stderr",
     "output_type": "stream",
     "text": [
      "转换文件:  77%|███████▋  | 1196/1546 [03:05<00:49,  7.07it/s]"
     ]
    },
    {
     "name": "stdout",
     "output_type": "stream",
     "text": [
      "掩码中的唯一值: [  0 255]\n",
      "掩码已保存为: E:/Dataset/CBIS-DDSM/New_CBDDSM/roi/calc-training\\Calc-Training_P_01524_LEFT_MLO_1_1-2.png\n"
     ]
    },
    {
     "name": "stderr",
     "output_type": "stream",
     "text": [
      "转换文件:  77%|███████▋  | 1197/1546 [03:05<00:56,  6.18it/s]"
     ]
    },
    {
     "name": "stdout",
     "output_type": "stream",
     "text": [
      "掩码中的唯一值: [  0 255]\n",
      "掩码已保存为: E:/Dataset/CBIS-DDSM/New_CBDDSM/roi/calc-training\\Calc-Training_P_01526_RIGHT_CC_1_1-2.png\n"
     ]
    },
    {
     "name": "stderr",
     "output_type": "stream",
     "text": [
      "转换文件:  78%|███████▊  | 1199/1546 [03:05<00:59,  5.83it/s]"
     ]
    },
    {
     "name": "stdout",
     "output_type": "stream",
     "text": [
      "掩码中的唯一值: [  0 255]\n",
      "掩码已保存为: E:/Dataset/CBIS-DDSM/New_CBDDSM/roi/calc-training\\Calc-Training_P_01526_RIGHT_MLO_1_1-2.png\n",
      "掩码中的唯一值: [  0 255]\n",
      "掩码已保存为: E:/Dataset/CBIS-DDSM/New_CBDDSM/roi/calc-training\\Calc-Training_P_01537_RIGHT_CC_1_1-2.png\n"
     ]
    },
    {
     "name": "stderr",
     "output_type": "stream",
     "text": [
      "转换文件:  78%|███████▊  | 1201/1546 [03:06<00:52,  6.63it/s]"
     ]
    },
    {
     "name": "stdout",
     "output_type": "stream",
     "text": [
      "掩码中的唯一值: [  0 255]\n",
      "掩码已保存为: E:/Dataset/CBIS-DDSM/New_CBDDSM/roi/calc-training\\Calc-Training_P_01545_RIGHT_CC_1_1-2.png\n",
      "掩码中的唯一值: [  0 255]\n",
      "掩码已保存为: E:/Dataset/CBIS-DDSM/New_CBDDSM/roi/calc-training\\Calc-Training_P_01545_RIGHT_MLO_1_1-2.png\n",
      "掩码中的唯一值: [  0 255]\n"
     ]
    },
    {
     "name": "stderr",
     "output_type": "stream",
     "text": [
      "转换文件:  78%|███████▊  | 1203/1546 [03:06<00:41,  8.23it/s]"
     ]
    },
    {
     "name": "stdout",
     "output_type": "stream",
     "text": [
      "掩码已保存为: E:/Dataset/CBIS-DDSM/New_CBDDSM/roi/calc-training\\Calc-Training_P_01548_LEFT_CC_1_1-2.png\n",
      "掩码中的唯一值: [  0 255]\n",
      "掩码已保存为: E:/Dataset/CBIS-DDSM/New_CBDDSM/roi/calc-training\\Calc-Training_P_01548_LEFT_MLO_1_1-2.png\n"
     ]
    },
    {
     "name": "stderr",
     "output_type": "stream",
     "text": [
      "转换文件:  78%|███████▊  | 1204/1546 [03:06<00:43,  7.83it/s]"
     ]
    },
    {
     "name": "stdout",
     "output_type": "stream",
     "text": [
      "掩码中的唯一值: [  0 255]\n",
      "掩码已保存为: E:/Dataset/CBIS-DDSM/New_CBDDSM/roi/calc-training\\Calc-Training_P_01549_LEFT_CC_1_1-2.png\n"
     ]
    },
    {
     "name": "stderr",
     "output_type": "stream",
     "text": [
      "转换文件:  78%|███████▊  | 1206/1546 [03:06<00:57,  5.91it/s]"
     ]
    },
    {
     "name": "stdout",
     "output_type": "stream",
     "text": [
      "掩码中的唯一值: [  0 255]\n",
      "掩码已保存为: E:/Dataset/CBIS-DDSM/New_CBDDSM/roi/calc-training\\Calc-Training_P_01549_LEFT_MLO_1_1-2.png\n",
      "掩码中的唯一值: [  0 255]\n",
      "掩码已保存为: E:/Dataset/CBIS-DDSM/New_CBDDSM/roi/calc-training\\Calc-Training_P_01561_LEFT_CC_1_1-2.png\n"
     ]
    },
    {
     "name": "stderr",
     "output_type": "stream",
     "text": [
      "转换文件:  78%|███████▊  | 1208/1546 [03:07<00:55,  6.07it/s]"
     ]
    },
    {
     "name": "stdout",
     "output_type": "stream",
     "text": [
      "掩码中的唯一值: [  0 255]\n",
      "掩码已保存为: E:/Dataset/CBIS-DDSM/New_CBDDSM/roi/calc-training\\Calc-Training_P_01561_LEFT_MLO_1_1-2.png\n",
      "掩码中的唯一值: [  0 255]\n",
      "掩码已保存为: E:/Dataset/CBIS-DDSM/New_CBDDSM/roi/calc-training\\Calc-Training_P_01563_LEFT_CC_1_1-2.png\n"
     ]
    },
    {
     "name": "stderr",
     "output_type": "stream",
     "text": [
      "转换文件:  78%|███████▊  | 1210/1546 [03:07<00:48,  6.93it/s]"
     ]
    },
    {
     "name": "stdout",
     "output_type": "stream",
     "text": [
      "掩码中的唯一值: [  0 255]\n",
      "掩码已保存为: E:/Dataset/CBIS-DDSM/New_CBDDSM/roi/calc-training\\Calc-Training_P_01563_LEFT_CC_2_1-2.png\n",
      "掩码中的唯一值: [  0 255]\n",
      "掩码已保存为: E:/Dataset/CBIS-DDSM/New_CBDDSM/roi/calc-training\\Calc-Training_P_01563_LEFT_MLO_1_1-2.png\n"
     ]
    },
    {
     "name": "stderr",
     "output_type": "stream",
     "text": [
      "转换文件:  78%|███████▊  | 1212/1546 [03:07<00:47,  6.97it/s]"
     ]
    },
    {
     "name": "stdout",
     "output_type": "stream",
     "text": [
      "掩码中的唯一值: [  0 255]\n",
      "掩码已保存为: E:/Dataset/CBIS-DDSM/New_CBDDSM/roi/calc-training\\Calc-Training_P_01563_LEFT_MLO_2_1-2.png\n",
      "掩码中的唯一值: [  0 255]\n",
      "掩码已保存为: E:/Dataset/CBIS-DDSM/New_CBDDSM/roi/calc-training\\Calc-Training_P_01563_LEFT_MLO_3_1-2.png\n"
     ]
    },
    {
     "name": "stderr",
     "output_type": "stream",
     "text": [
      "转换文件:  79%|███████▊  | 1214/1546 [03:08<00:44,  7.47it/s]"
     ]
    },
    {
     "name": "stdout",
     "output_type": "stream",
     "text": [
      "掩码中的唯一值: [  0 255]\n",
      "掩码已保存为: E:/Dataset/CBIS-DDSM/New_CBDDSM/roi/calc-training\\Calc-Training_P_01563_LEFT_MLO_4_1-2.png\n",
      "掩码中的唯一值: [  0 255]\n",
      "掩码已保存为: E:/Dataset/CBIS-DDSM/New_CBDDSM/roi/calc-training\\Calc-Training_P_01563_RIGHT_CC_1_1-2.png\n"
     ]
    },
    {
     "name": "stderr",
     "output_type": "stream",
     "text": [
      "转换文件:  79%|███████▊  | 1216/1546 [03:08<00:42,  7.75it/s]"
     ]
    },
    {
     "name": "stdout",
     "output_type": "stream",
     "text": [
      "掩码中的唯一值: [  0 255]\n",
      "掩码已保存为: E:/Dataset/CBIS-DDSM/New_CBDDSM/roi/calc-training\\Calc-Training_P_01563_RIGHT_CC_2_1-2.png\n",
      "掩码中的唯一值: [  0 255]\n",
      "掩码已保存为: E:/Dataset/CBIS-DDSM/New_CBDDSM/roi/calc-training\\Calc-Training_P_01563_RIGHT_MLO_1_1-2.png\n"
     ]
    },
    {
     "name": "stderr",
     "output_type": "stream",
     "text": [
      "转换文件:  79%|███████▉  | 1218/1546 [03:08<00:41,  7.98it/s]"
     ]
    },
    {
     "name": "stdout",
     "output_type": "stream",
     "text": [
      "掩码中的唯一值: [  0 255]\n",
      "掩码已保存为: E:/Dataset/CBIS-DDSM/New_CBDDSM/roi/calc-training\\Calc-Training_P_01563_RIGHT_MLO_2_1-2.png\n",
      "掩码中的唯一值: [  0 255]\n",
      "掩码已保存为: E:/Dataset/CBIS-DDSM/New_CBDDSM/roi/calc-training\\Calc-Training_P_01563_RIGHT_MLO_3_1-2.png\n"
     ]
    },
    {
     "name": "stderr",
     "output_type": "stream",
     "text": [
      "转换文件:  79%|███████▉  | 1220/1546 [03:08<00:40,  8.03it/s]"
     ]
    },
    {
     "name": "stdout",
     "output_type": "stream",
     "text": [
      "掩码中的唯一值: [  0 255]\n",
      "掩码已保存为: E:/Dataset/CBIS-DDSM/New_CBDDSM/roi/calc-training\\Calc-Training_P_01566_LEFT_CC_1_1-2.png\n",
      "掩码中的唯一值: [  0 255]\n",
      "掩码已保存为: E:/Dataset/CBIS-DDSM/New_CBDDSM/roi/calc-training\\Calc-Training_P_01566_LEFT_MLO_1_1-2.png\n"
     ]
    },
    {
     "name": "stderr",
     "output_type": "stream",
     "text": [
      "转换文件:  79%|███████▉  | 1222/1546 [03:09<00:40,  7.99it/s]"
     ]
    },
    {
     "name": "stdout",
     "output_type": "stream",
     "text": [
      "掩码中的唯一值: [  0 255]\n",
      "掩码已保存为: E:/Dataset/CBIS-DDSM/New_CBDDSM/roi/calc-training\\Calc-Training_P_01567_LEFT_CC_2_1-2.png\n",
      "掩码中的唯一值: [  0 255]\n",
      "掩码已保存为: E:/Dataset/CBIS-DDSM/New_CBDDSM/roi/calc-training\\Calc-Training_P_01567_LEFT_MLO_2_1-2.png\n"
     ]
    },
    {
     "name": "stderr",
     "output_type": "stream",
     "text": [
      "转换文件:  79%|███████▉  | 1224/1546 [03:09<00:40,  7.85it/s]"
     ]
    },
    {
     "name": "stdout",
     "output_type": "stream",
     "text": [
      "掩码中的唯一值: [  0 255]\n",
      "掩码已保存为: E:/Dataset/CBIS-DDSM/New_CBDDSM/roi/calc-training\\Calc-Training_P_01569_RIGHT_CC_1_1-2.png\n",
      "掩码中的唯一值: [  0 255]\n",
      "掩码已保存为: E:/Dataset/CBIS-DDSM/New_CBDDSM/roi/calc-training\\Calc-Training_P_01569_RIGHT_CC_2_1-2.png\n"
     ]
    },
    {
     "name": "stderr",
     "output_type": "stream",
     "text": [
      "转换文件:  79%|███████▉  | 1226/1546 [03:09<00:39,  8.04it/s]"
     ]
    },
    {
     "name": "stdout",
     "output_type": "stream",
     "text": [
      "掩码中的唯一值: [  0 255]\n",
      "掩码已保存为: E:/Dataset/CBIS-DDSM/New_CBDDSM/roi/calc-training\\Calc-Training_P_01569_RIGHT_MLO_1_1-2.png\n",
      "掩码中的唯一值: [  0 255]\n",
      "掩码已保存为: E:/Dataset/CBIS-DDSM/New_CBDDSM/roi/calc-training\\Calc-Training_P_01570_RIGHT_CC_1_1-2.png\n"
     ]
    },
    {
     "name": "stderr",
     "output_type": "stream",
     "text": [
      "转换文件:  79%|███████▉  | 1227/1546 [03:09<00:39,  8.09it/s]"
     ]
    },
    {
     "name": "stdout",
     "output_type": "stream",
     "text": [
      "掩码中的唯一值: [  0 255]\n",
      "掩码已保存为: E:/Dataset/CBIS-DDSM/New_CBDDSM/roi/calc-training\\Calc-Training_P_01570_RIGHT_MLO_2_1-2.png\n"
     ]
    },
    {
     "name": "stderr",
     "output_type": "stream",
     "text": [
      "转换文件:  79%|███████▉  | 1228/1546 [03:09<00:50,  6.30it/s]"
     ]
    },
    {
     "name": "stdout",
     "output_type": "stream",
     "text": [
      "掩码中的唯一值: [  0 255]\n",
      "掩码已保存为: E:/Dataset/CBIS-DDSM/New_CBDDSM/roi/calc-training\\Calc-Training_P_01571_RIGHT_CC_1_1-2.png\n"
     ]
    },
    {
     "name": "stderr",
     "output_type": "stream",
     "text": [
      "转换文件:  80%|███████▉  | 1230/1546 [03:10<00:52,  5.96it/s]"
     ]
    },
    {
     "name": "stdout",
     "output_type": "stream",
     "text": [
      "掩码中的唯一值: [  0 255]\n",
      "掩码已保存为: E:/Dataset/CBIS-DDSM/New_CBDDSM/roi/calc-training\\Calc-Training_P_01571_RIGHT_MLO_1_1-2.png\n",
      "掩码中的唯一值: [  0 255]\n",
      "掩码已保存为: E:/Dataset/CBIS-DDSM/New_CBDDSM/roi/calc-training\\Calc-Training_P_01573_RIGHT_CC_2_1-2.png\n"
     ]
    },
    {
     "name": "stderr",
     "output_type": "stream",
     "text": [
      "转换文件:  80%|███████▉  | 1232/1546 [03:10<00:47,  6.68it/s]"
     ]
    },
    {
     "name": "stdout",
     "output_type": "stream",
     "text": [
      "掩码中的唯一值: [  0 255]\n",
      "掩码已保存为: E:/Dataset/CBIS-DDSM/New_CBDDSM/roi/calc-training\\Calc-Training_P_01573_RIGHT_CC_3_1-2.png\n",
      "掩码中的唯一值: [  0 255]\n",
      "掩码已保存为: E:/Dataset/CBIS-DDSM/New_CBDDSM/roi/calc-training\\Calc-Training_P_01573_RIGHT_MLO_2_1-2.png\n"
     ]
    },
    {
     "name": "stderr",
     "output_type": "stream",
     "text": [
      "转换文件:  80%|███████▉  | 1234/1546 [03:10<00:40,  7.63it/s]"
     ]
    },
    {
     "name": "stdout",
     "output_type": "stream",
     "text": [
      "掩码中的唯一值: [  0 255]\n",
      "掩码已保存为: E:/Dataset/CBIS-DDSM/New_CBDDSM/roi/calc-training\\Calc-Training_P_01573_RIGHT_MLO_3_1-2.png\n",
      "掩码中的唯一值: [  0 255]\n",
      "掩码已保存为: E:/Dataset/CBIS-DDSM/New_CBDDSM/roi/calc-training\\Calc-Training_P_01574_RIGHT_CC_1_1-2.png\n",
      "掩码中的唯一值: [  0 255]\n"
     ]
    },
    {
     "name": "stderr",
     "output_type": "stream",
     "text": [
      "转换文件:  80%|███████▉  | 1236/1546 [03:11<00:39,  7.92it/s]"
     ]
    },
    {
     "name": "stdout",
     "output_type": "stream",
     "text": [
      "掩码已保存为: E:/Dataset/CBIS-DDSM/New_CBDDSM/roi/calc-training\\Calc-Training_P_01574_RIGHT_MLO_1_1-2.png\n",
      "掩码中的唯一值: [  0 255]\n",
      "掩码已保存为: E:/Dataset/CBIS-DDSM/New_CBDDSM/roi/calc-training\\Calc-Training_P_01575_RIGHT_MLO_1_1-2.png\n"
     ]
    },
    {
     "name": "stderr",
     "output_type": "stream",
     "text": [
      "转换文件:  80%|████████  | 1238/1546 [03:11<00:50,  6.11it/s]"
     ]
    },
    {
     "name": "stdout",
     "output_type": "stream",
     "text": [
      "掩码中的唯一值: [  0 255]\n",
      "掩码已保存为: E:/Dataset/CBIS-DDSM/New_CBDDSM/roi/calc-training\\Calc-Training_P_01576_RIGHT_CC_1_1-2.png\n",
      "掩码中的唯一值: [  0 255]\n",
      "掩码已保存为: E:/Dataset/CBIS-DDSM/New_CBDDSM/roi/calc-training\\Calc-Training_P_01576_RIGHT_MLO_1_1-2.png\n"
     ]
    },
    {
     "name": "stderr",
     "output_type": "stream",
     "text": [
      "转换文件:  80%|████████  | 1240/1546 [03:11<00:43,  6.97it/s]"
     ]
    },
    {
     "name": "stdout",
     "output_type": "stream",
     "text": [
      "掩码中的唯一值: [  0 255]\n",
      "掩码已保存为: E:/Dataset/CBIS-DDSM/New_CBDDSM/roi/calc-training\\Calc-Training_P_01577_RIGHT_CC_1_1-2.png\n",
      "掩码中的唯一值: [  0 255]\n",
      "掩码已保存为: E:/Dataset/CBIS-DDSM/New_CBDDSM/roi/calc-training\\Calc-Training_P_01577_RIGHT_MLO_1_1-2.png\n"
     ]
    },
    {
     "name": "stderr",
     "output_type": "stream",
     "text": [
      "转换文件:  80%|████████  | 1241/1546 [03:11<00:48,  6.23it/s]"
     ]
    },
    {
     "name": "stdout",
     "output_type": "stream",
     "text": [
      "掩码中的唯一值: [  0 255]\n",
      "掩码已保存为: E:/Dataset/CBIS-DDSM/New_CBDDSM/roi/calc-training\\Calc-Training_P_01579_RIGHT_CC_1_1-2.png\n",
      "掩码中的唯一值: [  0 255]\n"
     ]
    },
    {
     "name": "stderr",
     "output_type": "stream",
     "text": [
      "转换文件:  80%|████████  | 1243/1546 [03:12<00:48,  6.27it/s]"
     ]
    },
    {
     "name": "stdout",
     "output_type": "stream",
     "text": [
      "掩码已保存为: E:/Dataset/CBIS-DDSM/New_CBDDSM/roi/calc-training\\Calc-Training_P_01579_RIGHT_MLO_1_1-2.png\n",
      "掩码中的唯一值: [  0 255]\n",
      "掩码已保存为: E:/Dataset/CBIS-DDSM/New_CBDDSM/roi/calc-training\\Calc-Training_P_01582_LEFT_CC_1_1-2.png\n"
     ]
    },
    {
     "name": "stderr",
     "output_type": "stream",
     "text": [
      "转换文件:  81%|████████  | 1245/1546 [03:12<00:41,  7.27it/s]"
     ]
    },
    {
     "name": "stdout",
     "output_type": "stream",
     "text": [
      "掩码中的唯一值: [  0 255]\n",
      "掩码已保存为: E:/Dataset/CBIS-DDSM/New_CBDDSM/roi/calc-training\\Calc-Training_P_01582_LEFT_MLO_1_1-2.png\n",
      "掩码中的唯一值: [  0 255]\n",
      "掩码已保存为: E:/Dataset/CBIS-DDSM/New_CBDDSM/roi/calc-training\\Calc-Training_P_01582_RIGHT_CC_1_1-2.png\n",
      "掩码中的唯一值: [  0 255]\n"
     ]
    },
    {
     "name": "stderr",
     "output_type": "stream",
     "text": [
      "转换文件:  81%|████████  | 1246/1546 [03:12<00:38,  7.77it/s]"
     ]
    },
    {
     "name": "stdout",
     "output_type": "stream",
     "text": [
      "掩码已保存为: E:/Dataset/CBIS-DDSM/New_CBDDSM/roi/calc-training\\Calc-Training_P_01582_RIGHT_MLO_1_1-2.png\n"
     ]
    },
    {
     "name": "stderr",
     "output_type": "stream",
     "text": [
      "转换文件:  81%|████████  | 1247/1546 [03:12<00:46,  6.38it/s]"
     ]
    },
    {
     "name": "stdout",
     "output_type": "stream",
     "text": [
      "掩码中的唯一值: [  0 255]\n",
      "掩码已保存为: E:/Dataset/CBIS-DDSM/New_CBDDSM/roi/calc-training\\Calc-Training_P_01585_RIGHT_CC_1_1-2.png\n"
     ]
    },
    {
     "name": "stderr",
     "output_type": "stream",
     "text": [
      "转换文件:  81%|████████  | 1249/1546 [03:13<00:49,  5.94it/s]"
     ]
    },
    {
     "name": "stdout",
     "output_type": "stream",
     "text": [
      "掩码中的唯一值: [  0 255]\n",
      "掩码已保存为: E:/Dataset/CBIS-DDSM/New_CBDDSM/roi/calc-training\\Calc-Training_P_01585_RIGHT_MLO_1_1-2.png\n",
      "掩码中的唯一值: [  0 255]\n",
      "掩码已保存为: E:/Dataset/CBIS-DDSM/New_CBDDSM/roi/calc-training\\Calc-Training_P_01596_LEFT_CC_1_1-2.png\n"
     ]
    },
    {
     "name": "stderr",
     "output_type": "stream",
     "text": [
      "转换文件:  81%|████████  | 1251/1546 [03:13<00:42,  6.92it/s]"
     ]
    },
    {
     "name": "stdout",
     "output_type": "stream",
     "text": [
      "掩码中的唯一值: [  0 255]\n",
      "掩码已保存为: E:/Dataset/CBIS-DDSM/New_CBDDSM/roi/calc-training\\Calc-Training_P_01596_LEFT_MLO_1_1-2.png\n",
      "掩码中的唯一值: [  0 255]\n",
      "掩码已保存为: E:/Dataset/CBIS-DDSM/New_CBDDSM/roi/calc-training\\Calc-Training_P_01605_LEFT_CC_1_1-2.png\n"
     ]
    },
    {
     "name": "stderr",
     "output_type": "stream",
     "text": [
      "转换文件:  81%|████████  | 1253/1546 [03:13<00:39,  7.36it/s]"
     ]
    },
    {
     "name": "stdout",
     "output_type": "stream",
     "text": [
      "掩码中的唯一值: [  0 255]\n",
      "掩码已保存为: E:/Dataset/CBIS-DDSM/New_CBDDSM/roi/calc-training\\Calc-Training_P_01605_LEFT_MLO_2_1-2.png\n",
      "掩码中的唯一值: [  0 255]\n",
      "掩码已保存为: E:/Dataset/CBIS-DDSM/New_CBDDSM/roi/calc-training\\Calc-Training_P_01609_LEFT_CC_1_1-2.png\n"
     ]
    },
    {
     "name": "stderr",
     "output_type": "stream",
     "text": [
      "转换文件:  81%|████████  | 1254/1546 [03:13<00:37,  7.81it/s]"
     ]
    },
    {
     "name": "stdout",
     "output_type": "stream",
     "text": [
      "掩码中的唯一值: [  0 255]\n",
      "掩码已保存为: E:/Dataset/CBIS-DDSM/New_CBDDSM/roi/calc-training\\Calc-Training_P_01609_LEFT_MLO_1_1-2.png\n"
     ]
    },
    {
     "name": "stderr",
     "output_type": "stream",
     "text": [
      "转换文件:  81%|████████  | 1256/1546 [03:14<00:44,  6.50it/s]"
     ]
    },
    {
     "name": "stdout",
     "output_type": "stream",
     "text": [
      "掩码中的唯一值: [  0 255]\n",
      "掩码已保存为: E:/Dataset/CBIS-DDSM/New_CBDDSM/roi/calc-training\\Calc-Training_P_01610_RIGHT_MLO_1_1-2.png\n",
      "掩码中的唯一值: [  0 255]\n",
      "掩码已保存为: E:/Dataset/CBIS-DDSM/New_CBDDSM/roi/calc-training\\Calc-Training_P_01616_RIGHT_CC_1_1-2.png\n"
     ]
    },
    {
     "name": "stderr",
     "output_type": "stream",
     "text": [
      "转换文件:  81%|████████▏ | 1258/1546 [03:14<00:48,  5.94it/s]"
     ]
    },
    {
     "name": "stdout",
     "output_type": "stream",
     "text": [
      "掩码中的唯一值: [  0 255]\n",
      "掩码已保存为: E:/Dataset/CBIS-DDSM/New_CBDDSM/roi/calc-training\\Calc-Training_P_01616_RIGHT_MLO_1_1-2.png\n",
      "掩码中的唯一值: [  0 255]\n",
      "掩码已保存为: E:/Dataset/CBIS-DDSM/New_CBDDSM/roi/calc-training\\Calc-Training_P_01625_RIGHT_CC_1_1-2.png\n"
     ]
    },
    {
     "name": "stderr",
     "output_type": "stream",
     "text": [
      "转换文件:  82%|████████▏ | 1260/1546 [03:14<00:45,  6.30it/s]"
     ]
    },
    {
     "name": "stdout",
     "output_type": "stream",
     "text": [
      "掩码中的唯一值: [  0 255]\n",
      "掩码已保存为: E:/Dataset/CBIS-DDSM/New_CBDDSM/roi/calc-training\\Calc-Training_P_01625_RIGHT_MLO_1_1-2.png\n",
      "掩码中的唯一值: [  0 255]\n",
      "掩码已保存为: E:/Dataset/CBIS-DDSM/New_CBDDSM/roi/calc-training\\Calc-Training_P_01626_LEFT_CC_1_1-2.png\n"
     ]
    },
    {
     "name": "stderr",
     "output_type": "stream",
     "text": [
      "转换文件:  82%|████████▏ | 1261/1546 [03:14<00:41,  6.93it/s]"
     ]
    },
    {
     "name": "stdout",
     "output_type": "stream",
     "text": [
      "掩码中的唯一值: [  0 255]\n",
      "掩码已保存为: E:/Dataset/CBIS-DDSM/New_CBDDSM/roi/calc-training\\Calc-Training_P_01626_LEFT_MLO_1_1-2.png\n"
     ]
    },
    {
     "name": "stderr",
     "output_type": "stream",
     "text": [
      "转换文件:  82%|████████▏ | 1262/1546 [03:15<00:47,  5.92it/s]"
     ]
    },
    {
     "name": "stdout",
     "output_type": "stream",
     "text": [
      "掩码中的唯一值: [  0 255]\n",
      "掩码已保存为: E:/Dataset/CBIS-DDSM/New_CBDDSM/roi/calc-training\\Calc-Training_P_01628_LEFT_CC_1_1-2.png\n"
     ]
    },
    {
     "name": "stderr",
     "output_type": "stream",
     "text": [
      "转换文件:  82%|████████▏ | 1263/1546 [03:15<00:54,  5.19it/s]"
     ]
    },
    {
     "name": "stdout",
     "output_type": "stream",
     "text": [
      "掩码中的唯一值: [  0 255]\n",
      "掩码已保存为: E:/Dataset/CBIS-DDSM/New_CBDDSM/roi/calc-training\\Calc-Training_P_01628_LEFT_CC_2_1-2.png\n",
      "掩码中的唯一值: [  0 255]\n"
     ]
    },
    {
     "name": "stderr",
     "output_type": "stream",
     "text": [
      "转换文件:  82%|████████▏ | 1264/1546 [03:15<00:56,  5.02it/s]"
     ]
    },
    {
     "name": "stdout",
     "output_type": "stream",
     "text": [
      "掩码已保存为: E:/Dataset/CBIS-DDSM/New_CBDDSM/roi/calc-training\\Calc-Training_P_01628_LEFT_CC_3_1-2.png\n"
     ]
    },
    {
     "name": "stderr",
     "output_type": "stream",
     "text": [
      "转换文件:  82%|████████▏ | 1265/1546 [03:15<00:57,  4.85it/s]"
     ]
    },
    {
     "name": "stdout",
     "output_type": "stream",
     "text": [
      "掩码中的唯一值: [  0 255]\n",
      "掩码已保存为: E:/Dataset/CBIS-DDSM/New_CBDDSM/roi/calc-training\\Calc-Training_P_01628_LEFT_MLO_1_1-2.png\n"
     ]
    },
    {
     "name": "stderr",
     "output_type": "stream",
     "text": [
      "转换文件:  82%|████████▏ | 1266/1546 [03:16<00:59,  4.71it/s]"
     ]
    },
    {
     "name": "stdout",
     "output_type": "stream",
     "text": [
      "掩码中的唯一值: [  0 255]\n",
      "掩码已保存为: E:/Dataset/CBIS-DDSM/New_CBDDSM/roi/calc-training\\Calc-Training_P_01628_LEFT_MLO_2_1-2.png\n"
     ]
    },
    {
     "name": "stderr",
     "output_type": "stream",
     "text": [
      "转换文件:  82%|████████▏ | 1267/1546 [03:16<01:00,  4.63it/s]"
     ]
    },
    {
     "name": "stdout",
     "output_type": "stream",
     "text": [
      "掩码中的唯一值: [  0 255]\n",
      "掩码已保存为: E:/Dataset/CBIS-DDSM/New_CBDDSM/roi/calc-training\\Calc-Training_P_01628_LEFT_MLO_3_1-2.png\n"
     ]
    },
    {
     "name": "stderr",
     "output_type": "stream",
     "text": [
      "转换文件:  82%|████████▏ | 1268/1546 [03:16<01:00,  4.58it/s]"
     ]
    },
    {
     "name": "stdout",
     "output_type": "stream",
     "text": [
      "掩码中的唯一值: [  0 255]\n",
      "掩码已保存为: E:/Dataset/CBIS-DDSM/New_CBDDSM/roi/calc-training\\Calc-Training_P_01628_RIGHT_CC_1_1-2.png\n"
     ]
    },
    {
     "name": "stderr",
     "output_type": "stream",
     "text": [
      "转换文件:  82%|████████▏ | 1269/1546 [03:16<01:01,  4.47it/s]"
     ]
    },
    {
     "name": "stdout",
     "output_type": "stream",
     "text": [
      "掩码中的唯一值: [  0 255]\n",
      "掩码已保存为: E:/Dataset/CBIS-DDSM/New_CBDDSM/roi/calc-training\\Calc-Training_P_01628_RIGHT_CC_2_1-2.png\n"
     ]
    },
    {
     "name": "stderr",
     "output_type": "stream",
     "text": [
      "转换文件:  82%|████████▏ | 1270/1546 [03:16<01:01,  4.48it/s]"
     ]
    },
    {
     "name": "stdout",
     "output_type": "stream",
     "text": [
      "掩码中的唯一值: [  0 255]\n",
      "掩码已保存为: E:/Dataset/CBIS-DDSM/New_CBDDSM/roi/calc-training\\Calc-Training_P_01628_RIGHT_MLO_1_1-2.png\n"
     ]
    },
    {
     "name": "stderr",
     "output_type": "stream",
     "text": [
      "转换文件:  82%|████████▏ | 1272/1546 [03:17<00:50,  5.37it/s]"
     ]
    },
    {
     "name": "stdout",
     "output_type": "stream",
     "text": [
      "掩码中的唯一值: [  0 255]\n",
      "掩码已保存为: E:/Dataset/CBIS-DDSM/New_CBDDSM/roi/calc-training\\Calc-Training_P_01628_RIGHT_MLO_2_1-2.png\n",
      "掩码中的唯一值: [  0 255]\n",
      "掩码已保存为: E:/Dataset/CBIS-DDSM/New_CBDDSM/roi/calc-training\\Calc-Training_P_01629_LEFT_CC_1_1-2.png\n"
     ]
    },
    {
     "name": "stderr",
     "output_type": "stream",
     "text": [
      "转换文件:  82%|████████▏ | 1274/1546 [03:17<00:39,  6.80it/s]"
     ]
    },
    {
     "name": "stdout",
     "output_type": "stream",
     "text": [
      "掩码中的唯一值: [  0 255]\n",
      "掩码已保存为: E:/Dataset/CBIS-DDSM/New_CBDDSM/roi/calc-training\\Calc-Training_P_01629_LEFT_MLO_1_1-2.png\n",
      "掩码中的唯一值: [  0 255]\n",
      "掩码已保存为: E:/Dataset/CBIS-DDSM/New_CBDDSM/roi/calc-training\\Calc-Training_P_01639_RIGHT_CC_1_1-2.png\n"
     ]
    },
    {
     "name": "stderr",
     "output_type": "stream",
     "text": [
      "转换文件:  83%|████████▎ | 1277/1546 [03:17<00:31,  8.51it/s]"
     ]
    },
    {
     "name": "stdout",
     "output_type": "stream",
     "text": [
      "掩码中的唯一值: [  0 255]\n",
      "掩码已保存为: E:/Dataset/CBIS-DDSM/New_CBDDSM/roi/calc-training\\Calc-Training_P_01639_RIGHT_MLO_1_1-2.png\n",
      "掩码中的唯一值: [  0 255]\n",
      "掩码已保存为: E:/Dataset/CBIS-DDSM/New_CBDDSM/roi/calc-training\\Calc-Training_P_01647_RIGHT_CC_1_1-2.png\n",
      "掩码中的唯一值: [  0 255]\n",
      "掩码已保存为: E:/Dataset/CBIS-DDSM/New_CBDDSM/roi/calc-training\\Calc-Training_P_01647_RIGHT_MLO_1_1-2.png\n"
     ]
    },
    {
     "name": "stderr",
     "output_type": "stream",
     "text": [
      "转换文件:  83%|████████▎ | 1279/1546 [03:18<00:35,  7.46it/s]"
     ]
    },
    {
     "name": "stdout",
     "output_type": "stream",
     "text": [
      "掩码中的唯一值: [  0 255]\n",
      "掩码已保存为: E:/Dataset/CBIS-DDSM/New_CBDDSM/roi/calc-training\\Calc-Training_P_01655_RIGHT_CC_1_1-2.png\n",
      "掩码中的唯一值: [  0 255]\n",
      "掩码已保存为: E:/Dataset/CBIS-DDSM/New_CBDDSM/roi/calc-training\\Calc-Training_P_01655_RIGHT_MLO_1_1-2.png\n"
     ]
    },
    {
     "name": "stderr",
     "output_type": "stream",
     "text": [
      "转换文件:  83%|████████▎ | 1281/1546 [03:18<00:35,  7.50it/s]"
     ]
    },
    {
     "name": "stdout",
     "output_type": "stream",
     "text": [
      "掩码中的唯一值: [  0 255]\n",
      "掩码已保存为: E:/Dataset/CBIS-DDSM/New_CBDDSM/roi/calc-training\\Calc-Training_P_01659_LEFT_CC_1_1-2.png\n",
      "掩码中的唯一值: [  0 255]\n",
      "掩码已保存为: E:/Dataset/CBIS-DDSM/New_CBDDSM/roi/calc-training\\Calc-Training_P_01659_LEFT_MLO_1_1-2.png\n"
     ]
    },
    {
     "name": "stderr",
     "output_type": "stream",
     "text": [
      "转换文件:  83%|████████▎ | 1283/1546 [03:18<00:37,  7.10it/s]"
     ]
    },
    {
     "name": "stdout",
     "output_type": "stream",
     "text": [
      "掩码中的唯一值: [  0 255]\n",
      "掩码已保存为: E:/Dataset/CBIS-DDSM/New_CBDDSM/roi/calc-training\\Calc-Training_P_01660_RIGHT_CC_1_1-2.png\n",
      "掩码中的唯一值: [  0 255]\n",
      "掩码已保存为: E:/Dataset/CBIS-DDSM/New_CBDDSM/roi/calc-training\\Calc-Training_P_01660_RIGHT_MLO_1_1-2.png\n"
     ]
    },
    {
     "name": "stderr",
     "output_type": "stream",
     "text": [
      "转换文件:  83%|████████▎ | 1285/1546 [03:18<00:35,  7.31it/s]"
     ]
    },
    {
     "name": "stdout",
     "output_type": "stream",
     "text": [
      "掩码中的唯一值: [  0 255]\n",
      "掩码已保存为: E:/Dataset/CBIS-DDSM/New_CBDDSM/roi/calc-training\\Calc-Training_P_01664_LEFT_CC_1_1-2.png\n",
      "掩码中的唯一值: [  0 255]\n",
      "掩码已保存为: E:/Dataset/CBIS-DDSM/New_CBDDSM/roi/calc-training\\Calc-Training_P_01664_LEFT_MLO_1_1-2.png\n"
     ]
    },
    {
     "name": "stderr",
     "output_type": "stream",
     "text": [
      "转换文件:  83%|████████▎ | 1287/1546 [03:19<00:34,  7.52it/s]"
     ]
    },
    {
     "name": "stdout",
     "output_type": "stream",
     "text": [
      "掩码中的唯一值: [  0 255]\n",
      "掩码已保存为: E:/Dataset/CBIS-DDSM/New_CBDDSM/roi/calc-training\\Calc-Training_P_01664_RIGHT_CC_1_1-2.png\n",
      "掩码中的唯一值: [  0 255]\n",
      "掩码已保存为: E:/Dataset/CBIS-DDSM/New_CBDDSM/roi/calc-training\\Calc-Training_P_01664_RIGHT_CC_2_1-2.png\n"
     ]
    },
    {
     "name": "stderr",
     "output_type": "stream",
     "text": [
      "转换文件:  83%|████████▎ | 1289/1546 [03:19<00:33,  7.64it/s]"
     ]
    },
    {
     "name": "stdout",
     "output_type": "stream",
     "text": [
      "掩码中的唯一值: [  0 255]\n",
      "掩码已保存为: E:/Dataset/CBIS-DDSM/New_CBDDSM/roi/calc-training\\Calc-Training_P_01664_RIGHT_MLO_1_1-2.png\n",
      "掩码中的唯一值: [  0 255]\n",
      "掩码已保存为: E:/Dataset/CBIS-DDSM/New_CBDDSM/roi/calc-training\\Calc-Training_P_01664_RIGHT_MLO_2_1-2.png\n"
     ]
    },
    {
     "name": "stderr",
     "output_type": "stream",
     "text": [
      "转换文件:  83%|████████▎ | 1290/1546 [03:19<00:34,  7.45it/s]"
     ]
    },
    {
     "name": "stdout",
     "output_type": "stream",
     "text": [
      "掩码中的唯一值: [  0 255]\n",
      "掩码已保存为: E:/Dataset/CBIS-DDSM/New_CBDDSM/roi/calc-training\\Calc-Training_P_01676_RIGHT_MLO_1_1-2.png\n"
     ]
    },
    {
     "name": "stderr",
     "output_type": "stream",
     "text": [
      "转换文件:  84%|████████▎ | 1291/1546 [03:19<00:42,  6.02it/s]"
     ]
    },
    {
     "name": "stdout",
     "output_type": "stream",
     "text": [
      "掩码中的唯一值: [  0 255]\n",
      "掩码已保存为: E:/Dataset/CBIS-DDSM/New_CBDDSM/roi/calc-training\\Calc-Training_P_01678_RIGHT_CC_1_1-2.png\n",
      "掩码中的唯一值: [  0 255]\n"
     ]
    },
    {
     "name": "stderr",
     "output_type": "stream",
     "text": [
      "转换文件:  84%|████████▎ | 1293/1546 [03:20<00:41,  6.09it/s]"
     ]
    },
    {
     "name": "stdout",
     "output_type": "stream",
     "text": [
      "掩码已保存为: E:/Dataset/CBIS-DDSM/New_CBDDSM/roi/calc-training\\Calc-Training_P_01678_RIGHT_MLO_1_1-2.png\n",
      "掩码中的唯一值: [  0 255]\n",
      "掩码已保存为: E:/Dataset/CBIS-DDSM/New_CBDDSM/roi/calc-training\\Calc-Training_P_01679_RIGHT_CC_1_1-2.png\n"
     ]
    },
    {
     "name": "stderr",
     "output_type": "stream",
     "text": [
      "转换文件:  84%|████████▍ | 1295/1546 [03:20<00:38,  6.57it/s]"
     ]
    },
    {
     "name": "stdout",
     "output_type": "stream",
     "text": [
      "掩码中的唯一值: [  0 255]\n",
      "掩码已保存为: E:/Dataset/CBIS-DDSM/New_CBDDSM/roi/calc-training\\Calc-Training_P_01679_RIGHT_MLO_1_1-2.png\n",
      "掩码中的唯一值: [  0 255]\n",
      "掩码已保存为: E:/Dataset/CBIS-DDSM/New_CBDDSM/roi/calc-training\\Calc-Training_P_01683_LEFT_CC_1_1-2.png\n"
     ]
    },
    {
     "name": "stderr",
     "output_type": "stream",
     "text": [
      "转换文件:  84%|████████▍ | 1297/1546 [03:20<00:40,  6.17it/s]"
     ]
    },
    {
     "name": "stdout",
     "output_type": "stream",
     "text": [
      "掩码中的唯一值: [  0 255]\n",
      "掩码已保存为: E:/Dataset/CBIS-DDSM/New_CBDDSM/roi/calc-training\\Calc-Training_P_01688_RIGHT_MLO_1_1-2.png\n",
      "掩码中的唯一值: [  0 255]\n",
      "掩码已保存为: E:/Dataset/CBIS-DDSM/New_CBDDSM/roi/calc-training\\Calc-Training_P_01691_RIGHT_CC_1_1-2.png\n"
     ]
    },
    {
     "name": "stderr",
     "output_type": "stream",
     "text": [
      "转换文件:  84%|████████▍ | 1299/1546 [03:21<00:36,  6.82it/s]"
     ]
    },
    {
     "name": "stdout",
     "output_type": "stream",
     "text": [
      "掩码中的唯一值: [  0 255]\n",
      "掩码已保存为: E:/Dataset/CBIS-DDSM/New_CBDDSM/roi/calc-training\\Calc-Training_P_01691_RIGHT_CC_2_1-2.png\n",
      "掩码中的唯一值: [  0 255]\n",
      "掩码已保存为: E:/Dataset/CBIS-DDSM/New_CBDDSM/roi/calc-training\\Calc-Training_P_01691_RIGHT_CC_3_1-2.png\n"
     ]
    },
    {
     "name": "stderr",
     "output_type": "stream",
     "text": [
      "转换文件:  84%|████████▍ | 1301/1546 [03:21<00:35,  6.97it/s]"
     ]
    },
    {
     "name": "stdout",
     "output_type": "stream",
     "text": [
      "掩码中的唯一值: [  0 255]\n",
      "掩码已保存为: E:/Dataset/CBIS-DDSM/New_CBDDSM/roi/calc-training\\Calc-Training_P_01691_RIGHT_MLO_1_1-2.png\n",
      "掩码中的唯一值: [  0 255]\n",
      "掩码已保存为: E:/Dataset/CBIS-DDSM/New_CBDDSM/roi/calc-training\\Calc-Training_P_01691_RIGHT_MLO_2_1-2.png\n"
     ]
    },
    {
     "name": "stderr",
     "output_type": "stream",
     "text": [
      "转换文件:  84%|████████▍ | 1302/1546 [03:21<00:33,  7.25it/s]"
     ]
    },
    {
     "name": "stdout",
     "output_type": "stream",
     "text": [
      "掩码中的唯一值: [  0 255]\n",
      "掩码已保存为: E:/Dataset/CBIS-DDSM/New_CBDDSM/roi/calc-training\\Calc-Training_P_01691_RIGHT_MLO_3_1-2.png\n"
     ]
    },
    {
     "name": "stderr",
     "output_type": "stream",
     "text": [
      "转换文件:  84%|████████▍ | 1303/1546 [03:21<00:40,  6.07it/s]"
     ]
    },
    {
     "name": "stdout",
     "output_type": "stream",
     "text": [
      "掩码中的唯一值: [  0 255]\n",
      "掩码已保存为: E:/Dataset/CBIS-DDSM/New_CBDDSM/roi/calc-training\\Calc-Training_P_01700_LEFT_CC_1_1-2.png\n",
      "掩码中的唯一值: [  0 255]\n"
     ]
    },
    {
     "name": "stderr",
     "output_type": "stream",
     "text": [
      "转换文件:  84%|████████▍ | 1304/1546 [03:21<00:42,  5.67it/s]"
     ]
    },
    {
     "name": "stdout",
     "output_type": "stream",
     "text": [
      "掩码已保存为: E:/Dataset/CBIS-DDSM/New_CBDDSM/roi/calc-training\\Calc-Training_P_01700_LEFT_MLO_1_1-2.png\n"
     ]
    },
    {
     "name": "stderr",
     "output_type": "stream",
     "text": [
      "转换文件:  84%|████████▍ | 1305/1546 [03:22<00:46,  5.23it/s]"
     ]
    },
    {
     "name": "stdout",
     "output_type": "stream",
     "text": [
      "掩码中的唯一值: [  0 255]\n",
      "掩码已保存为: E:/Dataset/CBIS-DDSM/New_CBDDSM/roi/calc-training\\Calc-Training_P_01700_RIGHT_CC_1_1-2.png\n"
     ]
    },
    {
     "name": "stderr",
     "output_type": "stream",
     "text": [
      "转换文件:  84%|████████▍ | 1306/1546 [03:22<00:48,  4.99it/s]"
     ]
    },
    {
     "name": "stdout",
     "output_type": "stream",
     "text": [
      "掩码中的唯一值: [  0 255]\n",
      "掩码已保存为: E:/Dataset/CBIS-DDSM/New_CBDDSM/roi/calc-training\\Calc-Training_P_01700_RIGHT_MLO_1_1-2.png\n",
      "掩码中的唯一值: [  0 255]\n",
      "掩码已保存为: E:/Dataset/CBIS-DDSM/New_CBDDSM/roi/calc-training\\Calc-Training_P_01703_RIGHT_MLO_1_1-2.png\n"
     ]
    },
    {
     "name": "stderr",
     "output_type": "stream",
     "text": [
      "转换文件:  85%|████████▍ | 1309/1546 [03:22<00:38,  6.12it/s]"
     ]
    },
    {
     "name": "stdout",
     "output_type": "stream",
     "text": [
      "掩码中的唯一值: [  0 255]\n",
      "掩码已保存为: E:/Dataset/CBIS-DDSM/New_CBDDSM/roi/calc-training\\Calc-Training_P_01705_LEFT_CC_1_1-2.png\n",
      "掩码中的唯一值: [  0 255]\n",
      "掩码已保存为: E:/Dataset/CBIS-DDSM/New_CBDDSM/roi/calc-training\\Calc-Training_P_01705_LEFT_MLO_1_1-2.png\n"
     ]
    },
    {
     "name": "stderr",
     "output_type": "stream",
     "text": [
      "转换文件:  85%|████████▍ | 1310/1546 [03:22<00:42,  5.60it/s]"
     ]
    },
    {
     "name": "stdout",
     "output_type": "stream",
     "text": [
      "掩码中的唯一值: [  0 255]\n",
      "掩码已保存为: E:/Dataset/CBIS-DDSM/New_CBDDSM/roi/calc-training\\Calc-Training_P_01709_RIGHT_CC_1_1-2.png\n"
     ]
    },
    {
     "name": "stderr",
     "output_type": "stream",
     "text": [
      "转换文件:  85%|████████▍ | 1312/1546 [03:23<00:39,  5.93it/s]"
     ]
    },
    {
     "name": "stdout",
     "output_type": "stream",
     "text": [
      "掩码中的唯一值: [  0 255]\n",
      "掩码已保存为: E:/Dataset/CBIS-DDSM/New_CBDDSM/roi/calc-training\\Calc-Training_P_01709_RIGHT_MLO_1_1-2.png\n",
      "掩码中的唯一值: [  0 255]\n",
      "掩码已保存为: E:/Dataset/CBIS-DDSM/New_CBDDSM/roi/calc-training\\Calc-Training_P_01718_RIGHT_MLO_1_1-2.png\n"
     ]
    },
    {
     "name": "stderr",
     "output_type": "stream",
     "text": [
      "转换文件:  85%|████████▍ | 1314/1546 [03:23<00:36,  6.32it/s]"
     ]
    },
    {
     "name": "stdout",
     "output_type": "stream",
     "text": [
      "掩码中的唯一值: [  0 255]\n",
      "掩码已保存为: E:/Dataset/CBIS-DDSM/New_CBDDSM/roi/calc-training\\Calc-Training_P_01721_RIGHT_CC_1_1-2.png\n",
      "掩码中的唯一值: [  0 255]\n",
      "掩码已保存为: E:/Dataset/CBIS-DDSM/New_CBDDSM/roi/calc-training\\Calc-Training_P_01723_RIGHT_CC_1_1-2.png\n"
     ]
    },
    {
     "name": "stderr",
     "output_type": "stream",
     "text": [
      "转换文件:  85%|████████▌ | 1316/1546 [03:23<00:33,  6.85it/s]"
     ]
    },
    {
     "name": "stdout",
     "output_type": "stream",
     "text": [
      "掩码中的唯一值: [  0 255]\n",
      "掩码已保存为: E:/Dataset/CBIS-DDSM/New_CBDDSM/roi/calc-training\\Calc-Training_P_01723_RIGHT_MLO_1_1-2.png\n",
      "掩码中的唯一值: [  0 255]\n",
      "掩码已保存为: E:/Dataset/CBIS-DDSM/New_CBDDSM/roi/calc-training\\Calc-Training_P_01724_LEFT_CC_1_1-2.png\n"
     ]
    },
    {
     "name": "stderr",
     "output_type": "stream",
     "text": [
      "转换文件:  85%|████████▌ | 1318/1546 [03:24<00:31,  7.21it/s]"
     ]
    },
    {
     "name": "stdout",
     "output_type": "stream",
     "text": [
      "掩码中的唯一值: [  0 255]\n",
      "掩码已保存为: E:/Dataset/CBIS-DDSM/New_CBDDSM/roi/calc-training\\Calc-Training_P_01724_LEFT_MLO_1_1-2.png\n",
      "掩码中的唯一值: [  0 255]\n",
      "掩码已保存为: E:/Dataset/CBIS-DDSM/New_CBDDSM/roi/calc-training\\Calc-Training_P_01725_RIGHT_CC_2_1-2.png\n"
     ]
    },
    {
     "name": "stderr",
     "output_type": "stream",
     "text": [
      "转换文件:  85%|████████▌ | 1319/1546 [03:24<00:30,  7.48it/s]"
     ]
    },
    {
     "name": "stdout",
     "output_type": "stream",
     "text": [
      "掩码中的唯一值: [  0 255]\n",
      "掩码已保存为: E:/Dataset/CBIS-DDSM/New_CBDDSM/roi/calc-training\\Calc-Training_P_01725_RIGHT_MLO_2_1-2.png\n",
      "掩码中的唯一值: [  0 255]\n"
     ]
    },
    {
     "name": "stderr",
     "output_type": "stream",
     "text": [
      "转换文件:  85%|████████▌ | 1321/1546 [03:24<00:35,  6.29it/s]"
     ]
    },
    {
     "name": "stdout",
     "output_type": "stream",
     "text": [
      "掩码已保存为: E:/Dataset/CBIS-DDSM/New_CBDDSM/roi/calc-training\\Calc-Training_P_01729_LEFT_CC_1_1-2.png\n",
      "掩码中的唯一值: [  0 255]\n",
      "掩码已保存为: E:/Dataset/CBIS-DDSM/New_CBDDSM/roi/calc-training\\Calc-Training_P_01729_LEFT_MLO_1_1-2.png\n"
     ]
    },
    {
     "name": "stderr",
     "output_type": "stream",
     "text": [
      "转换文件:  86%|████████▌ | 1322/1546 [03:24<00:37,  5.91it/s]"
     ]
    },
    {
     "name": "stdout",
     "output_type": "stream",
     "text": [
      "掩码中的唯一值: [  0 255]\n",
      "掩码已保存为: E:/Dataset/CBIS-DDSM/New_CBDDSM/roi/calc-training\\Calc-Training_P_01730_LEFT_CC_1_1-2.png\n"
     ]
    },
    {
     "name": "stderr",
     "output_type": "stream",
     "text": [
      "转换文件:  86%|████████▌ | 1324/1546 [03:25<00:38,  5.81it/s]"
     ]
    },
    {
     "name": "stdout",
     "output_type": "stream",
     "text": [
      "掩码中的唯一值: [  0 255]\n",
      "掩码已保存为: E:/Dataset/CBIS-DDSM/New_CBDDSM/roi/calc-training\\Calc-Training_P_01730_LEFT_MLO_1_1-2.png\n",
      "掩码中的唯一值: [  0 255]\n",
      "掩码已保存为: E:/Dataset/CBIS-DDSM/New_CBDDSM/roi/calc-training\\Calc-Training_P_01732_LEFT_CC_1_1-2.png\n"
     ]
    },
    {
     "name": "stderr",
     "output_type": "stream",
     "text": [
      "转换文件:  86%|████████▌ | 1326/1546 [03:25<00:33,  6.55it/s]"
     ]
    },
    {
     "name": "stdout",
     "output_type": "stream",
     "text": [
      "掩码中的唯一值: [  0 255]\n",
      "掩码已保存为: E:/Dataset/CBIS-DDSM/New_CBDDSM/roi/calc-training\\Calc-Training_P_01732_LEFT_MLO_1_1-2.png\n",
      "掩码中的唯一值: [  0 255]\n",
      "掩码已保存为: E:/Dataset/CBIS-DDSM/New_CBDDSM/roi/calc-training\\Calc-Training_P_01736_LEFT_CC_1_1-2.png\n"
     ]
    },
    {
     "name": "stderr",
     "output_type": "stream",
     "text": [
      "转换文件:  86%|████████▌ | 1328/1546 [03:25<00:34,  6.25it/s]"
     ]
    },
    {
     "name": "stdout",
     "output_type": "stream",
     "text": [
      "掩码中的唯一值: [  0 255]\n",
      "掩码已保存为: E:/Dataset/CBIS-DDSM/New_CBDDSM/roi/calc-training\\Calc-Training_P_01736_LEFT_MLO_1_1-2.png\n",
      "掩码中的唯一值: [  0 255]\n",
      "掩码已保存为: E:/Dataset/CBIS-DDSM/New_CBDDSM/roi/calc-training\\Calc-Training_P_01736_RIGHT_CC_1_1-2.png\n"
     ]
    },
    {
     "name": "stderr",
     "output_type": "stream",
     "text": [
      "转换文件:  86%|████████▌ | 1329/1546 [03:25<00:34,  6.25it/s]"
     ]
    },
    {
     "name": "stdout",
     "output_type": "stream",
     "text": [
      "掩码中的唯一值: [  0 255]\n",
      "掩码已保存为: E:/Dataset/CBIS-DDSM/New_CBDDSM/roi/calc-training\\Calc-Training_P_01736_RIGHT_MLO_1_1-2.png\n"
     ]
    },
    {
     "name": "stderr",
     "output_type": "stream",
     "text": [
      "转换文件:  86%|████████▌ | 1330/1546 [03:26<00:37,  5.76it/s]"
     ]
    },
    {
     "name": "stdout",
     "output_type": "stream",
     "text": [
      "掩码中的唯一值: [  0 255]\n",
      "掩码已保存为: E:/Dataset/CBIS-DDSM/New_CBDDSM/roi/calc-training\\Calc-Training_P_01740_LEFT_CC_1_1-2.png\n"
     ]
    },
    {
     "name": "stderr",
     "output_type": "stream",
     "text": [
      "转换文件:  86%|████████▌ | 1331/1546 [03:26<00:39,  5.42it/s]"
     ]
    },
    {
     "name": "stdout",
     "output_type": "stream",
     "text": [
      "掩码中的唯一值: [  0 255]\n",
      "掩码已保存为: E:/Dataset/CBIS-DDSM/New_CBDDSM/roi/calc-training\\Calc-Training_P_01740_LEFT_MLO_1_1-2.png\n",
      "掩码中的唯一值: [  0 255]\n"
     ]
    },
    {
     "name": "stderr",
     "output_type": "stream",
     "text": [
      "转换文件:  86%|████████▌ | 1332/1546 [03:26<00:41,  5.11it/s]"
     ]
    },
    {
     "name": "stdout",
     "output_type": "stream",
     "text": [
      "掩码已保存为: E:/Dataset/CBIS-DDSM/New_CBDDSM/roi/calc-training\\Calc-Training_P_01740_RIGHT_CC_1_1-2.png\n"
     ]
    },
    {
     "name": "stderr",
     "output_type": "stream",
     "text": [
      "转换文件:  86%|████████▌ | 1333/1546 [03:26<00:44,  4.76it/s]"
     ]
    },
    {
     "name": "stdout",
     "output_type": "stream",
     "text": [
      "掩码中的唯一值: [  0 255]\n",
      "掩码已保存为: E:/Dataset/CBIS-DDSM/New_CBDDSM/roi/calc-training\\Calc-Training_P_01740_RIGHT_CC_2_1-2.png\n"
     ]
    },
    {
     "name": "stderr",
     "output_type": "stream",
     "text": [
      "转换文件:  86%|████████▋ | 1334/1546 [03:27<00:45,  4.64it/s]"
     ]
    },
    {
     "name": "stdout",
     "output_type": "stream",
     "text": [
      "掩码中的唯一值: [  0 255]\n",
      "掩码已保存为: E:/Dataset/CBIS-DDSM/New_CBDDSM/roi/calc-training\\Calc-Training_P_01740_RIGHT_MLO_1_1-2.png\n"
     ]
    },
    {
     "name": "stderr",
     "output_type": "stream",
     "text": [
      "转换文件:  86%|████████▋ | 1336/1546 [03:27<00:43,  4.82it/s]"
     ]
    },
    {
     "name": "stdout",
     "output_type": "stream",
     "text": [
      "掩码中的唯一值: [  0 255]\n",
      "掩码已保存为: E:/Dataset/CBIS-DDSM/New_CBDDSM/roi/calc-training\\Calc-Training_P_01740_RIGHT_MLO_2_1-2.png\n",
      "掩码中的唯一值: [  0 255]\n",
      "掩码已保存为: E:/Dataset/CBIS-DDSM/New_CBDDSM/roi/calc-training\\Calc-Training_P_01741_RIGHT_CC_1_1-2.png\n"
     ]
    },
    {
     "name": "stderr",
     "output_type": "stream",
     "text": [
      "转换文件:  87%|████████▋ | 1338/1546 [03:27<00:40,  5.17it/s]"
     ]
    },
    {
     "name": "stdout",
     "output_type": "stream",
     "text": [
      "掩码中的唯一值: [  0 255]\n",
      "掩码已保存为: E:/Dataset/CBIS-DDSM/New_CBDDSM/roi/calc-training\\Calc-Training_P_01741_RIGHT_MLO_1_1-2.png\n",
      "掩码中的唯一值: [  0 255]\n",
      "掩码已保存为: E:/Dataset/CBIS-DDSM/New_CBDDSM/roi/calc-training\\Calc-Training_P_01748_RIGHT_CC_1_1-2.png\n"
     ]
    },
    {
     "name": "stderr",
     "output_type": "stream",
     "text": [
      "转换文件:  87%|████████▋ | 1340/1546 [03:28<00:37,  5.55it/s]"
     ]
    },
    {
     "name": "stdout",
     "output_type": "stream",
     "text": [
      "掩码中的唯一值: [  0 255]\n",
      "掩码已保存为: E:/Dataset/CBIS-DDSM/New_CBDDSM/roi/calc-training\\Calc-Training_P_01748_RIGHT_MLO_1_1-2.png\n",
      "掩码中的唯一值: [  0 255]\n",
      "掩码已保存为: E:/Dataset/CBIS-DDSM/New_CBDDSM/roi/calc-training\\Calc-Training_P_01750_LEFT_CC_1_1-2.png\n"
     ]
    },
    {
     "name": "stderr",
     "output_type": "stream",
     "text": [
      "转换文件:  87%|████████▋ | 1341/1546 [03:28<00:34,  5.95it/s]"
     ]
    },
    {
     "name": "stdout",
     "output_type": "stream",
     "text": [
      "掩码中的唯一值: [  0 255]\n",
      "掩码已保存为: E:/Dataset/CBIS-DDSM/New_CBDDSM/roi/calc-training\\Calc-Training_P_01750_LEFT_MLO_1_1-2.png\n"
     ]
    },
    {
     "name": "stderr",
     "output_type": "stream",
     "text": [
      "转换文件:  87%|████████▋ | 1342/1546 [03:28<00:40,  5.07it/s]"
     ]
    },
    {
     "name": "stdout",
     "output_type": "stream",
     "text": [
      "掩码中的唯一值: [  0 255]\n",
      "掩码已保存为: E:/Dataset/CBIS-DDSM/New_CBDDSM/roi/calc-training\\Calc-Training_P_01756_LEFT_CC_1_1-2.png\n"
     ]
    },
    {
     "name": "stderr",
     "output_type": "stream",
     "text": [
      "转换文件:  87%|████████▋ | 1344/1546 [03:28<00:38,  5.31it/s]"
     ]
    },
    {
     "name": "stdout",
     "output_type": "stream",
     "text": [
      "掩码中的唯一值: [  0 255]\n",
      "掩码已保存为: E:/Dataset/CBIS-DDSM/New_CBDDSM/roi/calc-training\\Calc-Training_P_01756_LEFT_MLO_1_1-2.png\n",
      "掩码中的唯一值: [  0 255]\n",
      "掩码已保存为: E:/Dataset/CBIS-DDSM/New_CBDDSM/roi/calc-training\\Calc-Training_P_01759_RIGHT_CC_1_1-2.png\n"
     ]
    },
    {
     "name": "stderr",
     "output_type": "stream",
     "text": [
      "转换文件:  87%|████████▋ | 1346/1546 [03:29<00:31,  6.33it/s]"
     ]
    },
    {
     "name": "stdout",
     "output_type": "stream",
     "text": [
      "掩码中的唯一值: [  0 255]\n",
      "掩码已保存为: E:/Dataset/CBIS-DDSM/New_CBDDSM/roi/calc-training\\Calc-Training_P_01759_RIGHT_MLO_1_1-2.png\n",
      "掩码中的唯一值: [  0 255]\n",
      "掩码已保存为: E:/Dataset/CBIS-DDSM/New_CBDDSM/roi/calc-training\\Calc-Training_P_01760_RIGHT_CC_1_1-2.png\n"
     ]
    },
    {
     "name": "stderr",
     "output_type": "stream",
     "text": [
      "转换文件:  87%|████████▋ | 1348/1546 [03:29<00:27,  7.14it/s]"
     ]
    },
    {
     "name": "stdout",
     "output_type": "stream",
     "text": [
      "掩码中的唯一值: [  0 255]\n",
      "掩码已保存为: E:/Dataset/CBIS-DDSM/New_CBDDSM/roi/calc-training\\Calc-Training_P_01760_RIGHT_MLO_1_1-2.png\n",
      "掩码中的唯一值: [  0 255]\n",
      "掩码已保存为: E:/Dataset/CBIS-DDSM/New_CBDDSM/roi/calc-training\\Calc-Training_P_01766_LEFT_CC_1_1-2.png\n"
     ]
    },
    {
     "name": "stderr",
     "output_type": "stream",
     "text": [
      "转换文件:  87%|████████▋ | 1350/1546 [03:29<00:25,  7.83it/s]"
     ]
    },
    {
     "name": "stdout",
     "output_type": "stream",
     "text": [
      "掩码中的唯一值: [  0 255]\n",
      "掩码已保存为: E:/Dataset/CBIS-DDSM/New_CBDDSM/roi/calc-training\\Calc-Training_P_01766_LEFT_MLO_1_1-2.png\n",
      "掩码中的唯一值: [  0 255]\n",
      "掩码已保存为: E:/Dataset/CBIS-DDSM/New_CBDDSM/roi/calc-training\\Calc-Training_P_01767_LEFT_CC_1_1-2.png\n"
     ]
    },
    {
     "name": "stderr",
     "output_type": "stream",
     "text": [
      "转换文件:  87%|████████▋ | 1352/1546 [03:30<00:25,  7.64it/s]"
     ]
    },
    {
     "name": "stdout",
     "output_type": "stream",
     "text": [
      "掩码中的唯一值: [  0 255]\n",
      "掩码已保存为: E:/Dataset/CBIS-DDSM/New_CBDDSM/roi/calc-training\\Calc-Training_P_01767_LEFT_MLO_1_1-2.png\n",
      "掩码中的唯一值: [  0 255]\n",
      "掩码已保存为: E:/Dataset/CBIS-DDSM/New_CBDDSM/roi/calc-training\\Calc-Training_P_01769_LEFT_CC_1_1-2.png\n"
     ]
    },
    {
     "name": "stderr",
     "output_type": "stream",
     "text": [
      "转换文件:  88%|████████▊ | 1354/1546 [03:30<00:26,  7.17it/s]"
     ]
    },
    {
     "name": "stdout",
     "output_type": "stream",
     "text": [
      "掩码中的唯一值: [  0 255]\n",
      "掩码已保存为: E:/Dataset/CBIS-DDSM/New_CBDDSM/roi/calc-training\\Calc-Training_P_01769_LEFT_MLO_1_1-2.png\n",
      "掩码中的唯一值: [  0 255]\n",
      "掩码已保存为: E:/Dataset/CBIS-DDSM/New_CBDDSM/roi/calc-training\\Calc-Training_P_01769_RIGHT_CC_1_1-2.png\n"
     ]
    },
    {
     "name": "stderr",
     "output_type": "stream",
     "text": [
      "转换文件:  88%|████████▊ | 1356/1546 [03:30<00:25,  7.45it/s]"
     ]
    },
    {
     "name": "stdout",
     "output_type": "stream",
     "text": [
      "掩码中的唯一值: [  0 255]\n",
      "掩码已保存为: E:/Dataset/CBIS-DDSM/New_CBDDSM/roi/calc-training\\Calc-Training_P_01769_RIGHT_CC_2_1-2.png\n",
      "掩码中的唯一值: [  0 255]\n",
      "掩码已保存为: E:/Dataset/CBIS-DDSM/New_CBDDSM/roi/calc-training\\Calc-Training_P_01769_RIGHT_CC_3_1-2.png\n"
     ]
    },
    {
     "name": "stderr",
     "output_type": "stream",
     "text": [
      "转换文件:  88%|████████▊ | 1358/1546 [03:30<00:24,  7.57it/s]"
     ]
    },
    {
     "name": "stdout",
     "output_type": "stream",
     "text": [
      "掩码中的唯一值: [  0 255]\n",
      "掩码已保存为: E:/Dataset/CBIS-DDSM/New_CBDDSM/roi/calc-training\\Calc-Training_P_01769_RIGHT_CC_4_1-2.png\n",
      "掩码中的唯一值: [  0 255]\n",
      "掩码已保存为: E:/Dataset/CBIS-DDSM/New_CBDDSM/roi/calc-training\\Calc-Training_P_01769_RIGHT_CC_5_1-2.png\n"
     ]
    },
    {
     "name": "stderr",
     "output_type": "stream",
     "text": [
      "转换文件:  88%|████████▊ | 1360/1546 [03:31<00:24,  7.58it/s]"
     ]
    },
    {
     "name": "stdout",
     "output_type": "stream",
     "text": [
      "掩码中的唯一值: [  0 255]\n",
      "掩码已保存为: E:/Dataset/CBIS-DDSM/New_CBDDSM/roi/calc-training\\Calc-Training_P_01769_RIGHT_MLO_1_1-2.png\n",
      "掩码中的唯一值: [  0 255]\n",
      "掩码已保存为: E:/Dataset/CBIS-DDSM/New_CBDDSM/roi/calc-training\\Calc-Training_P_01769_RIGHT_MLO_2_1-2.png\n"
     ]
    },
    {
     "name": "stderr",
     "output_type": "stream",
     "text": [
      "转换文件:  88%|████████▊ | 1362/1546 [03:31<00:24,  7.47it/s]"
     ]
    },
    {
     "name": "stdout",
     "output_type": "stream",
     "text": [
      "掩码中的唯一值: [  0 255]\n",
      "掩码已保存为: E:/Dataset/CBIS-DDSM/New_CBDDSM/roi/calc-training\\Calc-Training_P_01769_RIGHT_MLO_3_1-2.png\n",
      "掩码中的唯一值: [  0 255]\n",
      "掩码已保存为: E:/Dataset/CBIS-DDSM/New_CBDDSM/roi/calc-training\\Calc-Training_P_01769_RIGHT_MLO_4_1-2.png\n"
     ]
    },
    {
     "name": "stderr",
     "output_type": "stream",
     "text": [
      "转换文件:  88%|████████▊ | 1363/1546 [03:31<00:31,  5.73it/s]"
     ]
    },
    {
     "name": "stdout",
     "output_type": "stream",
     "text": [
      "掩码中的唯一值: [  0 255]\n",
      "掩码已保存为: E:/Dataset/CBIS-DDSM/New_CBDDSM/roi/calc-training\\Calc-Training_P_01770_LEFT_MLO_1_1-2.png\n"
     ]
    },
    {
     "name": "stderr",
     "output_type": "stream",
     "text": [
      "转换文件:  88%|████████▊ | 1364/1546 [03:31<00:35,  5.09it/s]"
     ]
    },
    {
     "name": "stdout",
     "output_type": "stream",
     "text": [
      "掩码中的唯一值: [  0 255]\n",
      "掩码已保存为: E:/Dataset/CBIS-DDSM/New_CBDDSM/roi/calc-training\\Calc-Training_P_01777_LEFT_CC_1_1-2.png\n"
     ]
    },
    {
     "name": "stderr",
     "output_type": "stream",
     "text": [
      "转换文件:  88%|████████▊ | 1365/1546 [03:32<00:36,  4.96it/s]"
     ]
    },
    {
     "name": "stdout",
     "output_type": "stream",
     "text": [
      "掩码中的唯一值: [  0 255]\n",
      "掩码已保存为: E:/Dataset/CBIS-DDSM/New_CBDDSM/roi/calc-training\\Calc-Training_P_01777_LEFT_CC_2_1-2.png\n",
      "掩码中的唯一值: [  0 255]\n"
     ]
    },
    {
     "name": "stderr",
     "output_type": "stream",
     "text": [
      "转换文件:  88%|████████▊ | 1366/1546 [03:32<00:36,  4.89it/s]"
     ]
    },
    {
     "name": "stdout",
     "output_type": "stream",
     "text": [
      "掩码已保存为: E:/Dataset/CBIS-DDSM/New_CBDDSM/roi/calc-training\\Calc-Training_P_01777_LEFT_MLO_1_1-2.png\n",
      "掩码中的唯一值: [  0 255]\n"
     ]
    },
    {
     "name": "stderr",
     "output_type": "stream",
     "text": [
      "转换文件:  88%|████████▊ | 1368/1546 [03:32<00:33,  5.37it/s]"
     ]
    },
    {
     "name": "stdout",
     "output_type": "stream",
     "text": [
      "掩码已保存为: E:/Dataset/CBIS-DDSM/New_CBDDSM/roi/calc-training\\Calc-Training_P_01777_LEFT_MLO_2_1-2.png\n",
      "掩码中的唯一值: [  0 255]\n",
      "掩码已保存为: E:/Dataset/CBIS-DDSM/New_CBDDSM/roi/calc-training\\Calc-Training_P_01783_LEFT_MLO_1_1-2.png\n"
     ]
    },
    {
     "name": "stderr",
     "output_type": "stream",
     "text": [
      "转换文件:  89%|████████▊ | 1370/1546 [03:32<00:27,  6.42it/s]"
     ]
    },
    {
     "name": "stdout",
     "output_type": "stream",
     "text": [
      "掩码中的唯一值: [  0 255]\n",
      "掩码已保存为: E:/Dataset/CBIS-DDSM/New_CBDDSM/roi/calc-training\\Calc-Training_P_01784_LEFT_CC_1_1-2.png\n",
      "掩码中的唯一值: [  0 255]\n",
      "掩码已保存为: E:/Dataset/CBIS-DDSM/New_CBDDSM/roi/calc-training\\Calc-Training_P_01784_LEFT_MLO_1_1-2.png\n"
     ]
    },
    {
     "name": "stderr",
     "output_type": "stream",
     "text": [
      "转换文件:  89%|████████▊ | 1372/1546 [03:33<00:24,  7.09it/s]"
     ]
    },
    {
     "name": "stdout",
     "output_type": "stream",
     "text": [
      "掩码中的唯一值: [  0 255]\n",
      "掩码已保存为: E:/Dataset/CBIS-DDSM/New_CBDDSM/roi/calc-training\\Calc-Training_P_01786_RIGHT_CC_1_1-2.png\n",
      "掩码中的唯一值: [  0 255]\n",
      "掩码已保存为: E:/Dataset/CBIS-DDSM/New_CBDDSM/roi/calc-training\\Calc-Training_P_01786_RIGHT_MLO_1_1-2.png\n"
     ]
    },
    {
     "name": "stderr",
     "output_type": "stream",
     "text": [
      "转换文件:  89%|████████▉ | 1374/1546 [03:33<00:22,  7.56it/s]"
     ]
    },
    {
     "name": "stdout",
     "output_type": "stream",
     "text": [
      "掩码中的唯一值: [  0 255]\n",
      "掩码已保存为: E:/Dataset/CBIS-DDSM/New_CBDDSM/roi/calc-training\\Calc-Training_P_01791_LEFT_CC_1_1-2.png\n",
      "掩码中的唯一值: [  0 255]\n",
      "掩码已保存为: E:/Dataset/CBIS-DDSM/New_CBDDSM/roi/calc-training\\Calc-Training_P_01791_LEFT_MLO_1_1-2.png\n"
     ]
    },
    {
     "name": "stderr",
     "output_type": "stream",
     "text": [
      "转换文件:  89%|████████▉ | 1376/1546 [03:33<00:21,  7.93it/s]"
     ]
    },
    {
     "name": "stdout",
     "output_type": "stream",
     "text": [
      "掩码中的唯一值: [  0 255]\n",
      "掩码已保存为: E:/Dataset/CBIS-DDSM/New_CBDDSM/roi/calc-training\\Calc-Training_P_01792_RIGHT_CC_1_1-2.png\n",
      "掩码中的唯一值: [  0 255]\n",
      "掩码已保存为: E:/Dataset/CBIS-DDSM/New_CBDDSM/roi/calc-training\\Calc-Training_P_01792_RIGHT_MLO_1_1-2.png\n"
     ]
    },
    {
     "name": "stderr",
     "output_type": "stream",
     "text": [
      "转换文件:  89%|████████▉ | 1378/1546 [03:33<00:25,  6.69it/s]"
     ]
    },
    {
     "name": "stdout",
     "output_type": "stream",
     "text": [
      "掩码中的唯一值: [  0 255]\n",
      "掩码已保存为: E:/Dataset/CBIS-DDSM/New_CBDDSM/roi/calc-training\\Calc-Training_P_01793_LEFT_CC_1_1-2.png\n",
      "掩码中的唯一值: [  0 255]\n",
      "掩码已保存为: E:/Dataset/CBIS-DDSM/New_CBDDSM/roi/calc-training\\Calc-Training_P_01793_LEFT_MLO_1_1-2.png\n"
     ]
    },
    {
     "name": "stderr",
     "output_type": "stream",
     "text": [
      "转换文件:  89%|████████▉ | 1380/1546 [03:34<00:24,  6.89it/s]"
     ]
    },
    {
     "name": "stdout",
     "output_type": "stream",
     "text": [
      "掩码中的唯一值: [  0 255]\n",
      "掩码已保存为: E:/Dataset/CBIS-DDSM/New_CBDDSM/roi/calc-training\\Calc-Training_P_01809_LEFT_MLO_1_1-2.png\n",
      "掩码中的唯一值: [  0 255]\n",
      "掩码已保存为: E:/Dataset/CBIS-DDSM/New_CBDDSM/roi/calc-training\\Calc-Training_P_01810_LEFT_CC_1_1-2.png\n"
     ]
    },
    {
     "name": "stderr",
     "output_type": "stream",
     "text": [
      "转换文件:  89%|████████▉ | 1383/1546 [03:34<00:19,  8.53it/s]"
     ]
    },
    {
     "name": "stdout",
     "output_type": "stream",
     "text": [
      "掩码中的唯一值: [  0 255]\n",
      "掩码已保存为: E:/Dataset/CBIS-DDSM/New_CBDDSM/roi/calc-training\\Calc-Training_P_01810_LEFT_MLO_1_1-2.png\n",
      "掩码中的唯一值: [  0 255]\n",
      "掩码已保存为: E:/Dataset/CBIS-DDSM/New_CBDDSM/roi/calc-training\\Calc-Training_P_01818_LEFT_CC_1_1-2.png\n",
      "掩码中的唯一值: [  0 255]\n",
      "掩码已保存为: E:/Dataset/CBIS-DDSM/New_CBDDSM/roi/calc-training\\Calc-Training_P_01818_LEFT_MLO_1_1-2.png\n"
     ]
    },
    {
     "name": "stderr",
     "output_type": "stream",
     "text": [
      "转换文件:  90%|████████▉ | 1385/1546 [03:34<00:24,  6.46it/s]"
     ]
    },
    {
     "name": "stdout",
     "output_type": "stream",
     "text": [
      "掩码中的唯一值: [  0 255]\n",
      "掩码已保存为: E:/Dataset/CBIS-DDSM/New_CBDDSM/roi/calc-training\\Calc-Training_P_01819_LEFT_CC_1_1-2.png\n",
      "掩码中的唯一值: [  0 255]\n",
      "掩码已保存为: E:/Dataset/CBIS-DDSM/New_CBDDSM/roi/calc-training\\Calc-Training_P_01819_LEFT_CC_2_1-2.png\n"
     ]
    },
    {
     "name": "stderr",
     "output_type": "stream",
     "text": [
      "转换文件:  90%|████████▉ | 1386/1546 [03:35<00:26,  5.95it/s]"
     ]
    },
    {
     "name": "stdout",
     "output_type": "stream",
     "text": [
      "掩码中的唯一值: [  0 255]\n",
      "掩码已保存为: E:/Dataset/CBIS-DDSM/New_CBDDSM/roi/calc-training\\Calc-Training_P_01819_LEFT_MLO_1_1-2.png\n",
      "掩码中的唯一值: [  0 255]\n"
     ]
    },
    {
     "name": "stderr",
     "output_type": "stream",
     "text": [
      "转换文件:  90%|████████▉ | 1388/1546 [03:35<00:26,  5.99it/s]"
     ]
    },
    {
     "name": "stdout",
     "output_type": "stream",
     "text": [
      "掩码已保存为: E:/Dataset/CBIS-DDSM/New_CBDDSM/roi/calc-training\\Calc-Training_P_01819_LEFT_MLO_2_1-2.png\n",
      "掩码中的唯一值: [  0 255]\n",
      "掩码已保存为: E:/Dataset/CBIS-DDSM/New_CBDDSM/roi/calc-training\\Calc-Training_P_01823_LEFT_CC_1_1-2.png\n"
     ]
    },
    {
     "name": "stderr",
     "output_type": "stream",
     "text": [
      "转换文件:  90%|████████▉ | 1390/1546 [03:35<00:23,  6.70it/s]"
     ]
    },
    {
     "name": "stdout",
     "output_type": "stream",
     "text": [
      "掩码中的唯一值: [  0 255]\n",
      "掩码已保存为: E:/Dataset/CBIS-DDSM/New_CBDDSM/roi/calc-training\\Calc-Training_P_01823_LEFT_CC_2_1-2.png\n",
      "掩码中的唯一值: [  0 255]\n",
      "掩码已保存为: E:/Dataset/CBIS-DDSM/New_CBDDSM/roi/calc-training\\Calc-Training_P_01823_LEFT_MLO_1_1-2.png\n"
     ]
    },
    {
     "name": "stderr",
     "output_type": "stream",
     "text": [
      "转换文件:  90%|█████████ | 1392/1546 [03:36<00:22,  6.87it/s]"
     ]
    },
    {
     "name": "stdout",
     "output_type": "stream",
     "text": [
      "掩码中的唯一值: [  0 255]\n",
      "掩码已保存为: E:/Dataset/CBIS-DDSM/New_CBDDSM/roi/calc-training\\Calc-Training_P_01823_LEFT_MLO_2_1-2.png\n",
      "掩码中的唯一值: [  0 255]\n",
      "掩码已保存为: E:/Dataset/CBIS-DDSM/New_CBDDSM/roi/calc-training\\Calc-Training_P_01823_RIGHT_CC_2_1-2.png\n"
     ]
    },
    {
     "name": "stderr",
     "output_type": "stream",
     "text": [
      "转换文件:  90%|█████████ | 1394/1546 [03:36<00:21,  7.04it/s]"
     ]
    },
    {
     "name": "stdout",
     "output_type": "stream",
     "text": [
      "掩码中的唯一值: [  0 255]\n",
      "掩码已保存为: E:/Dataset/CBIS-DDSM/New_CBDDSM/roi/calc-training\\Calc-Training_P_01823_RIGHT_CC_3_1-2.png\n",
      "掩码中的唯一值: [  0 255]\n",
      "掩码已保存为: E:/Dataset/CBIS-DDSM/New_CBDDSM/roi/calc-training\\Calc-Training_P_01823_RIGHT_MLO_2_1-2.png\n"
     ]
    },
    {
     "name": "stderr",
     "output_type": "stream",
     "text": [
      "转换文件:  90%|█████████ | 1396/1546 [03:36<00:21,  6.85it/s]"
     ]
    },
    {
     "name": "stdout",
     "output_type": "stream",
     "text": [
      "掩码中的唯一值: [  0 255]\n",
      "掩码已保存为: E:/Dataset/CBIS-DDSM/New_CBDDSM/roi/calc-training\\Calc-Training_P_01823_RIGHT_MLO_3_1-2.png\n",
      "掩码中的唯一值: [  0 255]\n",
      "掩码已保存为: E:/Dataset/CBIS-DDSM/New_CBDDSM/roi/calc-training\\Calc-Training_P_01830_LEFT_CC_1_1-2.png\n"
     ]
    },
    {
     "name": "stderr",
     "output_type": "stream",
     "text": [
      "转换文件:  90%|█████████ | 1398/1546 [03:36<00:19,  7.49it/s]"
     ]
    },
    {
     "name": "stdout",
     "output_type": "stream",
     "text": [
      "掩码中的唯一值: [  0 255]\n",
      "掩码已保存为: E:/Dataset/CBIS-DDSM/New_CBDDSM/roi/calc-training\\Calc-Training_P_01830_LEFT_CC_2_1-2.png\n",
      "掩码中的唯一值: [  0 255]\n",
      "掩码已保存为: E:/Dataset/CBIS-DDSM/New_CBDDSM/roi/calc-training\\Calc-Training_P_01830_LEFT_MLO_1_1-2.png\n"
     ]
    },
    {
     "name": "stderr",
     "output_type": "stream",
     "text": [
      "转换文件:  91%|█████████ | 1400/1546 [03:37<00:19,  7.51it/s]"
     ]
    },
    {
     "name": "stdout",
     "output_type": "stream",
     "text": [
      "掩码中的唯一值: [  0 255]\n",
      "掩码已保存为: E:/Dataset/CBIS-DDSM/New_CBDDSM/roi/calc-training\\Calc-Training_P_01830_LEFT_MLO_2_1-2.png\n",
      "掩码中的唯一值: [  0 255]\n",
      "掩码已保存为: E:/Dataset/CBIS-DDSM/New_CBDDSM/roi/calc-training\\Calc-Training_P_01830_RIGHT_CC_1_1-2.png\n"
     ]
    },
    {
     "name": "stderr",
     "output_type": "stream",
     "text": [
      "转换文件:  91%|█████████ | 1402/1546 [03:37<00:18,  7.94it/s]"
     ]
    },
    {
     "name": "stdout",
     "output_type": "stream",
     "text": [
      "掩码中的唯一值: [  0 255]\n",
      "掩码已保存为: E:/Dataset/CBIS-DDSM/New_CBDDSM/roi/calc-training\\Calc-Training_P_01830_RIGHT_MLO_1_1-2.png\n",
      "掩码中的唯一值: [  0 255]\n",
      "掩码已保存为: E:/Dataset/CBIS-DDSM/New_CBDDSM/roi/calc-training\\Calc-Training_P_01830_RIGHT_MLO_2_1-2.png\n"
     ]
    },
    {
     "name": "stderr",
     "output_type": "stream",
     "text": [
      "转换文件:  91%|█████████ | 1403/1546 [03:37<00:17,  8.09it/s]"
     ]
    },
    {
     "name": "stdout",
     "output_type": "stream",
     "text": [
      "掩码中的唯一值: [  0 255]\n",
      "掩码已保存为: E:/Dataset/CBIS-DDSM/New_CBDDSM/roi/calc-training\\Calc-Training_P_01830_RIGHT_MLO_3_1-2.png\n"
     ]
    },
    {
     "name": "stderr",
     "output_type": "stream",
     "text": [
      "转换文件:  91%|█████████ | 1404/1546 [03:37<00:21,  6.75it/s]"
     ]
    },
    {
     "name": "stdout",
     "output_type": "stream",
     "text": [
      "掩码中的唯一值: [  0 255]\n",
      "掩码已保存为: E:/Dataset/CBIS-DDSM/New_CBDDSM/roi/calc-training\\Calc-Training_P_01832_LEFT_CC_1_1-2.png\n",
      "掩码中的唯一值: [  0 255]\n"
     ]
    },
    {
     "name": "stderr",
     "output_type": "stream",
     "text": [
      "转换文件:  91%|█████████ | 1405/1546 [03:37<00:23,  6.08it/s]"
     ]
    },
    {
     "name": "stdout",
     "output_type": "stream",
     "text": [
      "掩码已保存为: E:/Dataset/CBIS-DDSM/New_CBDDSM/roi/calc-training\\Calc-Training_P_01832_LEFT_MLO_1_1-2.png\n",
      "掩码中的唯一值: [  0 255]\n"
     ]
    },
    {
     "name": "stderr",
     "output_type": "stream",
     "text": [
      "转换文件:  91%|█████████ | 1406/1546 [03:38<00:25,  5.58it/s]"
     ]
    },
    {
     "name": "stdout",
     "output_type": "stream",
     "text": [
      "掩码已保存为: E:/Dataset/CBIS-DDSM/New_CBDDSM/roi/calc-training\\Calc-Training_P_01838_LEFT_CC_1_1-2.png\n",
      "掩码中的唯一值: [  0 255]\n"
     ]
    },
    {
     "name": "stderr",
     "output_type": "stream",
     "text": [
      "转换文件:  91%|█████████ | 1407/1546 [03:38<00:26,  5.23it/s]"
     ]
    },
    {
     "name": "stdout",
     "output_type": "stream",
     "text": [
      "掩码已保存为: E:/Dataset/CBIS-DDSM/New_CBDDSM/roi/calc-training\\Calc-Training_P_01838_LEFT_CC_2_1-2.png\n",
      "掩码中的唯一值: [  0 255]\n"
     ]
    },
    {
     "name": "stderr",
     "output_type": "stream",
     "text": [
      "转换文件:  91%|█████████ | 1409/1546 [03:38<00:27,  4.96it/s]"
     ]
    },
    {
     "name": "stdout",
     "output_type": "stream",
     "text": [
      "掩码已保存为: E:/Dataset/CBIS-DDSM/New_CBDDSM/roi/calc-training\\Calc-Training_P_01838_LEFT_CC_3_1-2.png\n",
      "掩码中的唯一值: [  0 255]\n",
      "掩码已保存为: E:/Dataset/CBIS-DDSM/New_CBDDSM/roi/calc-training\\Calc-Training_P_01838_LEFT_CC_4_1-2.png\n"
     ]
    },
    {
     "name": "stderr",
     "output_type": "stream",
     "text": [
      "转换文件:  91%|█████████▏| 1411/1546 [03:39<00:27,  4.85it/s]"
     ]
    },
    {
     "name": "stdout",
     "output_type": "stream",
     "text": [
      "掩码中的唯一值: [  0 255]\n",
      "掩码已保存为: E:/Dataset/CBIS-DDSM/New_CBDDSM/roi/calc-training\\Calc-Training_P_01838_LEFT_CC_5_1-2.png\n",
      "掩码中的唯一值: [  0 255]\n",
      "掩码已保存为: E:/Dataset/CBIS-DDSM/New_CBDDSM/roi/calc-training\\Calc-Training_P_01838_LEFT_MLO_1_1-2.png\n"
     ]
    },
    {
     "name": "stderr",
     "output_type": "stream",
     "text": [
      "转换文件:  91%|█████████▏| 1412/1546 [03:39<00:27,  4.85it/s]"
     ]
    },
    {
     "name": "stdout",
     "output_type": "stream",
     "text": [
      "掩码中的唯一值: [  0 255]\n",
      "掩码已保存为: E:/Dataset/CBIS-DDSM/New_CBDDSM/roi/calc-training\\Calc-Training_P_01838_LEFT_MLO_2_1-2.png\n",
      "掩码中的唯一值: [  0 255]\n"
     ]
    },
    {
     "name": "stderr",
     "output_type": "stream",
     "text": [
      "转换文件:  91%|█████████▏| 1413/1546 [03:39<00:27,  4.80it/s]"
     ]
    },
    {
     "name": "stdout",
     "output_type": "stream",
     "text": [
      "掩码已保存为: E:/Dataset/CBIS-DDSM/New_CBDDSM/roi/calc-training\\Calc-Training_P_01838_LEFT_MLO_3_1-2.png\n"
     ]
    },
    {
     "name": "stderr",
     "output_type": "stream",
     "text": [
      "转换文件:  91%|█████████▏| 1414/1546 [03:39<00:28,  4.70it/s]"
     ]
    },
    {
     "name": "stdout",
     "output_type": "stream",
     "text": [
      "掩码中的唯一值: [  0 255]\n",
      "掩码已保存为: E:/Dataset/CBIS-DDSM/New_CBDDSM/roi/calc-training\\Calc-Training_P_01838_LEFT_MLO_4_1-2.png\n"
     ]
    },
    {
     "name": "stderr",
     "output_type": "stream",
     "text": [
      "转换文件:  92%|█████████▏| 1415/1546 [03:40<00:27,  4.71it/s]"
     ]
    },
    {
     "name": "stdout",
     "output_type": "stream",
     "text": [
      "掩码中的唯一值: [  0 255]\n",
      "掩码已保存为: E:/Dataset/CBIS-DDSM/New_CBDDSM/roi/calc-training\\Calc-Training_P_01838_LEFT_MLO_5_1-2.png\n"
     ]
    },
    {
     "name": "stderr",
     "output_type": "stream",
     "text": [
      "转换文件:  92%|█████████▏| 1416/1546 [03:40<00:29,  4.44it/s]"
     ]
    },
    {
     "name": "stdout",
     "output_type": "stream",
     "text": [
      "掩码中的唯一值: [  0 255]\n",
      "掩码已保存为: E:/Dataset/CBIS-DDSM/New_CBDDSM/roi/calc-training\\Calc-Training_P_01838_LEFT_MLO_6_1-2.png\n"
     ]
    },
    {
     "name": "stderr",
     "output_type": "stream",
     "text": [
      "转换文件:  92%|█████████▏| 1417/1546 [03:40<00:28,  4.53it/s]"
     ]
    },
    {
     "name": "stdout",
     "output_type": "stream",
     "text": [
      "掩码中的唯一值: [  0 255]\n",
      "掩码已保存为: E:/Dataset/CBIS-DDSM/New_CBDDSM/roi/calc-training\\Calc-Training_P_01838_LEFT_MLO_7_1-2.png\n",
      "掩码中的唯一值: [  0 255]\n"
     ]
    },
    {
     "name": "stderr",
     "output_type": "stream",
     "text": [
      "转换文件:  92%|█████████▏| 1418/1546 [03:40<00:27,  4.58it/s]"
     ]
    },
    {
     "name": "stdout",
     "output_type": "stream",
     "text": [
      "掩码已保存为: E:/Dataset/CBIS-DDSM/New_CBDDSM/roi/calc-training\\Calc-Training_P_01838_RIGHT_CC_1_1-2.png\n"
     ]
    },
    {
     "name": "stderr",
     "output_type": "stream",
     "text": [
      "转换文件:  92%|█████████▏| 1419/1546 [03:40<00:27,  4.57it/s]"
     ]
    },
    {
     "name": "stdout",
     "output_type": "stream",
     "text": [
      "掩码中的唯一值: [  0 255]\n",
      "掩码已保存为: E:/Dataset/CBIS-DDSM/New_CBDDSM/roi/calc-training\\Calc-Training_P_01838_RIGHT_CC_2_1-2.png\n"
     ]
    },
    {
     "name": "stderr",
     "output_type": "stream",
     "text": [
      "转换文件:  92%|█████████▏| 1420/1546 [03:41<00:27,  4.58it/s]"
     ]
    },
    {
     "name": "stdout",
     "output_type": "stream",
     "text": [
      "掩码中的唯一值: [  0 255]\n",
      "掩码已保存为: E:/Dataset/CBIS-DDSM/New_CBDDSM/roi/calc-training\\Calc-Training_P_01838_RIGHT_CC_3_1-2.png\n"
     ]
    },
    {
     "name": "stderr",
     "output_type": "stream",
     "text": [
      "转换文件:  92%|█████████▏| 1421/1546 [03:41<00:26,  4.63it/s]"
     ]
    },
    {
     "name": "stdout",
     "output_type": "stream",
     "text": [
      "掩码中的唯一值: [  0 255]\n",
      "掩码已保存为: E:/Dataset/CBIS-DDSM/New_CBDDSM/roi/calc-training\\Calc-Training_P_01838_RIGHT_MLO_1_1-2.png\n",
      "掩码中的唯一值: [  0 255]\n"
     ]
    },
    {
     "name": "stderr",
     "output_type": "stream",
     "text": [
      "转换文件:  92%|█████████▏| 1424/1546 [03:41<00:18,  6.51it/s]"
     ]
    },
    {
     "name": "stdout",
     "output_type": "stream",
     "text": [
      "掩码已保存为: E:/Dataset/CBIS-DDSM/New_CBDDSM/roi/calc-training\\Calc-Training_P_01838_RIGHT_MLO_2_1-2.png\n",
      "掩码中的唯一值: [  0 255]\n",
      "掩码已保存为: E:/Dataset/CBIS-DDSM/New_CBDDSM/roi/calc-training\\Calc-Training_P_01839_LEFT_CC_1_1-2.png\n",
      "掩码中的唯一值: [  0 255]\n",
      "掩码已保存为: E:/Dataset/CBIS-DDSM/New_CBDDSM/roi/calc-training\\Calc-Training_P_01839_LEFT_MLO_1_1-2.png\n"
     ]
    },
    {
     "name": "stderr",
     "output_type": "stream",
     "text": [
      "转换文件:  92%|█████████▏| 1426/1546 [03:41<00:15,  7.55it/s]"
     ]
    },
    {
     "name": "stdout",
     "output_type": "stream",
     "text": [
      "掩码中的唯一值: [  0 255]\n",
      "掩码已保存为: E:/Dataset/CBIS-DDSM/New_CBDDSM/roi/calc-training\\Calc-Training_P_01840_RIGHT_MLO_2_1-2.png\n",
      "掩码中的唯一值: [  0 255]\n",
      "掩码已保存为: E:/Dataset/CBIS-DDSM/New_CBDDSM/roi/calc-training\\Calc-Training_P_01846_RIGHT_CC_1_1-2.png\n"
     ]
    },
    {
     "name": "stderr",
     "output_type": "stream",
     "text": [
      "转换文件:  92%|█████████▏| 1428/1546 [03:42<00:15,  7.60it/s]"
     ]
    },
    {
     "name": "stdout",
     "output_type": "stream",
     "text": [
      "掩码中的唯一值: [  0 255]\n",
      "掩码已保存为: E:/Dataset/CBIS-DDSM/New_CBDDSM/roi/calc-training\\Calc-Training_P_01846_RIGHT_MLO_1_1-2.png\n",
      "掩码中的唯一值: [  0 255]\n",
      "掩码已保存为: E:/Dataset/CBIS-DDSM/New_CBDDSM/roi/calc-training\\Calc-Training_P_01847_LEFT_CC_1_1-2.png\n"
     ]
    },
    {
     "name": "stderr",
     "output_type": "stream",
     "text": [
      "转换文件:  92%|█████████▏| 1429/1546 [03:42<00:15,  7.60it/s]"
     ]
    },
    {
     "name": "stdout",
     "output_type": "stream",
     "text": [
      "掩码中的唯一值: [  0 255]\n",
      "掩码已保存为: E:/Dataset/CBIS-DDSM/New_CBDDSM/roi/calc-training\\Calc-Training_P_01847_LEFT_MLO_1_1-2.png\n",
      "掩码中的唯一值: [  0 255]\n",
      "掩码已保存为: E:/Dataset/CBIS-DDSM/New_CBDDSM/roi/calc-training\\Calc-Training_P_01856_LEFT_CC_1_1-2.png\n",
      "掩码中的唯一值: [  0 255]\n"
     ]
    },
    {
     "name": "stderr",
     "output_type": "stream",
     "text": [
      "转换文件:  93%|█████████▎| 1432/1546 [03:42<00:13,  8.36it/s]"
     ]
    },
    {
     "name": "stdout",
     "output_type": "stream",
     "text": [
      "掩码已保存为: E:/Dataset/CBIS-DDSM/New_CBDDSM/roi/calc-training\\Calc-Training_P_01856_LEFT_MLO_1_1-2.png\n",
      "掩码中的唯一值: [  0 255]\n",
      "掩码已保存为: E:/Dataset/CBIS-DDSM/New_CBDDSM/roi/calc-training\\Calc-Training_P_01858_LEFT_CC_1_1-2.png\n"
     ]
    },
    {
     "name": "stderr",
     "output_type": "stream",
     "text": [
      "转换文件:  93%|█████████▎| 1434/1546 [03:42<00:15,  7.18it/s]"
     ]
    },
    {
     "name": "stdout",
     "output_type": "stream",
     "text": [
      "掩码中的唯一值: [  0 255]\n",
      "掩码已保存为: E:/Dataset/CBIS-DDSM/New_CBDDSM/roi/calc-training\\Calc-Training_P_01858_LEFT_MLO_1_1-2.png\n",
      "掩码中的唯一值: [  0 255]\n",
      "掩码已保存为: E:/Dataset/CBIS-DDSM/New_CBDDSM/roi/calc-training\\Calc-Training_P_01864_LEFT_CC_2_1-2.png\n"
     ]
    },
    {
     "name": "stderr",
     "output_type": "stream",
     "text": [
      "转换文件:  93%|█████████▎| 1436/1546 [03:43<00:18,  6.08it/s]"
     ]
    },
    {
     "name": "stdout",
     "output_type": "stream",
     "text": [
      "掩码中的唯一值: [  0 255]\n",
      "掩码已保存为: E:/Dataset/CBIS-DDSM/New_CBDDSM/roi/calc-training\\Calc-Training_P_01864_LEFT_CC_3_1-2.png\n",
      "掩码中的唯一值: [  0 255]\n",
      "掩码已保存为: E:/Dataset/CBIS-DDSM/New_CBDDSM/roi/calc-training\\Calc-Training_P_01864_LEFT_CC_4_1-2.png\n"
     ]
    },
    {
     "name": "stderr",
     "output_type": "stream",
     "text": [
      "转换文件:  93%|█████████▎| 1438/1546 [03:43<00:19,  5.51it/s]"
     ]
    },
    {
     "name": "stdout",
     "output_type": "stream",
     "text": [
      "掩码中的唯一值: [  0 255]\n",
      "掩码已保存为: E:/Dataset/CBIS-DDSM/New_CBDDSM/roi/calc-training\\Calc-Training_P_01864_LEFT_MLO_2_1-2.png\n",
      "掩码中的唯一值: [  0 255]\n",
      "掩码已保存为: E:/Dataset/CBIS-DDSM/New_CBDDSM/roi/calc-training\\Calc-Training_P_01864_LEFT_MLO_3_1-2.png\n"
     ]
    },
    {
     "name": "stderr",
     "output_type": "stream",
     "text": [
      "转换文件:  93%|█████████▎| 1439/1546 [03:43<00:19,  5.44it/s]"
     ]
    },
    {
     "name": "stdout",
     "output_type": "stream",
     "text": [
      "掩码中的唯一值: [  0 255]\n",
      "掩码已保存为: E:/Dataset/CBIS-DDSM/New_CBDDSM/roi/calc-training\\Calc-Training_P_01864_LEFT_MLO_4_1-2.png\n",
      "掩码中的唯一值: [  0 255]\n"
     ]
    },
    {
     "name": "stderr",
     "output_type": "stream",
     "text": [
      "转换文件:  93%|█████████▎| 1441/1546 [03:44<00:19,  5.42it/s]"
     ]
    },
    {
     "name": "stdout",
     "output_type": "stream",
     "text": [
      "掩码已保存为: E:/Dataset/CBIS-DDSM/New_CBDDSM/roi/calc-training\\Calc-Training_P_01864_LEFT_MLO_5_1-2.png\n",
      "掩码中的唯一值: [  0 255]\n",
      "掩码已保存为: E:/Dataset/CBIS-DDSM/New_CBDDSM/roi/calc-training\\Calc-Training_P_01864_RIGHT_CC_1_1-2.png\n"
     ]
    },
    {
     "name": "stderr",
     "output_type": "stream",
     "text": [
      "转换文件:  93%|█████████▎| 1443/1546 [03:44<00:18,  5.48it/s]"
     ]
    },
    {
     "name": "stdout",
     "output_type": "stream",
     "text": [
      "掩码中的唯一值: [  0 255]\n",
      "掩码已保存为: E:/Dataset/CBIS-DDSM/New_CBDDSM/roi/calc-training\\Calc-Training_P_01864_RIGHT_CC_2_1-2.png\n",
      "掩码中的唯一值: [  0 255]\n",
      "掩码已保存为: E:/Dataset/CBIS-DDSM/New_CBDDSM/roi/calc-training\\Calc-Training_P_01864_RIGHT_CC_3_1-2.png\n"
     ]
    },
    {
     "name": "stderr",
     "output_type": "stream",
     "text": [
      "转换文件:  93%|█████████▎| 1445/1546 [03:45<00:17,  5.67it/s]"
     ]
    },
    {
     "name": "stdout",
     "output_type": "stream",
     "text": [
      "掩码中的唯一值: [  0 255]\n",
      "掩码已保存为: E:/Dataset/CBIS-DDSM/New_CBDDSM/roi/calc-training\\Calc-Training_P_01864_RIGHT_MLO_1_1-2.png\n",
      "掩码中的唯一值: [  0 255]\n",
      "掩码已保存为: E:/Dataset/CBIS-DDSM/New_CBDDSM/roi/calc-training\\Calc-Training_P_01864_RIGHT_MLO_2_1-2.png\n"
     ]
    },
    {
     "name": "stderr",
     "output_type": "stream",
     "text": [
      "转换文件:  94%|█████████▎| 1447/1546 [03:45<00:15,  6.20it/s]"
     ]
    },
    {
     "name": "stdout",
     "output_type": "stream",
     "text": [
      "掩码中的唯一值: [  0 255]\n",
      "掩码已保存为: E:/Dataset/CBIS-DDSM/New_CBDDSM/roi/calc-training\\Calc-Training_P_01864_RIGHT_MLO_3_1-2.png\n",
      "掩码中的唯一值: [  0 255]\n",
      "掩码已保存为: E:/Dataset/CBIS-DDSM/New_CBDDSM/roi/calc-training\\Calc-Training_P_01875_LEFT_CC_1_1-2.png\n"
     ]
    },
    {
     "name": "stderr",
     "output_type": "stream",
     "text": [
      "转换文件:  94%|█████████▎| 1449/1546 [03:45<00:13,  7.03it/s]"
     ]
    },
    {
     "name": "stdout",
     "output_type": "stream",
     "text": [
      "掩码中的唯一值: [  0 255]\n",
      "掩码已保存为: E:/Dataset/CBIS-DDSM/New_CBDDSM/roi/calc-training\\Calc-Training_P_01875_LEFT_MLO_1_1-2.png\n",
      "掩码中的唯一值: [  0 255]\n",
      "掩码已保存为: E:/Dataset/CBIS-DDSM/New_CBDDSM/roi/calc-training\\Calc-Training_P_01875_RIGHT_CC_1_1-2.png\n"
     ]
    },
    {
     "name": "stderr",
     "output_type": "stream",
     "text": [
      "转换文件:  94%|█████████▍| 1451/1546 [03:45<00:12,  7.46it/s]"
     ]
    },
    {
     "name": "stdout",
     "output_type": "stream",
     "text": [
      "掩码中的唯一值: [  0 255]\n",
      "掩码已保存为: E:/Dataset/CBIS-DDSM/New_CBDDSM/roi/calc-training\\Calc-Training_P_01875_RIGHT_CC_2_1-2.png\n",
      "掩码中的唯一值: [  0 255]\n",
      "掩码已保存为: E:/Dataset/CBIS-DDSM/New_CBDDSM/roi/calc-training\\Calc-Training_P_01875_RIGHT_MLO_1_1-2.png\n"
     ]
    },
    {
     "name": "stderr",
     "output_type": "stream",
     "text": [
      "转换文件:  94%|█████████▍| 1452/1546 [03:46<00:14,  6.35it/s]"
     ]
    },
    {
     "name": "stdout",
     "output_type": "stream",
     "text": [
      "掩码中的唯一值: [  0 255]\n",
      "掩码已保存为: E:/Dataset/CBIS-DDSM/New_CBDDSM/roi/calc-training\\Calc-Training_P_01884_RIGHT_CC_1_1-2.png\n"
     ]
    },
    {
     "name": "stderr",
     "output_type": "stream",
     "text": [
      "转换文件:  94%|█████████▍| 1453/1546 [03:46<00:16,  5.66it/s]"
     ]
    },
    {
     "name": "stdout",
     "output_type": "stream",
     "text": [
      "掩码中的唯一值: [  0 255]\n",
      "掩码已保存为: E:/Dataset/CBIS-DDSM/New_CBDDSM/roi/calc-training\\Calc-Training_P_01884_RIGHT_MLO_1_1-2.png\n",
      "掩码中的唯一值: [  0 255]\n"
     ]
    },
    {
     "name": "stderr",
     "output_type": "stream",
     "text": [
      "转换文件:  94%|█████████▍| 1455/1546 [03:46<00:17,  5.12it/s]"
     ]
    },
    {
     "name": "stdout",
     "output_type": "stream",
     "text": [
      "掩码已保存为: E:/Dataset/CBIS-DDSM/New_CBDDSM/roi/calc-training\\Calc-Training_P_01885_LEFT_CC_1_1-2.png\n",
      "掩码中的唯一值: [  0 255]\n",
      "掩码已保存为: E:/Dataset/CBIS-DDSM/New_CBDDSM/roi/calc-training\\Calc-Training_P_01885_LEFT_MLO_1_1-2.png\n"
     ]
    },
    {
     "name": "stderr",
     "output_type": "stream",
     "text": [
      "转换文件:  94%|█████████▍| 1456/1546 [03:46<00:18,  4.83it/s]"
     ]
    },
    {
     "name": "stdout",
     "output_type": "stream",
     "text": [
      "掩码中的唯一值: [  0 255]\n",
      "掩码已保存为: E:/Dataset/CBIS-DDSM/New_CBDDSM/roi/calc-training\\Calc-Training_P_01885_RIGHT_CC_1_1-2.png\n"
     ]
    },
    {
     "name": "stderr",
     "output_type": "stream",
     "text": [
      "转换文件:  94%|█████████▍| 1458/1546 [03:47<00:16,  5.27it/s]"
     ]
    },
    {
     "name": "stdout",
     "output_type": "stream",
     "text": [
      "掩码中的唯一值: [  0 255]\n",
      "掩码已保存为: E:/Dataset/CBIS-DDSM/New_CBDDSM/roi/calc-training\\Calc-Training_P_01885_RIGHT_MLO_1_1-2.png\n",
      "掩码中的唯一值: [  0 255]\n",
      "掩码已保存为: E:/Dataset/CBIS-DDSM/New_CBDDSM/roi/calc-training\\Calc-Training_P_02105_LEFT_CC_1_1-2.png\n"
     ]
    },
    {
     "name": "stderr",
     "output_type": "stream",
     "text": [
      "转换文件:  94%|█████████▍| 1460/1546 [03:47<00:16,  5.34it/s]"
     ]
    },
    {
     "name": "stdout",
     "output_type": "stream",
     "text": [
      "掩码中的唯一值: [  0 255]\n",
      "掩码已保存为: E:/Dataset/CBIS-DDSM/New_CBDDSM/roi/calc-training\\Calc-Training_P_02105_LEFT_MLO_1_1-2.png\n",
      "掩码中的唯一值: [  0 255]\n",
      "掩码已保存为: E:/Dataset/CBIS-DDSM/New_CBDDSM/roi/calc-training\\Calc-Training_P_02115_LEFT_CC_1_1-2.png\n"
     ]
    },
    {
     "name": "stderr",
     "output_type": "stream",
     "text": [
      "转换文件:  95%|█████████▍| 1463/1546 [03:48<00:11,  6.97it/s]"
     ]
    },
    {
     "name": "stdout",
     "output_type": "stream",
     "text": [
      "掩码中的唯一值: [  0 255]\n",
      "掩码已保存为: E:/Dataset/CBIS-DDSM/New_CBDDSM/roi/calc-training\\Calc-Training_P_02115_LEFT_MLO_1_1-2.png\n",
      "掩码中的唯一值: [  0 255]\n",
      "掩码已保存为: E:/Dataset/CBIS-DDSM/New_CBDDSM/roi/calc-training\\Calc-Training_P_02133_LEFT_CC_1_1-2.png\n",
      "掩码中的唯一值: [  0 255]\n",
      "掩码已保存为: E:/Dataset/CBIS-DDSM/New_CBDDSM/roi/calc-training\\Calc-Training_P_02133_LEFT_MLO_1_1-2.png\n"
     ]
    },
    {
     "name": "stderr",
     "output_type": "stream",
     "text": [
      "转换文件:  95%|█████████▍| 1465/1546 [03:48<00:11,  7.34it/s]"
     ]
    },
    {
     "name": "stdout",
     "output_type": "stream",
     "text": [
      "掩码中的唯一值: [  0 255]\n",
      "掩码已保存为: E:/Dataset/CBIS-DDSM/New_CBDDSM/roi/calc-training\\Calc-Training_P_02154_LEFT_CC_1_1-2.png\n",
      "掩码中的唯一值: [  0 255]\n",
      "掩码已保存为: E:/Dataset/CBIS-DDSM/New_CBDDSM/roi/calc-training\\Calc-Training_P_02154_LEFT_MLO_1_1-2.png\n"
     ]
    },
    {
     "name": "stderr",
     "output_type": "stream",
     "text": [
      "转换文件:  95%|█████████▍| 1467/1546 [03:48<00:10,  7.69it/s]"
     ]
    },
    {
     "name": "stdout",
     "output_type": "stream",
     "text": [
      "掩码中的唯一值: [  0 255]\n",
      "掩码已保存为: E:/Dataset/CBIS-DDSM/New_CBDDSM/roi/calc-training\\Calc-Training_P_02190_RIGHT_CC_1_1-2.png\n",
      "掩码中的唯一值: [  0 255]\n",
      "掩码已保存为: E:/Dataset/CBIS-DDSM/New_CBDDSM/roi/calc-training\\Calc-Training_P_02190_RIGHT_MLO_1_1-2.png\n",
      "掩码中的唯一值: [  0 255]\n",
      "掩码已保存为: E:/Dataset/CBIS-DDSM/New_CBDDSM/roi/calc-training\\Calc-Training_P_02195_RIGHT_CC_1_1-2.png\n"
     ]
    },
    {
     "name": "stderr",
     "output_type": "stream",
     "text": [
      "转换文件:  95%|█████████▌| 1470/1546 [03:48<00:09,  8.28it/s]"
     ]
    },
    {
     "name": "stdout",
     "output_type": "stream",
     "text": [
      "掩码中的唯一值: [  0 255]\n",
      "掩码已保存为: E:/Dataset/CBIS-DDSM/New_CBDDSM/roi/calc-training\\Calc-Training_P_02195_RIGHT_MLO_1_1-2.png\n",
      "掩码中的唯一值: [  0 255]\n",
      "掩码已保存为: E:/Dataset/CBIS-DDSM/New_CBDDSM/roi/calc-training\\Calc-Training_P_02218_LEFT_CC_1_1-2.png\n"
     ]
    },
    {
     "name": "stderr",
     "output_type": "stream",
     "text": [
      "转换文件:  95%|█████████▌| 1472/1546 [03:49<00:09,  7.74it/s]"
     ]
    },
    {
     "name": "stdout",
     "output_type": "stream",
     "text": [
      "掩码中的唯一值: [  0 255]\n",
      "掩码已保存为: E:/Dataset/CBIS-DDSM/New_CBDDSM/roi/calc-training\\Calc-Training_P_02218_LEFT_MLO_1_1-2.png\n",
      "掩码中的唯一值: [  0 255]\n",
      "掩码已保存为: E:/Dataset/CBIS-DDSM/New_CBDDSM/roi/calc-training\\Calc-Training_P_02220_LEFT_CC_1_1-2.png\n"
     ]
    },
    {
     "name": "stderr",
     "output_type": "stream",
     "text": [
      "转换文件:  95%|█████████▌| 1474/1546 [03:49<00:08,  8.10it/s]"
     ]
    },
    {
     "name": "stdout",
     "output_type": "stream",
     "text": [
      "掩码中的唯一值: [  0 255]\n",
      "掩码已保存为: E:/Dataset/CBIS-DDSM/New_CBDDSM/roi/calc-training\\Calc-Training_P_02220_LEFT_MLO_1_1-2.png\n",
      "掩码中的唯一值: [  0 255]\n",
      "掩码已保存为: E:/Dataset/CBIS-DDSM/New_CBDDSM/roi/calc-training\\Calc-Training_P_02226_LEFT_CC_1_1-2.png\n"
     ]
    },
    {
     "name": "stderr",
     "output_type": "stream",
     "text": [
      "转换文件:  95%|█████████▌| 1476/1546 [03:49<00:09,  7.36it/s]"
     ]
    },
    {
     "name": "stdout",
     "output_type": "stream",
     "text": [
      "掩码中的唯一值: [  0 255]\n",
      "掩码已保存为: E:/Dataset/CBIS-DDSM/New_CBDDSM/roi/calc-training\\Calc-Training_P_02226_LEFT_MLO_1_1-2.png\n",
      "掩码中的唯一值: [  0 255]\n",
      "掩码已保存为: E:/Dataset/CBIS-DDSM/New_CBDDSM/roi/calc-training\\Calc-Training_P_02232_LEFT_CC_1_1-2.png\n"
     ]
    },
    {
     "name": "stderr",
     "output_type": "stream",
     "text": [
      "转换文件:  96%|█████████▌| 1479/1546 [03:50<00:08,  7.79it/s]"
     ]
    },
    {
     "name": "stdout",
     "output_type": "stream",
     "text": [
      "掩码中的唯一值: [  0 255]\n",
      "掩码已保存为: E:/Dataset/CBIS-DDSM/New_CBDDSM/roi/calc-training\\Calc-Training_P_02232_LEFT_MLO_1_1-2.png\n",
      "掩码中的唯一值: [  0 255]\n",
      "掩码已保存为: E:/Dataset/CBIS-DDSM/New_CBDDSM/roi/calc-training\\Calc-Training_P_02234_LEFT_CC_1_1-2.png\n",
      "掩码中的唯一值: [  0 255]\n",
      "掩码已保存为: E:/Dataset/CBIS-DDSM/New_CBDDSM/roi/calc-training\\Calc-Training_P_02234_LEFT_MLO_1_1-2.png\n"
     ]
    },
    {
     "name": "stderr",
     "output_type": "stream",
     "text": [
      "转换文件:  96%|█████████▌| 1481/1546 [03:50<00:08,  7.42it/s]"
     ]
    },
    {
     "name": "stdout",
     "output_type": "stream",
     "text": [
      "掩码中的唯一值: [  0 255]\n",
      "掩码已保存为: E:/Dataset/CBIS-DDSM/New_CBDDSM/roi/calc-training\\Calc-Training_P_02259_LEFT_CC_1_1-2.png\n",
      "掩码中的唯一值: [  0 255]\n",
      "掩码已保存为: E:/Dataset/CBIS-DDSM/New_CBDDSM/roi/calc-training\\Calc-Training_P_02259_LEFT_MLO_1_1-2.png\n"
     ]
    },
    {
     "name": "stderr",
     "output_type": "stream",
     "text": [
      "转换文件:  96%|█████████▌| 1483/1546 [03:50<00:08,  7.07it/s]"
     ]
    },
    {
     "name": "stdout",
     "output_type": "stream",
     "text": [
      "掩码中的唯一值: [  0 255]\n",
      "掩码已保存为: E:/Dataset/CBIS-DDSM/New_CBDDSM/roi/calc-training\\Calc-Training_P_02270_RIGHT_CC_1_1-2.png\n",
      "掩码中的唯一值: [  0 255]\n",
      "掩码已保存为: E:/Dataset/CBIS-DDSM/New_CBDDSM/roi/calc-training\\Calc-Training_P_02270_RIGHT_MLO_1_1-2.png\n"
     ]
    },
    {
     "name": "stderr",
     "output_type": "stream",
     "text": [
      "转换文件:  96%|█████████▌| 1484/1546 [03:50<00:10,  6.12it/s]"
     ]
    },
    {
     "name": "stdout",
     "output_type": "stream",
     "text": [
      "掩码中的唯一值: [  0 255]\n",
      "掩码已保存为: E:/Dataset/CBIS-DDSM/New_CBDDSM/roi/calc-training\\Calc-Training_P_02285_LEFT_CC_1_1-2.png\n"
     ]
    },
    {
     "name": "stderr",
     "output_type": "stream",
     "text": [
      "转换文件:  96%|█████████▌| 1485/1546 [03:51<00:10,  5.58it/s]"
     ]
    },
    {
     "name": "stdout",
     "output_type": "stream",
     "text": [
      "掩码中的唯一值: [  0 255]\n",
      "掩码已保存为: E:/Dataset/CBIS-DDSM/New_CBDDSM/roi/calc-training\\Calc-Training_P_02285_LEFT_MLO_1_1-2.png\n"
     ]
    },
    {
     "name": "stderr",
     "output_type": "stream",
     "text": [
      "转换文件:  96%|█████████▌| 1486/1546 [03:51<00:12,  4.85it/s]"
     ]
    },
    {
     "name": "stdout",
     "output_type": "stream",
     "text": [
      "掩码中的唯一值: [  0 255]\n",
      "掩码已保存为: E:/Dataset/CBIS-DDSM/New_CBDDSM/roi/calc-training\\Calc-Training_P_02313_LEFT_CC_1_1-2.png\n"
     ]
    },
    {
     "name": "stderr",
     "output_type": "stream",
     "text": [
      "转换文件:  96%|█████████▌| 1487/1546 [03:51<00:12,  4.71it/s]"
     ]
    },
    {
     "name": "stdout",
     "output_type": "stream",
     "text": [
      "掩码中的唯一值: [  0 255]\n",
      "掩码已保存为: E:/Dataset/CBIS-DDSM/New_CBDDSM/roi/calc-training\\Calc-Training_P_02313_LEFT_MLO_1_1-2.png\n"
     ]
    },
    {
     "name": "stderr",
     "output_type": "stream",
     "text": [
      "转换文件:  96%|█████████▌| 1488/1546 [03:51<00:12,  4.50it/s]"
     ]
    },
    {
     "name": "stdout",
     "output_type": "stream",
     "text": [
      "掩码中的唯一值: [  0 255]\n",
      "掩码已保存为: E:/Dataset/CBIS-DDSM/New_CBDDSM/roi/calc-training\\Calc-Training_P_02316_RIGHT_CC_1_1-2.png\n"
     ]
    },
    {
     "name": "stderr",
     "output_type": "stream",
     "text": [
      "转换文件:  96%|█████████▋| 1490/1546 [03:52<00:12,  4.40it/s]"
     ]
    },
    {
     "name": "stdout",
     "output_type": "stream",
     "text": [
      "掩码中的唯一值: [  0 255]\n",
      "掩码已保存为: E:/Dataset/CBIS-DDSM/New_CBDDSM/roi/calc-training\\Calc-Training_P_02316_RIGHT_MLO_1_1-2.png\n",
      "掩码中的唯一值: [  0 255]\n",
      "掩码已保存为: E:/Dataset/CBIS-DDSM/New_CBDDSM/roi/calc-training\\Calc-Training_P_02318_RIGHT_CC_1_1-2.png\n"
     ]
    },
    {
     "name": "stderr",
     "output_type": "stream",
     "text": [
      "转换文件:  96%|█████████▋| 1491/1546 [03:52<00:12,  4.41it/s]"
     ]
    },
    {
     "name": "stdout",
     "output_type": "stream",
     "text": [
      "掩码中的唯一值: [  0 255]\n",
      "掩码已保存为: E:/Dataset/CBIS-DDSM/New_CBDDSM/roi/calc-training\\Calc-Training_P_02318_RIGHT_MLO_1_1-2.png\n"
     ]
    },
    {
     "name": "stderr",
     "output_type": "stream",
     "text": [
      "转换文件:  97%|█████████▋| 1492/1546 [03:52<00:12,  4.36it/s]"
     ]
    },
    {
     "name": "stdout",
     "output_type": "stream",
     "text": [
      "掩码中的唯一值: [  0 255]\n",
      "掩码已保存为: E:/Dataset/CBIS-DDSM/New_CBDDSM/roi/calc-training\\Calc-Training_P_02323_LEFT_CC_1_1-2.png\n"
     ]
    },
    {
     "name": "stderr",
     "output_type": "stream",
     "text": [
      "转换文件:  97%|█████████▋| 1493/1546 [03:53<00:12,  4.19it/s]"
     ]
    },
    {
     "name": "stdout",
     "output_type": "stream",
     "text": [
      "掩码中的唯一值: [  0 255]\n",
      "掩码已保存为: E:/Dataset/CBIS-DDSM/New_CBDDSM/roi/calc-training\\Calc-Training_P_02323_LEFT_MLO_1_1-2.png\n"
     ]
    },
    {
     "name": "stderr",
     "output_type": "stream",
     "text": [
      "转换文件:  97%|█████████▋| 1494/1546 [03:53<00:12,  4.30it/s]"
     ]
    },
    {
     "name": "stdout",
     "output_type": "stream",
     "text": [
      "掩码中的唯一值: [  0 255]\n",
      "掩码已保存为: E:/Dataset/CBIS-DDSM/New_CBDDSM/roi/calc-training\\Calc-Training_P_02348_RIGHT_CC_1_1-2.png\n"
     ]
    },
    {
     "name": "stderr",
     "output_type": "stream",
     "text": [
      "转换文件:  97%|█████████▋| 1496/1546 [03:53<00:10,  4.57it/s]"
     ]
    },
    {
     "name": "stdout",
     "output_type": "stream",
     "text": [
      "掩码中的唯一值: [  0 255]\n",
      "掩码已保存为: E:/Dataset/CBIS-DDSM/New_CBDDSM/roi/calc-training\\Calc-Training_P_02348_RIGHT_MLO_1_1-2.png\n",
      "掩码中的唯一值: [  0 255]\n",
      "掩码已保存为: E:/Dataset/CBIS-DDSM/New_CBDDSM/roi/calc-training\\Calc-Training_P_02368_RIGHT_CC_1_1-2.png\n"
     ]
    },
    {
     "name": "stderr",
     "output_type": "stream",
     "text": [
      "转换文件:  97%|█████████▋| 1498/1546 [03:53<00:08,  5.46it/s]"
     ]
    },
    {
     "name": "stdout",
     "output_type": "stream",
     "text": [
      "掩码中的唯一值: [  0 255]\n",
      "掩码已保存为: E:/Dataset/CBIS-DDSM/New_CBDDSM/roi/calc-training\\Calc-Training_P_02368_RIGHT_MLO_1_1-2.png\n",
      "掩码中的唯一值: [  0 255]\n",
      "掩码已保存为: E:/Dataset/CBIS-DDSM/New_CBDDSM/roi/calc-training\\Calc-Training_P_02380_LEFT_CC_1_1-2.png\n"
     ]
    },
    {
     "name": "stderr",
     "output_type": "stream",
     "text": [
      "转换文件:  97%|█████████▋| 1500/1546 [03:54<00:07,  6.34it/s]"
     ]
    },
    {
     "name": "stdout",
     "output_type": "stream",
     "text": [
      "掩码中的唯一值: [  0 255]\n",
      "掩码已保存为: E:/Dataset/CBIS-DDSM/New_CBDDSM/roi/calc-training\\Calc-Training_P_02380_LEFT_MLO_1_1-2.png\n",
      "掩码中的唯一值: [  0 255]\n",
      "掩码已保存为: E:/Dataset/CBIS-DDSM/New_CBDDSM/roi/calc-training\\Calc-Training_P_02393_LEFT_CC_1_1-2.png\n"
     ]
    },
    {
     "name": "stderr",
     "output_type": "stream",
     "text": [
      "转换文件:  97%|█████████▋| 1502/1546 [03:54<00:06,  6.60it/s]"
     ]
    },
    {
     "name": "stdout",
     "output_type": "stream",
     "text": [
      "掩码中的唯一值: [  0 255]\n",
      "掩码已保存为: E:/Dataset/CBIS-DDSM/New_CBDDSM/roi/calc-training\\Calc-Training_P_02393_LEFT_MLO_1_1-2.png\n",
      "掩码中的唯一值: [  0 255]\n",
      "掩码已保存为: E:/Dataset/CBIS-DDSM/New_CBDDSM/roi/calc-training\\Calc-Training_P_02400_LEFT_CC_1_1-2.png\n"
     ]
    },
    {
     "name": "stderr",
     "output_type": "stream",
     "text": [
      "转换文件:  97%|█████████▋| 1504/1546 [03:54<00:06,  6.86it/s]"
     ]
    },
    {
     "name": "stdout",
     "output_type": "stream",
     "text": [
      "掩码中的唯一值: [  0 255]\n",
      "掩码已保存为: E:/Dataset/CBIS-DDSM/New_CBDDSM/roi/calc-training\\Calc-Training_P_02400_LEFT_MLO_1_1-2.png\n",
      "掩码中的唯一值: [  0 255]\n",
      "掩码已保存为: E:/Dataset/CBIS-DDSM/New_CBDDSM/roi/calc-training\\Calc-Training_P_02402_RIGHT_CC_1_1-2.png\n"
     ]
    },
    {
     "name": "stderr",
     "output_type": "stream",
     "text": [
      "转换文件:  97%|█████████▋| 1506/1546 [03:55<00:05,  7.10it/s]"
     ]
    },
    {
     "name": "stdout",
     "output_type": "stream",
     "text": [
      "掩码中的唯一值: [  0 255]\n",
      "掩码已保存为: E:/Dataset/CBIS-DDSM/New_CBDDSM/roi/calc-training\\Calc-Training_P_02402_RIGHT_MLO_1_1-2.png\n",
      "掩码中的唯一值: [  0 255]\n",
      "掩码已保存为: E:/Dataset/CBIS-DDSM/New_CBDDSM/roi/calc-training\\Calc-Training_P_02405_RIGHT_CC_1_1-2.png\n"
     ]
    },
    {
     "name": "stderr",
     "output_type": "stream",
     "text": [
      "转换文件:  98%|█████████▊| 1508/1546 [03:55<00:04,  7.65it/s]"
     ]
    },
    {
     "name": "stdout",
     "output_type": "stream",
     "text": [
      "掩码中的唯一值: [  0 255]\n",
      "掩码已保存为: E:/Dataset/CBIS-DDSM/New_CBDDSM/roi/calc-training\\Calc-Training_P_02405_RIGHT_MLO_1_1-2.png\n",
      "掩码中的唯一值: [  0 255]\n",
      "掩码已保存为: E:/Dataset/CBIS-DDSM/New_CBDDSM/roi/calc-training\\Calc-Training_P_02409_RIGHT_CC_1_1-2.png\n"
     ]
    },
    {
     "name": "stderr",
     "output_type": "stream",
     "text": [
      "转换文件:  98%|█████████▊| 1510/1546 [03:55<00:04,  7.96it/s]"
     ]
    },
    {
     "name": "stdout",
     "output_type": "stream",
     "text": [
      "掩码中的唯一值: [  0 255]\n",
      "掩码已保存为: E:/Dataset/CBIS-DDSM/New_CBDDSM/roi/calc-training\\Calc-Training_P_02409_RIGHT_MLO_1_1-2.png\n",
      "掩码中的唯一值: [  0 255]\n",
      "掩码已保存为: E:/Dataset/CBIS-DDSM/New_CBDDSM/roi/calc-training\\Calc-Training_P_02419_LEFT_CC_1_1-2.png\n"
     ]
    },
    {
     "name": "stderr",
     "output_type": "stream",
     "text": [
      "转换文件:  98%|█████████▊| 1512/1546 [03:55<00:04,  7.41it/s]"
     ]
    },
    {
     "name": "stdout",
     "output_type": "stream",
     "text": [
      "掩码中的唯一值: [  0 255]\n",
      "掩码已保存为: E:/Dataset/CBIS-DDSM/New_CBDDSM/roi/calc-training\\Calc-Training_P_02419_LEFT_MLO_1_1-2.png\n",
      "掩码中的唯一值: [  0 255]\n",
      "掩码已保存为: E:/Dataset/CBIS-DDSM/New_CBDDSM/roi/calc-training\\Calc-Training_P_02424_RIGHT_CC_1_1-2.png\n"
     ]
    },
    {
     "name": "stderr",
     "output_type": "stream",
     "text": [
      "转换文件:  98%|█████████▊| 1514/1546 [03:56<00:04,  6.60it/s]"
     ]
    },
    {
     "name": "stdout",
     "output_type": "stream",
     "text": [
      "掩码中的唯一值: [  0 255]\n",
      "掩码已保存为: E:/Dataset/CBIS-DDSM/New_CBDDSM/roi/calc-training\\Calc-Training_P_02424_RIGHT_MLO_1_1-2.png\n",
      "掩码中的唯一值: [  0 255]\n",
      "掩码已保存为: E:/Dataset/CBIS-DDSM/New_CBDDSM/roi/calc-training\\Calc-Training_P_02434_LEFT_CC_1_1-2.png\n"
     ]
    },
    {
     "name": "stderr",
     "output_type": "stream",
     "text": [
      "转换文件:  98%|█████████▊| 1515/1546 [03:56<00:04,  6.21it/s]"
     ]
    },
    {
     "name": "stdout",
     "output_type": "stream",
     "text": [
      "掩码中的唯一值: [  0 255]\n",
      "掩码已保存为: E:/Dataset/CBIS-DDSM/New_CBDDSM/roi/calc-training\\Calc-Training_P_02434_LEFT_MLO_1_1-2.png\n"
     ]
    },
    {
     "name": "stderr",
     "output_type": "stream",
     "text": [
      "转换文件:  98%|█████████▊| 1516/1546 [03:56<00:05,  5.26it/s]"
     ]
    },
    {
     "name": "stdout",
     "output_type": "stream",
     "text": [
      "掩码中的唯一值: [  0 255]\n",
      "掩码已保存为: E:/Dataset/CBIS-DDSM/New_CBDDSM/roi/calc-training\\Calc-Training_P_02437_LEFT_CC_1_1-2.png\n"
     ]
    },
    {
     "name": "stderr",
     "output_type": "stream",
     "text": [
      "转换文件:  98%|█████████▊| 1518/1546 [03:57<00:05,  4.98it/s]"
     ]
    },
    {
     "name": "stdout",
     "output_type": "stream",
     "text": [
      "掩码中的唯一值: [  0 255]\n",
      "掩码已保存为: E:/Dataset/CBIS-DDSM/New_CBDDSM/roi/calc-training\\Calc-Training_P_02437_LEFT_MLO_1_1-2.png\n",
      "掩码中的唯一值: [  0 255]\n",
      "掩码已保存为: E:/Dataset/CBIS-DDSM/New_CBDDSM/roi/calc-training\\Calc-Training_P_02442_LEFT_CC_1_1-2.png\n"
     ]
    },
    {
     "name": "stderr",
     "output_type": "stream",
     "text": [
      "转换文件:  98%|█████████▊| 1519/1546 [03:57<00:04,  5.41it/s]"
     ]
    },
    {
     "name": "stdout",
     "output_type": "stream",
     "text": [
      "掩码中的唯一值: [  0 255]\n",
      "掩码已保存为: E:/Dataset/CBIS-DDSM/New_CBDDSM/roi/calc-training\\Calc-Training_P_02442_LEFT_MLO_1_1-2.png\n"
     ]
    },
    {
     "name": "stderr",
     "output_type": "stream",
     "text": [
      "转换文件:  98%|█████████▊| 1521/1546 [03:57<00:04,  5.48it/s]"
     ]
    },
    {
     "name": "stdout",
     "output_type": "stream",
     "text": [
      "掩码中的唯一值: [  0 255]\n",
      "掩码已保存为: E:/Dataset/CBIS-DDSM/New_CBDDSM/roi/calc-training\\Calc-Training_P_02456_LEFT_MLO_1_1-2.png\n",
      "掩码中的唯一值: [  0 255]\n",
      "掩码已保存为: E:/Dataset/CBIS-DDSM/New_CBDDSM/roi/calc-training\\Calc-Training_P_02459_RIGHT_CC_1_1-2.png\n"
     ]
    },
    {
     "name": "stderr",
     "output_type": "stream",
     "text": [
      "转换文件:  99%|█████████▊| 1523/1546 [03:57<00:03,  6.00it/s]"
     ]
    },
    {
     "name": "stdout",
     "output_type": "stream",
     "text": [
      "掩码中的唯一值: [  0 255]\n",
      "掩码已保存为: E:/Dataset/CBIS-DDSM/New_CBDDSM/roi/calc-training\\Calc-Training_P_02459_RIGHT_MLO_1_1-2.png\n",
      "掩码中的唯一值: [  0 255]\n",
      "掩码已保存为: E:/Dataset/CBIS-DDSM/New_CBDDSM/roi/calc-training\\Calc-Training_P_02460_RIGHT_CC_1_1-2.png\n"
     ]
    },
    {
     "name": "stderr",
     "output_type": "stream",
     "text": [
      "转换文件:  99%|█████████▊| 1525/1546 [03:58<00:02,  7.33it/s]"
     ]
    },
    {
     "name": "stdout",
     "output_type": "stream",
     "text": [
      "掩码中的唯一值: [  0 255]\n",
      "掩码已保存为: E:/Dataset/CBIS-DDSM/New_CBDDSM/roi/calc-training\\Calc-Training_P_02460_RIGHT_MLO_1_1-2.png\n",
      "掩码中的唯一值: [  0 255]\n",
      "掩码已保存为: E:/Dataset/CBIS-DDSM/New_CBDDSM/roi/calc-training\\Calc-Training_P_02468_LEFT_CC_1_1-2.png\n"
     ]
    },
    {
     "name": "stderr",
     "output_type": "stream",
     "text": [
      "转换文件:  99%|█████████▉| 1527/1546 [03:58<00:02,  7.35it/s]"
     ]
    },
    {
     "name": "stdout",
     "output_type": "stream",
     "text": [
      "掩码中的唯一值: [  0 255]\n",
      "掩码已保存为: E:/Dataset/CBIS-DDSM/New_CBDDSM/roi/calc-training\\Calc-Training_P_02468_LEFT_MLO_1_1-2.png\n",
      "掩码中的唯一值: [  0 255]\n",
      "掩码已保存为: E:/Dataset/CBIS-DDSM/New_CBDDSM/roi/calc-training\\Calc-Training_P_02475_LEFT_CC_1_1-2.png\n"
     ]
    },
    {
     "name": "stderr",
     "output_type": "stream",
     "text": [
      "转换文件:  99%|█████████▉| 1529/1546 [03:58<00:02,  7.92it/s]"
     ]
    },
    {
     "name": "stdout",
     "output_type": "stream",
     "text": [
      "掩码中的唯一值: [  0 255]\n",
      "掩码已保存为: E:/Dataset/CBIS-DDSM/New_CBDDSM/roi/calc-training\\Calc-Training_P_02475_LEFT_MLO_1_1-2.png\n",
      "掩码中的唯一值: [  0 255]\n",
      "掩码已保存为: E:/Dataset/CBIS-DDSM/New_CBDDSM/roi/calc-training\\Calc-Training_P_02489_RIGHT_CC_1_1-2.png\n"
     ]
    },
    {
     "name": "stderr",
     "output_type": "stream",
     "text": [
      "转换文件:  99%|█████████▉| 1531/1546 [03:58<00:02,  7.38it/s]"
     ]
    },
    {
     "name": "stdout",
     "output_type": "stream",
     "text": [
      "掩码中的唯一值: [  0 255]\n",
      "掩码已保存为: E:/Dataset/CBIS-DDSM/New_CBDDSM/roi/calc-training\\Calc-Training_P_02489_RIGHT_MLO_1_1-2.png\n",
      "掩码中的唯一值: [  0 255]\n",
      "掩码已保存为: E:/Dataset/CBIS-DDSM/New_CBDDSM/roi/calc-training\\Calc-Training_P_02508_LEFT_CC_1_1-2.png\n"
     ]
    },
    {
     "name": "stderr",
     "output_type": "stream",
     "text": [
      "转换文件:  99%|█████████▉| 1533/1546 [03:59<00:01,  7.05it/s]"
     ]
    },
    {
     "name": "stdout",
     "output_type": "stream",
     "text": [
      "掩码中的唯一值: [  0 255]\n",
      "掩码已保存为: E:/Dataset/CBIS-DDSM/New_CBDDSM/roi/calc-training\\Calc-Training_P_02508_LEFT_MLO_1_1-2.png\n",
      "掩码中的唯一值: [  0 255]\n",
      "掩码已保存为: E:/Dataset/CBIS-DDSM/New_CBDDSM/roi/calc-training\\Calc-Training_P_02518_RIGHT_CC_1_1-2.png\n"
     ]
    },
    {
     "name": "stderr",
     "output_type": "stream",
     "text": [
      "转换文件:  99%|█████████▉| 1535/1546 [03:59<00:01,  6.09it/s]"
     ]
    },
    {
     "name": "stdout",
     "output_type": "stream",
     "text": [
      "掩码中的唯一值: [  0 255]\n",
      "掩码已保存为: E:/Dataset/CBIS-DDSM/New_CBDDSM/roi/calc-training\\Calc-Training_P_02518_RIGHT_MLO_1_1-2.png\n",
      "掩码中的唯一值: [  0 255]\n",
      "掩码已保存为: E:/Dataset/CBIS-DDSM/New_CBDDSM/roi/calc-training\\Calc-Training_P_02522_RIGHT_CC_1_1-2.png\n"
     ]
    },
    {
     "name": "stderr",
     "output_type": "stream",
     "text": [
      "转换文件:  99%|█████████▉| 1537/1546 [03:59<00:01,  5.77it/s]"
     ]
    },
    {
     "name": "stdout",
     "output_type": "stream",
     "text": [
      "掩码中的唯一值: [  0 255]\n",
      "掩码已保存为: E:/Dataset/CBIS-DDSM/New_CBDDSM/roi/calc-training\\Calc-Training_P_02522_RIGHT_MLO_1_1-2.png\n",
      "掩码中的唯一值: [  0 255]\n",
      "掩码已保存为: E:/Dataset/CBIS-DDSM/New_CBDDSM/roi/calc-training\\Calc-Training_P_02559_RIGHT_CC_1_1-2.png\n"
     ]
    },
    {
     "name": "stderr",
     "output_type": "stream",
     "text": [
      "转换文件: 100%|█████████▉| 1539/1546 [04:00<00:01,  5.23it/s]"
     ]
    },
    {
     "name": "stdout",
     "output_type": "stream",
     "text": [
      "掩码中的唯一值: [  0 255]\n",
      "掩码已保存为: E:/Dataset/CBIS-DDSM/New_CBDDSM/roi/calc-training\\Calc-Training_P_02559_RIGHT_MLO_1_1-2.png\n",
      "掩码中的唯一值: [  0 255]\n",
      "掩码已保存为: E:/Dataset/CBIS-DDSM/New_CBDDSM/roi/calc-training\\Calc-Training_P_02563_RIGHT_CC_1_1-2.png\n"
     ]
    },
    {
     "name": "stderr",
     "output_type": "stream",
     "text": [
      "转换文件: 100%|█████████▉| 1540/1546 [04:00<00:01,  5.33it/s]"
     ]
    },
    {
     "name": "stdout",
     "output_type": "stream",
     "text": [
      "掩码中的唯一值: [  0 255]\n",
      "掩码已保存为: E:/Dataset/CBIS-DDSM/New_CBDDSM/roi/calc-training\\Calc-Training_P_02563_RIGHT_MLO_1_1-2.png\n"
     ]
    },
    {
     "name": "stderr",
     "output_type": "stream",
     "text": [
      "转换文件: 100%|█████████▉| 1541/1546 [04:00<00:00,  5.09it/s]"
     ]
    },
    {
     "name": "stdout",
     "output_type": "stream",
     "text": [
      "掩码中的唯一值: [  0 255]\n",
      "掩码已保存为: E:/Dataset/CBIS-DDSM/New_CBDDSM/roi/calc-training\\Calc-Training_P_02566_RIGHT_CC_1_1-2.png\n"
     ]
    },
    {
     "name": "stderr",
     "output_type": "stream",
     "text": [
      "转换文件: 100%|█████████▉| 1542/1546 [04:00<00:00,  4.99it/s]"
     ]
    },
    {
     "name": "stdout",
     "output_type": "stream",
     "text": [
      "掩码中的唯一值: [  0 255]\n",
      "掩码已保存为: E:/Dataset/CBIS-DDSM/New_CBDDSM/roi/calc-training\\Calc-Training_P_02566_RIGHT_MLO_1_1-2.png\n",
      "掩码中的唯一值: [  0 255]\n"
     ]
    },
    {
     "name": "stderr",
     "output_type": "stream",
     "text": [
      "转换文件: 100%|█████████▉| 1543/1546 [04:01<00:00,  4.87it/s]"
     ]
    },
    {
     "name": "stdout",
     "output_type": "stream",
     "text": [
      "掩码已保存为: E:/Dataset/CBIS-DDSM/New_CBDDSM/roi/calc-training\\Calc-Training_P_02572_LEFT_CC_1_1-2.png\n"
     ]
    },
    {
     "name": "stderr",
     "output_type": "stream",
     "text": [
      "转换文件: 100%|█████████▉| 1544/1546 [04:01<00:00,  4.66it/s]"
     ]
    },
    {
     "name": "stdout",
     "output_type": "stream",
     "text": [
      "掩码中的唯一值: [  0 255]\n",
      "掩码已保存为: E:/Dataset/CBIS-DDSM/New_CBDDSM/roi/calc-training\\Calc-Training_P_02572_LEFT_MLO_1_1-2.png\n"
     ]
    },
    {
     "name": "stderr",
     "output_type": "stream",
     "text": [
      "转换文件: 100%|█████████▉| 1545/1546 [04:01<00:00,  4.44it/s]"
     ]
    },
    {
     "name": "stdout",
     "output_type": "stream",
     "text": [
      "掩码中的唯一值: [  0 255]\n",
      "掩码已保存为: E:/Dataset/CBIS-DDSM/New_CBDDSM/roi/calc-training\\Calc-Training_P_02584_LEFT_CC_1_1-2.png\n"
     ]
    },
    {
     "name": "stderr",
     "output_type": "stream",
     "text": [
      "转换文件: 100%|██████████| 1546/1546 [04:01<00:00,  6.39it/s]"
     ]
    },
    {
     "name": "stdout",
     "output_type": "stream",
     "text": [
      "掩码中的唯一值: [  0 255]\n",
      "掩码已保存为: E:/Dataset/CBIS-DDSM/New_CBDDSM/roi/calc-training\\Calc-Training_P_02584_LEFT_MLO_1_1-2.png\n",
      "转换完成！更新后的CSV文件已保存为：E:/Dataset/CBIS-DDSM/New_CBDDSM/roi/calc-training\\calc-training_png.csv\n"
     ]
    },
    {
     "name": "stderr",
     "output_type": "stream",
     "text": [
      "\n"
     ]
    }
   ],
   "source": [
    "def convert_roi_masks_to_png(csv_file, output_dir):\n",
    "    \"\"\"\n",
    "    将CSV文件中img_path列的DICOM文件转换为PNG文件，并更新CSV中的路径\n",
    "    \n",
    "    :param csv_file: 包含img_path列的CSV文件路径\n",
    "    :param output_dir: 存储转换后PNG文件的目录\n",
    "    :return: 包含更新后路径的DataFrame\n",
    "    \"\"\"\n",
    "    # 确保输出目录存在\n",
    "    os.makedirs(output_dir, exist_ok=True)\n",
    "    \n",
    "    # 读取CSV文件\n",
    "    df = pd.read_csv(csv_file)\n",
    "    \n",
    "    # 检查是否存在img_path列\n",
    "    if 'roi_path' not in df.columns:\n",
    "        raise ValueError(f\"CSV文件 {csv_file} 中不存在 'roi_path' 列\")\n",
    "    \n",
    "    # 为每个DICOM文件创建一个新路径并进行转换\n",
    "    new_paths = []\n",
    "    \n",
    "    for idx, row in tqdm.tqdm(df.iterrows(), total=len(df), desc=\"转换文件\"):\n",
    "        dicom_path = row['roi_path']\n",
    "        \n",
    "        # 从路径中提取文件名，不带扩展名\n",
    "        filename = os.path.basename(dicom_path).split('.')[0]\n",
    "        # 使用图像ID构建唯一的文件名\n",
    "        image_id = row['img']\n",
    "        png_filename = f\"{image_id}_{filename}.png\"\n",
    "        png_path = os.path.join(output_dir, png_filename)\n",
    "        \n",
    "        try:\n",
    "            # 转换DICOM为PNG\n",
    "            save_dicom_mask_as_png(dicom_path, png_path)\n",
    "            # 更新路径\n",
    "            new_paths.append(png_path)\n",
    "        except Exception as e:\n",
    "            print(f\"处理 {dicom_path} 时出错: {str(e)}\")\n",
    "            # 如果转换失败，保留原始路径\n",
    "            new_paths.append(dicom_path)\n",
    "    \n",
    "    # 更新DataFrame中的路径\n",
    "    df['img_path'] = new_paths\n",
    "    \n",
    "    # 保存更新后的CSV\n",
    "    output_csv = os.path.join(output_dir, os.path.basename(csv_file).replace('.csv', '_png.csv'))\n",
    "    df.to_csv(output_csv, index=False)\n",
    "    \n",
    "    print(f\"转换完成！更新后的CSV文件已保存为：{output_csv}\")\n",
    "    return df\n",
    "\n",
    "# 示例用法\n",
    "if __name__ == \"__main__\":\n",
    "    # 设置CSV文件路径和输出目录\n",
    "    csv_file = \"E:/Dataset/CBIS-DDSM/mask_csv/calc-training.csv\"\n",
    "    output_dir = \"E:/Dataset/CBIS-DDSM/New_CBDDSM/roi/calc-training\"\n",
    "    \n",
    "    # 执行转换\n",
    "    updated_df = convert_roi_masks_to_png(csv_file, output_dir)"
   ]
  }
 ],
 "metadata": {
  "kernelspec": {
   "display_name": "base",
   "language": "python",
   "name": "python3"
  },
  "language_info": {
   "codemirror_mode": {
    "name": "ipython",
    "version": 3
   },
   "file_extension": ".py",
   "mimetype": "text/x-python",
   "name": "python",
   "nbconvert_exporter": "python",
   "pygments_lexer": "ipython3",
   "version": "3.12.4"
  }
 },
 "nbformat": 4,
 "nbformat_minor": 5
}
