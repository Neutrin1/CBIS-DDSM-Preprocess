{
 "cells": [
  {
   "cell_type": "code",
   "execution_count": null,
   "metadata": {},
   "outputs": [],
   "source": [
    "#!/usr/bin/env python\n",
    "# -*- encoding: utf-8 -*-\n",
    "'''\n",
    "@File    :   convert_dicom.ipynb\n",
    "@Time    :   2025/05/08 10:49:07\n",
    "@Author  :   Neutrin \n",
    "'''\n",
    "\n",
    "# here put the import lib\n",
    "import os \n",
    "import pandas as pd \n",
    "import pydicom as dicom\n",
    "import matplotlib.pyplot as plt\n"
   ]
  },
  {
   "cell_type": "code",
   "execution_count": 6,
   "metadata": {},
   "outputs": [],
   "source": [
    "#此函数基于Adam Jaamour开发的代码\n",
    "#https://github.com/Adamouization/Breast-Cancer-Detection-Mammogram-Deep-Learning\n",
    "def mammograms_retrieval():\n",
    "    \n",
    "    \n",
    "    \"\"\"\n",
    "    此函数检索CBIS-DDSM中所有乳房X光照片(3103张)的路径。\n",
    "    您需要从以下链接导入原始csv文件：\n",
    "    \"https://wiki.cancerimagingarchive.net/pages/viewpage.action?pageId=22516629\"。\n",
    "    该函数输出4个csv文件。每个csv文件包含以下列：\n",
    "    img id：对应于存放掩码的文件夹名称。\n",
    "    img_path：图像在本地机器上的路径。\n",
    "    label：图像病理学分类(良性或恶性)。BENIGN-WHITOUT-CALLBACK被替换为Benign。\n",
    "    \n",
    "    \"\"\"\n",
    "    #包含乳房X光照片的文件夹路径\n",
    "    img_root = 'E:/Dataset/CBIS-DDSM/main_data/CBIS-DDSM'\n",
    "    #包含csv文件的文件夹路径\n",
    "    csv_root = 'E:/Dataset/CBIS-DDSM/main_data/csv'\n",
    "    #您想保存包含乳房X光照片本地路径的新csv文件的文件夹\n",
    "    csv_output_path = 'E:/Dataset/CBIS-DDSM/new_csv'\n",
    "    folders = os.listdir(img_root)\n",
    "    cases_dict = dict()  #保存图像ID和路径\n",
    "    \n",
    "    \n",
    "    for f in folders:\n",
    "        if f.endswith('_CC') or f.endswith('_MLO'):  #过滤掉裁剪过的图像\n",
    "            path = list()\n",
    "\n",
    "            for root, dirs, files in os.walk(img_root + '/' + f):  #检索图像的路径\n",
    "                for d in dirs:\n",
    "                    path.append(d)\n",
    "                for filename in files:\n",
    "                    path.append(filename)\n",
    "\n",
    "            img_path = img_root + '/' + f + '/' + '/'.join(path)  #生成图像路径\n",
    "            cases_dict[f] = img_path\n",
    "            \n",
    "    df = pd.DataFrame(list(cases_dict.items()), columns=['img', 'img_path']) \n",
    "    \n",
    "    type_dict = {'Calc-Test': 'calc_case_description_test_set.csv',\n",
    "                 'Calc-Training': 'calc_case_description_train_set.csv',\n",
    "                 'Mass-Test': 'mass_case_description_test_set.csv',\n",
    "                 'Mass-Training': 'mass_case_description_train_set.csv'}\n",
    "\n",
    "    for t in type_dict.keys():  #根据类型处理图像\n",
    "            df_subset = df[df['img'].str.startswith(t)]\n",
    "\n",
    "            df_csv = pd.read_csv(csv_root + '/' + type_dict[t],\n",
    "                                 usecols=['pathology', 'image file path'])  #读取原始csv文件\n",
    "            df_csv['img'] = df_csv.apply(lambda row: row['image file path'].split('/')[0],\n",
    "                                         axis=1)  #从路径中提取图像ID\n",
    "            df_csv['pathology'] = df_csv.apply(\n",
    "                lambda row: 'BENIGN' if row['pathology'] == 'BENIGN_WITHOUT_CALLBACK' else row['pathology'],\n",
    "                axis=1)  #将病理学'BENIGN_WITHOUT_CALLBACK'替换为'BENIGN'\n",
    "\n",
    "            df_csv = df_csv.drop_duplicates(subset=[\"img\"]) #移除重复的乳房X光照片(原始csv文件将具有多个异常的乳房X光照片分配给不同的掩码)\n",
    "\n",
    "            df_subset_new = pd.merge(df_subset, df_csv, how='inner',\n",
    "                                     on='img') #基于图像ID合并图像路径和病理学信息\n",
    "\n",
    "            df_subset_new = df_subset_new.drop(columns=[\"image file path\"])\n",
    "\n",
    "            df_subset_new.to_csv(csv_output_path + '/' + t.lower() + '.csv',\n",
    "                                 index=False)  #以csv格式输出合并后的数据框\n",
    "\n",
    "            print(t)\n",
    "            print('data_cnt: %d' % len(df_subset_new))\n",
    "            \n",
    "    print('完成检索乳房X光照片路径！')"
   ]
  },
  {
   "cell_type": "code",
   "execution_count": 7,
   "metadata": {},
   "outputs": [
    {
     "name": "stdout",
     "output_type": "stream",
     "text": [
      "Calc-Test\n",
      "data_cnt: 284\n",
      "Calc-Training\n",
      "data_cnt: 1227\n",
      "Mass-Test\n",
      "data_cnt: 361\n",
      "Mass-Training\n",
      "data_cnt: 1231\n",
      "完成检索乳房X光照片路径！\n"
     ]
    }
   ],
   "source": [
    "mammograms_retrieval()"
   ]
  },
  {
   "cell_type": "code",
   "execution_count": null,
   "metadata": {},
   "outputs": [],
   "source": []
  }
 ],
 "metadata": {
  "kernelspec": {
   "display_name": "base",
   "language": "python",
   "name": "python3"
  },
  "language_info": {
   "codemirror_mode": {
    "name": "ipython",
    "version": 3
   },
   "file_extension": ".py",
   "mimetype": "text/x-python",
   "name": "python",
   "nbconvert_exporter": "python",
   "pygments_lexer": "ipython3",
   "version": "3.12.4"
  }
 },
 "nbformat": 4,
 "nbformat_minor": 5
}
