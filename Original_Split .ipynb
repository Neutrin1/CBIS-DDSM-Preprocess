{
 "cells": [
  {
   "cell_type": "code",
   "execution_count": 1,
   "id": "d663b02d",
   "metadata": {},
   "outputs": [],
   "source": [
    "#!/usr/bin/env python\n",
    "# -*- encoding: utf-8 -*-\n",
    "'''\n",
    "@File    :   Original_Split .ipynb\n",
    "@Time    :   2025/05/08 10:49:52\n",
    "@Author  :   Neutrin \n",
    "'''\n",
    "\n",
    "# here put the import lib\n",
    "\n",
    "import pandas as pd \n"
   ]
  },
  {
   "cell_type": "code",
   "execution_count": 3,
   "id": "616bb9b1",
   "metadata": {},
   "outputs": [],
   "source": [
    "# 定义掩码CSV文件和乳腺X光片CSV文件的路径\n",
    "csv_mask_path = 'E:/Dataset/CBIS-DDSM/New_CBDDSM/roi/csv'\n",
    "csv_mam_path = 'E:/Dataset/CBIS-DDSM/New_CBDDSM/img/csv'\n",
    "\n",
    "# 创建包含两种数据集路径的字典\n",
    "files = {'Mam_Set':csv_mam_path,'Mask_Set':csv_mask_path}\n",
    "# 定义要处理的两种图像类型（钙化和肿块）\n",
    "type_dict = ['Calc-Training','Mass-Training']\n",
    "\n",
    "\n",
    "final_dfs = dict()  # 存储最终处理后的数据框\n",
    "for path in files.keys():  # 遍历两种数据集（乳腺X光片和掩码）\n",
    "    dfs=[]  # 临时存储当前数据集类型的所有数据框\n",
    "    for i in type_dict:  # 遍历两种图像类型（钙化和肿块）\n",
    "\n",
    "        # 读取CSV文件并将\"pathology\"列重命名为\"label\"\n",
    "        data = pd.read_csv(files[path]+'/'+i.lower()+'.csv')\n",
    "        data = data.rename(columns={\"pathology\": \"label\"})\n",
    "\n",
    "        # 对钙化图像类型进行标签编码：恶性=1, 良性=2\n",
    "        if i.startswith(\"Calc\"):\n",
    "            labels = {\"MALIGNANT\":1 , \"BENIGN\":2}\n",
    "            data[\"label\"]= data.label.map(labels)\n",
    "        # 对肿块图像类型进行标签编码：恶性=3, 良性=4\n",
    "        else:\n",
    "            labels = {\"MALIGNANT\":3 , \"BENIGN\":4}  \n",
    "            data[\"label\"]= data.label.map(labels)\n",
    "\n",
    "        dfs.append(data)  # 将处理后的数据添加到列表\n",
    "\n",
    "    # 合并同一数据集类型下的所有数据框\n",
    "    final_df = pd.concat(dfs)\n",
    "    \n",
    "    # 将合并后的数据框存入字典\n",
    "    final_dfs[path] = final_df"
   ]
  },
  {
   "cell_type": "code",
   "execution_count": 4,
   "id": "88b92eff",
   "metadata": {},
   "outputs": [],
   "source": [
    "# 处理乳腺X光片数据集\n",
    "mam_df = final_dfs['Mam_Set'].reset_index(drop= True)  # 重置索引\n",
    "final_mam_df = mam_df.drop(columns=[\"img\"])  # 删除图像ID列\n",
    "# 保存乳腺X光片训练集CSV\n",
    "final_mam_df.to_csv(csv_mam_path+'/'+'official_mam_train_set.csv',index = False)\n",
    "\n",
    "# 重命名列，准备与掩码数据合并\n",
    "mam_df = mam_df.rename(columns={\"img\": \"merge\",\"label\":\"label_mam\"})\n",
    "\n",
    "# 处理掩码数据集\n",
    "mask_df = final_dfs['Mask_Set'].reset_index(drop= True)  # 重置索引\n",
    "\n",
    "# 创建匹配列：从掩码图像ID中去掉后两个字符（通常是\"_1\"或\"_2\"）\n",
    "# 这样可以将掩码与对应的原始乳腺X光片匹配\n",
    "mask_df['merge'] = mask_df.apply(lambda row: row['img'][:-2],\n",
    "                                         axis=1) \n",
    "\n",
    "# 基于匹配列合并乳腺X光片和掩码数据\n",
    "new_mask_df = pd.merge(mask_df, mam_df, how='inner',\n",
    "                                     on='merge')\n",
    "\n",
    "# 清理合并后的数据框，删除不需要的列\n",
    "new_mask_df = new_mask_df.drop(columns=[\"img\",\"merge\",\"label_mam\"])\n",
    "\n",
    "# 重新排列列的顺序\n",
    "new_mask_df = new_mask_df.iloc[:,[2,0,1]]\n",
    "\n",
    "# 保存掩码训练集CSV\n",
    "new_mask_df.to_csv(\"official_mask_train_set.csv\",index=False)"
   ]
  },
  {
   "cell_type": "code",
   "execution_count": null,
   "id": "e2f54fa4",
   "metadata": {},
   "outputs": [],
   "source": []
  }
 ],
 "metadata": {
  "kernelspec": {
   "display_name": "base",
   "language": "python",
   "name": "python3"
  },
  "language_info": {
   "codemirror_mode": {
    "name": "ipython",
    "version": 3
   },
   "file_extension": ".py",
   "mimetype": "text/x-python",
   "name": "python",
   "nbconvert_exporter": "python",
   "pygments_lexer": "ipython3",
   "version": "3.12.4"
  }
 },
 "nbformat": 4,
 "nbformat_minor": 5
}
